{
 "cells": [
  {
   "cell_type": "code",
   "execution_count": 1,
   "id": "d4512109-72c3-4639-9f84-c4ded9559659",
   "metadata": {},
   "outputs": [],
   "source": [
    "import numpy as np\n",
    "import os\n",
    "import librosa\n",
    "import librosa.display\n",
    "import pandas as pd\n",
    "import matplotlib.pyplot as plt\n",
    "import sklearn.preprocessing\n",
    "from scipy.signal import lfilter\n",
    "from joblib import Parallel, delayed\n",
    "from sklearn.model_selection import train_test_split\n",
    "from sklearn.ensemble import RandomForestClassifier\n",
    "from sklearn.model_selection import GridSearchCV\n",
    "import parselmouth\n",
    "from sklearn.decomposition import PCA"
   ]
  },
  {
   "cell_type": "code",
   "execution_count": 2,
   "id": "e26e9fbd-fd8d-4a1b-8dc3-d9a68e8ffbb8",
   "metadata": {},
   "outputs": [],
   "source": [
    "df = pd.read_csv(r\"C:\\Users\\jmdgo\\Downloads\\binary_labeled_dataset.csv\")"
   ]
  },
  {
   "cell_type": "code",
   "execution_count": 3,
   "id": "82127c18-f3c7-4c59-91e1-96ea6e2d7acf",
   "metadata": {},
   "outputs": [],
   "source": [
    "clip_path = r\"C:\\Users\\jmdgo\\Downloads\\extracted_clips\\extracted_clips\""
   ]
  },
  {
   "cell_type": "code",
   "execution_count": 4,
   "id": "c8e02825-5606-4530-ae17-0e5eea811e28",
   "metadata": {},
   "outputs": [],
   "source": [
    "audio_paths = []\n",
    "for folder in os.listdir(clip_path):\n",
    "    folder_path = os.path.join(clip_path, folder)\n",
    "    #episode_paths = []\n",
    "    for episode in os.listdir(folder_path):\n",
    "        episode_path = os.path.join(folder_path, episode)\n",
    "        for wav in os.listdir(episode_path):\n",
    "            wav_path = os.path.join(episode_path, wav)\n",
    "            audio_paths.append(wav_path)"
   ]
  },
  {
   "cell_type": "code",
   "execution_count": 5,
   "id": "cded2107-5a65-41cc-80fd-7862a35a912a",
   "metadata": {},
   "outputs": [],
   "source": [
    "df['audio_path'] = ['default'] * len(df)"
   ]
  },
  {
   "cell_type": "code",
   "execution_count": 6,
   "id": "49178e08-ce96-4858-97fa-387a1c7106f0",
   "metadata": {},
   "outputs": [],
   "source": [
    "for path in audio_paths:\n",
    "    filename = os.path.basename(path)\n",
    "    parts = filename.split('_')\n",
    "    podcast_name = parts[0]\n",
    "    episode_number = int(parts[1])\n",
    "    clip_number = int(parts[2].split('.')[0]) \n",
    "\n",
    "    match_row = df[(df['Show'] == podcast_name) & (df['EpId'] == episode_number) & (df['ClipId'] == clip_number)]\n",
    "    if not match_row.empty:\n",
    "        match_index = match_row.index[0]\n",
    "        df.at[match_index, 'audio_path'] = path"
   ]
  },
  {
   "cell_type": "code",
   "execution_count": 7,
   "id": "1a039cfe-617b-4fab-9f73-9cf73262b00a",
   "metadata": {},
   "outputs": [
    {
     "name": "stdout",
     "output_type": "stream",
     "text": [
      "0    60.677123\n",
      "1    39.322877\n",
      "Name: Stutter, dtype: float64\n"
     ]
    }
   ],
   "source": [
    "value_counts = df['Stutter'].value_counts()\n",
    "total_rows = df.shape[0]\n",
    "\n",
    "percentage_per_class = (value_counts / total_rows) * 100\n",
    "\n",
    "print(percentage_per_class)"
   ]
  },
  {
   "cell_type": "code",
   "execution_count": 9,
   "id": "99d679ea-5661-4f3d-912c-f8bcec07633e",
   "metadata": {},
   "outputs": [],
   "source": [
    "def extract_mfcc(audio_file, num_mfcc=40):\n",
    "    audio, sr = librosa.load(audio_file, sr=None)\n",
    "    mfccs = librosa.feature.mfcc(y=audio, sr=sr, n_mfcc=num_mfcc)\n",
    "    mfccs_flat = mfccs.T.flatten()\n",
    "    return mfccs_flat\n",
    "\n",
    "def extract_zcr(audio_file, frame_length=2048, hop_length=512):\n",
    "    audio, sr = librosa.load(audio_file, sr=None)\n",
    "    zcr = librosa.feature.zero_crossing_rate(audio, frame_length=frame_length, hop_length=hop_length)\n",
    "    return zcr.flatten()\n",
    "\n",
    "def extract_jitter_shimmer(audio_file):\n",
    "    sound = parselmouth.Sound(audio_file)\n",
    "    pitch = sound.to_pitch()\n",
    "    pulses = parselmouth.praat.call([sound, pitch], \"To PointProcess (cc)\")\n",
    "    jitter = parselmouth.praat.call(pulses, \"Get jitter (local)\", 0, 0, 0.0001, 0.02, 1.3)\n",
    "    shimmer = parselmouth.praat.call([sound, pulses], \"Get shimmer (local)\", 0, 0, 0.0001, 0.02, 1.3, 1.6)\n",
    "    return jitter, shimmer\n",
    "\n",
    "def extract_all_features(audio_file, num_mfcc=40, frame_length=2048, hop_length=512):\n",
    "    mfcc_features = extract_mfcc(audio_file, num_mfcc)\n",
    "    zcr_features = extract_zcr(audio_file, frame_length, hop_length)\n",
    "    jitter, shimmer = extract_jitter_shimmer(audio_file)\n",
    "    return np.concatenate([mfcc_features, zcr_features, [jitter, shimmer]])"
   ]
  },
  {
   "cell_type": "code",
   "execution_count": 10,
   "id": "1986acfd-999f-4b6d-a5ef-83c4283fa41e",
   "metadata": {},
   "outputs": [],
   "source": [
    "audio_files = df['audio_path'] \n",
    "labels = df['WordRep']"
   ]
  },
  {
   "cell_type": "code",
   "execution_count": 11,
   "id": "f18f0517-edf7-48ac-beb9-455c724add88",
   "metadata": {},
   "outputs": [],
   "source": [
    "df_WordRep = df[['audio_path', 'WordRep']]"
   ]
  },
  {
   "cell_type": "code",
   "execution_count": 12,
   "id": "6a98512a-db92-42d3-be8d-7faf74367b19",
   "metadata": {},
   "outputs": [],
   "source": [
    "df_WordRep_1 = df_WordRep[df_WordRep['WordRep']==1]"
   ]
  },
  {
   "cell_type": "code",
   "execution_count": 13,
   "id": "4f4f7e7f-0148-4642-be12-1366c45aa674",
   "metadata": {},
   "outputs": [],
   "source": [
    "df_WordRep_0 = df[(df['Prolongation']==0) & \n",
    "                        (df['Block']==0) & \n",
    "                        (df['Interjection']==0) & \n",
    "                        (df['WordRep']==0) & \n",
    "                        (df['SoundRep']==0) &\n",
    "                        (df['NoStutteredWords']==1)]\n"
   ]
  },
  {
   "cell_type": "code",
   "execution_count": 14,
   "id": "58215a72-ffed-45fc-a98d-c83c3d79b42a",
   "metadata": {},
   "outputs": [
    {
     "data": {
      "text/plain": [
       "(2358, 2)"
      ]
     },
     "execution_count": 14,
     "metadata": {},
     "output_type": "execute_result"
    }
   ],
   "source": [
    "df_WordRep_1.shape"
   ]
  },
  {
   "cell_type": "code",
   "execution_count": 16,
   "id": "77dfe2ad-b0ed-4291-93b1-c79b1719201c",
   "metadata": {},
   "outputs": [],
   "source": [
    "df_WordRep_0_sampled = df_WordRep_0.sample(2358)"
   ]
  },
  {
   "cell_type": "code",
   "execution_count": 17,
   "id": "695a90ae-1f44-43a7-bdd2-5bdde9340ee5",
   "metadata": {},
   "outputs": [
    {
     "data": {
      "text/plain": [
       "(2358, 17)"
      ]
     },
     "execution_count": 17,
     "metadata": {},
     "output_type": "execute_result"
    }
   ],
   "source": [
    "df_WordRep_0_sampled.shape"
   ]
  },
  {
   "cell_type": "code",
   "execution_count": 18,
   "id": "ce16530e-e3c0-4322-a556-bc0eadab17ba",
   "metadata": {},
   "outputs": [],
   "source": [
    "df_WordRep_data = pd.concat([df_WordRep_0_sampled, df_WordRep_1], ignore_index=True, axis=0)"
   ]
  },
  {
   "cell_type": "code",
   "execution_count": 19,
   "id": "e76bd344-df9c-4b5c-a4d6-7992f5e2aece",
   "metadata": {},
   "outputs": [
    {
     "data": {
      "text/plain": [
       "(4716, 17)"
      ]
     },
     "execution_count": 19,
     "metadata": {},
     "output_type": "execute_result"
    }
   ],
   "source": [
    "df_WordRep_data.shape"
   ]
  },
  {
   "cell_type": "code",
   "execution_count": 20,
   "id": "91a4fd62-172b-416e-8c72-b2b942c8dc22",
   "metadata": {},
   "outputs": [
    {
     "data": {
      "text/html": [
       "<div>\n",
       "<style scoped>\n",
       "    .dataframe tbody tr th:only-of-type {\n",
       "        vertical-align: middle;\n",
       "    }\n",
       "\n",
       "    .dataframe tbody tr th {\n",
       "        vertical-align: top;\n",
       "    }\n",
       "\n",
       "    .dataframe thead th {\n",
       "        text-align: right;\n",
       "    }\n",
       "</style>\n",
       "<table border=\"1\" class=\"dataframe\">\n",
       "  <thead>\n",
       "    <tr style=\"text-align: right;\">\n",
       "      <th></th>\n",
       "      <th>audio_path</th>\n",
       "      <th>WordRep</th>\n",
       "    </tr>\n",
       "  </thead>\n",
       "  <tbody>\n",
       "    <tr>\n",
       "      <th>0</th>\n",
       "      <td>C:\\Users\\jmdgo\\Downloads\\extracted_clips\\extra...</td>\n",
       "      <td>0</td>\n",
       "    </tr>\n",
       "    <tr>\n",
       "      <th>1</th>\n",
       "      <td>C:\\Users\\jmdgo\\Downloads\\extracted_clips\\extra...</td>\n",
       "      <td>0</td>\n",
       "    </tr>\n",
       "  </tbody>\n",
       "</table>\n",
       "</div>"
      ],
      "text/plain": [
       "                                          audio_path  WordRep\n",
       "0  C:\\Users\\jmdgo\\Downloads\\extracted_clips\\extra...        0\n",
       "1  C:\\Users\\jmdgo\\Downloads\\extracted_clips\\extra...        0"
      ]
     },
     "execution_count": 20,
     "metadata": {},
     "output_type": "execute_result"
    }
   ],
   "source": [
    "df_WordRep.head(2)"
   ]
  },
  {
   "cell_type": "code",
   "execution_count": 21,
   "id": "659f2a48-a4ec-4b22-ab53-0439f4bea6a3",
   "metadata": {},
   "outputs": [
    {
     "name": "stdout",
     "output_type": "stream",
     "text": [
      "0    50.0\n",
      "1    50.0\n",
      "Name: WordRep, dtype: float64\n"
     ]
    }
   ],
   "source": [
    "value_counts = df_WordRep_data['WordRep'].value_counts()\n",
    "total_rows = df_WordRep_data.shape[0]\n",
    "\n",
    "percentage_per_class = (value_counts / total_rows) * 100\n",
    "\n",
    "print(percentage_per_class)"
   ]
  },
  {
   "cell_type": "code",
   "execution_count": 22,
   "id": "6ac7b6a0-0b0b-4eb1-92b2-6d4b834e12aa",
   "metadata": {},
   "outputs": [],
   "source": [
    "X = np.array(df_WordRep_data['audio_path'])\n",
    "y = np.array(df_WordRep_data['WordRep'])"
   ]
  },
  {
   "cell_type": "code",
   "execution_count": 23,
   "id": "02ad3a9a-237b-4e62-8d65-506c7ad0472f",
   "metadata": {},
   "outputs": [],
   "source": [
    "X_train, X_test, y_train, y_test = train_test_split(X, y, test_size=0.3, random_state=40, stratify = y)"
   ]
  },
  {
   "cell_type": "code",
   "execution_count": 24,
   "id": "30457ffd-8255-4ebc-974d-38f33db7afcb",
   "metadata": {},
   "outputs": [],
   "source": [
    "mfcc_features_train = Parallel(n_jobs=-1)(delayed(extract_mfcc)(audio_file) for audio_file in X_train)\n",
    "mfcc_features_test = Parallel(n_jobs=-1)(delayed(extract_mfcc)(audio_file) for audio_file in X_test)\n",
    "zcr_features_train = Parallel(n_jobs=-1)(delayed(extract_zcr)(audio_file) for audio_file in X_train)\n",
    "zcr_features_test = Parallel(n_jobs=-1)(delayed(extract_zcr)(audio_file) for audio_file in X_test)\n",
    "\n",
    "jitter_shimmer_train = Parallel(n_jobs=-1)(delayed(extract_jitter_shimmer)(audio_file) for audio_file in X_train)\n",
    "jitter_shimmer_test = Parallel(n_jobs=-1)(delayed(extract_jitter_shimmer)(audio_file) for audio_file in X_test)\n",
    "\n",
    "jitter_train, shimmer_train = zip(*jitter_shimmer_train)\n",
    "jitter_test, shimmer_test = zip(*jitter_shimmer_test)"
   ]
  },
  {
   "cell_type": "markdown",
   "id": "6973590c-5fc5-40f4-a7fb-10d05dd9df47",
   "metadata": {},
   "source": [
    "zcr_features_train = Parallel(n_jobs=-1)(delayed(extract_zcr)(audio_file) for audio_file in X_train)\n",
    "zcr_features_test = Parallel(n_jobs=-1)(delayed(extract_zcr)(audio_file) for audio_file in X_test)"
   ]
  },
  {
   "cell_type": "markdown",
   "id": "660938cb-e39a-450a-9061-6c24c02bd983",
   "metadata": {},
   "source": [
    "features_train = np.array([np.hstack((mfcc, zcr)) for mfcc, zcr in zip(mfcc_features_train, zcr_features_train)])\n",
    "features_test = np.array([np.hstack((mfcc, zcr)) for mfcc, zcr in zip(mfcc_features_test, zcr_features_test)])"
   ]
  },
  {
   "cell_type": "code",
   "execution_count": 25,
   "id": "ef378e5f",
   "metadata": {},
   "outputs": [
    {
     "name": "stdout",
     "output_type": "stream",
     "text": [
      "(3301, 3856)\n",
      "(1415, 3856)\n"
     ]
    }
   ],
   "source": [
    "merged_features_train = np.column_stack((mfcc_features_train, zcr_features_train, jitter_train, shimmer_train))\n",
    "merged_features_test = np.column_stack((mfcc_features_test, zcr_features_test, jitter_test, shimmer_test))\n",
    "\n",
    "print(merged_features_train.shape)\n",
    "print(merged_features_test.shape)"
   ]
  },
  {
   "cell_type": "code",
   "execution_count": 26,
   "id": "edabd8ce",
   "metadata": {},
   "outputs": [
    {
     "data": {
      "text/plain": [
       "((3301,), (1415,), (3301,), (1415,))"
      ]
     },
     "execution_count": 26,
     "metadata": {},
     "output_type": "execute_result"
    }
   ],
   "source": [
    "X_train.shape,X_test.shape,y_train.shape,y_test.shape"
   ]
  },
  {
   "cell_type": "code",
   "execution_count": 27,
   "id": "b0716fea",
   "metadata": {},
   "outputs": [
    {
     "name": "stdout",
     "output_type": "stream",
     "text": [
      "NaN values found in training data at indices: [[  96 3854]\n",
      " [  96 3855]\n",
      " [1100 3855]\n",
      " [1496 3854]\n",
      " [1496 3855]\n",
      " [2520 3854]\n",
      " [2520 3855]]\n",
      "NaN values found in testing data at indices: [[ 589 3854]\n",
      " [ 589 3855]\n",
      " [ 614 3854]\n",
      " [ 614 3855]]\n"
     ]
    }
   ],
   "source": [
    "nan_indices_train = np.argwhere(np.isnan(merged_features_train))\n",
    "if len(nan_indices_train) > 0:\n",
    "    print(\"NaN values found in training data at indices:\", nan_indices_train)\n",
    "else:\n",
    "    print(\"No NaN values found in training data\")\n",
    "\n",
    "# Check for NaN values in testing data\n",
    "nan_indices_test = np.argwhere(np.isnan(merged_features_test))\n",
    "if len(nan_indices_test) > 0:\n",
    "    print(\"NaN values found in testing data at indices:\", nan_indices_test)\n",
    "else:\n",
    "    print(\"No NaN values found in testing data\")"
   ]
  },
  {
   "cell_type": "code",
   "execution_count": 28,
   "id": "d47130de",
   "metadata": {},
   "outputs": [
    {
     "name": "stdout",
     "output_type": "stream",
     "text": [
      "No NaN values found in imputed training data\n",
      "No NaN values found in imputed testing data\n"
     ]
    }
   ],
   "source": [
    "from sklearn.impute import KNNImputer\n",
    "# KNN imputation\n",
    "imputer = KNNImputer(n_neighbors=5)  # You can adjust the number of neighbors as needed\n",
    "\n",
    "# Fit imputer on training data and transform both training and testing data\n",
    "merged_features_train = imputer.fit_transform(merged_features_train)\n",
    "merged_features_test = imputer.transform(merged_features_test)\n",
    "\n",
    "# Check if any NaN values remain after imputation\n",
    "nan_indices_train = np.argwhere(np.isnan(merged_features_train))\n",
    "if len(nan_indices_train) > 0:\n",
    "    print(\"NaN values still present in imputed training data at indices:\", nan_indices_train)\n",
    "else:\n",
    "    print(\"No NaN values found in imputed training data\")\n",
    "\n",
    "nan_indices_test = np.argwhere(np.isnan(merged_features_test))\n",
    "if len(nan_indices_test) > 0:\n",
    "    print(\"NaN values still present in imputed testing data at indices:\", nan_indices_test)\n",
    "else:\n",
    "    print(\"No NaN values found in imputed testing data\")\n"
   ]
  },
  {
   "cell_type": "code",
   "execution_count": 30,
   "id": "ab2ae65f",
   "metadata": {},
   "outputs": [
    {
     "name": "stdout",
     "output_type": "stream",
     "text": [
      "Explained variance ratio: [0.24778653 0.15632687 0.04659932 0.03814196 0.03333837 0.0299441\n",
      " 0.0278395  0.01992707 0.01829503 0.01710236 0.01471269 0.01259337\n",
      " 0.01109808 0.01105278 0.00942105 0.00850567 0.0083739  0.00720376\n",
      " 0.00638069 0.006122   0.00581438 0.0056173  0.00542596 0.00520031\n",
      " 0.00464309 0.00440965 0.00424653 0.00408088 0.00395583 0.00368943\n",
      " 0.00366224 0.00354939 0.00344957 0.00311403 0.00306417 0.00293423\n",
      " 0.00285715 0.00275122 0.00269917 0.00259841 0.00254493 0.00249555\n",
      " 0.00235417 0.00230372 0.00229554 0.00220197 0.00213064 0.00209418\n",
      " 0.0020142  0.00196921]\n"
     ]
    }
   ],
   "source": [
    "from sklearn.decomposition import PCA\n",
    "\n",
    "# Assuming merged_features_train and merged_features_test are your feature arrays\n",
    "\n",
    "# Merge the training and testing data\n",
    "merged_data = np.concatenate((merged_features_train, merged_features_test), axis=0)\n",
    "\n",
    "# Apply PCA\n",
    "pca = PCA(n_components=50)  # You can specify the number of principal components as needed\n",
    "transformed_data = pca.fit_transform(merged_data)\n",
    "\n",
    "# Print the explained variance ratio\n",
    "print(\"Explained variance ratio:\", pca.explained_variance_ratio_)\n"
   ]
  },
  {
   "cell_type": "code",
   "execution_count": 31,
   "id": "3f94b2af-6ef7-4b4c-bb18-f970a4e39fda",
   "metadata": {},
   "outputs": [
    {
     "name": "stdout",
     "output_type": "stream",
     "text": [
      "Distribution of 0s and 1s in y_train:\n",
      "1    1651\n",
      "0    1650\n",
      "dtype: int64\n",
      "\n",
      "Distribution of 0s and 1s in y_test:\n",
      "0    708\n",
      "1    707\n",
      "dtype: int64\n"
     ]
    }
   ],
   "source": [
    "y_train_series = pd.Series(y_train)\n",
    "y_test_series = pd.Series(y_test)\n",
    "\n",
    "# Count the occurrences of each unique value in y_train\n",
    "train_distribution = y_train_series.value_counts()\n",
    "\n",
    "# Count the occurrences of each unique value in y_test\n",
    "test_distribution = y_test_series.value_counts()\n",
    "\n",
    "print(\"Distribution of 0s and 1s in y_train:\")\n",
    "print(train_distribution)\n",
    "\n",
    "print(\"\\nDistribution of 0s and 1s in y_test:\")\n",
    "print(test_distribution)"
   ]
  },
  {
   "cell_type": "code",
   "execution_count": 32,
   "id": "890da51e",
   "metadata": {},
   "outputs": [
    {
     "name": "stdout",
     "output_type": "stream",
     "text": [
      "Epoch 1/10\n",
      "104/104 [==============================] - 10s 93ms/step - loss: 12.1015 - accuracy: 0.5338 - val_loss: 0.7845 - val_accuracy: 0.5845\n",
      "Epoch 2/10\n",
      "104/104 [==============================] - 10s 92ms/step - loss: 0.6080 - accuracy: 0.6871 - val_loss: 0.6952 - val_accuracy: 0.6092\n",
      "Epoch 3/10\n",
      "104/104 [==============================] - 9s 91ms/step - loss: 0.4433 - accuracy: 0.8207 - val_loss: 0.7501 - val_accuracy: 0.6106\n",
      "Epoch 4/10\n",
      "104/104 [==============================] - 10s 92ms/step - loss: 0.2989 - accuracy: 0.9006 - val_loss: 0.8258 - val_accuracy: 0.5951\n",
      "Epoch 5/10\n",
      "104/104 [==============================] - 10s 92ms/step - loss: 0.1583 - accuracy: 0.9621 - val_loss: 0.9792 - val_accuracy: 0.5816\n",
      "Epoch 6/10\n",
      "104/104 [==============================] - 10s 95ms/step - loss: 0.0864 - accuracy: 0.9870 - val_loss: 1.1257 - val_accuracy: 0.5837\n",
      "Epoch 7/10\n",
      "104/104 [==============================] - 10s 94ms/step - loss: 0.0430 - accuracy: 0.9973 - val_loss: 1.2844 - val_accuracy: 0.5830\n",
      "Epoch 8/10\n",
      "104/104 [==============================] - 10s 93ms/step - loss: 0.0186 - accuracy: 0.9994 - val_loss: 1.4938 - val_accuracy: 0.5682\n",
      "Epoch 9/10\n",
      "104/104 [==============================] - 10s 92ms/step - loss: 0.0094 - accuracy: 1.0000 - val_loss: 1.5207 - val_accuracy: 0.5795\n",
      "Epoch 10/10\n",
      "104/104 [==============================] - 10s 93ms/step - loss: 0.0049 - accuracy: 1.0000 - val_loss: 1.6116 - val_accuracy: 0.5788\n"
     ]
    },
    {
     "data": {
      "text/plain": [
       "<keras.src.callbacks.History at 0x1cb1d078bd0>"
      ]
     },
     "execution_count": 32,
     "metadata": {},
     "output_type": "execute_result"
    }
   ],
   "source": [
    "import numpy as np\n",
    "from sklearn.model_selection import train_test_split\n",
    "from tensorflow.keras.models import Sequential\n",
    "from tensorflow.keras.layers import Conv1D, MaxPooling1D, Flatten, Dense\n",
    "from tensorflow.keras.utils import to_categorical\n",
    "\n",
    "X_train = np.array(merged_features_train)\n",
    "X_test = np.array(merged_features_test)\n",
    "y_train = np.array(y_train)\n",
    "y_test = np.array(y_test)\n",
    "\n",
    "# Convert labels to categorical\n",
    "y_train_categorical = to_categorical(y_train, num_classes=2)\n",
    "y_test_categorical = to_categorical(y_test, num_classes=2)\n",
    "\n",
    "# Reshape features for Conv1D input shape\n",
    "X_train = X_train.reshape(X_train.shape[0], X_train.shape[1], 1)\n",
    "X_test = X_test.reshape(X_test.shape[0], X_test.shape[1], 1)\n",
    "\n",
    "# Define the CNN model\n",
    "model = Sequential()\n",
    "model.add(Conv1D(32, 3, activation='relu', input_shape=(X_train.shape[1], 1)))\n",
    "model.add(MaxPooling1D(pool_size=2))\n",
    "model.add(Conv1D(64, 3, activation='relu'))\n",
    "model.add(MaxPooling1D(pool_size=2))\n",
    "model.add(Flatten())\n",
    "model.add(Dense(128, activation='relu'))\n",
    "model.add(Dense(2, activation='sigmoid'))  # Output layer with sigmoid activation for binary classification\n",
    "\n",
    "# Compile the model\n",
    "model.compile(optimizer='adam', loss='binary_crossentropy', metrics=['accuracy'])\n",
    "\n",
    "# Train the model\n",
    "model.fit(X_train, y_train_categorical, epochs=10, batch_size=32, validation_data=(X_test, y_test_categorical))\n"
   ]
  },
  {
   "cell_type": "code",
   "execution_count": 37,
   "id": "ed530069",
   "metadata": {},
   "outputs": [
    {
     "name": "stdout",
     "output_type": "stream",
     "text": [
      "Epoch 1/10\n",
      "104/104 [==============================] - 11s 95ms/step - loss: 16.1136 - accuracy: 0.5183 - val_loss: 4.1389 - val_accuracy: 0.4996\n",
      "Epoch 2/10\n",
      "104/104 [==============================] - 10s 97ms/step - loss: 1.1178 - accuracy: 0.6122 - val_loss: 0.7899 - val_accuracy: 0.5633\n",
      "Epoch 3/10\n",
      "104/104 [==============================] - 10s 92ms/step - loss: 0.4696 - accuracy: 0.7776 - val_loss: 0.7654 - val_accuracy: 0.5753\n",
      "Epoch 4/10\n",
      "104/104 [==============================] - 10s 92ms/step - loss: 0.3207 - accuracy: 0.8812 - val_loss: 0.8578 - val_accuracy: 0.5682\n",
      "Epoch 5/10\n",
      "104/104 [==============================] - 10s 95ms/step - loss: 0.2096 - accuracy: 0.9400 - val_loss: 1.1416 - val_accuracy: 0.5576\n",
      "Epoch 6/10\n",
      "104/104 [==============================] - 10s 94ms/step - loss: 0.1408 - accuracy: 0.9670 - val_loss: 1.0305 - val_accuracy: 0.5625\n"
     ]
    }
   ],
   "source": [
    "import numpy as np\n",
    "from sklearn.model_selection import train_test_split\n",
    "from tensorflow.keras.models import Sequential\n",
    "from tensorflow.keras.layers import Conv1D, MaxPooling1D, Flatten, Dense\n",
    "from tensorflow.keras.utils import to_categorical\n",
    "\n",
    "# Assuming merged_features_train contains merged features for training data\n",
    "# Assuming merged_features_test contains merged features for test data\n",
    "# Assuming y_train contains labels for training data\n",
    "# Assuming y_test contains labels for test data\n",
    "\n",
    "# Convert lists to numpy arrays\n",
    "X_train = np.array(merged_features_train)\n",
    "X_test = np.array(merged_features_test)\n",
    "y_train = np.array(y_train)\n",
    "y_test = np.array(y_test)\n",
    "\n",
    "# Convert labels to categorical\n",
    "y_train_categorical = to_categorical(y_train, num_classes=2)\n",
    "y_test_categorical = to_categorical(y_test, num_classes=2)\n",
    "\n",
    "# Reshape features for Conv1D input shape\n",
    "X_train = X_train.reshape(X_train.shape[0], X_train.shape[1], 1)\n",
    "X_test = X_test.reshape(X_test.shape[0], X_test.shape[1], 1)\n",
    "\n",
    "# Define the CNN model\n",
    "model = Sequential()\n",
    "model.add(Conv1D(32, 3, activation='relu', input_shape=(X_train.shape[1], 1)))\n",
    "model.add(MaxPooling1D(pool_size=2))\n",
    "model.add(Conv1D(64, 3, activation='relu'))\n",
    "model.add(MaxPooling1D(pool_size=2))\n",
    "model.add(Flatten())\n",
    "model.add(Dense(128, activation='relu'))\n",
    "model.add(Dense(2, activation='sigmoid'))  # Output layer with sigmoid activation for binary classification\n",
    "\n",
    "# Compile the model\n",
    "model.compile(optimizer='adam', loss='binary_crossentropy', metrics=['accuracy'])\n",
    "\n",
    "from tensorflow.keras.callbacks import EarlyStopping\n",
    "\n",
    "# Define early stopping callback\n",
    "early_stopping = EarlyStopping(monitor='val_loss', patience=3, restore_best_weights=True)\n",
    "\n",
    "# Train the model with early stopping\n",
    "history = model.fit(X_train, y_train_categorical, epochs=10, batch_size=32, \n",
    "                    validation_data=(X_test, y_test_categorical), callbacks=[early_stopping])\n"
   ]
  },
  {
   "cell_type": "code",
   "execution_count": 38,
   "id": "0d06238d",
   "metadata": {},
   "outputs": [
    {
     "name": "stdout",
     "output_type": "stream",
     "text": [
      "dict_keys(['loss', 'accuracy', 'val_loss', 'val_accuracy'])\n"
     ]
    },
    {
     "data": {
      "image/png": "[encoded data removed]",
      "text/plain": [
       "<Figure size 640x480 with 1 Axes>"
      ]
     },
     "metadata": {},
     "output_type": "display_data"
    }
   ],
   "source": [
    "import matplotlib.pyplot as plt\n",
    "# Print the keys of the history\n",
    "print(history.history.keys())\n",
    "\n",
    "# Summarize history for accuracy\n",
    "plt.plot(history.history['accuracy'])\n",
    "plt.plot(history.history['val_accuracy'])\n",
    "plt.title('Model Accuracy')\n",
    "plt.ylabel('Accuracy')\n",
    "plt.xlabel('Epoch')\n",
    "plt.legend(['Train', 'Validation'], loc='upper left')\n",
    "plt.show()"
   ]
  },
  {
   "cell_type": "code",
   "execution_count": 39,
   "id": "387b3171",
   "metadata": {},
   "outputs": [
    {
     "name": "stdout",
     "output_type": "stream",
     "text": [
      "Model saved successfully to: C:\\Users\\jmdgo\\Downloads\n"
     ]
    }
   ],
   "source": [
    "model_file_path = r'C:\\Users\\jmdgo\\Downloads'\n",
    "model.save(\"WordRep_mzjs_model.h5\")\n",
    "print(\"Model saved successfully to:\", model_file_path)"
   ]
  }
 ],
 "metadata": {
  "kernelspec": {
   "display_name": "Python 3 (ipykernel)",
   "language": "python",
   "name": "python3"
  },
  "language_info": {
   "codemirror_mode": {
    "name": "ipython",
    "version": 3
   },
   "file_extension": ".py",
   "mimetype": "text/x-python",
   "name": "python",
   "nbconvert_exporter": "python",
   "pygments_lexer": "ipython3",
   "version": "3.11.4"
  }
 },
 "nbformat": 4,
 "nbformat_minor": 5
}
