{
 "cells": [
  {
   "cell_type": "code",
   "execution_count": 1,
   "id": "75fa5d6f-e543-48f1-92d5-f0740ace8da0",
   "metadata": {},
   "outputs": [],
   "source": [
    "import numpy as np\n",
    "import os\n",
    "import librosa\n",
    "import librosa.display\n",
    "import pandas as pd\n",
    "import matplotlib.pyplot as plt\n",
    "import sklearn.preprocessing\n",
    "from scipy.signal import lfilter\n",
    "from joblib import Parallel, delayed\n",
    "from sklearn.model_selection import train_test_split\n",
    "from sklearn.ensemble import RandomForestClassifier\n",
    "from sklearn.model_selection import GridSearchCV\n",
    "from sklearn.svm import SVC\n",
    "from sklearn.tree import DecisionTreeClassifier\n",
    "from sklearn.neighbors import KNeighborsClassifier\n",
    "import matplotlib.pyplot as plt\n",
    "from sklearn.naive_bayes import GaussianNB\n",
    "from sklearn.linear_model import LogisticRegression\n",
    "from sklearn.model_selection import RandomizedSearchCV\n",
    "from sklearn.metrics import accuracy_score, classification_report"
   ]
  },
  {
   "cell_type": "code",
   "execution_count": 2,
   "id": "65581d99-dbf0-4da8-8c50-52495a5cc0f4",
   "metadata": {},
   "outputs": [],
   "source": [
    "df = pd.read_csv(r'D:\\SEM 4\\Project\\binary_labeled_dataset.csv')"
   ]
  },
  {
   "cell_type": "code",
   "execution_count": 3,
   "id": "5722c3ac-56ba-4951-b7ff-fde0bc8453ef",
   "metadata": {},
   "outputs": [
    {
     "data": {
      "text/html": [
       "<div>\n",
       "<style scoped>\n",
       "    .dataframe tbody tr th:only-of-type {\n",
       "        vertical-align: middle;\n",
       "    }\n",
       "\n",
       "    .dataframe tbody tr th {\n",
       "        vertical-align: top;\n",
       "    }\n",
       "\n",
       "    .dataframe thead th {\n",
       "        text-align: right;\n",
       "    }\n",
       "</style>\n",
       "<table border=\"1\" class=\"dataframe\">\n",
       "  <thead>\n",
       "    <tr style=\"text-align: right;\">\n",
       "      <th></th>\n",
       "      <th>Show</th>\n",
       "      <th>EpId</th>\n",
       "      <th>ClipId</th>\n",
       "      <th>Start</th>\n",
       "      <th>Stop</th>\n",
       "      <th>Prolongation</th>\n",
       "      <th>Block</th>\n",
       "      <th>SoundRep</th>\n",
       "      <th>WordRep</th>\n",
       "      <th>Interjection</th>\n",
       "      <th>NoStutteredWords</th>\n",
       "      <th>NaturalPause</th>\n",
       "      <th>NoSpeech</th>\n",
       "      <th>audio_path</th>\n",
       "      <th>Label</th>\n",
       "      <th>audio_length</th>\n",
       "      <th>Stutter</th>\n",
       "    </tr>\n",
       "  </thead>\n",
       "  <tbody>\n",
       "    <tr>\n",
       "      <th>0</th>\n",
       "      <td>HeStutters</td>\n",
       "      <td>0</td>\n",
       "      <td>0</td>\n",
       "      <td>31900320</td>\n",
       "      <td>31948320</td>\n",
       "      <td>0</td>\n",
       "      <td>0</td>\n",
       "      <td>0</td>\n",
       "      <td>0</td>\n",
       "      <td>0</td>\n",
       "      <td>1</td>\n",
       "      <td>0</td>\n",
       "      <td>0</td>\n",
       "      <td>D:\\SEM 4\\Project\\sep28k-final\\HeStutters\\0\\HeS...</td>\n",
       "      <td>NaN</td>\n",
       "      <td>48000</td>\n",
       "      <td>0</td>\n",
       "    </tr>\n",
       "    <tr>\n",
       "      <th>1</th>\n",
       "      <td>HeStutters</td>\n",
       "      <td>0</td>\n",
       "      <td>1</td>\n",
       "      <td>31977120</td>\n",
       "      <td>32025120</td>\n",
       "      <td>0</td>\n",
       "      <td>0</td>\n",
       "      <td>0</td>\n",
       "      <td>0</td>\n",
       "      <td>0</td>\n",
       "      <td>1</td>\n",
       "      <td>0</td>\n",
       "      <td>0</td>\n",
       "      <td>D:\\SEM 4\\Project\\sep28k-final\\HeStutters\\0\\HeS...</td>\n",
       "      <td>NaN</td>\n",
       "      <td>48000</td>\n",
       "      <td>0</td>\n",
       "    </tr>\n",
       "    <tr>\n",
       "      <th>2</th>\n",
       "      <td>HeStutters</td>\n",
       "      <td>0</td>\n",
       "      <td>2</td>\n",
       "      <td>34809760</td>\n",
       "      <td>34857760</td>\n",
       "      <td>0</td>\n",
       "      <td>0</td>\n",
       "      <td>0</td>\n",
       "      <td>0</td>\n",
       "      <td>0</td>\n",
       "      <td>1</td>\n",
       "      <td>0</td>\n",
       "      <td>0</td>\n",
       "      <td>D:\\SEM 4\\Project\\sep28k-final\\HeStutters\\0\\HeS...</td>\n",
       "      <td>NaN</td>\n",
       "      <td>48000</td>\n",
       "      <td>0</td>\n",
       "    </tr>\n",
       "    <tr>\n",
       "      <th>3</th>\n",
       "      <td>HeStutters</td>\n",
       "      <td>0</td>\n",
       "      <td>3</td>\n",
       "      <td>35200640</td>\n",
       "      <td>35248640</td>\n",
       "      <td>0</td>\n",
       "      <td>0</td>\n",
       "      <td>0</td>\n",
       "      <td>0</td>\n",
       "      <td>0</td>\n",
       "      <td>1</td>\n",
       "      <td>0</td>\n",
       "      <td>0</td>\n",
       "      <td>D:\\SEM 4\\Project\\sep28k-final\\HeStutters\\0\\HeS...</td>\n",
       "      <td>NaN</td>\n",
       "      <td>48000</td>\n",
       "      <td>0</td>\n",
       "    </tr>\n",
       "    <tr>\n",
       "      <th>4</th>\n",
       "      <td>HeStutters</td>\n",
       "      <td>0</td>\n",
       "      <td>4</td>\n",
       "      <td>35721920</td>\n",
       "      <td>35769920</td>\n",
       "      <td>0</td>\n",
       "      <td>0</td>\n",
       "      <td>0</td>\n",
       "      <td>0</td>\n",
       "      <td>0</td>\n",
       "      <td>1</td>\n",
       "      <td>0</td>\n",
       "      <td>0</td>\n",
       "      <td>D:\\SEM 4\\Project\\sep28k-final\\HeStutters\\0\\HeS...</td>\n",
       "      <td>NaN</td>\n",
       "      <td>48000</td>\n",
       "      <td>0</td>\n",
       "    </tr>\n",
       "  </tbody>\n",
       "</table>\n",
       "</div>"
      ],
      "text/plain": [
       "         Show  EpId  ClipId     Start      Stop  Prolongation  Block  \\\n",
       "0  HeStutters     0       0  31900320  31948320             0      0   \n",
       "1  HeStutters     0       1  31977120  32025120             0      0   \n",
       "2  HeStutters     0       2  34809760  34857760             0      0   \n",
       "3  HeStutters     0       3  35200640  35248640             0      0   \n",
       "4  HeStutters     0       4  35721920  35769920             0      0   \n",
       "\n",
       "   SoundRep  WordRep  Interjection  NoStutteredWords  NaturalPause  NoSpeech  \\\n",
       "0         0        0             0                 1             0         0   \n",
       "1         0        0             0                 1             0         0   \n",
       "2         0        0             0                 1             0         0   \n",
       "3         0        0             0                 1             0         0   \n",
       "4         0        0             0                 1             0         0   \n",
       "\n",
       "                                          audio_path  Label  audio_length  \\\n",
       "0  D:\\SEM 4\\Project\\sep28k-final\\HeStutters\\0\\HeS...    NaN         48000   \n",
       "1  D:\\SEM 4\\Project\\sep28k-final\\HeStutters\\0\\HeS...    NaN         48000   \n",
       "2  D:\\SEM 4\\Project\\sep28k-final\\HeStutters\\0\\HeS...    NaN         48000   \n",
       "3  D:\\SEM 4\\Project\\sep28k-final\\HeStutters\\0\\HeS...    NaN         48000   \n",
       "4  D:\\SEM 4\\Project\\sep28k-final\\HeStutters\\0\\HeS...    NaN         48000   \n",
       "\n",
       "   Stutter  \n",
       "0        0  \n",
       "1        0  \n",
       "2        0  \n",
       "3        0  \n",
       "4        0  "
      ]
     },
     "execution_count": 3,
     "metadata": {},
     "output_type": "execute_result"
    }
   ],
   "source": [
    "df.head()"
   ]
  },
  {
   "cell_type": "code",
   "execution_count": 5,
   "id": "96f226f2-970d-4cee-b983-ea4cd9456cd4",
   "metadata": {},
   "outputs": [],
   "source": [
    "clip_path = r\"D:\\SEM 4\\Project\\sep28k-final\""
   ]
  },
  {
   "cell_type": "code",
   "execution_count": 6,
   "id": "56d05a7e-c941-4768-bb7a-a741898b0747",
   "metadata": {},
   "outputs": [],
   "source": [
    "audio_paths = []\n",
    "for folder in os.listdir(clip_path):\n",
    "    folder_path = os.path.join(clip_path, folder)\n",
    "    for episode in os.listdir(folder_path):\n",
    "        episode_path = os.path.join(folder_path, episode)\n",
    "        for wav in os.listdir(episode_path):\n",
    "            wav_path = os.path.join(episode_path, wav)\n",
    "            audio_paths.append(wav_path)"
   ]
  },
  {
   "cell_type": "code",
   "execution_count": 7,
   "id": "87bb116c-dedf-42b0-ad09-aa78cc8ca10e",
   "metadata": {},
   "outputs": [],
   "source": [
    "df['audio_path'] = ['default'] * len(df)"
   ]
  },
  {
   "cell_type": "code",
   "execution_count": 8,
   "id": "a42b641f-59b1-4b77-aed9-0e2eec4e9963",
   "metadata": {},
   "outputs": [
    {
     "data": {
      "text/plain": [
       "0        default\n",
       "1        default\n",
       "2        default\n",
       "3        default\n",
       "4        default\n",
       "          ...   \n",
       "19696    default\n",
       "19697    default\n",
       "19698    default\n",
       "19699    default\n",
       "19700    default\n",
       "Name: audio_path, Length: 19701, dtype: object"
      ]
     },
     "execution_count": 8,
     "metadata": {},
     "output_type": "execute_result"
    }
   ],
   "source": [
    "df['audio_path']"
   ]
  },
  {
   "cell_type": "code",
   "execution_count": 9,
   "id": "7698bd27-0ce5-4fb8-97d8-458af78f9c2d",
   "metadata": {},
   "outputs": [],
   "source": [
    "for path in audio_paths:\n",
    "    filename = os.path.basename(path)\n",
    "    parts = filename.split('_')\n",
    "    podcast_name = parts[0]\n",
    "    episode_number = int(parts[1])\n",
    "    clip_number = int(parts[2].split('.')[0]) \n",
    "\n",
    "    match_row = df[(df['Show'] == podcast_name) & (df['EpId'] == episode_number) & (df['ClipId'] == clip_number)]\n",
    "    if not match_row.empty:\n",
    "        match_index = match_row.index[0]\n",
    "        df.at[match_index, 'audio_path'] = path"
   ]
  },
  {
   "cell_type": "code",
   "execution_count": 10,
   "id": "f753af9a-5074-4d95-93d9-b8e17b6ec4f1",
   "metadata": {},
   "outputs": [
    {
     "name": "stdout",
     "output_type": "stream",
     "text": [
      "0    60.677123\n",
      "1    39.322877\n",
      "Name: Stutter, dtype: float64\n"
     ]
    }
   ],
   "source": [
    "value_counts = df['Stutter'].value_counts()\n",
    "total_rows = df.shape[0]\n",
    "\n",
    "percentage_per_class = (value_counts / total_rows) * 100\n",
    "\n",
    "print(percentage_per_class)"
   ]
  },
  {
   "cell_type": "code",
   "execution_count": 11,
   "id": "96550543-7eef-4257-9233-71b923ba9cc5",
   "metadata": {},
   "outputs": [],
   "source": [
    "def extract_mfcc(audio_file, num_mfcc=40):\n",
    "    audio, sr = librosa.load(audio_file, sr=None)\n",
    "    mfccs = librosa.feature.mfcc(y=audio, sr=sr, n_mfcc=num_mfcc)\n",
    "    mfccs_transposed = mfccs.T  # Transpose the MFCC matrix\n",
    "    mfccs_flat = mfccs_transposed.flatten()  # Flatten the transposed MFCC matrix\n",
    "    return mfccs_flat"
   ]
  },
  {
   "cell_type": "code",
   "execution_count": 12,
   "id": "90efc48d-db12-4b52-a20f-81a1677b3b97",
   "metadata": {},
   "outputs": [],
   "source": [
    "def extract_f0_features(audio_file):\n",
    "    audio, sr = librosa.load(audio_file, sr=None)\n",
    "    pitches, magnitudes = librosa.piptrack(y=audio, sr=sr)\n",
    "    pitch_mean = np.mean(pitches, axis=1)  # Average pitch across time frames\n",
    "    pitch_delta = np.mean(np.abs(np.diff(pitches, axis=1)), axis=1)  # Mean pitch delta\n",
    "    voicing = np.mean(magnitudes > 0, axis=1)  # Ratio of voiced frames\n",
    "    return np.hstack((pitch_mean, pitch_delta, voicing))"
   ]
  },
  {
   "cell_type": "code",
   "execution_count": 13,
   "id": "c123d444-9649-488c-ac76-5e333781ca38",
   "metadata": {},
   "outputs": [],
   "source": [
    "def extract_zcr(audio_file, frame_length=2048, hop_length=512):\n",
    "    audio, sr = librosa.load(audio_file, sr=None)\n",
    "    zcr = librosa.feature.zero_crossing_rate(audio, frame_length=frame_length, hop_length=hop_length)\n",
    "    return zcr.flatten()"
   ]
  },
  {
   "cell_type": "code",
   "execution_count": 14,
   "id": "7b7f8a4b-832e-4828-96fd-6825d38d87f8",
   "metadata": {},
   "outputs": [],
   "source": [
    "def calculate_jitter(audio_file, frame_length=2048, hop_length=512):\n",
    "    y, sr = librosa.load(audio_file, sr=None)\n",
    "    f0, voiced_flag, voiced_probs = librosa.pyin(y, fmin=75, fmax=600)\n",
    "    periods = 1 / f0[voiced_flag]\n",
    "    periods[np.isnan(periods)] = 0\n",
    "    period_diffs = np.diff(periods)\n",
    "    jitter = np.mean(np.abs(period_diffs)) * 100 \n",
    "    return jitter"
   ]
  },
  {
   "cell_type": "code",
   "execution_count": 15,
   "id": "f76cefbd-cb92-4d25-84d3-feb69ff7fd7f",
   "metadata": {},
   "outputs": [],
   "source": [
    "def calculate_shimmer(audio_file, frame_length=2048, hop_length=512):\n",
    "    y, sr = librosa.load(audio_file, sr=None)\n",
    "    f0, voiced_flag, _ = librosa.pyin(y, fmin=75, fmax=600)\n",
    "    rms = librosa.feature.rms(y=y, frame_length=frame_length, hop_length=hop_length)[0]\n",
    "    voiced_rms = rms[voiced_flag]\n",
    "    voiced_rms[np.isnan(voiced_rms)] = 0\n",
    "    shimmer = np.mean(np.abs(np.diff(voiced_rms))) / np.mean(voiced_rms) * 100\n",
    "    return shimmer"
   ]
  },
  {
   "cell_type": "code",
   "execution_count": 16,
   "id": "54a955e8-ad68-428e-9f13-00b637cfe19d",
   "metadata": {},
   "outputs": [],
   "source": [
    "def merge_features(mfcc, zcr, jitter, shimmer):\n",
    "    return np.hstack((mfcc, zcr, jitter, shimmer))"
   ]
  },
  {
   "cell_type": "code",
   "execution_count": 17,
   "id": "3762825a-3adb-4d8f-a961-1c35281392f0",
   "metadata": {},
   "outputs": [],
   "source": [
    "audio_files = df['audio_path'] \n",
    "labels = df['Block']"
   ]
  },
  {
   "cell_type": "code",
   "execution_count": 18,
   "id": "17a5dc77-a920-40d6-890e-29226c4d04da",
   "metadata": {},
   "outputs": [],
   "source": [
    "df_block = df[['audio_path', 'Block']]"
   ]
  },
  {
   "cell_type": "code",
   "execution_count": 19,
   "id": "2729371f-f954-49ff-ba12-44b64797b2cf",
   "metadata": {},
   "outputs": [
    {
     "data": {
      "text/html": [
       "<div>\n",
       "<style scoped>\n",
       "    .dataframe tbody tr th:only-of-type {\n",
       "        vertical-align: middle;\n",
       "    }\n",
       "\n",
       "    .dataframe tbody tr th {\n",
       "        vertical-align: top;\n",
       "    }\n",
       "\n",
       "    .dataframe thead th {\n",
       "        text-align: right;\n",
       "    }\n",
       "</style>\n",
       "<table border=\"1\" class=\"dataframe\">\n",
       "  <thead>\n",
       "    <tr style=\"text-align: right;\">\n",
       "      <th></th>\n",
       "      <th>audio_path</th>\n",
       "      <th>Block</th>\n",
       "    </tr>\n",
       "  </thead>\n",
       "  <tbody>\n",
       "    <tr>\n",
       "      <th>0</th>\n",
       "      <td>D:\\SEM 4\\Project\\sep28k-final\\HeStutters\\0\\HeS...</td>\n",
       "      <td>0</td>\n",
       "    </tr>\n",
       "    <tr>\n",
       "      <th>1</th>\n",
       "      <td>D:\\SEM 4\\Project\\sep28k-final\\HeStutters\\0\\HeS...</td>\n",
       "      <td>0</td>\n",
       "    </tr>\n",
       "    <tr>\n",
       "      <th>2</th>\n",
       "      <td>D:\\SEM 4\\Project\\sep28k-final\\HeStutters\\0\\HeS...</td>\n",
       "      <td>0</td>\n",
       "    </tr>\n",
       "    <tr>\n",
       "      <th>3</th>\n",
       "      <td>D:\\SEM 4\\Project\\sep28k-final\\HeStutters\\0\\HeS...</td>\n",
       "      <td>0</td>\n",
       "    </tr>\n",
       "    <tr>\n",
       "      <th>4</th>\n",
       "      <td>D:\\SEM 4\\Project\\sep28k-final\\HeStutters\\0\\HeS...</td>\n",
       "      <td>0</td>\n",
       "    </tr>\n",
       "    <tr>\n",
       "      <th>...</th>\n",
       "      <td>...</td>\n",
       "      <td>...</td>\n",
       "    </tr>\n",
       "    <tr>\n",
       "      <th>19696</th>\n",
       "      <td>D:\\SEM 4\\Project\\sep28k-final\\WomenWhoStutter\\...</td>\n",
       "      <td>0</td>\n",
       "    </tr>\n",
       "    <tr>\n",
       "      <th>19697</th>\n",
       "      <td>D:\\SEM 4\\Project\\sep28k-final\\WomenWhoStutter\\...</td>\n",
       "      <td>0</td>\n",
       "    </tr>\n",
       "    <tr>\n",
       "      <th>19698</th>\n",
       "      <td>D:\\SEM 4\\Project\\sep28k-final\\WomenWhoStutter\\...</td>\n",
       "      <td>0</td>\n",
       "    </tr>\n",
       "    <tr>\n",
       "      <th>19699</th>\n",
       "      <td>D:\\SEM 4\\Project\\sep28k-final\\WomenWhoStutter\\...</td>\n",
       "      <td>0</td>\n",
       "    </tr>\n",
       "    <tr>\n",
       "      <th>19700</th>\n",
       "      <td>D:\\SEM 4\\Project\\sep28k-final\\WomenWhoStutter\\...</td>\n",
       "      <td>0</td>\n",
       "    </tr>\n",
       "  </tbody>\n",
       "</table>\n",
       "<p>19701 rows × 2 columns</p>\n",
       "</div>"
      ],
      "text/plain": [
       "                                              audio_path  Block\n",
       "0      D:\\SEM 4\\Project\\sep28k-final\\HeStutters\\0\\HeS...      0\n",
       "1      D:\\SEM 4\\Project\\sep28k-final\\HeStutters\\0\\HeS...      0\n",
       "2      D:\\SEM 4\\Project\\sep28k-final\\HeStutters\\0\\HeS...      0\n",
       "3      D:\\SEM 4\\Project\\sep28k-final\\HeStutters\\0\\HeS...      0\n",
       "4      D:\\SEM 4\\Project\\sep28k-final\\HeStutters\\0\\HeS...      0\n",
       "...                                                  ...    ...\n",
       "19696  D:\\SEM 4\\Project\\sep28k-final\\WomenWhoStutter\\...      0\n",
       "19697  D:\\SEM 4\\Project\\sep28k-final\\WomenWhoStutter\\...      0\n",
       "19698  D:\\SEM 4\\Project\\sep28k-final\\WomenWhoStutter\\...      0\n",
       "19699  D:\\SEM 4\\Project\\sep28k-final\\WomenWhoStutter\\...      0\n",
       "19700  D:\\SEM 4\\Project\\sep28k-final\\WomenWhoStutter\\...      0\n",
       "\n",
       "[19701 rows x 2 columns]"
      ]
     },
     "execution_count": 19,
     "metadata": {},
     "output_type": "execute_result"
    }
   ],
   "source": [
    "df_block"
   ]
  },
  {
   "cell_type": "code",
   "execution_count": 20,
   "id": "7ff9cec9-75db-4404-b717-8bc192b3b574",
   "metadata": {},
   "outputs": [
    {
     "data": {
      "text/plain": [
       "0    17211\n",
       "1     2490\n",
       "Name: Block, dtype: int64"
      ]
     },
     "execution_count": 20,
     "metadata": {},
     "output_type": "execute_result"
    }
   ],
   "source": [
    "df['Block'].value_counts()"
   ]
  },
  {
   "cell_type": "code",
   "execution_count": 21,
   "id": "19feca2f-a112-4063-818f-207ea944b251",
   "metadata": {},
   "outputs": [],
   "source": [
    "df_block_1 = df_block[df_block['Block']==1]"
   ]
  },
  {
   "cell_type": "code",
   "execution_count": 22,
   "id": "bc2274ff-5093-4610-a2a7-b948261be911",
   "metadata": {},
   "outputs": [],
   "source": [
    "df_block_0 = df[(df['Prolongation']==0) & \n",
    "                        (df['Block']==0) & \n",
    "                        (df['Interjection']==0) & \n",
    "                        (df['WordRep']==0) & \n",
    "                        (df['SoundRep']==0) &\n",
    "                        (df['NoStutteredWords']==1)]"
   ]
  },
  {
   "cell_type": "code",
   "execution_count": 23,
   "id": "7b508592-f68c-4875-925c-f2565fc2de9a",
   "metadata": {},
   "outputs": [
    {
     "data": {
      "text/plain": [
       "(2490, 2)"
      ]
     },
     "execution_count": 23,
     "metadata": {},
     "output_type": "execute_result"
    }
   ],
   "source": [
    "df_block_1.shape"
   ]
  },
  {
   "cell_type": "code",
   "execution_count": 24,
   "id": "a4693422-971b-4b04-a7f0-50c684f66088",
   "metadata": {},
   "outputs": [],
   "source": [
    "df_block_0_sampled = df_block_0.sample(2490)"
   ]
  },
  {
   "cell_type": "code",
   "execution_count": 25,
   "id": "b8f16881-7b46-4202-9950-c74b297ac9b5",
   "metadata": {},
   "outputs": [
    {
     "data": {
      "text/plain": [
       "(2490, 17)"
      ]
     },
     "execution_count": 25,
     "metadata": {},
     "output_type": "execute_result"
    }
   ],
   "source": [
    "df_block_0_sampled.shape"
   ]
  },
  {
   "cell_type": "code",
   "execution_count": 26,
   "id": "64753d0b-0fa7-43eb-b1c1-a94c01edc210",
   "metadata": {},
   "outputs": [],
   "source": [
    "df_block_data = pd.concat([df_block_0_sampled, df_block_1], ignore_index=True, axis=0)"
   ]
  },
  {
   "cell_type": "code",
   "execution_count": 27,
   "id": "fcccbaf6-ced7-4c29-85b6-16ff1303db81",
   "metadata": {},
   "outputs": [
    {
     "data": {
      "text/plain": [
       "(4980, 17)"
      ]
     },
     "execution_count": 27,
     "metadata": {},
     "output_type": "execute_result"
    }
   ],
   "source": [
    "df_block_data.shape"
   ]
  },
  {
   "cell_type": "code",
   "execution_count": 28,
   "id": "0b3eeada-ce78-494c-87d1-2b275e5380a0",
   "metadata": {},
   "outputs": [
    {
     "name": "stdout",
     "output_type": "stream",
     "text": [
      "0    50.0\n",
      "1    50.0\n",
      "Name: Block, dtype: float64\n"
     ]
    }
   ],
   "source": [
    "value_counts = df_block_data['Block'].value_counts()\n",
    "total_rows = df_block_data.shape[0]\n",
    "\n",
    "percentage_per_class = (value_counts / total_rows) * 100\n",
    "\n",
    "print(percentage_per_class)"
   ]
  },
  {
   "cell_type": "code",
   "execution_count": 29,
   "id": "be1a9b7b-1544-40d3-9c8e-3c25dead677b",
   "metadata": {},
   "outputs": [],
   "source": [
    "X = np.array(df_block_data['audio_path'])\n",
    "y = np.array(df_block_data['Block'])"
   ]
  },
  {
   "cell_type": "code",
   "execution_count": 30,
   "id": "503c8b42-b9de-41fc-ac80-b438736d00e2",
   "metadata": {},
   "outputs": [],
   "source": [
    "X_train, X_test, y_train, y_test = train_test_split(X, y, test_size=0.3, random_state=40, stratify = y)"
   ]
  },
  {
   "cell_type": "code",
   "execution_count": 31,
   "id": "4cf6ca75-dc98-4a43-b86b-773c9cdce806",
   "metadata": {},
   "outputs": [],
   "source": [
    "train_temp_df = pd.DataFrame()"
   ]
  },
  {
   "cell_type": "code",
   "execution_count": 32,
   "id": "3b1e94a1-fc79-4d67-ada4-3949d009b07f",
   "metadata": {},
   "outputs": [],
   "source": [
    "# Extract MFCC features for training set\n",
    "train_temp_df['mfcc'] = Parallel(n_jobs=-1)(delayed(extract_mfcc)(audio_file) for audio_file in X_train)\n",
    "\n",
    "# Extract ZCR features for training set\n",
    "train_temp_df['zcr'] = Parallel(n_jobs=-1)(delayed(extract_zcr)(audio_file) for audio_file in X_train)\n",
    "\n",
    "# Extract Jitter features for training set\n",
    "train_temp_df['jitter'] = Parallel(n_jobs=-1)(delayed(calculate_jitter)(audio_file) for audio_file in X_train)\n",
    "\n",
    "# Replace NaN values in Jitter column with zero for training set\n",
    "train_temp_df['jitter'] = train_temp_df['jitter'].fillna(0)\n",
    "\n",
    "# Extract Shimmer features for training set\n",
    "train_temp_df['shimmer'] = Parallel(n_jobs=-1)(delayed(calculate_shimmer)(audio_file) for audio_file in X_train)\n",
    "\n",
    "# Replace NaN values in Shimmer column with zero for training set\n",
    "train_temp_df['shimmer'] = train_temp_df['shimmer'].fillna(0)"
   ]
  },
  {
   "cell_type": "code",
   "execution_count": 33,
   "id": "1d6ee7bc-899a-4dc6-ae0f-99d9865a0cec",
   "metadata": {},
   "outputs": [
    {
     "data": {
      "text/plain": [
       "mfcc       0\n",
       "zcr        0\n",
       "jitter     0\n",
       "shimmer    0\n",
       "dtype: int64"
      ]
     },
     "execution_count": 33,
     "metadata": {},
     "output_type": "execute_result"
    }
   ],
   "source": [
    "train_temp_df.isna().sum()"
   ]
  },
  {
   "cell_type": "code",
   "execution_count": 34,
   "id": "c42c6e40-b8c9-45cd-b31e-c18dba23411d",
   "metadata": {},
   "outputs": [],
   "source": [
    "mfcc_features_train = np.array(train_temp_df['mfcc'])\n",
    "zcr_features_train = np.array(train_temp_df['zcr'])\n",
    "jitter_features_train = np.array(train_temp_df['jitter'])\n",
    "shimmer_features_train = np.array(train_temp_df['shimmer'])"
   ]
  },
  {
   "cell_type": "code",
   "execution_count": 35,
   "id": "98b2cd80-38dc-4553-b887-a053256460b7",
   "metadata": {},
   "outputs": [],
   "source": [
    "merged_features_train = [merge_features(mfcc, zcr, jitter, shimmer) for mfcc, zcr, jitter, shimmer in zip(mfcc_features_train, zcr_features_train, jitter_features_train, shimmer_features_train)]"
   ]
  },
  {
   "cell_type": "code",
   "execution_count": 36,
   "id": "29008b82-fc03-4c77-99b8-3edfd1782322",
   "metadata": {},
   "outputs": [
    {
     "data": {
      "text/plain": [
       "[array([-5.44868225e+02,  1.13973637e+01, -3.07765331e+01, ...,\n",
       "         1.05468750e-01,  1.51626312e-02,  9.25854817e+00]),\n",
       " array([-1.55662430e+02,  1.46332428e+02,  2.66648364e+00, ...,\n",
       "         4.68750000e-02,  2.09687013e-02,  2.46355876e+01]),\n",
       " array([-2.44934296e+02, -2.62828183e+00,  6.22964249e+01, ...,\n",
       "         4.24804688e-02,  6.14803866e-03,  2.26760387e+01]),\n",
       " array([-1.50106415e+02,  3.14255600e+01, -1.69198151e+01, ...,\n",
       "         1.58691406e-01,  5.12946936e-03,  2.98993111e+01]),\n",
       " array([-3.42374237e+02,  1.86195068e+02, -3.35345154e+01, ...,\n",
       "         6.20117188e-02,  2.00709154e-02,  2.66986340e+01]),\n",
       " array([-1.96356754e+01,  4.27185364e+01, -3.92993240e+01, ...,\n",
       "         1.44042969e-01,  1.74578771e-02,  1.92887366e+01]),\n",
       " array([-5.08583527e+02,  4.40530586e+01,  2.93324585e+01, ...,\n",
       "         8.05664062e-02,  1.44058959e-02,  1.63226157e+01]),\n",
       " array([-5.61788147e+02,  1.70676785e+01,  1.47307491e+01, ...,\n",
       "         3.45703125e-01,  7.62690727e-03,  1.98863119e+01]),\n",
       " array([-4.37369781e+02,  1.40663666e+02, -1.57182217e+01, ...,\n",
       "         7.22656250e-02,  6.17287311e-02,  2.70662040e+01]),\n",
       " array([-2.54603836e+02,  1.86699127e+02,  4.38605270e+01, ...,\n",
       "         1.16210938e-01,  2.08431634e-02,  1.56793222e+01]),\n",
       " array([-1.45216034e+02, -1.22714634e+01, -1.58141184e+01, ...,\n",
       "         1.05957031e-01,  4.95237830e-03,  1.84166685e+01]),\n",
       " array([-2.19587601e+02,  1.40273163e+02, -1.59205217e+01, ...,\n",
       "         9.52148438e-02,  1.38848957e-02,  2.04545543e+01]),\n",
       " array([-2.72628113e+02,  3.96851196e+01, -4.85000839e+01, ...,\n",
       "         2.48046875e-01,  8.04648890e-03,  2.03474835e+01]),\n",
       " array([-5.55208557e+02,  7.06008453e+01,  2.61105175e+01, ...,\n",
       "         1.21093750e-01,  2.55176412e-02,  1.37412667e+01]),\n",
       " array([-3.52733215e+02,  1.59339905e+02, -6.75810242e+01, ...,\n",
       "         7.91015625e-02,  0.00000000e+00,  0.00000000e+00]),\n",
       " array([-2.52214478e+02,  8.03268890e+01, -2.37594509e+01, ...,\n",
       "         1.64550781e-01,  2.20626608e-02,  2.23479241e+01]),\n",
       " array([-2.38828094e+02,  1.03817558e+02,  1.65872059e+01, ...,\n",
       "         3.50585938e-01,  2.32050631e-02,  1.30808815e+01]),\n",
       " array([-4.03033752e+02,  3.60687561e+01,  2.50225735e+01, ...,\n",
       "         1.38183594e-01,  1.43004374e-02,  1.53363869e+01]),\n",
       " array([-1.93770523e+02,  1.47391113e+02, -8.24565887e+00, ...,\n",
       "         1.64550781e-01,  1.53455675e-02,  1.50617748e+01]),\n",
       " array([-5.36717346e+02, -9.53841686e+00, -5.69399118e+00, ...,\n",
       "         2.29003906e-01,  4.32800844e-03,  2.44464576e+01]),\n",
       " array([-4.77160614e+02,  5.82428741e+01,  4.37345734e+01, ...,\n",
       "         1.80664062e-02,  2.13318631e-02,  2.25011960e+01]),\n",
       " array([-3.90415894e+02,  6.75206528e+01,  5.00408554e+01, ...,\n",
       "         1.31835938e-02,  1.72674115e-02,  1.63217872e+01]),\n",
       " array([-4.55161102e+02,  1.10521622e+02,  3.25722961e+01, ...,\n",
       "         3.40332031e-01,  2.34865907e-02,  1.27073392e+01]),\n",
       " array([-1.96250610e+02,  1.43799530e+02, -7.58100281e+01, ...,\n",
       "         3.85742188e-02,  8.59493631e-03,  1.72309175e+01]),\n",
       " array([-2.27742981e+02, -1.09711761e+02,  2.86633282e+01, ...,\n",
       "         2.09960938e-02,  2.50348914e-02,  2.99386978e+01]),\n",
       " array([-2.40327011e+02,  7.59915619e+01, -2.03953896e+01, ...,\n",
       "         2.03613281e-01,  1.38972625e-02,  2.68760562e+01]),\n",
       " array([-2.29722000e+02,  6.29308167e+01, -2.47564011e+01, ...,\n",
       "         1.54785156e-01,  1.32586625e-02,  1.99272141e+01]),\n",
       " array([-1.82628616e+02,  6.57308121e+01,  6.17777157e+00, ...,\n",
       "         2.95898438e-01,  1.36733397e-02,  1.64184794e+01]),\n",
       " array([-3.26818329e+02,  1.60226562e+02, -4.12040558e+01, ...,\n",
       "         1.04492188e-01,  2.14915295e-02,  2.05538884e+01]),\n",
       " array([-1.83311264e+02,  9.91872177e+01, -1.17039127e+01, ...,\n",
       "         4.10156250e-02,  1.53872742e-02,  1.55295014e+01]),\n",
       " array([-3.50943451e+02,  1.40984207e+02,  4.63603058e+01, ...,\n",
       "         2.32421875e-01,  0.00000000e+00,  0.00000000e+00]),\n",
       " array([-1.61945648e+02, -4.78619499e+01,  1.95120983e+01, ...,\n",
       "         3.70117188e-01,  8.04223649e-03,  1.93922848e+01]),\n",
       " array([-2.95050964e+02,  1.25548372e+01,  1.52857590e+01, ...,\n",
       "         3.71093750e-01,  2.88577194e-02,  2.10413784e+01]),\n",
       " array([-2.90186371e+02,  5.15011978e+01,  1.06944443e+02, ...,\n",
       "         1.56250000e-02,  9.59510014e-03,  2.02764422e+01]),\n",
       " array([-5.49391418e+02,  1.48011913e+01,  1.15515471e+01, ...,\n",
       "         1.24511719e-01,  7.67148898e-03,  2.02097550e+01]),\n",
       " array([-1.19892662e+02,  9.76475677e+01, -2.95033531e+01, ...,\n",
       "         7.37304688e-02,  1.85621732e-02,  1.56691417e+01]),\n",
       " array([-2.60799194e+02,  9.85703735e+01,  1.65472949e+00, ...,\n",
       "         6.98242188e-02,  8.29880520e-03,  1.32160351e+01]),\n",
       " array([-2.97433746e+02,  7.87606812e+01, -6.21122265e+00, ...,\n",
       "         3.41796875e-02,  1.85890931e-02,  1.80771112e+01]),\n",
       " array([-4.03315643e+02, -2.17849302e+00,  5.26819267e+01, ...,\n",
       "         1.54785156e-01,  1.20816653e-02,  2.18271151e+01]),\n",
       " array([-2.86892944e+02,  1.65947113e+02,  2.24032555e+01, ...,\n",
       "         3.51562500e-02,  4.01001267e-02,  1.80642113e+01]),\n",
       " array([-4.30520721e+02,  5.69644928e+01,  1.39541206e+01, ...,\n",
       "         1.06445312e-01,  7.85460542e-03,  1.50722057e+01]),\n",
       " array([-3.75790649e+02,  7.75565796e+01, -2.86386657e+00, ...,\n",
       "         1.60644531e-01,  1.28117973e-02,  3.31699640e+01]),\n",
       " array([-5.81118164e+02,  2.06455727e+01,  2.71225166e+01, ...,\n",
       "         6.00585938e-02,  1.51509781e-02,  1.43345907e+01]),\n",
       " array([-3.33442719e+02,  7.33808517e+01, -4.08895302e+01, ...,\n",
       "         2.53906250e-02,  7.34972740e-03,  1.90723881e+01]),\n",
       " array([-4.23259674e+02, -6.05133438e+01, -5.40978050e+01, ...,\n",
       "         1.31347656e-01,  7.15721244e-03,  2.38184333e+01]),\n",
       " array([-4.64826202e+02,  2.47895603e+01, -3.60247707e+00, ...,\n",
       "         6.83593750e-02,  1.05069534e-02,  2.11546391e+01]),\n",
       " array([-2.10876160e+02,  4.78604965e+01, -4.37467766e+01, ...,\n",
       "         1.87988281e-01,  1.30245238e-02,  2.03181028e+01]),\n",
       " array([-7.24429321e+02,  2.40263824e+01,  1.78502007e+01, ...,\n",
       "         1.73339844e-01,  1.58480795e-02,  2.29846686e+01]),\n",
       " array([-6.28276558e+01,  7.40091248e+01, -6.52541351e+01, ...,\n",
       "         1.00585938e-01,  2.09740360e-02,  1.56547770e+01]),\n",
       " array([-5.40719116e+02,  6.98336716e+01, -1.06866665e+01, ...,\n",
       "         1.10839844e-01,  1.01394166e-02,  1.58373013e+01]),\n",
       " array([-4.20169159e+02,  8.01683655e+01,  1.39196033e+01, ...,\n",
       "         1.29394531e-01,  3.07003817e-02,  1.84158191e+01]),\n",
       " array([-5.74510376e+02,  7.73657761e+01,  2.90992661e+01, ...,\n",
       "         1.01074219e-01,  3.43473716e-02,  3.94400120e+01]),\n",
       " array([-3.80266510e+02,  6.30774460e+01,  9.92611790e+00, ...,\n",
       "         1.93359375e-01,  5.91177758e-03,  1.92669585e+01]),\n",
       " array([-6.09329712e+02,  2.70601249e+00,  2.41239738e+00, ...,\n",
       "         2.08496094e-01,  1.48398647e-02,  2.76827216e+01]),\n",
       " array([-2.82603271e+02,  1.30759460e+02,  1.08200874e+01, ...,\n",
       "         1.33300781e-01,  1.56497555e-02,  2.97124684e+01]),\n",
       " array([-3.39828461e+02,  4.72223015e+01,  9.23446369e+00, ...,\n",
       "         2.97851562e-02,  2.10516774e-02,  1.99595094e+01]),\n",
       " array([-1.72170502e+02,  9.24067841e+01, -2.23171768e+01, ...,\n",
       "         9.66796875e-02,  1.03047675e-02,  2.08890885e+01]),\n",
       " array([-1.54409439e+02,  2.97167587e+01,  9.72167492e+00, ...,\n",
       "         8.30078125e-02,  1.62362302e-02,  1.68678313e+01]),\n",
       " array([-2.56335602e+02,  7.06652374e+01,  3.05495224e+01, ...,\n",
       "         1.02050781e-01,  2.22433654e-02,  1.70884550e+01]),\n",
       " array([-4.92465515e+02,  7.01206512e+01, -5.97079124e+01, ...,\n",
       "         2.49023438e-02,  1.03316761e-02,  1.59626111e+01]),\n",
       " array([-2.09914841e+02,  4.79470558e+01,  1.00526180e+01, ...,\n",
       "         2.92968750e-02,  1.12758169e-02,  2.10371181e+01]),\n",
       " array([-5.14328491e+02,  3.09352036e+01, -5.09024696e+01, ...,\n",
       "         1.10839844e-01,  1.65406569e-02,  1.29273221e+01]),\n",
       " array([-2.85336548e+02, -2.32973442e+01, -4.40292473e+01, ...,\n",
       "         3.71093750e-02,  2.38510141e-03,  1.51914969e+01]),\n",
       " array([-5.29834900e+02,  4.72149963e+01,  3.85972290e+01, ...,\n",
       "         2.53906250e-01,  2.02765234e-02,  2.63626456e+01]),\n",
       " array([-1.93072433e+02,  6.98942871e+01,  3.91391678e+01, ...,\n",
       "         2.83691406e-01,  2.19501173e-02,  1.97356075e+01]),\n",
       " array([-5.32974365e+02,  7.15749207e+01, -2.72656059e+01, ...,\n",
       "         9.27734375e-02,  5.04638099e-03,  2.37439260e+01]),\n",
       " array([-6.50732727e+01,  1.04621002e+02,  1.05179873e+01, ...,\n",
       "         5.22460938e-02,  2.43330349e-02,  2.17839867e+01]),\n",
       " array([-5.74591064e+02,  2.56697750e+00,  2.43778944e+00, ...,\n",
       "         1.69921875e-01,  9.98262656e-03,  1.78139985e+01]),\n",
       " array([-8.77808990e+01,  1.08466682e+02, -5.02445297e+01, ...,\n",
       "         5.95703125e-02,  6.25977775e-03,  2.19735384e+01]),\n",
       " array([-4.56773285e+02,  4.20286036e+00, -4.90759659e+00, ...,\n",
       "         1.39160156e-01,  7.98434183e-03,  2.04842731e+01]),\n",
       " array([-5.23955566e+02,  4.29617767e+01,  3.78234711e+01, ...,\n",
       "         4.58984375e-02,  2.21234185e-02,  2.30870202e+01]),\n",
       " array([-4.76367859e+02,  3.89214554e+01,  3.58298759e+01, ...,\n",
       "         1.70898438e-02,  1.96826806e-02,  2.62046158e+01]),\n",
       " array([-2.62912445e+02,  1.05580444e+02, -1.12530556e+01, ...,\n",
       "         6.93359375e-02,  1.09665382e-02,  1.94746017e+01]),\n",
       " array([-5.59689575e+02,  8.53626251e+01,  6.55908298e+00, ...,\n",
       "         2.68554688e-02,  1.18943252e-02,  1.43440619e+01]),\n",
       " array([-2.19421112e+02,  8.94280014e+01, -7.26973414e-01, ...,\n",
       "         1.16699219e-01,  2.08554622e-02,  2.46961892e+01]),\n",
       " array([-1.54254395e+02,  1.40331482e+02, -5.70143318e+00, ...,\n",
       "         2.44628906e-01,  3.38775067e-02,  1.34987473e+01]),\n",
       " array([-1.10753471e+02,  2.73212872e+01, -5.85833130e+01, ...,\n",
       "         1.51367188e-02,  1.03867329e-02,  2.22950250e+01]),\n",
       " array([-1.71235809e+02,  1.29771622e+02, -4.83132896e+01, ...,\n",
       "         1.31347656e-01,  1.04428621e-02,  1.79161936e+01]),\n",
       " array([-3.05772919e+02, -4.15159607e+01,  1.63186419e+00, ...,\n",
       "         7.81250000e-02,  8.80049824e-03,  2.26044238e+01]),\n",
       " array([-3.19324310e+02,  9.71678619e+01,  1.48028202e+01, ...,\n",
       "         9.22851562e-02,  1.76027977e-02,  1.69166297e+01]),\n",
       " array([-5.44922241e+02,  3.58893661e+01,  2.11360855e+01, ...,\n",
       "         9.52148438e-02,  6.13427961e-03,  1.52342618e+01]),\n",
       " array([-2.09701874e+02,  6.16897583e+01, -6.95121918e+01, ...,\n",
       "         1.30371094e-01,  7.92436653e-03,  1.43981323e+01]),\n",
       " array([-5.46539062e+02,  9.59277191e+01,  3.28116455e+01, ...,\n",
       "         1.46484375e-01,  1.24673825e-02,  2.10091621e+01]),\n",
       " array([-1.56205399e+02, -1.53694229e+01,  4.76887512e+01, ...,\n",
       "         2.76367188e-01,  1.81397762e-02,  1.89747989e+01]),\n",
       " array([-4.76709045e+02,  1.02490128e+02,  2.44432831e+01, ...,\n",
       "         1.90429688e-02,  5.91195865e-03,  1.96617261e+01]),\n",
       " array([-3.75363770e+02,  4.45179291e+01, -1.04751190e+02, ...,\n",
       "         4.83398438e-02,  8.58297962e-03,  1.36783868e+01]),\n",
       " array([-3.02173035e+02,  1.07733734e+02,  3.50504303e+01, ...,\n",
       "         4.00390625e-02,  2.01341048e-02,  1.04970865e+01]),\n",
       " array([-2.60807495e+02, -4.06223907e+01,  5.94822311e+01, ...,\n",
       "         8.10546875e-02,  7.86925284e-03,  2.51377821e+01]),\n",
       " array([-4.56426544e+02,  7.62422485e+01,  2.52132435e+01, ...,\n",
       "         8.00781250e-02,  7.02632180e-03,  1.74654886e+01]),\n",
       " array([-3.08357880e+02,  1.12298218e+02,  2.67810593e+01, ...,\n",
       "         1.51367188e-02,  2.85408746e-02,  1.65819168e+01]),\n",
       " array([-1.70463730e+02,  8.96272583e+01, -7.20556183e+01, ...,\n",
       "         1.37207031e-01,  1.36747460e-02,  3.39078099e+01]),\n",
       " array([-1.52821503e+02,  1.19642258e+02, -7.83558273e+01, ...,\n",
       "         1.60156250e-01,  1.24856789e-02,  2.21358940e+01]),\n",
       " array([-1.34530167e+02,  1.46407013e+02, -3.18997574e+01, ...,\n",
       "         1.80664062e-02,  5.69785951e-03,  1.78597510e+01]),\n",
       " array([-4.38547699e+02,  5.98486710e+01,  3.82649899e+00, ...,\n",
       "         7.22656250e-02,  1.36244376e-02,  1.72611549e+01]),\n",
       " array([-5.62900574e+02,  1.16314144e+01, -2.25487018e+00, ...,\n",
       "         1.07910156e-01,  1.11210288e-02,  2.30411962e+01]),\n",
       " array([-3.25346771e+02, -5.12013550e+01, -4.48113556e+01, ...,\n",
       "         3.58398438e-01,  1.64940534e-02,  2.14623138e+01]),\n",
       " array([-1.16222984e+02,  1.29149353e+02, -3.29615974e+01, ...,\n",
       "         2.68554688e-02,  1.60149629e-02,  9.24055576e+00]),\n",
       " array([-2.25563690e+02,  1.35812012e+02,  7.68006039e+00, ...,\n",
       "         1.22558594e-01,  2.99370196e-02,  1.59811243e+01]),\n",
       " array([-3.07110931e+02,  1.55100536e+01,  5.27244473e+00, ...,\n",
       "         6.20117188e-02,  6.72408064e-03,  1.46706015e+01]),\n",
       " array([-5.33613220e+02,  7.20064240e+01, -1.96001587e+01, ...,\n",
       "         1.72851562e-01,  1.15063191e-02,  2.64087856e+01]),\n",
       " array([-6.04358398e+02,  4.27077179e+01, -3.40671158e+00, ...,\n",
       "         1.56250000e-01,  1.22670578e-02,  2.80665636e+01]),\n",
       " array([-5.53131958e+02,  3.47509880e+01,  2.82742958e+01, ...,\n",
       "         6.88476562e-02,  1.26822249e-02,  3.27447414e+01]),\n",
       " array([-1.75941528e+02,  9.88898926e+01,  1.36173029e+01, ...,\n",
       "         2.08496094e-01,  2.31961573e-02,  1.83764890e+01]),\n",
       " array([-4.76512329e+02,  4.35484200e+01,  1.16332579e+00, ...,\n",
       "         4.63867188e-02,  1.53809019e-02,  1.74438164e+01]),\n",
       " array([-3.81790100e+02,  1.91274204e+01, -9.28371277e+01, ...,\n",
       "         3.90625000e-02,  2.01317168e-02,  1.58337921e+01]),\n",
       " array([-3.35024536e+02,  1.44208618e+02,  4.42102280e+01, ...,\n",
       "         2.34375000e-02,  1.06020365e-02,  2.33990386e+01]),\n",
       " array([-3.02072876e+02,  1.00293159e+02, -6.80525303e+00, ...,\n",
       "         1.45507812e-01,  9.84487136e-03,  1.71531349e+01]),\n",
       " array([-6.77298340e+02,  5.03872032e+01,  3.60179138e+01, ...,\n",
       "         2.88085938e-02,  1.80379166e-02,  1.48037985e+01]),\n",
       " array([-4.91115295e+02, -2.48350525e+01,  3.41033173e+01, ...,\n",
       "         7.03125000e-02,  9.67870873e-03,  1.85125813e+01]),\n",
       " array([-2.79690186e+02,  1.45699005e+02, -1.02014503e+01, ...,\n",
       "         1.06933594e-01,  9.04171882e-03,  1.86718673e+01]),\n",
       " array([-3.69353027e+02,  1.57780548e+02,  3.91786575e+01, ...,\n",
       "         9.76562500e-02,  0.00000000e+00,  0.00000000e+00]),\n",
       " array([-2.19290833e+02,  1.78757690e+02, -1.28679485e+01, ...,\n",
       "         1.66015625e-02,  2.05911396e-02,  2.17678994e+01]),\n",
       " array([-1.56354156e+02,  1.36248840e+02,  5.15429306e+00, ...,\n",
       "         1.02539062e-01,  3.75521119e-02,  1.98955759e+01]),\n",
       " array([-1.59593018e+02,  1.06315948e+02,  2.49075489e+01, ...,\n",
       "         1.50878906e-01,  1.19258034e-02,  2.48960629e+01]),\n",
       " array([-3.27974274e+02,  6.75405121e+01,  1.59382944e+01, ...,\n",
       "         7.37304688e-02,  1.47796625e-02,  8.83568451e+00]),\n",
       " array([-6.11232849e+02,  1.73996983e+01, -1.22039728e+01, ...,\n",
       "         7.51953125e-02,  1.10439091e-02,  2.91075349e+01]),\n",
       " array([-5.58395020e+02,  2.46492767e+01, -1.54131908e+01, ...,\n",
       "         1.74316406e-01,  4.87760052e-03,  2.17076033e+01]),\n",
       " array([-2.10141174e+02,  1.15990631e+02,  1.25853443e+01, ...,\n",
       "         3.80859375e-02,  6.86152587e-03,  1.86899617e+01]),\n",
       " array([-2.81179047e+02,  1.15292381e+02,  1.05063839e+01, ...,\n",
       "         9.37500000e-02,  1.34434884e-02,  1.72260299e+01]),\n",
       " array([-3.13019226e+02,  5.72011566e+01, -9.04256630e+00, ...,\n",
       "         1.35742188e-01,  7.49271033e-03,  2.46049464e+01]),\n",
       " array([-4.85604889e+02,  4.64606400e+01,  3.43753853e+01, ...,\n",
       "         1.90429688e-02,  1.52353057e-02,  1.48143217e+01]),\n",
       " array([-6.13711731e+02,  1.41853886e+01,  1.18392363e+01, ...,\n",
       "         9.66796875e-02,  7.85617240e-03,  2.54438818e+01]),\n",
       " array([-5.22144409e+02,  8.72035065e+01,  4.95199127e+01, ...,\n",
       "         1.34277344e-01,  1.13087798e-02,  2.36891925e+01]),\n",
       " array([-1.32548218e+02, -3.70083809e+01,  2.43229561e+01, ...,\n",
       "         1.75781250e-01,  8.80937565e-03,  1.62414297e+01]),\n",
       " array([-2.46622864e+02,  1.11354034e+02,  1.27620726e+01, ...,\n",
       "         8.00781250e-02,  1.07678807e-02,  2.55770236e+01]),\n",
       " array([-1.54307327e+02,  1.27652924e+02, -8.61415482e+00, ...,\n",
       "         3.32031250e-02,  3.76749038e-02,  1.78909943e+01]),\n",
       " array([-1.98428833e+02,  6.84738846e+01,  5.20587502e+01, ...,\n",
       "         1.84570312e-01,  1.08076532e-02,  1.80098549e+01]),\n",
       " array([-1.90344589e+02,  2.89102898e+01, -2.70798950e+01, ...,\n",
       "         1.48437500e-01,  2.01427073e-02,  2.50337511e+01]),\n",
       " array([-3.55950104e+02,  8.91131897e+01, -3.18269587e+00, ...,\n",
       "         3.46679688e-02,  1.02415531e-02,  2.77083755e+01]),\n",
       " array([-5.30215881e+02,  1.05007614e+02,  3.49341545e+01, ...,\n",
       "         1.03027344e-01,  1.57766742e-02,  1.48140386e+01]),\n",
       " array([-2.02417038e+02,  8.85827026e+01,  1.89077187e+01, ...,\n",
       "         8.25195312e-02,  1.45457561e-02,  2.07241967e+01]),\n",
       " array([-5.24864868e+02,  2.71467857e+01,  2.18920021e+01, ...,\n",
       "         2.73437500e-02,  2.78543371e-02,  2.01073632e+01]),\n",
       " array([-1.45262939e+02,  1.11069534e+02,  1.49337940e+01, ...,\n",
       "         7.12890625e-02,  1.19580318e-02,  1.74293116e+01]),\n",
       " array([-3.07575531e+02,  2.00079346e+02,  2.52108803e+01, ...,\n",
       "         7.51953125e-02,  9.00562066e-03,  2.71250278e+01]),\n",
       " array([-5.10630554e+02,  3.35648956e+01,  3.05358086e+01, ...,\n",
       "         1.87988281e-01,  2.09789465e-02,  2.02287152e+01]),\n",
       " array([-1.73800446e+02,  2.35308609e+01,  6.44355392e+01, ...,\n",
       "         2.88085938e-02,  3.18815747e-02,  1.87997252e+01]),\n",
       " array([-2.36917343e+02, -5.74705200e+01, -3.74443893e+01, ...,\n",
       "         4.00390625e-02,  1.66207073e-02,  1.01380460e+01]),\n",
       " array([-2.41004181e+02,  1.05589508e+02, -3.90486145e+01, ...,\n",
       "         1.95800781e-01,  1.39760148e-02,  2.95065194e+01]),\n",
       " array([-1.94030029e+02,  7.33261566e+01, -1.17037363e+01, ...,\n",
       "         1.15234375e-01,  2.96107160e-02,  2.30067030e+01]),\n",
       " array([-2.32073120e+02,  3.01109467e+01, -9.99501266e+01, ...,\n",
       "         2.82714844e-01,  3.13496937e-03,  2.59809256e+01]),\n",
       " array([-4.38418701e+02,  7.59185867e+01, -3.51220589e+01, ...,\n",
       "         5.90820312e-02,  2.76978262e-02,  1.34931207e+01]),\n",
       " array([-3.39314301e+02, -8.30984650e+01,  4.49452438e+01, ...,\n",
       "         7.12890625e-02,  2.96851190e-02,  1.87152341e+01]),\n",
       " array([-5.50187378e+02,  1.88985138e+01,  2.24408174e+00, ...,\n",
       "         1.50390625e-01,  1.17695353e-02,  2.26144224e+01]),\n",
       " array([-6.01506714e+02,  6.01442108e+01,  2.70957518e+00, ...,\n",
       "         1.99218750e-01,  7.69726703e-03,  1.22849204e+01]),\n",
       " array([-1.18060310e+02,  6.17693596e+01, -2.64254189e+01, ...,\n",
       "         2.01171875e-01,  5.55738980e-03,  1.73446879e+01]),\n",
       " array([-5.91386047e+02,  1.19187847e-01, -5.61208630e+00, ...,\n",
       "         1.68457031e-01,  1.55852491e-02,  1.83762610e+01]),\n",
       " array([-2.02453644e+02,  1.43461670e+02, -2.26241350e+00, ...,\n",
       "         3.51562500e-02,  2.11944773e-02,  1.88531503e+01]),\n",
       " array([-9.69459839e+01,  8.70938721e+01, -2.81458130e+01, ...,\n",
       "         8.00781250e-02,  2.42459534e-02,  1.54764846e+01]),\n",
       " array([-5.20284241e+02,  7.69129028e+01,  2.75310822e+01, ...,\n",
       "         1.72851562e-01,  2.05437813e-02,  1.31334394e+01]),\n",
       " array([-2.07243240e+02,  1.55747833e+01, -3.06541443e+00, ...,\n",
       "         1.31835938e-01,  1.96454977e-02,  1.67786002e+01]),\n",
       " array([-6.40586487e+02,  1.54970570e+01,  7.77704144e+00, ...,\n",
       "         9.52148438e-02,  1.53266499e-02,  1.77184388e+01]),\n",
       " array([-136.61730957,   97.33394623,  -34.0827446 , ...,    0.31298828,\n",
       "           0.        ,    0.        ]),\n",
       " array([-6.15341980e+02,  1.07979652e+02, -6.88830090e+00, ...,\n",
       "         1.35253906e-01,  2.05333799e-02,  1.79358751e+01]),\n",
       " array([-1.09214256e+02,  1.00524841e+02, -5.05792198e+01, ...,\n",
       "         3.91601562e-01,  2.37149596e-02,  1.21554926e+01]),\n",
       " array([-4.08798248e+02, -4.30420074e+01,  3.19014740e+01, ...,\n",
       "         3.36914062e-02,  4.35341106e-02,  2.23369092e+01]),\n",
       " array([-4.96465340e+01,  8.68512497e+01, -4.66687775e+01, ...,\n",
       "         8.15429688e-02,  9.41428389e-03,  2.31579959e+01]),\n",
       " array([-3.90600525e+02, -3.80688934e+01, -3.06679802e+01, ...,\n",
       "         5.41992188e-02,  1.42362044e-02,  2.51305073e+01]),\n",
       " array([-6.21744385e+02,  6.68462067e+01,  4.64606934e+01, ...,\n",
       "         8.10546875e-02,  8.01065277e-03,  8.44923779e+00]),\n",
       " array([-4.70442627e+02,  8.21342926e+01,  1.19586897e+01, ...,\n",
       "         5.56640625e-02,  3.40554102e-02,  2.43783593e+01]),\n",
       " array([-3.03375427e+02,  1.00056061e+02, -3.75674915e+00, ...,\n",
       "         1.37695312e-01,  1.33160604e-02,  2.65620947e+01]),\n",
       " array([-3.14786194e+02,  1.70585876e+02,  2.74847908e+01, ...,\n",
       "         1.38183594e-01,  1.51087993e-02,  1.88065186e+01]),\n",
       " array([-2.11676102e+02,  7.61394043e+01,  2.37646523e+01, ...,\n",
       "         5.56640625e-02,  7.75487919e-03,  1.90407529e+01]),\n",
       " array([-3.05460876e+02, -1.25107040e+01,  6.50915146e+01, ...,\n",
       "         2.13867188e-01,  1.77926237e-02,  2.56389111e+01]),\n",
       " array([-1.83184616e+02,  1.50747009e+02,  3.23207245e+01, ...,\n",
       "         1.23535156e-01,  0.00000000e+00,  0.00000000e+00]),\n",
       " array([-1.14957169e+02,  1.65994110e+01, -9.50318756e+01, ...,\n",
       "         1.86035156e-01,  9.93693491e-03,  1.50325149e+01]),\n",
       " array([-4.02319580e+02,  4.94808121e+01,  3.28277054e+01, ...,\n",
       "         1.81640625e-01,  2.31506783e-02,  3.06780040e+01]),\n",
       " array([-2.94253510e+02,  1.17401108e+02,  4.57400274e+00, ...,\n",
       "         2.53417969e-01,  2.22108439e-02,  2.34419957e+01]),\n",
       " array([-5.88832947e+02,  2.42365761e+01,  1.50382214e+01, ...,\n",
       "         5.37109375e-02,  8.97695590e-03,  1.45844698e+01]),\n",
       " array([-3.88082703e+02,  7.17869415e+01,  4.90203209e+01, ...,\n",
       "         2.63671875e-02,  1.57491597e-02,  1.79395497e+01]),\n",
       " array([-1.41547546e+02,  1.23379181e+02,  3.17942848e+01, ...,\n",
       "         2.19726562e-02,  2.56671708e-02,  2.26374030e+01]),\n",
       " array([-9.75577011e+01,  1.09724304e+02, -1.99105108e+00, ...,\n",
       "         1.85546875e-02,  4.42725980e-02,  1.70277908e+01]),\n",
       " array([-4.36319977e+02,  1.06113785e+02,  2.87330990e+01, ...,\n",
       "         1.85546875e-01,  2.70120981e-02,  2.42170557e+01]),\n",
       " array([-3.53659027e+02,  1.23477020e+02,  4.86925545e+01, ...,\n",
       "         7.56835938e-02,  1.63781585e-02,  2.79997110e+01]),\n",
       " array([-5.67500671e+02,  0.00000000e+00,  0.00000000e+00, ...,\n",
       "         5.17578125e-02,  2.13671529e-02,  2.32409418e+01]),\n",
       " array([-6.97650146e+02,  5.31493263e+01,  3.88773155e+01, ...,\n",
       "         4.05273438e-02,  3.42242827e-02,  1.96657702e+01]),\n",
       " array([-1.46262863e+02,  1.21982040e+02, -4.80200081e+01, ...,\n",
       "         3.51562500e-02,  1.25702940e-02,  2.78192818e+01]),\n",
       " array([-4.17637177e+02,  1.38753845e+02,  5.10829620e+01, ...,\n",
       "         8.30078125e-03,  2.54653021e-02,  1.02908388e+01]),\n",
       " array([-3.38028442e+02,  1.34899551e+02,  1.89110756e+01, ...,\n",
       "         1.04492188e-01,  1.42748910e-02,  2.16131970e+01]),\n",
       " array([-2.37250549e+02,  1.07412659e+02,  3.11151562e+01, ...,\n",
       "         1.35253906e-01,  1.28666279e-02,  1.75062835e+01]),\n",
       " array([-2.63013428e+02,  1.30861389e+02,  1.62357883e+01, ...,\n",
       "         3.90625000e-02,  1.44252977e-02,  1.54805303e+01]),\n",
       " array([-2.02772095e+02,  1.17186813e+02,  1.41663399e+01, ...,\n",
       "         2.44140625e-01,  1.55450920e-02,  1.86865628e+01]),\n",
       " array([-5.62078369e+02,  8.04172897e+01,  5.86018906e+01, ...,\n",
       "         1.84570312e-01,  9.61750669e-03,  1.83806375e+01]),\n",
       " array([-7.08397278e+02,  3.44585419e+01,  2.29055252e+01, ...,\n",
       "         1.55761719e-01,  7.71126836e-03,  1.48337051e+01]),\n",
       " array([-5.30873596e+02,  6.99699783e+01,  5.99130402e+01, ...,\n",
       "         3.41796875e-01,  3.92647496e-03,  3.22678477e+01]),\n",
       " array([-5.95705078e+02,  0.00000000e+00,  0.00000000e+00, ...,\n",
       "         1.93359375e-01,  5.95993521e-02,  1.96707383e+01]),\n",
       " array([-5.86650452e+02,  2.44416952e+00,  1.96073699e+00, ...,\n",
       "         1.99707031e-01,  2.13592404e-02,  3.06824237e+01]),\n",
       " array([-1.75171616e+02,  1.69922607e+02,  8.74861526e+00, ...,\n",
       "         3.32031250e-02,  2.42884396e-02,  1.53181985e+01]),\n",
       " array([-2.74297577e+02,  6.39819984e+01,  3.43991547e+01, ...,\n",
       "         2.19726562e-02,  8.13316333e-03,  1.82462573e+01]),\n",
       " array([-1.00389297e+02,  7.81086349e+01, -5.11829758e+01, ...,\n",
       "         1.15234375e-01,  1.19894331e-02,  1.85385868e+01]),\n",
       " array([-2.56123199e+02,  8.21368866e+01,  1.58947258e+01, ...,\n",
       "         2.56835938e-01,  1.60594598e-02,  2.02628300e+01]),\n",
       " array([-1.50051941e+02,  1.43435974e+02, -2.82609558e+01, ...,\n",
       "         5.32226562e-02,  2.42697666e-02,  2.05275238e+01]),\n",
       " array([-2.07213226e+02,  8.80396729e+01,  8.28250027e+00, ...,\n",
       "         9.08203125e-02,  1.40723681e-02,  1.53588474e+01]),\n",
       " array([-8.99941406e+01,  1.56872070e+02, -8.59494972e+00, ...,\n",
       "         6.83593750e-02,  4.82733137e-02,  1.82969660e+01]),\n",
       " array([-1.87849533e+02,  5.02955551e+01, -2.05170918e+01, ...,\n",
       "         2.43164062e-01,  7.48429120e-03,  1.75172672e+01]),\n",
       " array([-3.96684784e+02,  8.30131836e+01,  2.94677429e+01, ...,\n",
       "         2.24609375e-02,  1.63729691e-02,  1.69306055e+01]),\n",
       " array([-1.16323997e+02,  3.65512848e+01, -1.10274827e+00, ...,\n",
       "         1.80664062e-01,  1.01459351e-02,  2.35552475e+01]),\n",
       " array([-5.79727356e+02,  8.86172485e+01,  9.74740124e+00, ...,\n",
       "         6.20117188e-02,  3.30457474e-02,  2.65332848e+01]),\n",
       " array([-5.33922913e+02,  1.92586112e+00, -7.27985764e+00, ...,\n",
       "         1.06933594e-01,  5.65138603e-03,  2.68254638e+01]),\n",
       " array([-4.85626160e+02,  1.20892471e+02,  6.77800751e+01, ...,\n",
       "         5.32226562e-02,  8.19292457e-03,  2.23517194e+01]),\n",
       " array([-1.92658463e+02,  1.09499374e+02,  2.07100201e+01, ...,\n",
       "         1.38183594e-01,  3.09501156e-02,  1.92817450e+01]),\n",
       " array([-1.49502838e+02,  1.18795746e+02, -1.68980675e+01, ...,\n",
       "         6.00585938e-02,  1.28596155e-02,  2.53191262e+01]),\n",
       " array([-6.02613892e+02,  9.01446915e+00,  4.83041763e+00, ...,\n",
       "         3.24218750e-01,  9.90993633e-03,  1.99387982e+01]),\n",
       " array([-4.91960602e+02,  5.42167130e+01,  2.45393105e+01, ...,\n",
       "         1.25976562e-01,  6.02873650e-03,  1.95947543e+01]),\n",
       " array([-3.99349518e+02,  7.66868057e+01,  1.24647236e+00, ...,\n",
       "         9.86328125e-02,  8.38225905e-03,  3.53719354e+01]),\n",
       " array([-4.74444824e+02,  1.48176460e+01,  2.77737083e+01, ...,\n",
       "         9.37500000e-02,  9.46038615e-03,  2.81826496e+01]),\n",
       " array([-1.85320816e+02,  1.14405098e+02, -5.06777763e+00, ...,\n",
       "         1.03027344e-01,  1.13126226e-02,  1.83678582e+01]),\n",
       " array([-5.67792175e+02,  1.11298695e+01,  3.30653048e+00, ...,\n",
       "         1.14257812e-01,  1.07411718e-02,  8.63194987e+00]),\n",
       " array([-3.17246460e+02,  3.62326012e+01,  7.72725143e+01, ...,\n",
       "         3.02734375e-02,  2.37155820e-02,  2.77064919e+01]),\n",
       " array([-5.67157043e+02,  5.62003479e+01, -4.26683044e+01, ...,\n",
       "         6.54296875e-02,  1.77927293e-02,  2.65737921e+01]),\n",
       " array([-1.40070999e+02,  7.74488373e+01, -5.84871597e+01, ...,\n",
       "         1.75781250e-02,  2.06046114e-02,  2.66525179e+01]),\n",
       " array([-4.55309418e+02,  4.68700409e+01,  4.14026566e+01, ...,\n",
       "         5.22460938e-02,  1.78294880e-02,  3.51792276e+01]),\n",
       " array([-2.48361893e+02, -9.57935028e+01,  2.38480873e+01, ...,\n",
       "         2.21191406e-01,  1.37894916e-02,  2.33267158e+01]),\n",
       " array([-5.67179138e+02,  4.03308010e+00,  3.82743478e+00, ...,\n",
       "         1.62109375e-01,  8.72651319e-03,  1.26887307e+01]),\n",
       " array([-1.51426453e+02,  6.89227295e+01,  9.29334068e+00, ...,\n",
       "         1.63085938e-01,  1.19402849e-02,  1.93180442e+01]),\n",
       " array([-6.78168701e+02,  1.06953575e+02, -1.41441746e+01, ...,\n",
       "         1.56250000e-01,  2.78905388e-02,  2.05841050e+01]),\n",
       " array([-5.14480408e+02,  5.56785431e+01,  1.41777840e+01, ...,\n",
       "         9.96093750e-02,  1.78137041e-02,  1.48332953e+01]),\n",
       " array([-2.30360641e+02, -4.38915215e+01, -5.17885895e+01, ...,\n",
       "         3.03222656e-01,  1.70472902e-02,  2.58650959e+01]),\n",
       " array([-4.78003906e+02,  4.46523285e+01,  1.22931805e+01, ...,\n",
       "         6.20117188e-02,  2.03355491e-02,  1.97392806e+01]),\n",
       " array([-5.26529297e+02,  6.11269073e+01,  3.95507545e+01, ...,\n",
       "         6.49414062e-02,  1.89873242e-02,  2.28609160e+01]),\n",
       " array([-4.83745697e+02,  8.60138321e+00, -4.46503401e+00, ...,\n",
       "         1.27929688e-01,  1.52239702e-02,  2.19657809e+01]),\n",
       " array([-1.86737091e+02, -8.42636645e-01,  2.01565056e+01, ...,\n",
       "         1.50390625e-01,  7.33783586e-03,  2.37337723e+01]),\n",
       " array([-7.15138245e+01,  3.11211929e+01, -5.32170715e+01, ...,\n",
       "         2.19726562e-02,  1.11168491e-02,  1.77944437e+01]),\n",
       " array([-6.72642822e+02,  2.40538120e+01,  2.03929138e+00, ...,\n",
       "         1.38183594e-01,  7.60347345e-03,  9.61954445e+00]),\n",
       " array([-4.02731995e+02,  6.38512306e+01,  1.62709503e+01, ...,\n",
       "         1.05468750e-01,  9.99767570e-03,  1.77016586e+01]),\n",
       " array([-3.14788757e+02,  1.37210114e+02,  3.11433296e+01, ...,\n",
       "         1.22070312e-01,  9.02184241e-03,  2.82284468e+01]),\n",
       " array([-1.55953445e+02,  7.63195801e+01, -2.55625515e+01, ...,\n",
       "         1.40136719e-01,  1.39458873e-02,  1.63394108e+01]),\n",
       " array([-4.62173767e+02,  7.86498489e+01,  2.62125111e+00, ...,\n",
       "         8.49609375e-02,  1.87268149e-02,  1.51083529e+01]),\n",
       " array([-2.34104263e+02,  1.05465729e+02,  2.73110924e+01, ...,\n",
       "         1.31835938e-02,  2.27499810e-02,  2.59811252e+01]),\n",
       " array([-5.07167664e+02,  8.07106400e+01,  2.28642750e+01, ...,\n",
       "         6.49414062e-02,  1.85014993e-02,  2.31733456e+01]),\n",
       " array([-5.52244019e+02,  8.50285187e+01, -1.75906014e+00, ...,\n",
       "         6.78710938e-02,  1.56462824e-02,  1.80455834e+01]),\n",
       " array([-1.11772415e+02,  5.31375580e+01, -4.93321571e+01, ...,\n",
       "         4.29687500e-02,  1.30318193e-02,  1.62572235e+01]),\n",
       " array([-3.87088593e+02,  7.78491821e+01, -1.60546837e+01, ...,\n",
       "         1.46972656e-01,  0.00000000e+00,  0.00000000e+00]),\n",
       " array([-5.20637634e+02,  5.57536469e+01,  4.71211319e+01, ...,\n",
       "         1.95312500e-02,  2.69189317e-02,  1.76254272e+01]),\n",
       " array([-4.02291412e+02,  4.22365265e+01, -1.24633865e+01, ...,\n",
       "         1.32812500e-01,  0.00000000e+00,  0.00000000e+00]),\n",
       " array([-5.27847473e+02,  7.97333374e+01, -1.09546089e+01, ...,\n",
       "         4.93164062e-02,  2.20562072e-03,  1.02585323e+01]),\n",
       " array([-5.91709656e+02,  4.21143723e+01, -5.81183929e+01, ...,\n",
       "         1.17187500e-01,  0.00000000e+00,  0.00000000e+00]),\n",
       " array([-6.26763306e+02,  2.33693581e+01, -4.30457153e+01, ...,\n",
       "         2.05078125e-02,  4.48087823e-02,  1.40794560e+01]),\n",
       " array([-3.36880737e+02,  1.11082962e+02,  3.61977158e+01, ...,\n",
       "         7.32421875e-02,  2.38290896e-02,  1.46245226e+01]),\n",
       " array([-5.64202942e+02,  1.15642563e+02, -4.67416420e+01, ...,\n",
       "         7.12890625e-02,  7.50466837e-03,  4.42955941e+01]),\n",
       " array([-2.95482880e+02,  1.13003769e+02,  1.36970901e+01, ...,\n",
       "         4.63867188e-02,  9.53606319e-03,  1.38312086e+01]),\n",
       " array([-1.67896103e+02,  8.65019684e+01, -2.22987995e+01, ...,\n",
       "         2.85644531e-01,  1.57737790e-02,  1.99794829e+01]),\n",
       " array([-1.92865997e+02,  1.21248291e+02,  4.00478134e+01, ...,\n",
       "         1.58203125e-01,  1.14973562e-02,  1.04053810e+01]),\n",
       " array([-3.15025787e+02,  1.14145973e+02, -9.75786743e+01, ...,\n",
       "         1.13281250e-01,  1.68858650e-02,  1.87159002e+01]),\n",
       " array([-2.01931381e+02,  1.06038277e+02, -6.25287094e+01, ...,\n",
       "         3.36914062e-02,  3.61400277e-03,  1.65964484e+01]),\n",
       " array([-4.30367126e+02,  1.76992035e+01, -5.27164116e+01, ...,\n",
       "         1.55761719e-01,  9.79203632e-03,  2.22572550e+01]),\n",
       " array([-1.40129242e+02,  1.30957230e+02, -2.63576012e+01, ...,\n",
       "         7.47070312e-02,  1.78055951e-02,  2.22221777e+01]),\n",
       " array([-2.79623260e+02,  1.11590141e+02,  2.86505508e+00, ...,\n",
       "         7.08007812e-02,  2.43738697e-02,  1.47334173e+01]),\n",
       " array([-6.24972351e+02,  6.37160187e+01,  1.34305992e+01, ...,\n",
       "         2.58789062e-02,  1.64630468e-02,  2.21852034e+01]),\n",
       " array([-1.99592361e+02,  1.53690918e+02,  2.97478752e+01, ...,\n",
       "         1.36718750e-01,  2.35562321e-02,  1.17796831e+01]),\n",
       " array([-3.77441284e+02,  1.04279106e+02, -8.12562256e+01, ...,\n",
       "         1.66503906e-01,  9.97718160e-03,  1.46145970e+01]),\n",
       " array([-6.92441956e+02,  3.28038673e+01, -8.33114624e+00, ...,\n",
       "         4.83398438e-02,  3.84928432e-03,  1.53928652e+01]),\n",
       " array([-1.49316193e+02,  1.45081390e+02,  1.19504280e+01, ...,\n",
       "         1.56250000e-02,  3.29303299e-02,  1.57080352e+01]),\n",
       " array([-5.63840637e+02,  1.29803040e+02, -7.08166218e+00, ...,\n",
       "         5.02929688e-02,  9.57813800e-03,  1.41396970e+01]),\n",
       " array([-3.53699982e+02,  7.40293655e+01,  3.51339579e+00, ...,\n",
       "         1.95312500e-01,  1.66196418e-02,  1.44626796e+01]),\n",
       " array([-3.69966858e+02,  1.36872681e+02,  4.41961517e+01, ...,\n",
       "         2.01660156e-01,  6.99352541e-03,  1.41161531e+01]),\n",
       " array([-1.42625778e+02,  6.54517059e+01, -5.70719604e+01, ...,\n",
       "         2.96875000e-01,  2.33576547e-02,  1.93320915e+01]),\n",
       " array([-4.42459625e+02, -5.14595947e+01,  4.38497734e+01, ...,\n",
       "         6.54296875e-02,  4.24081909e-03,  2.67452419e+01]),\n",
       " array([-5.12423157e+02,  4.60497055e+01,  2.52755508e+01, ...,\n",
       "         1.58203125e-01,  1.06552170e-02,  3.02380204e+01]),\n",
       " array([-3.84321808e+02,  1.95811966e+02,  3.43510971e+01, ...,\n",
       "         5.76171875e-02,  2.00357261e-02,  1.92809135e+01]),\n",
       " array([-2.90634338e+02,  1.79382932e+00,  3.69827194e+01, ...,\n",
       "         1.21582031e-01,  1.04030939e-02,  1.77727059e+01]),\n",
       " array([-5.59635193e+02,  5.32424545e+00,  2.14268303e+01, ...,\n",
       "         2.58789062e-02,  2.21791640e-02,  2.09284946e+01]),\n",
       " array([-2.31379395e+02,  5.25874786e+01,  6.14794273e+01, ...,\n",
       "         3.07617188e-02,  4.76677617e-03,  1.21337093e+01]),\n",
       " array([-4.88117432e+02,  1.62687035e+01, -7.97949743e+00, ...,\n",
       "         3.49609375e-01,  7.98170637e-03,  1.99281812e+01]),\n",
       " array([-4.52075500e+02,  1.14010727e+02,  2.30946846e+01, ...,\n",
       "         2.87109375e-01,  2.82214970e-02,  1.85757488e+01]),\n",
       " array([-4.53418030e+02,  1.23020111e+02,  1.37459202e+01, ...,\n",
       "         5.32226562e-02,  2.34114445e-02,  3.32341760e+01]),\n",
       " array([-5.10203766e+02,  5.37028999e+01,  2.10627079e+01, ...,\n",
       "         1.25976562e-01,  1.08286302e-02,  1.65599450e+01]),\n",
       " array([-2.04978165e+02,  1.35665161e+02,  3.05242653e+01, ...,\n",
       "         4.39453125e-02,  2.63056125e-02,  1.60951257e+01]),\n",
       " array([-2.17559494e+02,  4.20451126e+01, -7.07789536e+01, ...,\n",
       "         1.85058594e-01,  1.03501759e-02,  2.32796907e+01]),\n",
       " array([-2.54883942e+02,  8.82500000e+01,  4.15099106e+01, ...,\n",
       "         2.08007812e-01,  0.00000000e+00,  0.00000000e+00]),\n",
       " array([-2.83187836e+02, -3.22401810e+01,  3.53688965e+01, ...,\n",
       "         4.68750000e-02,  1.59718946e-02,  1.86257064e+01]),\n",
       " array([-1.06442337e+02,  3.23160820e+01,  2.41070604e+00, ...,\n",
       "         3.47656250e-01,  6.79226988e-03,  2.24714324e+01]),\n",
       " array([-3.36970795e+02,  1.53432602e+02,  2.24107132e+01, ...,\n",
       "         5.02929688e-02,  1.75151035e-02,  1.79367647e+01]),\n",
       " array([-1.30683273e+02,  4.56077003e+01, -7.06269684e+01, ...,\n",
       "         3.95996094e-01,  9.44776485e-03,  1.52391359e+01]),\n",
       " array([-8.85285645e+01,  8.74639893e+01, -4.84108582e+01, ...,\n",
       "         2.05078125e-02,  1.06616106e-02,  1.20754339e+01]),\n",
       " array([-2.43319992e+02,  1.93272797e+02, -3.36522980e+01, ...,\n",
       "         2.53906250e-02,  1.80340737e-02,  1.28719106e+01]),\n",
       " array([-1.19888626e+02,  1.70374603e+02, -6.91157455e+01, ...,\n",
       "         1.78710938e-01,  1.80290985e-02,  1.57910243e+01]),\n",
       " array([-2.74253967e+02, -9.79515381e+01,  1.43569908e+01, ...,\n",
       "         1.25976562e-01,  7.06989173e-03,  2.51865268e+01]),\n",
       " array([-6.32470512e+01,  9.80043869e+01, -7.24776764e+01, ...,\n",
       "         1.99218750e-01,  1.21020782e-02,  2.18645617e+01]),\n",
       " array([-6.01803040e+02,  4.90758247e+01,  1.20929050e+01, ...,\n",
       "         3.06640625e-01,  1.11550201e-02,  2.07426459e+01]),\n",
       " array([-3.89444153e+02,  1.06119385e+01, -9.79657669e+01, ...,\n",
       "         1.13769531e-01,  0.00000000e+00,  0.00000000e+00]),\n",
       " array([-2.67868958e+02,  3.75346603e+01,  7.98055267e+01, ...,\n",
       "         3.95507812e-02,  2.29516931e-02,  1.27984941e+01]),\n",
       " array([-3.32809967e+02,  8.61774979e+01, -7.87521820e+01, ...,\n",
       "         7.42187500e-02,  9.81506758e-03,  2.04865709e+01]),\n",
       " array([-4.09874298e+02,  1.05922775e+02,  7.68548508e+01, ...,\n",
       "         3.17382812e-02,  2.16878622e-02,  2.81676590e+01]),\n",
       " array([-2.44185532e+02,  1.04823822e+02,  5.21455231e+01, ...,\n",
       "         1.02539062e-02,  2.64205608e-02,  2.03669235e+01]),\n",
       " array([-6.04001831e+02,  1.80249310e+00,  1.41591430e+00, ...,\n",
       "         1.91894531e-01,  8.11701337e-03,  2.81981826e+01]),\n",
       " array([-3.07246063e+02, -9.51047993e+00,  3.09646416e+00, ...,\n",
       "         2.66113281e-01,  1.11671481e-02,  1.71023250e+01]),\n",
       " array([-6.58682922e+02,  6.76863251e+01,  1.67602801e+00, ...,\n",
       "         1.70898438e-02,  1.44589939e-02,  1.81240007e+01]),\n",
       " array([-1.29326874e+02,  1.19795258e+02, -4.16221542e+01, ...,\n",
       "         4.88281250e-02,  1.11780949e-02,  1.58861995e+01]),\n",
       " array([-4.57922028e+02,  3.75099335e+01,  2.59590769e+00, ...,\n",
       "         1.72851562e-01,  2.20518762e-03,  1.37902275e+01]),\n",
       " array([-1.29140137e+02,  7.70455627e+01, -5.37110062e+01, ...,\n",
       "         7.22656250e-02,  8.15019459e-03,  1.93138883e+01]),\n",
       " array([-5.56916626e+02,  2.87901193e-01,  2.87836134e-01, ...,\n",
       "         1.13281250e-01,  1.06050503e-02,  2.55917132e+01]),\n",
       " array([-4.19753998e+02,  1.35682373e+02,  3.16837559e+01, ...,\n",
       "         1.46972656e-01,  0.00000000e+00,  0.00000000e+00]),\n",
       " array([-5.66750488e+02,  2.81302147e+01,  1.67582436e+01, ...,\n",
       "         1.42089844e-01,  8.02145672e-03,  1.57307714e+01]),\n",
       " array([-5.13953552e+02,  5.74499512e+01, -2.50757294e+01, ...,\n",
       "         1.36230469e-01,  8.60657315e-03,  2.35869870e+01]),\n",
       " array([-4.56058083e+01,  9.56239700e+01,  1.70337105e+01, ...,\n",
       "         1.56250000e-02,  2.04791556e-02,  1.92475080e+01]),\n",
       " array([-3.46889832e+02,  3.41277466e+01,  2.84999752e+00, ...,\n",
       "         1.07421875e-02,  1.90722773e-02,  1.76174641e+01]),\n",
       " array([-2.82547516e+02,  1.17331421e+02,  7.34671974e+00, ...,\n",
       "         1.97265625e-01,  7.71588973e-03,  8.45745727e+00]),\n",
       " array([-4.72513062e+02,  1.03196762e+02,  5.12754560e-01, ...,\n",
       "         8.34960938e-02,  2.57073101e-02,  1.58757627e+01]),\n",
       " array([-2.06346344e+02,  6.25025406e+01, -4.44432755e+01, ...,\n",
       "         3.21777344e-01,  6.24857702e-03,  1.89537987e+01]),\n",
       " array([-1.01767860e+02,  9.52222061e+01, -3.20771370e+01, ...,\n",
       "         1.05468750e-01,  1.91106284e-02,  1.62544176e+01]),\n",
       " array([-2.28021149e+02,  4.72461472e+01,  1.51702404e+01, ...,\n",
       "         2.26562500e-01,  1.00124334e-02,  1.67694643e+01]),\n",
       " array([-1.17687378e+02,  9.28326721e+01, -2.07141900e+00, ...,\n",
       "         1.60156250e-01,  1.12173079e-02,  1.83291584e+01]),\n",
       " array([-2.69773926e+02, -3.74347305e+01,  4.42763062e+01, ...,\n",
       "         1.40136719e-01,  7.00606214e-03,  2.06682235e+01]),\n",
       " array([-2.10380585e+02,  8.14429855e+01, -1.09992790e+01, ...,\n",
       "         3.12500000e-02,  2.87281105e-02,  1.59886986e+01]),\n",
       " array([-5.36855835e+02,  6.63564758e+01,  2.37414627e+01, ...,\n",
       "         7.81250000e-02,  1.68088718e-02,  1.49517655e+01]),\n",
       " array([-2.05738785e+02, -2.86796455e+01,  6.08694153e+01, ...,\n",
       "         2.44140625e-01,  4.05468280e-03,  1.99836358e+01]),\n",
       " array([-4.69139740e+02,  8.68608551e+01, -1.28258734e+01, ...,\n",
       "         4.63867188e-02,  1.20221780e-02,  1.81690842e+01]),\n",
       " array([-6.14070374e+02,  2.78685818e+01, -3.69191146e+00, ...,\n",
       "         2.47070312e-01,  6.34465814e-03,  2.13261709e+01]),\n",
       " array([-3.49271545e+02,  1.20669571e+02, -4.20253944e+00, ...,\n",
       "         2.11425781e-01,  2.24061108e-02,  2.26315737e+01]),\n",
       " array([-3.10524567e+02, -2.41884708e+00, -6.09381866e+00, ...,\n",
       "         1.36718750e-01,  2.33084456e-02,  1.32619530e+01]),\n",
       " array([-3.29986938e+02,  9.02828827e+01,  1.34001179e+01, ...,\n",
       "         9.13085938e-02,  1.56197590e-02,  4.48983341e+01]),\n",
       " array([-1.99639099e+02,  9.49307709e+01, -2.10306206e+01, ...,\n",
       "         1.74804688e-01,  7.12065213e-02,  2.04202920e+01]),\n",
       " array([-5.67721436e+02,  8.79744568e+01,  3.62933006e+01, ...,\n",
       "         3.02734375e-02,  3.22314071e-02,  1.79552764e+01]),\n",
       " array([-1.25957664e+02,  1.33027634e+02, -7.94349899e+01, ...,\n",
       "         1.55273438e-01,  6.92598846e-03,  2.09546730e+01]),\n",
       " array([-3.00548492e+02, -1.30407898e+02,  4.90680981e+00, ...,\n",
       "         2.89550781e-01,  0.00000000e+00,  0.00000000e+00]),\n",
       " array([-1.77820435e+02,  4.26208611e+01,  3.43837242e+01, ...,\n",
       "         2.58789062e-02,  1.84923376e-02,  2.24962115e+01]),\n",
       " array([ 2.61175957e+01,  6.58144073e+01, -1.56460629e+01, ...,\n",
       "         2.02636719e-01,  1.37444324e-02,  1.24998815e+01]),\n",
       " array([-5.57325195e+02,  5.20128632e+00,  4.69323349e+00, ...,\n",
       "         9.57031250e-02,  6.74064085e-03,  2.28683829e+01]),\n",
       " array([-2.23700287e+02,  5.05326614e+01,  5.94860382e+01, ...,\n",
       "         2.43164062e-01,  6.46265059e-03,  1.72284275e+01]),\n",
       " array([-4.34247284e+02,  1.01490646e+02,  4.47524910e+01, ...,\n",
       "         3.61328125e-02,  3.19199921e-02,  1.93530545e+01]),\n",
       " array([-5.12768616e+02,  4.47864532e+01,  3.73865623e+01, ...,\n",
       "         9.57031250e-02,  9.67142244e-03,  1.69139743e+01]),\n",
       " array([-3.52640320e+02,  9.65913696e+01,  6.02813482e-01, ...,\n",
       "         8.20312500e-02,  0.00000000e+00,  0.00000000e+00]),\n",
       " array([-2.37264496e+02,  1.60046265e+02,  3.34689941e+01, ...,\n",
       "         6.54296875e-02,  2.10725517e-02,  1.35039851e+01]),\n",
       " array([-1.77364105e+02,  4.80589447e+01, -6.24069214e+01, ...,\n",
       "         1.07421875e-02,  1.32561008e-02,  3.41614306e+01]),\n",
       " array([-5.71068665e+02,  5.44280090e+01, -3.45431137e+00, ...,\n",
       "         8.44726562e-02,  1.40931570e-02,  1.83786526e+01]),\n",
       " array([-8.77270126e+01,  8.94639740e+01, -9.24362488e+01, ...,\n",
       "         3.90625000e-02,  1.32722274e-02,  1.49417564e+01]),\n",
       " array([-4.84594574e+02,  5.54225540e+01,  2.30155430e+01, ...,\n",
       "         3.61328125e-02,  1.95879117e-02,  2.72946358e+01]),\n",
       " array([-5.37237732e+02,  1.29441208e+02, -2.19123535e+01, ...,\n",
       "         1.51367188e-01,  0.00000000e+00,  0.00000000e+00]),\n",
       " array([-1.62217407e+02,  6.12826462e+01, -7.06989136e+01, ...,\n",
       "         3.35449219e-01,  8.15290578e-03,  3.99855003e+00]),\n",
       " array([-2.58079468e+02,  9.79913025e+01, -8.42490387e+01, ...,\n",
       "         1.55273438e-01,  1.13647062e-02,  2.90065199e+01]),\n",
       " array([-2.20064240e+02,  1.38060730e+02,  5.11875916e+01, ...,\n",
       "         3.80859375e-02,  1.60260970e-02,  1.57309026e+01]),\n",
       " array([-3.66074921e+02,  1.35784500e+02,  4.22959900e+01, ...,\n",
       "         1.31835938e-02,  4.02586573e-02,  2.90369868e+01]),\n",
       " array([-5.46311218e+02, -8.87901211e+00, -1.01407928e+01, ...,\n",
       "         5.41992188e-02,  4.97184656e-03,  2.48488888e+01]),\n",
       " array([-4.46846069e+02, -2.06102333e+01, -4.94732742e+01, ...,\n",
       "         7.08007812e-02,  5.93801206e-03,  2.66161740e+01]),\n",
       " array([-5.17051697e+02,  6.19751816e+01,  3.12700806e+01, ...,\n",
       "         8.78906250e-02,  2.83888122e-02,  2.57570922e+01]),\n",
       " array([-5.33440002e+02,  8.24561214e+00, -6.82754803e+00, ...,\n",
       "         1.67968750e-01,  1.30613921e-02,  1.43648952e+01]),\n",
       " array([-1.84927277e+02, -3.46991272e+01,  7.83547897e+01, ...,\n",
       "         2.97851562e-02,  2.37557604e-02,  1.92040980e+01]),\n",
       " array([-2.98175446e+02,  9.58635864e+01, -3.47193680e+01, ...,\n",
       "         2.49023438e-02,  1.42095788e-02,  2.08730489e+01]),\n",
       " array([-2.37472519e+02,  6.33619270e+01,  1.33997326e+01, ...,\n",
       "         9.57031250e-02,  1.00610247e-02,  2.11308300e+01]),\n",
       " array([-2.91016968e+02, -1.16301010e+02,  7.29679585e+00, ...,\n",
       "         2.75878906e-01,  1.72469469e-02,  2.24710420e+01]),\n",
       " array([-1.96172043e+02,  8.70637970e+01, -2.46235919e+00, ...,\n",
       "         1.31835938e-02,  1.58887669e-02,  1.31643400e+01]),\n",
       " array([-1.41653229e+02,  1.26668373e+02,  1.22018623e+01, ...,\n",
       "         6.10351562e-02,  3.80030049e-02,  3.12383801e+01]),\n",
       " array([-3.19008087e+02, -1.03832016e+02,  1.47358923e+01, ...,\n",
       "         7.37304688e-02,  2.67285317e-02,  2.55893111e+01]),\n",
       " array([-2.12379929e+02,  1.15983490e+02,  2.96235542e+01, ...,\n",
       "         4.10156250e-02,  1.49479862e-02,  2.87032813e+01]),\n",
       " array([-4.05300323e+02,  1.02451874e+02,  1.15777359e+01, ...,\n",
       "         3.56445312e-02,  1.84530383e-02,  1.74228266e+01]),\n",
       " array([-4.96453735e+02,  1.87254353e+01,  3.26231079e+01, ...,\n",
       "         1.01562500e-01,  1.68266045e-02,  1.95762545e+01]),\n",
       " array([-4.58826324e+02,  6.30785065e+01,  2.02160950e+01, ...,\n",
       "         7.76367188e-02,  0.00000000e+00,  0.00000000e+00]),\n",
       " array([-8.36597977e+01,  7.47847595e+01, -6.79490204e+01, ...,\n",
       "         9.66796875e-02,  1.16412182e-02,  1.90917298e+01]),\n",
       " array([-4.76895477e+02,  9.53389053e+01, -4.55076218e+00, ...,\n",
       "         9.08203125e-02,  1.14216321e-02,  1.39340952e+01]),\n",
       " array([-2.76007812e+02,  5.82406502e+01, -4.94243851e+01, ...,\n",
       "         2.09960938e-02,  5.51087662e-02,  2.33732507e+01]),\n",
       " array([-4.49584686e+02,  6.27768707e+01,  4.61961708e+01, ...,\n",
       "         2.00195312e-02,  1.63123486e-02,  1.96634799e+01]),\n",
       " array([-4.15559204e+02,  1.35333282e+02,  1.51925449e+01, ...,\n",
       "         9.13085938e-02,  3.79943166e-02,  3.60946387e+01]),\n",
       " array([-4.04004395e+02,  1.38365707e+02, -4.23129883e+01, ...,\n",
       "         5.07812500e-02,  1.80552214e-02,  3.00563604e+01]),\n",
       " array([-2.45482269e+02,  4.35370941e+01, -2.17562008e+00, ...,\n",
       "         9.52148438e-02,  9.59145797e-03,  2.70906329e+01]),\n",
       " array([-6.31189209e+02,  5.21499138e+01, -4.45235443e+00, ...,\n",
       "         8.98437500e-02,  2.35496211e-02,  8.07309300e+00]),\n",
       " array([-5.68498413e+02,  0.00000000e+00,  0.00000000e+00, ...,\n",
       "         1.12304688e-01,  1.22528510e-02,  3.63149494e+01]),\n",
       " array([-2.88544159e+02, -6.11928291e+01,  2.55271397e+01, ...,\n",
       "         8.05664062e-02,  1.16772822e-02,  2.21960798e+01]),\n",
       " array([-6.01588806e+02,  6.75366211e+01,  2.84038696e+01, ...,\n",
       "         3.38378906e-01,  2.38248860e-02,  3.16389620e+01]),\n",
       " array([-4.21095551e+02,  1.00259285e+02,  3.26340828e+01, ...,\n",
       "         2.99316406e-01,  3.61447860e-02,  2.10784674e+01]),\n",
       " array([-4.41396454e+02,  3.59635544e+01, -2.15800400e+01, ...,\n",
       "         2.01660156e-01,  1.10544673e-02,  2.22163066e+01]),\n",
       " array([-3.48474579e+02,  7.70271988e+01,  1.96578026e+01, ...,\n",
       "         4.58984375e-02,  1.51534106e-02,  1.06840029e+01]),\n",
       " array([-1.74695450e+02,  1.47542511e+02, -1.63622379e+01, ...,\n",
       "         5.61523438e-02,  1.56006286e-02,  1.28838435e+01]),\n",
       " array([-5.55331787e+02, -1.00256710e+01,  2.60791016e+01, ...,\n",
       "         5.76171875e-02,  1.80227178e-02,  2.08489284e+01]),\n",
       " array([-6.64116028e+02,  1.04172397e+00,  1.04148865e+00, ...,\n",
       "         6.54296875e-02,  4.22053921e-02,  1.51978940e+01]),\n",
       " array([-6.37211609e+02,  0.00000000e+00,  0.00000000e+00, ...,\n",
       "         5.81054688e-02,  8.55138236e-03,  1.72274575e+01]),\n",
       " array([-3.55257324e+02,  6.50164871e+01,  2.27727203e+01, ...,\n",
       "         8.98437500e-02,  1.06400614e-02,  1.54003799e+01]),\n",
       " array([-2.39295929e+02,  1.05303741e+02, -4.73115768e+01, ...,\n",
       "         1.56738281e-01,  1.08930310e-02,  2.96454370e+01]),\n",
       " array([-4.48802094e+02,  8.30799255e+01, -1.72119484e+01, ...,\n",
       "         1.76269531e-01,  1.37937991e-02,  2.98716247e+01]),\n",
       " array([-5.49031189e+02,  4.25486412e+01, -3.25141144e+01, ...,\n",
       "         1.87011719e-01,  9.81407911e-03,  2.05479085e+01]),\n",
       " array([-2.60539062e+02,  1.22147141e+02,  2.33329511e+00, ...,\n",
       "         2.40234375e-01,  8.77582534e-03,  1.26506284e+01]),\n",
       " array([-3.30715790e+02,  1.57714935e+02,  1.61119576e+01, ...,\n",
       "         4.98046875e-02,  2.03276019e-02,  1.45796284e+01]),\n",
       " array([-3.43546539e+02,  1.71052795e+02,  4.63816719e+01, ...,\n",
       "         8.25195312e-02,  1.11647080e-02,  2.13941395e+01]),\n",
       " array([-3.88937408e+02,  5.82243729e+01,  5.13924255e+01, ...,\n",
       "         1.33789062e-01,  9.33923758e-03,  1.59834534e+01]),\n",
       " array([-4.44955872e+02,  1.19383118e+02,  6.56381073e+01, ...,\n",
       "         2.73437500e-01,  1.20278631e-02,  2.44360611e+01]),\n",
       " array([-2.94558441e+02,  1.17255165e+02, -3.11116581e+01, ...,\n",
       "         1.97753906e-01,  8.16246063e-03,  1.94921896e+01]),\n",
       " array([-1.75112869e+02,  9.05442963e+01, -1.67484589e+01, ...,\n",
       "         1.66992188e-01,  1.53617931e-02,  2.70532697e+01]),\n",
       " array([-6.07088562e+02,  1.10612778e+02,  4.19793015e+01, ...,\n",
       "         4.39453125e-02,  8.37925137e-02,  1.76689044e+01]),\n",
       " array([-3.98636963e+02,  1.05188225e+02, -6.22301221e-01, ...,\n",
       "         2.44628906e-01,  7.54609400e-03,  1.69549361e+01]),\n",
       " array([-1.44539856e+02,  1.29390808e+02, -6.58896942e+01, ...,\n",
       "         1.85058594e-01,  1.57531443e-02,  1.17516011e+01]),\n",
       " array([-3.44739441e+02,  1.23407303e+02,  2.91046886e+01, ...,\n",
       "         2.20214844e-01,  1.42852576e-02,  1.37011543e+01]),\n",
       " array([-1.87516479e+02,  1.67660416e+02,  2.86733360e+01, ...,\n",
       "         5.46875000e-02,  2.45509040e-02,  1.38875037e+01]),\n",
       " array([-7.02941528e+02,  3.46893387e+01,  5.46335125e+00, ...,\n",
       "         8.00781250e-02,  2.58828483e-02,  1.32339850e+01]),\n",
       " array([-2.65554962e+02,  1.03403946e+02, -3.77618332e+01, ...,\n",
       "         2.44628906e-01,  2.57646122e-02,  2.22953230e+01]),\n",
       " array([-1.76629044e+02,  9.80098190e+01,  8.09144115e+00, ...,\n",
       "         1.41601562e-01,  2.79095174e-02,  1.94595188e+01]),\n",
       " array([-5.89918335e+02,  5.61010971e+01,  2.37069931e+01, ...,\n",
       "         9.27734375e-02,  4.36600729e-02,  2.52182007e+01]),\n",
       " array([-3.92343842e+02,  6.97865219e+01, -3.40845261e+01, ...,\n",
       "         6.64062500e-02,  3.26041796e-02,  2.26677150e+01]),\n",
       " array([-2.57890533e+02,  8.86507111e+01,  5.11431813e-01, ...,\n",
       "         2.49023438e-01,  3.66809751e-02,  1.50692731e+01]),\n",
       " array([-3.87587646e+02,  1.25324265e+02,  4.28984299e+01, ...,\n",
       "         5.76171875e-02,  0.00000000e+00,  0.00000000e+00]),\n",
       " array([-4.74770935e+02,  1.13618820e+02,  5.63336411e+01, ...,\n",
       "         9.22851562e-02,  1.14312949e-02,  2.07464114e+01]),\n",
       " array([-6.33789673e+02, -2.75283051e+01,  2.20842743e+01, ...,\n",
       "         7.22656250e-02,  0.00000000e+00,  0.00000000e+00]),\n",
       " array([-6.56363403e+02,  2.52117424e+01,  1.40375681e+01, ...,\n",
       "         1.12792969e-01,  8.78080948e-03,  3.55870932e+01]),\n",
       " array([-2.77974609e+02,  1.01682533e+02, -3.12669296e+01, ...,\n",
       "         7.76367188e-02,  7.25658932e-03,  2.60886043e+01]),\n",
       " array([-5.36257812e+02,  5.95156250e+01,  3.60448952e+01, ...,\n",
       "         6.93359375e-02,  1.92294311e-02,  1.68980181e+01]),\n",
       " array([-5.19868469e+02,  5.03545284e+00, -1.01037331e+01, ...,\n",
       "         1.13769531e-01,  4.83391386e-03,  1.66375145e+01]),\n",
       " array([-3.31552032e+02,  4.19632149e+01, -7.42819290e+01, ...,\n",
       "         1.64062500e-01,  1.22921613e-02,  2.42207348e+01]),\n",
       " array([-1.82565475e+02,  1.05707520e+02, -1.56272354e+01, ...,\n",
       "         5.12695312e-02,  3.22809753e-02,  1.56895235e+01]),\n",
       " array([-5.11953857e+02,  0.00000000e+00,  0.00000000e+00, ...,\n",
       "         1.58691406e-01,  1.48260634e-02,  2.38334507e+01]),\n",
       " array([-1.93609924e+02,  1.24027237e+02,  1.30748882e+01, ...,\n",
       "         9.57031250e-02,  6.70949040e-03,  1.21530831e+01]),\n",
       " array([-3.94920807e+02,  6.60671463e+01,  9.29279022e+01, ...,\n",
       "         1.61132812e-02,  3.90587170e-02,  1.55280009e+01]),\n",
       " array([-1.27821053e+02,  1.21399780e+02, -8.94759216e+01, ...,\n",
       "         1.46484375e-02,  2.76399293e-02,  1.62938118e+01]),\n",
       " array([-2.98542633e+02,  1.79846832e+02,  1.38658504e+01, ...,\n",
       "         1.41113281e-01,  8.36006876e-03,  1.48074880e+01]),\n",
       " array([-2.68192047e+02,  1.17626282e+02,  2.64528584e+00, ...,\n",
       "         3.90625000e-02,  1.64483181e-02,  2.18709067e+01]),\n",
       " array([-1.26539871e+02,  1.32480515e+02, -3.55162621e+01, ...,\n",
       "         6.68945312e-02,  1.69327306e-02,  1.47285998e+01]),\n",
       " array([-5.30993286e+02,  3.54783936e+01, -7.22831631e+00, ...,\n",
       "         9.57031250e-02,  8.48486456e-03,  1.40224665e+01]),\n",
       " array([-5.16664856e+02,  6.19390011e+00, -7.32790222e+01, ...,\n",
       "         1.35253906e-01,  8.02750184e-03,  1.81668907e+01]),\n",
       " array([-1.58171082e+02,  1.57871979e+02,  2.72121220e+01, ...,\n",
       "         4.63867188e-02,  1.52782343e-02,  2.89715916e+01]),\n",
       " array([-2.82277374e+02,  5.16722755e+01, -3.50455246e+01, ...,\n",
       "         1.90917969e-01,  0.00000000e+00,  0.00000000e+00]),\n",
       " array([-5.57086975e+02,  9.48009796e+01, -4.02729034e-01, ...,\n",
       "         9.91210938e-02,  5.83640495e-03,  2.54017979e+01]),\n",
       " array([-3.38016846e+02,  3.06700935e+01,  1.45880547e+01, ...,\n",
       "         5.95703125e-02,  1.64018270e-02,  1.59980819e+01]),\n",
       " array([-4.45112091e+02,  2.49383774e+01,  4.93490067e+01, ...,\n",
       "         1.41601562e-02,  1.56575945e-02,  2.26905167e+01]),\n",
       " array([-1.88359924e+02,  1.03123093e+02,  6.33499193e+00, ...,\n",
       "         7.81250000e-02,  5.09711778e-03,  1.71481535e+01]),\n",
       " array([-4.76530487e+02,  1.53193451e+02,  7.49817228e+00, ...,\n",
       "         1.21582031e-01,  0.00000000e+00,  0.00000000e+00]),\n",
       " array([-3.68731415e+02,  6.16589890e+01, -5.74002218e+00, ...,\n",
       "         4.88281250e-02,  0.00000000e+00,  0.00000000e+00]),\n",
       " array([-5.25566406e+02,  7.66244221e+00, -1.30801849e+01, ...,\n",
       "         6.88476562e-02,  7.24305460e-03,  1.57175764e+01]),\n",
       " array([-1.73210556e+02,  9.51173401e+01,  3.62475471e+01, ...,\n",
       "         5.76171875e-02,  1.71359414e-02,  2.55794704e+01]),\n",
       " array([-1.52076767e+02,  9.37372742e+01, -2.29769688e+01, ...,\n",
       "         5.22460938e-02,  2.73482022e-02,  2.13199183e+01]),\n",
       " array([-2.60136688e+02,  1.28582672e+02,  2.09518051e+01, ...,\n",
       "         1.57226562e-01,  1.20387006e-02,  1.76464528e+01]),\n",
       " array([-5.52940125e+02,  5.30808563e+01,  4.18820953e+01, ...,\n",
       "         2.58789062e-02,  1.01549162e-02,  1.67367280e+01]),\n",
       " array([-2.95160461e+02,  1.05059372e+02,  3.54963989e+01, ...,\n",
       "         1.05957031e-01,  1.32694109e-02,  1.39635935e+01]),\n",
       " array([-6.08527100e+02, -2.65447164e+00,  2.55430584e+01, ...,\n",
       "         2.29492188e-02,  2.13084806e-02,  1.76104665e+01]),\n",
       " array([-2.11503174e+02,  1.15452415e+02, -2.37497115e+00, ...,\n",
       "         1.70410156e-01,  1.48340293e-02,  2.08575845e+01]),\n",
       " array([-4.84018219e+02,  6.16436157e+01,  1.98345585e+01, ...,\n",
       "         9.81445312e-02,  1.23703404e-02,  3.76125462e+00]),\n",
       " array([-4.26998230e+02,  1.44751556e+02,  5.51192093e+01, ...,\n",
       "         2.21679688e-01,  1.76244262e-02,  1.87623248e+01]),\n",
       " array([-2.84735535e+02,  1.10917274e+02, -6.63786011e+01, ...,\n",
       "         2.19726562e-02,  2.06166119e-02,  1.13568999e+01]),\n",
       " array([-1.51791046e+02,  1.52096772e+00, -4.46786346e+01, ...,\n",
       "         4.44335938e-02,  2.26169630e-02,  1.68551147e+01]),\n",
       " array([-5.14792725e+02,  5.44702649e-01,  5.44497132e-01, ...,\n",
       "         1.87988281e-01,  9.50353398e-03,  2.68260121e+01]),\n",
       " array([-5.70416321e+02,  8.50623322e+01,  2.81316414e+01, ...,\n",
       "         9.57031250e-02,  9.67797224e-03,  1.79440975e+01]),\n",
       " array([-3.33598663e+02, -5.39742889e+01, -2.28192348e+01, ...,\n",
       "         1.08886719e-01,  1.37916110e-02,  2.82664418e+01]),\n",
       " array([-2.44365311e+02,  1.03524323e+02, -7.02846680e+01, ...,\n",
       "         8.49609375e-02,  3.69102427e-02,  2.32726812e+01]),\n",
       " array([-2.11946152e+02,  1.18477943e+02,  2.08483963e+01, ...,\n",
       "         2.19726562e-02,  1.60554684e-02,  1.38382748e+01]),\n",
       " array([-4.04912567e+02,  8.03291168e+01, -4.32645416e+00, ...,\n",
       "         5.51757812e-02,  2.26884714e-02,  2.70266175e+01]),\n",
       " array([-1.38859726e+02,  7.68409576e+01, -4.73808174e+01, ...,\n",
       "         2.78320312e-02,  1.68048410e-02,  1.54960141e+01]),\n",
       " array([-5.56184204e+02,  0.00000000e+00,  0.00000000e+00, ...,\n",
       "         6.00585938e-02,  2.70405073e-02,  1.97345361e+01]),\n",
       " array([-1.67306976e+02,  1.05007675e+02,  1.75757866e+01, ...,\n",
       "         6.29882812e-02,  1.18278942e-02,  1.70758188e+01]),\n",
       " array([-4.18046326e+02,  1.20141418e+02,  2.25018787e+00, ...,\n",
       "         2.68554688e-02,  3.80717775e-02,  2.19194084e+01]),\n",
       " array([-6.31618347e+02,  6.58370399e+00,  7.08500290e+00, ...,\n",
       "         4.70214844e-01,  2.61993778e-02,  2.71790206e+01]),\n",
       " array([-5.74803284e+02,  0.00000000e+00,  0.00000000e+00, ...,\n",
       "         4.68750000e-02,  2.21321696e-02,  1.41502604e+01]),\n",
       " array([-1.29770920e+02,  1.71538681e+02, -5.14566879e+01, ...,\n",
       "         7.61718750e-02,  1.76838822e-02,  1.68187901e+01]),\n",
       " array([-5.04580322e+02,  7.61353607e+01,  5.22285690e+01, ...,\n",
       "         5.71289062e-02,  1.51855392e-02,  1.96674109e+01]),\n",
       " array([-5.72116028e+02,  3.97278500e+00,  2.22968864e+00, ...,\n",
       "         2.90039062e-01,  1.46622825e-02,  2.88537711e+01]),\n",
       " array([-5.23001099e+02,  1.24536766e+02,  1.49612331e+01, ...,\n",
       "         1.45507812e-01,  4.89294473e-03,  8.97002369e+00]),\n",
       " array([-5.23658203e+02,  2.01942101e+01, -4.25914764e+00, ...,\n",
       "         1.85546875e-01,  7.15022488e-03,  3.57228935e+01]),\n",
       " array([-3.13219971e+02,  1.22974068e+02,  1.64932365e+01, ...,\n",
       "         6.10351562e-02,  1.28789165e-02,  1.46423131e+01]),\n",
       " array([-1.64797455e+02,  1.83330200e+02,  4.74828720e+00, ...,\n",
       "         7.81250000e-02,  2.31211084e-02,  2.01240316e+01]),\n",
       " array([-5.14353271e+02,  2.38119965e+01,  2.25031471e+01, ...,\n",
       "         8.00781250e-02,  1.64914930e-02,  2.29598925e+01]),\n",
       " array([-5.33955872e+02,  3.18495598e+01, -4.58919764e+00, ...,\n",
       "         1.29394531e-01,  8.69636614e-03,  2.28884012e+01]),\n",
       " array([-2.52496552e+02,  1.52294128e+02,  1.19809484e+01, ...,\n",
       "         6.39648438e-02,  7.71201437e-03,  1.34474516e+01]),\n",
       " array([-5.01778564e+02,  5.37817345e+01,  2.43073311e+01, ...,\n",
       "         2.60742188e-01,  1.02033983e-02,  1.80518270e+01]),\n",
       " array([-3.57092041e+02,  1.92753906e+02,  5.30796127e+01, ...,\n",
       "         2.97851562e-02,  1.15914070e-02,  1.72747314e+01]),\n",
       " array([-2.33357880e+02,  1.71649323e+02,  5.27093649e+00, ...,\n",
       "         3.32031250e-02,  1.27723984e-02,  1.78806692e+01]),\n",
       " array([-4.55826477e+02,  8.98579102e+01,  1.51962280e+01, ...,\n",
       "         3.93066406e-01,  1.06680013e-02,  2.10411817e+01]),\n",
       " array([-1.84324554e+02,  1.07179810e+02, -8.89647141e+01, ...,\n",
       "         1.51367188e-02,  1.83140530e-02,  2.14314193e+01]),\n",
       " array([-5.29420471e+02,  2.63649654e+00,  3.65892372e+01, ...,\n",
       "         2.92480469e-01,  1.64022833e-02,  2.89506018e+01]),\n",
       " array([-6.04681091e+02,  8.13158569e+01,  3.89078636e+01, ...,\n",
       "         7.76367188e-02,  2.99872306e-02,  3.62442613e+01]),\n",
       " array([-5.27318115e+02,  4.45768309e+00,  3.61027074e+00, ...,\n",
       "         1.42089844e-01,  8.46249679e-03,  1.88296482e+01]),\n",
       " array([-1.80171371e+02,  1.10642120e+02, -4.66008139e+00, ...,\n",
       "         3.39843750e-01,  1.16127197e-02,  3.49303484e+01]),\n",
       " array([-1.72186005e+02,  1.32307022e+02,  2.85662308e+01, ...,\n",
       "         9.81445312e-02,  3.39100538e-02,  2.49845549e+01]),\n",
       " array([-2.88726654e+02,  1.24947334e+02,  3.81882286e+01, ...,\n",
       "         3.46679688e-02,  1.38696369e-02,  1.73599184e+01]),\n",
       " array([-5.81914062e+02,  3.30376282e+01,  1.97298775e+01, ...,\n",
       "         1.75781250e-01,  1.16267823e-02,  2.23798946e+01]),\n",
       " array([-2.61989136e+02,  1.65171570e+02, -2.38282657e+00, ...,\n",
       "         1.24023438e-01,  1.14070031e-02,  3.00611168e+01]),\n",
       " array([-2.34658585e+02,  1.69381042e+02, -2.54950180e+01, ...,\n",
       "         9.61914062e-02,  1.37635161e-02,  1.74461067e+01]),\n",
       " array([-1.09541145e+02,  1.22493881e+02, -7.90183182e+01, ...,\n",
       "         1.87500000e-01,  1.55056583e-02,  2.01958016e+01]),\n",
       " array([-3.25865448e+02,  1.05654495e+02,  3.28478851e+01, ...,\n",
       "         2.47070312e-01,  1.20771134e-02,  1.34978011e+01]),\n",
       " array([-2.04634033e+02,  1.26803230e+02, -4.93091702e-01, ...,\n",
       "         5.37109375e-02,  8.58176799e-04,  3.59121948e+01]),\n",
       " array([-6.37477539e+02,  6.73903847e+00, -2.15575933e+00, ...,\n",
       "         1.56738281e-01,  1.44672339e-02,  2.36139715e+01]),\n",
       " array([-5.80691406e+02,  0.00000000e+00,  0.00000000e+00, ...,\n",
       "         9.13085938e-02,  1.59693158e-02,  1.24606550e+01]),\n",
       " array([-3.09629791e+02,  1.40336975e+02,  2.13860893e+00, ...,\n",
       "         3.07617188e-02,  2.00544940e-02,  2.20339403e+01]),\n",
       " array([-2.94743683e+02,  1.94088150e+02,  2.22730179e+01, ...,\n",
       "         5.56640625e-02,  2.14230716e-02,  1.02285989e+01]),\n",
       " array([-1.02821617e+02,  1.03046783e+02, -5.26210899e+01, ...,\n",
       "         1.00097656e-01,  1.34594726e-02,  1.88335419e+01]),\n",
       " array([-6.23290161e+02,  9.80749664e+01,  6.03798103e+00, ...,\n",
       "         1.16210938e-01,  2.16245384e-02,  1.82602957e+01]),\n",
       " array([-2.81961792e+02,  2.00612366e+02,  3.06067920e+00, ...,\n",
       "         2.78320312e-02,  4.98531263e-02,  2.25354284e+01]),\n",
       " array([-6.32027222e+02,  6.54496479e+00,  5.53245449e+00, ...,\n",
       "         1.25000000e-01,  2.53514570e-02,  2.29057863e+01]),\n",
       " array([-5.52966797e+02,  5.96893616e+01, -1.97520185e+00, ...,\n",
       "         4.83398438e-02,  1.04738704e-02,  2.02282190e+01]),\n",
       " array([-5.24657471e+02,  1.59036045e+01,  1.16581745e+01, ...,\n",
       "         2.48046875e-01,  7.75500345e-03,  1.73934609e+01]),\n",
       " array([-2.20957703e+02,  1.47741913e+02,  1.19178314e+01, ...,\n",
       "         1.06445312e-01,  1.60952964e-02,  1.10433608e+01]),\n",
       " array([-1.09775497e+02,  1.18546921e+02,  4.33788776e+00, ...,\n",
       "         4.54101562e-02,  3.33648586e-02,  2.14014515e+01]),\n",
       " array([-2.54250092e+02,  1.08209259e+02,  1.56029358e+01, ...,\n",
       "         1.23046875e-01,  6.87494055e-03,  2.46119946e+01]),\n",
       " array([-216.04872131,   97.80172729,   -6.71420002, ...,    0.30029297,\n",
       "           0.        ,    0.        ]),\n",
       " array([-4.23915955e+02,  1.20991455e+02,  3.42623177e+01, ...,\n",
       "         4.15039062e-02,  1.23313521e-02,  2.30850056e+01]),\n",
       " array([-3.62973053e+02, -4.43567200e+01,  4.36433411e+00, ...,\n",
       "         1.44531250e-01,  8.00077517e-03,  1.88121989e+01]),\n",
       " array([-2.35643631e+02,  1.43704376e+02, -8.67563438e+00, ...,\n",
       "         1.44531250e-01,  2.17784548e-02,  2.10744649e+01]),\n",
       " array([-5.45259460e+02,  1.29455624e+01,  9.74765015e+00, ...,\n",
       "         5.12695312e-02,  1.25980250e-02,  2.39863589e+01]),\n",
       " array([-2.06179535e+02,  1.59181686e+02,  3.09514275e+01, ...,\n",
       "         1.60156250e-01,  3.18878793e-02,  2.23851189e+01]),\n",
       " array([-1.68013626e+02,  1.44783966e+02, -3.94226685e+01, ...,\n",
       "         5.27343750e-02,  1.65857826e-02,  2.30760083e+01]),\n",
       " array([-5.46378296e+02,  5.89223289e+00,  5.78289318e+00, ...,\n",
       "         1.28417969e-01,  8.14917556e-03,  1.41199440e+01]),\n",
       " array([-2.26764496e+02,  1.01038841e+02,  1.76262455e+01, ...,\n",
       "         2.88085938e-02,  2.11442148e-02,  1.31981313e+01]),\n",
       " array([-4.72287384e+02,  8.67217255e+00,  6.67230377e+01, ...,\n",
       "         3.56445312e-02,  1.46535526e-02,  1.34233698e+01]),\n",
       " array([-2.49991608e+02,  1.18293388e+02, -1.09140339e+01, ...,\n",
       "         1.13769531e-01,  8.25833090e-03,  2.55028874e+01]),\n",
       " array([-3.19183167e+02,  1.46004486e+02,  2.79791069e+00, ...,\n",
       "         9.57031250e-02,  1.95722037e-02,  2.68377304e+01]),\n",
       " array([-4.86511475e+02,  9.99396820e+01,  2.61417294e+01, ...,\n",
       "         2.00195312e-02,  2.39029694e-02,  1.79708719e+01]),\n",
       " array([-5.68500061e+02,  8.36741567e-01,  8.26169610e-01, ...,\n",
       "         2.97851562e-01,  7.33126043e-03,  2.13432550e+01]),\n",
       " array([-2.86034882e+02,  2.72387276e+01, -3.13233147e+01, ...,\n",
       "         1.07421875e-01,  2.86936080e-02,  2.65609533e+01]),\n",
       " array([-1.18568665e+02,  1.39791397e+02, -1.09191696e+02, ...,\n",
       "         1.49414062e-01,  9.11367414e-03,  1.81815103e+01]),\n",
       " array([-3.29142761e+02,  1.01898788e+02,  2.09752293e+01, ...,\n",
       "         2.00195312e-02,  2.50004711e-02,  1.77880257e+01]),\n",
       " array([-4.95110809e+02,  4.29115438e+00, -2.12772484e+01, ...,\n",
       "         2.09960938e-02,  1.73651649e-02,  1.51681766e+01]),\n",
       " array([-4.72185059e+02,  5.29015045e+01,  4.54844818e+01, ...,\n",
       "         4.10156250e-02,  1.26555729e-02,  2.10220918e+01]),\n",
       " array([-3.97775696e+02,  8.06552200e+01, -2.76054878e+01, ...,\n",
       "         1.54296875e-01,  8.27849121e-03,  2.23495543e+01]),\n",
       " array([-1.55222229e+02, -1.06140617e+02,  2.71404819e+01, ...,\n",
       "         1.29394531e-01,  1.17336195e-02,  2.16866031e+01]),\n",
       " array([-5.49731445e+02,  7.30768509e+01,  1.93034706e+01, ...,\n",
       "         3.85742188e-02,  3.31786442e-02,  2.23338619e+01]),\n",
       " array([-4.11481598e+02,  8.59926300e+01, -7.27805786e+01, ...,\n",
       "         1.65039062e-01,  0.00000000e+00,  0.00000000e+00]),\n",
       " array([-3.01959442e+02,  1.38129089e+02, -2.00840950e+01, ...,\n",
       "         1.36230469e-01,  1.79135088e-02,  2.05350041e+01]),\n",
       " array([-4.37638580e+02,  8.71645584e+01,  3.09624367e+01, ...,\n",
       "         2.22656250e-01,  2.99168288e-02,  2.39107400e+01]),\n",
       " array([-3.11257782e+02,  1.10977692e+02, -4.91611576e+00, ...,\n",
       "         3.36914062e-02,  2.18015466e-02,  1.94753662e+01]),\n",
       " array([-1.93942474e+02,  8.51477127e+01,  2.68319931e+01, ...,\n",
       "         8.83789062e-02,  1.26282645e-02,  1.84551299e+01]),\n",
       " array([-5.98378235e+02,  5.92908325e+01,  1.63360443e+01, ...,\n",
       "         2.53906250e-02,  3.18752958e-02,  4.13856059e+01]),\n",
       " array([-1.58971924e+02,  1.14885239e+02, -4.01281586e+01, ...,\n",
       "         6.88476562e-02,  1.53872299e-02,  1.61937281e+01]),\n",
       " array([-5.37132263e+02,  1.10918335e+02,  4.89000854e+01, ...,\n",
       "         8.59375000e-02,  8.20365775e-03,  1.53061718e+01]),\n",
       " array([-3.01627991e+02,  1.31306046e+02,  3.34953041e+01, ...,\n",
       "         4.10156250e-02,  1.05641305e-02,  1.82792112e+01]),\n",
       " array([-4.53357117e+02,  7.09789124e+01,  1.72986374e+01, ...,\n",
       "         3.12500000e-02,  1.19016544e-02,  1.48027956e+01]),\n",
       " array([-3.05522461e+02,  1.11311340e+02, -3.63756447e+01, ...,\n",
       "         8.20312500e-02,  1.63029478e-02,  2.39543244e+01]),\n",
       " array([-1.09336327e+02,  1.44881409e+02, -6.07255402e+01, ...,\n",
       "         1.04003906e-01,  4.46376167e-02,  1.71877056e+01]),\n",
       " array([-1.46764603e+02,  9.39389114e+01,  7.58354759e+00, ...,\n",
       "         1.61621094e-01,  5.66986931e-03,  2.34542966e+01]),\n",
       " array([-1.41431503e+02,  1.22178482e+02, -8.58712387e+00, ...,\n",
       "         2.62207031e-01,  1.11917799e-02,  1.41760111e+01]),\n",
       " array([-4.94436371e+02,  6.92143021e+01,  4.02864761e+01, ...,\n",
       "         2.49023438e-02,  8.56452886e-03,  1.85649320e+01]),\n",
       " array([-1.23520126e+02,  1.05684036e+02, -1.60954380e+01, ...,\n",
       "         1.61132812e-02,  2.18069465e-02,  1.92540824e+01]),\n",
       " array([-2.24045547e+02,  5.95220108e+01, -6.48974991e+01, ...,\n",
       "         1.10839844e-01,  1.43384627e-02,  1.53826758e+01]),\n",
       " array([-6.18524231e+02,  0.00000000e+00,  0.00000000e+00, ...,\n",
       "         3.50585938e-01,  0.00000000e+00,  0.00000000e+00]),\n",
       " array([-2.64508698e+02,  1.75688980e+02, -3.78112488e+01, ...,\n",
       "         2.09472656e-01,  9.16911328e-03,  1.81514904e+01]),\n",
       " array([-2.80414429e+02,  7.12162781e+01,  1.84263349e+00, ...,\n",
       "         1.71386719e-01,  2.82342721e-02,  2.33196259e+01]),\n",
       " array([-3.80979919e+02,  1.52586914e+02, -4.21912308e+01, ...,\n",
       "         1.13769531e-01,  1.10970799e-02,  2.78396696e+01]),\n",
       " array([-3.88429047e+02,  1.08241730e+02,  2.50067139e+01, ...,\n",
       "         2.03613281e-01,  1.91733499e-02,  1.80133060e+01]),\n",
       " array([-1.85076202e+02,  1.43948135e+02, -1.16113274e+02, ...,\n",
       "         8.78906250e-02,  2.10144452e-02,  2.07456455e+01]),\n",
       " array([-4.91926422e+02,  1.03296005e+02,  2.34149170e+01, ...,\n",
       "         9.81445312e-02,  1.10032296e-02,  1.92530185e+01]),\n",
       " array([-6.51640564e+02,  2.15757484e+01,  1.09820385e+01, ...,\n",
       "         1.36230469e-01,  1.83019970e-02,  3.39923799e+01]),\n",
       " array([-2.17499466e+02,  1.19149307e+02,  2.33731308e+01, ...,\n",
       "         7.81250000e-02,  6.50882136e-03,  1.49426326e+01]),\n",
       " array([-3.15401672e+02,  1.65058334e+02, -3.10711575e+00, ...,\n",
       "         7.86132812e-02,  3.28980141e-02,  2.73268521e+01]),\n",
       " array([-5.14301086e+02,  2.65925312e+00, -6.87234211e+00, ...,\n",
       "         1.17187500e-01,  1.93698573e-02,  1.56370312e+01]),\n",
       " array([-5.04532257e+02,  5.97278519e+01,  3.57996864e+01, ...,\n",
       "         2.70019531e-01,  1.15365323e-02,  1.91814333e+01]),\n",
       " array([-2.10421555e+02,  4.97920341e+01,  2.93444061e+00, ...,\n",
       "         1.61132812e-02,  1.00909671e-02,  2.30461165e+01]),\n",
       " array([-3.74072815e+02,  1.13060730e+02, -2.73840256e+01, ...,\n",
       "         3.02734375e-02,  3.01751051e-02,  3.45307827e+01]),\n",
       " array([-3.14016510e+02,  3.20872803e+01, -8.49425354e+01, ...,\n",
       "         1.35742188e-01,  1.26156375e-02,  2.52024949e+01]),\n",
       " array([-1.11788704e+02,  1.69895355e+02, -4.67263565e+01, ...,\n",
       "         4.15039062e-02,  1.89201343e-02,  1.40110597e+01]),\n",
       " array([-3.64317200e+02,  2.28562851e+01,  7.36504459e+00, ...,\n",
       "         5.12695312e-02,  1.81862592e-02,  2.94733316e+01]),\n",
       " array([-5.40858459e+02,  4.99582748e+01,  2.14661560e+01, ...,\n",
       "         1.14257812e-01,  1.52581376e-02,  2.08501980e+01]),\n",
       " array([-5.95035706e+02,  0.00000000e+00,  0.00000000e+00, ...,\n",
       "         1.51855469e-01,  2.35210513e-03,  5.99718690e+01]),\n",
       " array([-2.61655426e+02,  1.71738770e+02, -2.33143291e+01, ...,\n",
       "         1.05468750e-01,  7.16523756e-03,  1.90526769e+01]),\n",
       " array([-1.74561813e+02,  1.39248642e+02,  4.75311905e-01, ...,\n",
       "         1.41601562e-02,  2.29043618e-02,  1.22996956e+01]),\n",
       " array([-4.24367218e+02,  5.08422852e+01,  2.15074654e+01, ...,\n",
       "         3.12500000e-02,  7.00070901e-03,  1.52053654e+01]),\n",
       " array([-2.35734314e+02,  1.28953583e+02,  1.45178261e+01, ...,\n",
       "         1.00585938e-01,  5.44798099e-03,  1.21539973e+01]),\n",
       " array([-3.08829193e+02,  1.18285156e+02,  2.86615257e+01, ...,\n",
       "         5.66406250e-02,  1.84571958e-02,  1.50327355e+01]),\n",
       " array([-6.99176270e+02,  2.89431076e+01,  1.98966770e+01, ...,\n",
       "         1.03027344e-01,  0.00000000e+00,  0.00000000e+00]),\n",
       " array([-2.51906570e+02,  1.06804626e+02, -1.81023636e+01, ...,\n",
       "         6.54296875e-02,  2.24269733e-02,  1.82587489e+01]),\n",
       " array([-2.39058044e+02,  1.00034042e+02, -6.30144167e+00, ...,\n",
       "         4.00390625e-02,  3.33474143e-02,  2.37903163e+01]),\n",
       " array([-4.64878937e+02,  1.24742981e+02,  1.70455360e+01, ...,\n",
       "         1.21582031e-01,  3.47962296e-02,  2.30261877e+01]),\n",
       " array([-6.39986755e+02,  5.10593910e+01,  3.15645599e+00, ...,\n",
       "         3.61328125e-01,  4.28831262e-02,  1.95338149e+00]),\n",
       " array([-5.13199646e+02,  1.41340184e+00, -2.01234698e+00, ...,\n",
       "         4.83398438e-02,  7.19575674e-03,  2.61542052e+01]),\n",
       " array([-1.59492371e+02,  1.59116455e+02,  2.36252155e+01, ...,\n",
       "         2.80761719e-01,  2.52791951e-02,  2.15762973e+01]),\n",
       " array([-1.90823700e+02,  1.23537567e+02, -1.51003227e+01, ...,\n",
       "         9.13085938e-02,  1.72176239e-02,  3.03188592e+01]),\n",
       " array([-4.52588379e+02,  3.86602211e+01,  3.34905434e+01, ...,\n",
       "         3.56445312e-02,  2.41960411e-02,  2.20641300e+01]),\n",
       " array([-4.09043396e+02,  7.61209564e+01,  3.87791061e+00, ...,\n",
       "         4.49218750e-02,  6.40366592e-03,  1.87211990e+01]),\n",
       " array([-5.44531677e+02,  4.31433983e+01,  2.74879532e+01, ...,\n",
       "         2.04101562e-01,  1.52504366e-02,  3.36286038e+01]),\n",
       " array([-1.85880386e+02, -5.54428749e+01,  1.01688929e+01, ...,\n",
       "         2.29492188e-02,  1.25276972e-02,  1.54696509e+01]),\n",
       " array([-4.45687103e+02,  3.13012238e+01, -8.55339279e+01, ...,\n",
       "         1.15722656e-01,  3.67358894e-02,  3.14822435e+01]),\n",
       " array([-1.52931015e+02,  7.15571899e+01,  1.57454815e+01, ...,\n",
       "         2.50000000e-01,  1.04591623e-02,  1.88706130e+01]),\n",
       " array([-2.82524933e+02,  7.59083252e+01, -4.66275215e+00, ...,\n",
       "         1.46972656e-01,  1.15574979e-02,  2.07437441e+01]),\n",
       " array([-1.26667664e+02,  7.64427032e+01, -8.48436279e+01, ...,\n",
       "         1.28906250e-01,  6.18375045e-03,  1.90942019e+01]),\n",
       " array([-2.80621490e+02, -3.03550625e+01,  1.21556091e+01, ...,\n",
       "         1.21093750e-01,  8.67469167e-03,  1.53170779e+01]),\n",
       " array([-5.41570435e+02,  3.24643631e+01,  2.83237228e+01, ...,\n",
       "         4.93164062e-01,  9.27418900e-03,  3.32131028e+01]),\n",
       " array([-5.72397156e+02,  2.52325630e+01,  1.74253769e+01, ...,\n",
       "         6.59179688e-02,  1.05025276e-02,  1.55906841e+01]),\n",
       " array([-5.68859558e+02,  8.96893234e+01,  4.15424881e+01, ...,\n",
       "         3.90625000e-02,  2.06709706e-02,  1.93698853e+01]),\n",
       " array([-2.59547729e+02,  1.07194702e+02,  3.17073040e+01, ...,\n",
       "         6.88476562e-02,  2.47047356e-02,  1.70946911e+01]),\n",
       " array([-3.91998962e+02, -4.48502007e+01,  3.65610809e+01, ...,\n",
       "         3.66210938e-02,  1.91309200e-02,  2.28187561e+01]),\n",
       " array([-3.93802185e+02,  3.17372932e+01, -1.10119629e+02, ...,\n",
       "         1.38183594e-01,  0.00000000e+00,  1.37198746e+01]),\n",
       " array([-4.28126953e+02, -8.24294376e+00,  1.58270435e+01, ...,\n",
       "         3.66210938e-02,  6.60639712e-03,  1.62660003e+01]),\n",
       " array([-3.74736023e+02,  1.12383629e+02,  3.81930885e+01, ...,\n",
       "         2.33886719e-01,  3.04409063e-02,  2.45375052e+01]),\n",
       " array([-2.18035583e+02,  1.08892639e+02, -1.39141493e+01, ...,\n",
       "         4.78515625e-02,  1.97126859e-02,  1.97115973e+01]),\n",
       " array([-2.82338409e+02,  1.00507797e+02,  7.68444214e+01, ...,\n",
       "         1.29394531e-01,  7.66407052e-03,  2.67013907e+01]),\n",
       " array([-4.18610229e+02, -4.71211624e+00, -1.36216030e+01, ...,\n",
       "         4.54101562e-02,  1.48025894e-02,  2.07017928e+01]),\n",
       " array([-3.72719147e+02, -1.34686899e+00, -7.09243622e+01, ...,\n",
       "         6.64062500e-02,  1.71106321e-02,  1.00677773e+01]),\n",
       " array([-5.37287964e+02,  7.96442642e+01,  2.48594704e+01, ...,\n",
       "         4.68750000e-02,  0.00000000e+00,  0.00000000e+00]),\n",
       " array([-5.94782898e+02,  7.89603055e-01,  7.59178758e-01, ...,\n",
       "         1.80664062e-02,  1.42747966e-02,  1.84842497e+01]),\n",
       " array([-1.74239288e+02,  1.15728653e+02,  2.00543633e+01, ...,\n",
       "         1.06933594e-01,  1.64494948e-02,  1.77271202e+01]),\n",
       " array([-5.63183716e+02,  4.68052597e+01,  6.48204756e+00, ...,\n",
       "         1.11328125e-01,  0.00000000e+00,  0.00000000e+00]),\n",
       " array([-4.98687103e+02,  4.78609848e+01,  1.73681755e+01, ...,\n",
       "         2.49511719e-01,  1.37428636e-02,  3.26940984e+01]),\n",
       " array([-1.16598015e+02,  1.59866791e+02, -4.61963654e+01, ...,\n",
       "         8.00781250e-02,  1.38531327e-02,  9.30114686e+00]),\n",
       " array([-6.32653809e+02,  2.94913750e+01,  2.29104347e+01, ...,\n",
       "         5.02929688e-02,  2.09274745e-02,  1.40882894e+01]),\n",
       " array([-1.60312286e+02,  1.15700562e+02, -3.60737076e+01, ...,\n",
       "         5.56640625e-02,  1.97219710e-02,  2.79519588e+01]),\n",
       " array([-1.97098633e+02,  1.08005280e+02,  3.02129726e+01, ...,\n",
       "         9.71679688e-02,  1.81986112e-02,  1.32043481e+01]),\n",
       " array([-3.34915039e+02,  1.36796448e+02,  2.13284817e+01, ...,\n",
       "         0.00000000e+00,  9.00918353e-03,  2.04827875e+01]),\n",
       " array([-5.55351501e+02,  4.58578033e+01,  2.32882233e+01, ...,\n",
       "         2.84667969e-01,  5.75942403e-03,  1.72501251e+01]),\n",
       " array([-5.63056091e+02,  5.49146347e+01,  3.78538475e+01, ...,\n",
       "         2.49023438e-02,  4.57239588e-03,  2.21523583e+01]),\n",
       " array([-5.79699097e+01,  5.65311432e+01, -5.70508614e+01, ...,\n",
       "         2.04589844e-01,  1.64506686e-02,  2.37613320e+01]),\n",
       " array([-4.92881653e+02,  7.48672485e+01, -3.60014610e+01, ...,\n",
       "         7.91015625e-02,  4.28149978e-02,  1.91702709e+01]),\n",
       " array([-2.08989716e+02,  1.70890808e+02, -1.09714067e+00, ...,\n",
       "         2.60253906e-01,  2.15674872e-02,  1.58537641e+01]),\n",
       " array([-1.51933044e+02,  1.55258820e+02, -9.79840469e+01, ...,\n",
       "         1.11816406e-01,  1.52152012e-02,  1.83304682e+01]),\n",
       " array([-3.71817047e+02,  3.24946442e+01,  1.64314194e+01, ...,\n",
       "         1.18652344e-01,  8.41830259e-03,  1.23447493e+01]),\n",
       " array([-4.84771698e+02,  7.05787811e+01,  1.39233494e+01, ...,\n",
       "         5.61523438e-02,  0.00000000e+00,  0.00000000e+00]),\n",
       " array([-1.43078400e+02,  9.95977631e+01,  3.41658688e+00, ...,\n",
       "         1.50878906e-01,  1.14115461e-02,  1.90582842e+01]),\n",
       " array([-9.33644638e+01,  7.94228821e+01, -6.45060730e+01, ...,\n",
       "         8.34960938e-02,  3.64853061e-02,  1.87866107e+01]),\n",
       " array([-2.20838333e+02, -1.22533112e+02,  1.82248764e+01, ...,\n",
       "         1.46484375e-01,  1.15317865e-02,  1.72316924e+01]),\n",
       " array([-1.21253326e+02, -2.94526520e+01, -2.39284992e+00, ...,\n",
       "         5.02929688e-02,  8.99343225e-03,  1.76940054e+01]),\n",
       " array([-4.38146729e+02,  1.05801903e+02,  6.18206024e+01, ...,\n",
       "         1.86523438e-01,  9.92106873e-03,  1.77913070e+01]),\n",
       " array([-3.91636169e+02,  1.08472198e+02,  1.70917702e+01, ...,\n",
       "         5.12695312e-02,  2.33169046e-02,  2.18041062e+01]),\n",
       " array([-5.05364441e+02,  5.19928436e+01, -7.43675537e+01, ...,\n",
       "         1.00585938e-01,  1.33188365e-02,  8.39535743e+00]),\n",
       " array([-6.13427490e+02,  3.78107567e+01,  1.36080265e+01, ...,\n",
       "         2.82226562e-01,  1.39355148e-02,  1.57398269e+01]),\n",
       " array([-3.82005554e+02,  1.06621933e+02,  2.44136829e+01, ...,\n",
       "         8.49609375e-02,  2.05737545e-02,  2.56670088e+01]),\n",
       " array([-4.74576538e+02,  2.20707436e+01, -2.04929695e+01, ...,\n",
       "         6.93359375e-02,  1.46619473e-02,  4.02420431e+01]),\n",
       " array([-2.97428131e+02,  1.18723969e+02, -2.95327187e+01, ...,\n",
       "         2.03125000e-01,  3.05996875e-02,  2.90928632e+01]),\n",
       " array([-1.08729813e+02,  1.23053680e+02, -3.98334732e+01, ...,\n",
       "         1.12792969e-01,  1.05759098e-02,  1.46795884e+01]),\n",
       " array([-2.07416824e+02,  5.74474030e+01,  5.48479271e+01, ...,\n",
       "         2.07031250e-01,  1.15164246e-02,  2.25920901e+01]),\n",
       " array([-139.97581482,   87.10181427,  -57.68370819, ...,    0.15576172,\n",
       "           0.        ,    0.        ]),\n",
       " array([-2.10749237e+02,  1.12990173e+02,  2.33975697e+01, ...,\n",
       "         8.98437500e-02,  4.56608061e-03,  2.20993832e+01]),\n",
       " array([-1.80416763e+02,  1.14388885e+02,  2.54742479e+00, ...,\n",
       "         1.80664062e-02,  4.08829500e-02,  2.85729110e+01]),\n",
       " array([-3.91511688e+02, -1.71272075e+00,  4.00911789e+01, ...,\n",
       "         6.73828125e-02,  3.49673691e-02,  1.24156430e+01]),\n",
       " array([-4.35890076e+02,  1.94186287e+01, -1.12434015e+01, ...,\n",
       "         2.06542969e-01,  3.12024446e-02,  2.44970873e+01]),\n",
       " array([-2.97348175e+02, -4.92627373e+01, -1.08985268e+02, ...,\n",
       "         1.68457031e-01,  2.28646373e-02,  2.43419126e+01]),\n",
       " array([-1.62285324e+02,  1.61235703e+02, -3.71050262e+01, ...,\n",
       "         1.17675781e-01,  2.66633334e-02,  1.45379722e+01]),\n",
       " array([-2.19112808e+02, -7.12266846e+01, -1.83401608e+00, ...,\n",
       "         1.13281250e-01,  2.25541707e-02,  2.29364395e+01]),\n",
       " array([-1.96563202e+02,  1.33583832e+02,  3.79789619e+01, ...,\n",
       "         5.51757812e-02,  2.94673305e-02,  2.19671652e+01]),\n",
       " array([-3.68068756e+02,  1.48760281e+01,  1.41896496e+01, ...,\n",
       "         4.78515625e-02,  2.84156246e-02,  1.88586980e+01]),\n",
       " array([-3.83190857e+02,  1.16047653e+02, -2.02429390e+01, ...,\n",
       "         6.20117188e-02,  1.53573478e-02,  1.85767069e+01]),\n",
       " array([-1.98709869e+02,  1.11501877e+02,  1.45094624e+01, ...,\n",
       "         7.91015625e-02,  7.86443471e-03,  1.89462215e+01]),\n",
       " array([-4.84095215e+02,  1.96521034e+01, -8.26014137e+00, ...,\n",
       "         3.71093750e-02,  1.65965186e-02,  1.69489697e+01]),\n",
       " array([-4.82720093e+02,  4.69922752e+01, -1.92455769e+01, ...,\n",
       "         2.43164062e-01,  1.13353672e-02,  2.50831544e+01]),\n",
       " array([-4.95726685e+02,  5.56629143e+01, -3.43169479e+01, ...,\n",
       "         4.29687500e-02,  6.17764987e-03,  1.93647072e+01]),\n",
       " array([-2.88216187e+02,  8.78309021e+01,  5.02652512e+01, ...,\n",
       "         1.88476562e-01,  1.71508003e-02,  2.46467203e+01]),\n",
       " array([-5.40227234e+02,  2.06028824e+01,  1.24945526e+01, ...,\n",
       "         1.85546875e-02,  1.85134250e-02,  2.05564037e+01]),\n",
       " array([-4.53866943e+02,  1.03178574e+02,  2.91221352e+01, ...,\n",
       "         7.32421875e-03,  1.43532459e-02,  3.68508905e+01]),\n",
       " array([-1.68046646e+02, -6.35819626e+00,  4.27650948e+01, ...,\n",
       "         3.44238281e-01,  6.98449090e-02,  1.88502342e+01]),\n",
       " array([-4.02971100e+02,  1.82793549e+02, -3.92488785e+01, ...,\n",
       "         1.07421875e-01,  1.72988592e-02,  2.87555575e+01]),\n",
       " array([-4.23550232e+02,  1.12259659e+02,  1.88793564e+01, ...,\n",
       "         1.36718750e-02,  3.77811502e-02,  2.09347889e+01]),\n",
       " array([-5.92631531e+02,  0.00000000e+00,  0.00000000e+00, ...,\n",
       "         1.85546875e-02,  1.55100553e-02,  1.24754913e+01]),\n",
       " array([-2.69959320e+02, -2.09834938e+01, -3.81851654e+01, ...,\n",
       "         1.42089844e-01,  2.01838954e-02,  2.51568317e+01]),\n",
       " array([-5.13593506e+02,  9.45062790e+01, -5.75625277e+00, ...,\n",
       "         1.30371094e-01,  4.10384843e-02,  2.67682940e+01]),\n",
       " array([-1.21886192e+02,  1.24518532e+02, -1.11211519e+01, ...,\n",
       "         2.39257812e-02,  1.29887195e-02,  1.51461750e+01]),\n",
       " array([-5.83330994e+02,  8.68289852e+00, -3.99752426e+01, ...,\n",
       "         1.75292969e-01,  3.74060908e-03,  1.63743421e+01]),\n",
       " array([-4.75880524e+02,  6.47488327e+01,  4.83001747e+01, ...,\n",
       "         1.88476562e-01,  3.40686465e-02,  2.26615012e+01]),\n",
       " array([-2.20417191e+02,  1.52793549e+02,  2.74567184e+01, ...,\n",
       "         3.17382812e-02,  1.70261704e-02,  1.98726341e+01]),\n",
       " array([-3.98538483e+02,  8.19633331e+01, -9.69068527e+00, ...,\n",
       "         1.57226562e-01,  1.70308310e-02,  2.99757332e+01]),\n",
       " array([-1.74690323e+02, -4.89896240e+01,  2.15988941e+01, ...,\n",
       "         1.66015625e-02,  2.32117091e-02,  1.61204502e+01]),\n",
       " array([-5.15383911e+02,  1.50834789e+01, -4.97024727e+01, ...,\n",
       "         1.26464844e-01,  1.87930244e-02,  2.83577800e+01]),\n",
       " array([-2.18615158e+02,  1.63660706e+02, -2.61460228e+01, ...,\n",
       "         1.95312500e-02,  4.72547666e-03,  1.75705925e+01]),\n",
       " array([-5.57294556e+02,  3.70884967e+00,  3.24570036e+00, ...,\n",
       "         4.83398438e-02,  7.57629407e-03,  1.87901348e+01]),\n",
       " array([-2.84728485e+02, -7.95511322e+01,  3.06694679e+01, ...,\n",
       "         1.39160156e-01,  2.93951606e-03,  5.62748238e+00]),\n",
       " array([-5.19065918e+02,  5.96811829e+01,  5.59064388e+00, ...,\n",
       "         3.52050781e-01,  2.99964940e-02,  1.76199779e+01]),\n",
       " array([-3.48419067e+02,  4.72417679e+01,  7.54870033e+00, ...,\n",
       "         1.60156250e-01,  2.30227113e-02,  2.07753494e+01]),\n",
       " array([-6.07229614e+02,  1.68555748e+00,  7.62620091e-01, ...,\n",
       "         2.54882812e-01,  1.49414265e-02,  3.01865131e+01]),\n",
       " array([-5.09084900e+02, -3.45100939e-01, -3.91483688e+01, ...,\n",
       "         8.39843750e-02,  1.59967412e-02,  3.25787961e+01]),\n",
       " array([-4.68691620e+02, -2.54843736e+00, -4.12217102e+01, ...,\n",
       "         9.57031250e-02,  1.16357014e-02,  1.65867478e+01]),\n",
       " array([-2.88217255e+02,  8.97196503e+01, -1.74033852e+01, ...,\n",
       "         5.61523438e-02,  4.87408059e-02,  2.95464098e+01]),\n",
       " array([-6.47304260e+02,  1.67291946e+01,  1.11074276e+01, ...,\n",
       "         1.88476562e-01,  1.22477533e-02,  2.15077996e+01]),\n",
       " array([-1.81358414e+02,  1.30544006e+02, -2.15174942e+01, ...,\n",
       "         5.51757812e-02,  1.40790407e-02,  1.76191926e+01]),\n",
       " array([-2.90657227e+02,  1.38303864e+02, -7.94169769e+01, ...,\n",
       "         1.90917969e-01,  1.15296775e-02,  2.82096744e+01]),\n",
       " array([-3.51773682e+02,  1.61753693e+02, -4.24435768e+01, ...,\n",
       "         3.71093750e-02,  1.72815144e-02,  1.45476535e+01]),\n",
       " array([-3.00668060e+02,  1.05801956e+02, -4.19577713e+01, ...,\n",
       "         5.95703125e-02,  1.71118039e-02,  2.54310578e+01]),\n",
       " array([-2.62615021e+02,  1.62288635e+02, -1.00424433e+01, ...,\n",
       "         3.12500000e-02,  2.32488305e-02,  2.25405931e+01]),\n",
       " array([-1.12629585e+02,  8.88587646e+01,  1.13058720e+01, ...,\n",
       "         9.96093750e-02,  1.67833736e-02,  1.93112612e+01]),\n",
       " array([-5.81926697e+02,  7.56438208e+00,  7.49877071e+00, ...,\n",
       "         2.20703125e-01,  1.47070881e-02,  2.44065776e+01]),\n",
       " array([-5.23465271e+02,  6.06301727e+01,  2.45695477e+01, ...,\n",
       "         1.73339844e-01,  1.30004311e-02,  2.82085359e+01]),\n",
       " array([-3.33838165e+02,  1.06565796e+02, -2.02721710e+01, ...,\n",
       "         9.71679688e-02,  1.66565668e-02,  2.96232909e+01]),\n",
       " array([-2.20667175e+02, -7.11718607e+00, -5.00199356e+01, ...,\n",
       "         1.25000000e-01,  0.00000000e+00,  0.00000000e+00]),\n",
       " array([-4.32096313e+02,  4.65943680e+01,  1.95460949e+01, ...,\n",
       "         4.12109375e-01,  2.39847563e-02,  1.63432986e+01]),\n",
       " array([-4.62109497e+02,  7.84076004e+01,  5.38236771e+01, ...,\n",
       "         4.68750000e-02,  1.35037927e-02,  2.34266043e+01]),\n",
       " array([-2.55317642e+02,  9.58423157e+01,  1.97813911e+01, ...,\n",
       "         3.17382812e-02,  1.52964743e-02,  1.96667165e+01]),\n",
       " array([-4.00301849e+02, -5.88416672e+01,  4.06768913e+01, ...,\n",
       "         2.44628906e-01,  1.09018989e-02,  2.09320724e+01]),\n",
       " array([-4.21099243e+02,  7.87152710e+01,  4.46718292e+01, ...,\n",
       "         1.15722656e-01,  1.92475045e-02,  1.56046987e+01]),\n",
       " array([-3.19678497e+02,  1.84791321e+02,  2.69421697e+00, ...,\n",
       "         1.68457031e-01,  1.46396658e-02,  2.18787372e+01]),\n",
       " array([-4.16037048e+02,  6.20112686e+01, -2.20413170e+01, ...,\n",
       "         5.41992188e-02,  4.47517212e-02,  2.69917637e+01]),\n",
       " array([-3.85374237e+02,  6.58605042e+01,  6.34558105e+00, ...,\n",
       "         4.29687500e-02,  2.43997258e-02,  1.32589996e+01]),\n",
       " array([-5.84759888e+02,  3.44951940e+00,  3.25771308e+00, ...,\n",
       "         2.62695312e-01,  6.84479307e-03,  1.34627864e+01]),\n",
       " array([-6.83335510e+02,  2.06476021e+01,  1.19121618e+01, ...,\n",
       "         3.01269531e-01,  1.40328213e-02,  1.32571191e+01]),\n",
       " array([-4.54311340e+02,  1.07808914e+02,  1.92380753e+01, ...,\n",
       "         2.29492188e-02,  3.47807145e-02,  1.50668710e+01]),\n",
       " array([-1.41814835e+02,  1.33176971e+02,  2.10572205e+01, ...,\n",
       "         7.61718750e-02,  8.44801249e-03,  1.33846626e+01]),\n",
       " array([-4.95937439e+02,  6.34518356e+01,  4.18445854e+01, ...,\n",
       "         7.22656250e-02,  9.46673707e-03,  9.28829685e+00]),\n",
       " array([-5.52757812e+02,  8.55041504e+01,  1.67831669e+01, ...,\n",
       "         1.50878906e-01,  2.02579109e-02,  1.54089525e+01]),\n",
       " array([-2.66080597e+02,  1.12137436e+02, -2.64238167e+00, ...,\n",
       "         1.57226562e-01,  8.97253443e-03,  2.59381294e+01]),\n",
       " array([-4.84261536e+02, -5.21903610e+01,  3.25212440e+01, ...,\n",
       "         1.15234375e-01,  1.25433545e-02,  2.23973781e+01]),\n",
       " array([-5.41401489e+02,  4.54088898e+01,  2.46715775e+01, ...,\n",
       "         6.34765625e-02,  2.93071915e-02,  2.73749590e+01]),\n",
       " array([-7.93610474e+02,  6.03432198e+01,  1.47868919e+01, ...,\n",
       "         1.20117188e-01,  0.00000000e+00,  0.00000000e+00]),\n",
       " array([-2.80363739e+02, -4.34538803e+01, -1.06970272e+01, ...,\n",
       "         4.29687500e-02,  2.73171094e-02,  2.23878995e+01]),\n",
       " array([-2.36764633e+02,  1.19095940e+02,  3.79042816e+01, ...,\n",
       "         5.07812500e-02,  2.74792237e-02,  2.31759116e+01]),\n",
       " array([-2.02227600e+02,  1.75617432e+02, -1.67495365e+01, ...,\n",
       "         6.25000000e-02,  9.01717205e-03,  2.96126842e+01]),\n",
       " array([-3.29558746e+02,  8.80317841e+01, -3.18595963e+01, ...,\n",
       "         1.66015625e-01,  1.83529036e-02,  1.89820498e+01]),\n",
       " array([-2.47589249e+02,  1.04930923e+02, -3.75712738e+01, ...,\n",
       "         9.52148438e-02,  2.13093463e-02,  1.83127016e+01]),\n",
       " array([-5.15762634e+02,  3.79184799e+01,  3.39516296e+01, ...,\n",
       "         1.61132812e-02,  1.31248230e-02,  2.69769490e+01]),\n",
       " array([-2.08821747e+02,  1.00915726e+02,  1.78587399e+01, ...,\n",
       "         7.56835938e-02,  1.45359883e-02,  2.31948540e+01]),\n",
       " array([-2.70186676e+02,  2.85398102e+01,  5.45366764e+00, ...,\n",
       "         2.49023438e-02,  5.36644974e-03,  1.86517537e+01]),\n",
       " array([-6.03614868e+02,  8.27285309e+01,  1.36078320e+01, ...,\n",
       "         5.81054688e-02,  2.29024029e-02,  2.04513475e+01]),\n",
       " array([-5.12778870e+02,  2.95335197e+01,  1.21793756e+01, ...,\n",
       "         8.39843750e-02,  9.52112589e-03,  2.06576735e+01]),\n",
       " array([-6.34893005e+02,  1.53400288e+01,  1.00228834e+01, ...,\n",
       "         3.09082031e-01,  0.00000000e+00,  0.00000000e+00]),\n",
       " array([-2.75362762e+02,  1.70902920e+01, -4.63420792e+01, ...,\n",
       "         4.58984375e-02,  2.37027122e-02,  1.69071019e+01]),\n",
       " array([-1.84463959e+02,  1.11070404e+02,  6.09503794e+00, ...,\n",
       "         5.07812500e-02,  1.61032872e-02,  2.43206620e+01]),\n",
       " array([-1.17785690e+02,  5.03758316e+01,  3.48118210e+01, ...,\n",
       "         3.10546875e-01,  1.28217317e-02,  2.07358360e+01]),\n",
       " array([-4.03316895e+02,  1.55528290e+02,  3.47555313e+01, ...,\n",
       "         1.56250000e-01,  2.00043243e-03,  2.14547306e+01]),\n",
       " array([-3.59035797e+02, -1.00311066e+02,  5.72164612e+01, ...,\n",
       "         3.85742188e-02,  1.51953276e-02,  1.56459346e+01]),\n",
       " array([-2.71065002e+02, -1.73266335e+01,  6.50251999e+01, ...,\n",
       "         8.00781250e-02,  1.61288513e-02,  1.98261052e+01]),\n",
       " array([-2.78174225e+02,  9.09084091e+01, -4.76467431e-01, ...,\n",
       "         4.73632812e-02,  1.35803385e-02,  3.09573710e+01]),\n",
       " array([-1.27962601e+02,  8.11973724e+01, -8.60188007e+00, ...,\n",
       "         7.08007812e-02,  1.26485505e-02,  2.33469695e+01]),\n",
       " array([-5.89848328e+02,  4.32514038e+01,  2.36002274e+01, ...,\n",
       "         2.67089844e-01,  3.90205850e-02,  1.75262526e+01]),\n",
       " array([-6.31322205e+02,  8.77235889e+00,  4.10216331e+00, ...,\n",
       "         1.99707031e-01,  9.18493507e-03,  2.84443229e+01]),\n",
       " array([-5.40725830e+02,  3.20076141e+01,  2.77904320e+01, ...,\n",
       "         1.12792969e-01,  1.39228150e-02,  1.89433396e+01]),\n",
       " array([-5.90977173e+02,  2.11278534e+01,  1.73824558e+01, ...,\n",
       "         4.78515625e-02,  3.40647007e-02,  3.12162340e+01]),\n",
       " array([-6.09240356e+02,  2.99676857e+01,  1.46570063e+01, ...,\n",
       "         2.59277344e-01,  7.65133189e-03,  8.47840607e+00]),\n",
       " array([-5.77953491e+02,  1.80935211e+01,  1.74675694e+01, ...,\n",
       "         1.83593750e-01,  1.01819575e-02,  1.58892557e+01]),\n",
       " array([-6.49040710e+02,  0.00000000e+00,  0.00000000e+00, ...,\n",
       "         7.71484375e-02,  6.38586379e-03,  1.71882093e+01]),\n",
       " array([-6.34807251e+02,  4.25571823e+01,  2.87517471e+01, ...,\n",
       "         6.05468750e-02,  2.77654462e-02,  1.86152041e+01]),\n",
       " array([-6.29581055e+02,  0.00000000e+00,  0.00000000e+00, ...,\n",
       "         4.39453125e-02,  1.09349900e-02,  1.78150147e+01]),\n",
       " array([-3.55808289e+02, -7.08529205e+01, -1.78275394e+01, ...,\n",
       "         1.17187500e-01,  1.58793514e-02,  1.79731235e+01]),\n",
       " array([-5.14342163e+02,  1.12476711e+01,  6.26535559e+00, ...,\n",
       "         9.91210938e-02,  1.76530605e-02,  2.43369654e+01]),\n",
       " array([-3.95982391e+02,  9.02857208e+01,  6.48816442e+00, ...,\n",
       "         1.56738281e-01,  3.92153521e-02,  2.59297132e+01]),\n",
       " array([-4.07255005e+02,  7.44352951e+01,  3.79267502e+01, ...,\n",
       "         1.95312500e-03,  1.52550732e-02,  2.15184078e+01]),\n",
       " array([-3.72041992e+02,  1.54749023e+02, -7.84645233e+01, ...,\n",
       "         1.44042969e-01,  1.45163852e-02,  1.94630191e+01]),\n",
       " array([-3.15217041e+02,  8.77604904e+01, -4.08846054e+01, ...,\n",
       "         8.59375000e-02,  2.32769732e-02,  1.65511146e+01]),\n",
       " array([-4.70160828e+02,  8.37168427e+01,  3.60164833e+01, ...,\n",
       "         4.29687500e-02,  1.89939360e-02,  1.89392120e+01]),\n",
       " array([-3.21149506e+02,  1.42234375e+02, -2.81983795e+01, ...,\n",
       "         8.15429688e-02,  8.46655516e-03,  1.44161612e+01]),\n",
       " array([-4.38707428e+02,  9.69256210e+01,  6.65932941e+00, ...,\n",
       "         2.11425781e-01,  2.85398229e-03,  1.88086227e+01]),\n",
       " array([-2.76063599e+02,  9.76756897e+01, -4.47132721e+01, ...,\n",
       "         8.59375000e-02,  1.05278127e-02,  2.35757262e+01]),\n",
       " array([-4.29935120e+02,  9.21632996e+01,  1.91558952e+01, ...,\n",
       "         1.27441406e-01,  1.49386706e-02,  2.72821456e+01]),\n",
       " array([-5.41178650e+02,  8.14330826e+01,  5.68480759e+01, ...,\n",
       "         1.26953125e-02,  2.37811874e-02,  1.85940221e+01]),\n",
       " array([-1.51239380e+02,  1.78491882e+02, -4.17732887e+01, ...,\n",
       "         5.12695312e-02,  1.88023771e-02,  2.37525940e+01]),\n",
       " array([-2.17977783e+02,  1.34212036e+02,  4.68037643e+01, ...,\n",
       "         7.47070312e-02,  2.46108834e-02,  2.35523269e+01]),\n",
       " array([-2.60835022e+02,  9.68325500e+01, -2.51971207e+01, ...,\n",
       "         1.65527344e-01,  6.86891684e-03,  2.67842472e+01]),\n",
       " array([-5.28931824e+02,  3.35044327e+01,  3.04377861e+01, ...,\n",
       "         1.35253906e-01,  2.38842281e-02,  2.80488342e+01]),\n",
       " array([-3.63702118e+02,  1.92604141e+01, -5.69324799e+01, ...,\n",
       "         3.41796875e-02,  3.34138789e-02,  2.16313511e+01]),\n",
       " array([-4.58897614e+02,  1.05359467e+02,  2.60672874e+01, ...,\n",
       "         2.92968750e-02,  2.49263920e-02,  1.89051807e+01]),\n",
       " array([-4.71940094e+02,  9.09292145e+01,  2.93152180e+01, ...,\n",
       "         1.09863281e-01,  7.87864226e-03,  1.74671680e+01]),\n",
       " array([-3.88376678e+02,  6.27235184e+01, -2.70455704e+01, ...,\n",
       "         2.15820312e-01,  7.81982995e-03,  1.54059529e+01]),\n",
       " array([-3.34152313e+02, -7.68007183e+00, -8.91148071e+01, ...,\n",
       "         1.68945312e-01,  1.46216806e-02,  2.45976418e+01]),\n",
       " array([-2.59050934e+02, -7.80239487e+01, -3.66532211e+01, ...,\n",
       "         1.47460938e-01,  9.42307493e-03,  1.47098944e+01]),\n",
       " array([-4.74147644e+02,  2.65668068e+01, -2.59535217e+01, ...,\n",
       "         4.15039062e-02,  2.30510979e-02,  2.05275267e+01]),\n",
       " array([-6.07804504e+02,  1.76748097e+00,  1.63818550e+00, ...,\n",
       "         2.58789062e-02,  0.00000000e+00,  0.00000000e+00]),\n",
       " array([-4.08717438e+02,  1.45266800e+01, -1.27208382e+02, ...,\n",
       "         1.99218750e-01,  7.26797420e-03,  1.28931537e+01]),\n",
       " array([-1.50683594e+02,  7.64285431e+01, -3.23032646e+01, ...,\n",
       "         9.76562500e-03,  2.84733021e-02,  3.32332373e+01]),\n",
       " array([-2.75835938e+02, -1.05131187e+01,  8.13485794e+01, ...,\n",
       "         9.66796875e-02,  1.43149000e-02,  2.76794732e+01]),\n",
       " array([-5.10122650e+02,  5.88027039e+01, -1.79093528e+00, ...,\n",
       "         4.00390625e-02,  1.96244579e-02,  1.52637392e+01]),\n",
       " array([-3.05014282e+02,  1.52373322e+02, -7.94330502e+00, ...,\n",
       "         2.39257812e-02,  9.92203301e-03,  1.95416033e+01]),\n",
       " array([-4.66755951e+02,  8.46440430e+01,  3.17862110e+01, ...,\n",
       "         1.32812500e-01,  1.73631678e-02,  3.16423148e+01]),\n",
       " array([-1.14034042e+02,  5.21545258e+01,  2.72591820e+01, ...,\n",
       "         4.05273438e-02,  1.67133288e-02,  1.15175538e+01]),\n",
       " array([-5.52473572e+02,  9.70175171e+01,  1.83064976e+01, ...,\n",
       "         2.51953125e-01,  7.46135530e-03,  8.04481208e+01]),\n",
       " array([ 1.96956043e+01,  4.78010788e+01, -5.70764236e+01, ...,\n",
       "         2.03613281e-01,  2.28696055e-02,  2.50319302e+01]),\n",
       " array([-2.46003815e+02, -4.43880692e+01, -1.47712383e+01, ...,\n",
       "         1.82128906e-01,  1.38629630e-02,  2.13459566e+01]),\n",
       " array([-5.07128998e+02, -7.05542603e+01,  3.48962479e+01, ...,\n",
       "         3.12500000e-02,  1.64499032e-02,  2.33176544e+01]),\n",
       " array([-1.71992996e+02,  1.00401398e+02, -4.62254095e+00, ...,\n",
       "         8.93554688e-02,  2.55578331e-02,  1.71079680e+01]),\n",
       " array([-6.58558105e+02,  3.79026489e+01,  8.59632874e+00, ...,\n",
       "         9.71679688e-02,  1.49520425e-02,  8.53023008e+00]),\n",
       " array([-4.11223145e+02,  3.39659729e+01, -1.65469952e+01, ...,\n",
       "         3.01757812e-01,  2.53812500e-02,  1.99114397e+01]),\n",
       " array([-2.09107468e+02, -8.73456116e+01,  2.19182372e+00, ...,\n",
       "         4.73632812e-02,  2.12599926e-02,  2.25520313e+01]),\n",
       " array([-4.19730621e+02,  1.11070358e+02, -4.57636108e+01, ...,\n",
       "         4.24804688e-02,  2.75642712e-02,  2.13530093e+01]),\n",
       " array([-3.98016357e+02,  4.38114204e+01,  6.90683556e+00, ...,\n",
       "         3.85742188e-02,  1.27220234e-02,  1.79251209e+01]),\n",
       " array([-9.42690506e+01,  3.39933357e+01,  3.56646204e+00, ...,\n",
       "         2.66601562e-01,  1.07276248e-02,  1.79692000e+01]),\n",
       " array([-6.50697327e+02,  4.10715675e+01,  8.31030846e+00, ...,\n",
       "         1.79687500e-01,  4.65851798e-02,  1.79519817e+01]),\n",
       " array([-5.03908264e+02,  1.71562225e+02,  3.80699463e+01, ...,\n",
       "         6.20117188e-02,  1.68065636e-02,  1.36089832e+01]),\n",
       " array([-3.84909241e+02,  9.61975250e+01,  6.93127441e+01, ...,\n",
       "         1.79687500e-01,  2.33514665e-02,  2.41793334e+01]),\n",
       " array([-3.43592010e+02,  4.87185287e+01, -2.49291444e+00, ...,\n",
       "         2.37792969e-01,  0.00000000e+00,  0.00000000e+00]),\n",
       " array([-2.28613632e+02,  1.60133148e+02,  1.68577576e+01, ...,\n",
       "         1.14746094e-01,  1.29429682e-02,  2.35295311e+01]),\n",
       " array([-3.48588409e+02,  6.30550804e+01, -3.06122227e+01, ...,\n",
       "         1.72851562e-01,  8.72574308e-03,  2.46029764e+01]),\n",
       " array([-1.92828781e+02,  1.25238632e+02,  3.09565604e-01, ...,\n",
       "         4.19921875e-02,  1.17705064e-02,  2.30395302e+01]),\n",
       " array([-6.66429138e+02,  3.65453224e+01, -2.25063992e+00, ...,\n",
       "         1.35742188e-01,  0.00000000e+00,  0.00000000e+00]),\n",
       " array([-3.22658417e+02,  1.34615417e+02,  3.46157074e+01, ...,\n",
       "         3.95507812e-02,  3.37646191e-02,  1.55841529e+01]),\n",
       " array([-1.57003067e+02,  1.12608521e+02,  1.06853409e+01, ...,\n",
       "         9.42382812e-02,  3.02252253e-02,  2.89084852e+01]),\n",
       " array([-6.83883057e+02,  6.28855209e+01,  1.61782379e+01, ...,\n",
       "         2.58789062e-02,  1.45624918e-02,  1.67759582e+01]),\n",
       " array([-1.17680893e+02,  1.40108932e+02, -5.46893997e+01, ...,\n",
       "         1.42089844e-01,  1.27348251e-02,  2.86575705e+01]),\n",
       " array([-3.47051270e+02,  1.32052063e+02, -1.11874628e+01, ...,\n",
       "         5.66406250e-02,  0.00000000e+00,  0.00000000e+00]),\n",
       " array([-1.79910095e+02,  8.45757675e+01, -1.39890594e+01, ...,\n",
       "         4.76562500e-01,  8.07910498e-03,  1.92615271e+01]),\n",
       " array([-3.93712067e+02,  1.75358749e+02,  4.16174278e+01, ...,\n",
       "         1.45019531e-01,  7.09711733e-03,  1.48870438e+01]),\n",
       " array([-4.59942383e+02,  7.82216339e+01,  2.30931091e+01, ...,\n",
       "         1.21093750e-01,  1.06126448e-02,  3.57142568e+01]),\n",
       " array([-1.42721741e+02,  1.68920746e+02, -4.80581779e+01, ...,\n",
       "         2.73437500e-02,  1.02138796e-02,  2.01177806e+01]),\n",
       " array([-3.04496857e+02,  3.48753090e+01,  2.95579910e+01, ...,\n",
       "         1.70898438e-02,  2.88182463e-02,  3.76693189e+01]),\n",
       " array([-5.51137085e+02,  6.89281464e+00,  3.31615448e+00, ...,\n",
       "         1.50390625e-01,  5.90136793e-03,  1.34005934e+01]),\n",
       " array([-5.36392029e+02,  6.28623276e+01,  2.53434658e+01, ...,\n",
       "         4.08691406e-01,  2.09860025e-02,  1.70452431e+01]),\n",
       " array([-3.41089508e+02,  4.65419922e+01,  2.60187664e+01, ...,\n",
       "         9.71679688e-02,  2.10949693e-02,  1.72726572e+01]),\n",
       " array([-5.95204346e+02,  0.00000000e+00,  0.00000000e+00, ...,\n",
       "         3.85742188e-02,  7.22882841e-03,  1.21935137e+01]),\n",
       " array([-3.09438354e+02,  9.41662903e+01,  3.71169777e+01, ...,\n",
       "         1.56250000e-02,  1.74172933e-02,  1.69779897e+01]),\n",
       " array([-5.95583862e+02,  8.82060699e+01,  2.09177170e+01, ...,\n",
       "         0.00000000e+00,  2.31724985e-02,  1.36659428e+01]),\n",
       " array([-3.21316284e+02,  1.08614975e+02, -3.89370575e+01, ...,\n",
       "         4.56054688e-01,  1.27374512e-02,  1.67531297e+01]),\n",
       " array([-2.09074371e+02,  8.82889023e+01, -6.76285553e+01, ...,\n",
       "         1.03027344e-01,  2.82869977e-02,  1.86785161e+01]),\n",
       " array([-4.42907867e+02,  5.82735062e+00,  7.00692749e+00, ...,\n",
       "         1.38183594e-01,  0.00000000e+00,  0.00000000e+00]),\n",
       " array([-5.53812500e+02,  5.49263763e+01,  3.87931747e+01, ...,\n",
       "         1.67480469e-01,  1.03633681e-02,  9.58693996e+00]),\n",
       " array([-4.11202789e+02,  5.38105392e+01, -7.58221102e+00, ...,\n",
       "         6.15234375e-02,  1.11470219e-02,  2.05837011e+01]),\n",
       " array([-8.92799454e+01,  7.15485306e+01, -5.71439667e+01, ...,\n",
       "         1.77734375e-01,  1.53428357e-02,  2.64428169e+01]),\n",
       " array([-4.70225922e+02,  8.55347137e+01,  4.14850044e+01, ...,\n",
       "         5.46875000e-02,  6.90324860e-03,  2.09912673e+01]),\n",
       " array([-1.06457870e+02,  9.33457642e+01, -1.27160282e+01, ...,\n",
       "         2.44140625e-02,  2.38132771e-02,  1.30374387e+01]),\n",
       " array([-3.51780212e+02, -1.10155182e+02,  2.79535179e+01, ...,\n",
       "         8.98437500e-02,  1.60938666e-02,  1.88085049e+01]),\n",
       " array([-3.44431976e+02,  1.33016327e+02,  3.39214821e+01, ...,\n",
       "         8.74023438e-02,  8.25072095e-03,  1.55958936e+01]),\n",
       " array([-5.45958374e+02,  1.07273827e+01,  3.95588541e+00, ...,\n",
       "         1.57714844e-01,  1.24150786e-02,  1.77050501e+01]),\n",
       " array([-2.61381165e+02,  7.11861649e+01,  3.87011833e+01, ...,\n",
       "         5.22460938e-02,  1.06471346e-02,  1.69907287e+01]),\n",
       " array([-4.10946930e+02,  3.82339172e+01,  2.13029366e+01, ...,\n",
       "         4.93164062e-02,  2.09970127e-02,  1.98729634e+01]),\n",
       " array([-5.57049927e+02,  2.31627235e+01,  8.98517990e+00, ...,\n",
       "         1.28906250e-01,  1.03171321e-02,  1.98023170e+01]),\n",
       " array([-6.61829224e+02,  3.32231445e+01, -7.94041634e+00, ...,\n",
       "         1.38671875e-01,  3.96636815e-03,  1.04204200e+01]),\n",
       " array([-8.83466568e+01,  4.68148193e+01, -8.83117218e+01, ...,\n",
       "         2.16796875e-01,  1.89768295e-02,  2.44859844e+01]),\n",
       " array([-1.23819954e+02,  1.33325592e+02, -8.36460876e+00, ...,\n",
       "         3.20312500e-01,  3.67097932e-02,  1.41549483e+01]),\n",
       " array([-1.05837738e+02,  1.09206635e+02,  1.50811977e+01, ...,\n",
       "         1.90429688e-02,  1.10516148e-02,  1.46877125e+01]),\n",
       " array([-1.41146912e+02,  1.31396515e+02,  8.99602985e+00, ...,\n",
       "         8.59375000e-02,  1.77705706e-02,  1.86344385e+01]),\n",
       " array([-2.55782974e+02,  1.60384308e+02, -7.16225719e+00, ...,\n",
       "         1.49414062e-01,  6.61644935e-03,  1.28676802e+01]),\n",
       " array([-3.15155304e+02, -2.61572018e+01, -5.98161888e+01, ...,\n",
       "         7.17773438e-02,  1.14978985e-02,  1.47739470e+01]),\n",
       " array([-5.73862549e+02,  5.23106613e+01,  2.08602314e+01, ...,\n",
       "         9.86328125e-02,  3.10509403e-02,  1.78028822e+01]),\n",
       " array([-5.94280823e+02,  1.00199890e+01,  1.96618795e+00, ...,\n",
       "         3.36425781e-01,  1.65697357e-02,  1.93808079e+01]),\n",
       " array([-3.70793854e+02, -1.49912968e+01,  6.49825668e+01, ...,\n",
       "         1.78222656e-01,  1.01410637e-02,  1.97991416e+01]),\n",
       " array([-4.62577057e+02,  9.78724823e+01, -4.91938171e+01, ...,\n",
       "         1.55761719e-01,  0.00000000e+00,  0.00000000e+00]),\n",
       " array([-2.64162201e+02,  1.01929161e+02,  3.16722336e+01, ...,\n",
       "         7.66601562e-02,  1.05345015e-02,  2.30674610e+01]),\n",
       " array([-2.82810455e+02,  1.18251587e+02,  2.60836468e+01, ...,\n",
       "         1.86523438e-01,  8.88258012e-03,  1.71600550e+01]),\n",
       " array([-3.31125153e+02,  1.21063316e+02, -2.56917572e+00, ...,\n",
       "         3.61328125e-02,  2.29593037e-02,  2.08928362e+01]),\n",
       " array([-3.89362274e+02,  5.44980087e+01,  7.28671875e+01, ...,\n",
       "         1.90429688e-02,  1.69114712e-02,  1.10011443e+01]),\n",
       " array([-2.89940308e+02,  1.34283295e+02, -6.18138657e+01, ...,\n",
       "         8.34960938e-02,  1.87203725e-02,  2.12687597e+01]),\n",
       " array([-6.03188049e+02,  6.28672218e+01,  2.54733200e+01, ...,\n",
       "         1.30859375e-01,  2.82642401e-02,  4.11294460e+01]),\n",
       " array([-3.93670990e+02,  7.09374466e+01, -2.90949402e+01, ...,\n",
       "         4.78515625e-02,  2.08889317e-02,  2.02156842e+01]),\n",
       " array([-5.26372314e+02,  6.59545288e+01,  2.84659081e+01, ...,\n",
       "         1.04980469e-01,  2.15744820e-02,  2.31173798e+01]),\n",
       " array([-5.38043579e+02,  1.15220627e+02,  3.91076622e+01, ...,\n",
       "         1.02539062e-02,  1.29769188e-02,  6.73912466e+00]),\n",
       " array([-2.59236877e+02,  3.72448807e+01,  3.05817528e+01, ...,\n",
       "         1.33300781e-01,  0.00000000e+00,  0.00000000e+00]),\n",
       " array([-232.33485413,  -23.40508652,   12.82313061, ...,    0.30371094,\n",
       "           0.        ,    0.        ]),\n",
       " array([-2.79038727e+02,  7.83678741e+01,  6.46822205e+01, ...,\n",
       "         5.66406250e-02,  2.05857425e-02,  2.02895477e+01]),\n",
       " array([-1.12300964e+02,  1.04358597e+02,  1.47219217e+00, ...,\n",
       "         4.19921875e-02,  3.07047776e-02,  2.14214697e+01]),\n",
       " array([-2.50723770e+02,  1.03632248e+02, -1.54367981e+01, ...,\n",
       "         1.19140625e-01,  0.00000000e+00,  0.00000000e+00]),\n",
       " array([-1.78876526e+02,  7.09450531e+01,  6.39378881e+00, ...,\n",
       "         3.14941406e-01,  1.02613975e-02,  1.87992230e+01]),\n",
       " array([-6.12402100e+02, -5.99068451e+01,  2.91575584e+01, ...,\n",
       "         1.13769531e-01,  0.00000000e+00,  0.00000000e+00]),\n",
       " array([-6.14059753e+02,  2.98889427e+01,  4.38152599e+00, ...,\n",
       "         3.75976562e-02,  1.53636266e-02,  3.39960992e+01]),\n",
       " array([-1.91709183e+02,  1.19933502e+02, -5.83819122e+01, ...,\n",
       "         6.54296875e-02,  2.63394566e-02,  1.34970546e+01]),\n",
       " array([-3.85839142e+02,  6.17087555e+01, -9.10073090e+00, ...,\n",
       "         2.78320312e-02,  1.89647351e-02,  1.09925531e+01]),\n",
       " array([-2.14296555e+02, -7.44616547e+01,  4.90465088e+01, ...,\n",
       "         8.88671875e-02,  2.43721161e-02,  1.98228180e+01]),\n",
       " array([-1.40500977e+02, -8.55529404e+01, -2.19467030e+01, ...,\n",
       "         3.32031250e-02,  1.71837336e-02,  1.73137650e+01]),\n",
       " array([-1.03491943e+02,  7.22217560e+01, -4.43324089e+01, ...,\n",
       "         1.03515625e-01,  7.66379225e-03,  1.32272780e+01]),\n",
       " array([-3.74133636e+02,  1.28124084e+02, -2.22621269e+01, ...,\n",
       "         1.23535156e-01,  1.15793421e-02,  1.53760090e+01]),\n",
       " array([-4.27050568e+02,  1.00448990e+02,  1.06040964e+01, ...,\n",
       "         4.29687500e-02,  2.81137370e-02,  1.50931522e+01]),\n",
       " array([-6.38556091e+02,  6.31581764e+01,  1.97186050e+01, ...,\n",
       "         7.81250000e-03,  2.53693035e-02,  9.37444791e+00]),\n",
       " array([-4.84815460e+02, -7.51343231e+01,  3.17031813e+00, ...,\n",
       "         1.38183594e-01,  1.29799981e-02,  2.75955737e+01]),\n",
       " array([-2.01483582e+02,  1.90240082e+02, -6.13666458e+01, ...,\n",
       "         4.93164062e-02,  1.44471905e-02,  2.87938178e+01]),\n",
       " array([-5.08109955e+02,  3.61054192e+01,  1.79762077e+01, ...,\n",
       "         5.90820312e-02,  5.64267337e-03,  2.42140040e+01]),\n",
       " array([-4.55373322e+02,  2.18051929e+01, -5.99114838e+01, ...,\n",
       "         9.08203125e-02,  1.35475790e-02,  1.68739095e+01]),\n",
       " array([-1.72250275e+02,  1.25124573e+02, -1.76270409e+01, ...,\n",
       "         1.06445312e-01,  1.50520764e-02,  2.18705863e+01]),\n",
       " array([-2.76000854e+02,  5.93025398e+01,  2.60854959e-02, ...,\n",
       "         2.02636719e-01,  9.76987673e-03,  2.03277841e+01]),\n",
       " array([-1.78496765e+02,  1.39183868e+02, -9.67428207e+00, ...,\n",
       "         3.91601562e-01,  8.65947088e-03,  1.94601312e+01]),\n",
       " array([-1.40376099e+02,  1.39258251e+01, -1.53087912e+01, ...,\n",
       "         2.05078125e-02,  6.10493525e-03,  5.60801685e+01]),\n",
       " array([-1.14211800e+02,  1.86897842e+02, -6.21172905e+01, ...,\n",
       "         3.32031250e-02,  2.89416013e-02,  1.86844975e+01]),\n",
       " array([-1.67761185e+02,  5.38757286e+01, -4.05127258e+01, ...,\n",
       "         4.88281250e-02,  1.68831973e-02,  1.95332035e+01]),\n",
       " array([-5.51392456e+02, -2.38043022e+01, -3.47448540e+01, ...,\n",
       "         1.80664062e-01,  6.87826990e-03,  1.82288647e+01]),\n",
       " array([-1.26531540e+02,  1.34758606e+02, -7.69287262e+01, ...,\n",
       "         1.39648438e-01,  1.33087276e-02,  2.40537673e+01]),\n",
       " array([-5.85096375e+02,  2.50987530e+01,  2.12315483e+01, ...,\n",
       "         8.44726562e-02,  0.00000000e+00,  0.00000000e+00]),\n",
       " array([-5.06587708e+02,  1.92336297e+00,  1.81559384e+00, ...,\n",
       "         6.68945312e-02,  1.54334139e-02,  2.09149644e+01]),\n",
       " array([-3.41685364e+02,  1.53272476e+02, -5.10285721e+01, ...,\n",
       "         9.42382812e-02,  1.49419251e-02,  1.88182250e+01]),\n",
       " array([-6.19336182e+02,  7.71194577e-01,  7.71020353e-01, ...,\n",
       "         6.83593750e-02,  1.38266302e-02,  1.81280375e+01]),\n",
       " array([-6.02145447e+02,  8.84192085e+00,  8.72801208e+00, ...,\n",
       "         5.66406250e-02,  1.78603203e-02,  1.88313186e+01]),\n",
       " array([-1.30834671e+02,  1.25468605e+02,  1.13040953e+01, ...,\n",
       "         1.12304688e-02,  3.23802163e-02,  2.34876215e+01]),\n",
       " array([-4.61052429e+02,  7.07858734e+01, -8.29051437e+01, ...,\n",
       "         1.61132812e-01,  0.00000000e+00,  0.00000000e+00]),\n",
       " array([-3.91218445e+02,  8.53158112e+01,  3.81261101e+01, ...,\n",
       "         1.22070312e-02,  2.99709884e-02,  2.65433580e+01]),\n",
       " array([-3.27743256e+02,  1.10301041e+02,  2.86259232e+01, ...,\n",
       "         7.71484375e-02,  1.22649891e-02,  2.45626494e+01]),\n",
       " array([-5.05069519e+02,  6.05186920e+01, -9.99244273e-01, ...,\n",
       "         3.41796875e-02,  1.47126443e-02,  1.85890108e+01]),\n",
       " array([-1.85545090e+02,  7.06354980e+01, -8.26326904e+01, ...,\n",
       "         1.23535156e-01,  1.51979363e-02,  2.08722040e+01]),\n",
       " array([-1.86006454e+02,  5.88952026e+01, -5.83409691e+00, ...,\n",
       "         3.37402344e-01,  1.41581661e-02,  2.54341751e+01]),\n",
       " array([-2.53709381e+02,  1.46103149e+02, -4.75015564e+01, ...,\n",
       "         1.67968750e-01,  9.74964473e-03,  2.25235760e+01]),\n",
       " array([-2.81812897e+02,  1.61478943e+02,  5.13613844e+00, ...,\n",
       "         3.41796875e-01,  1.84187771e-02,  1.96483314e+01]),\n",
       " array([-3.51227234e+02,  1.82400757e+02, -8.76639938e+00, ...,\n",
       "         3.01757812e-01,  1.18616572e-02,  9.00420323e+00]),\n",
       " array([-5.42063293e+02,  2.09591331e+01,  1.23731117e+01, ...,\n",
       "         1.95312500e-02,  1.17516394e-02,  2.51357257e+01]),\n",
       " array([-3.52855164e+02,  1.47224442e+02,  4.02590027e+01, ...,\n",
       "         4.34570312e-02,  2.90648103e-02,  2.24897251e+01]),\n",
       " array([-2.22026688e+02,  1.50913712e+02, -7.85601883e+01, ...,\n",
       "         2.34375000e-02,  1.67028916e-02,  1.74143359e+01]),\n",
       " array([-5.16528259e+02,  1.74390450e+01,  6.77295828e+00, ...,\n",
       "         9.61914062e-02,  2.44532237e-02,  1.81967169e+01]),\n",
       " array([-1.76489288e+02,  1.01838928e+02,  2.02239952e+01, ...,\n",
       "         1.80664062e-02,  1.68424316e-02,  2.43970007e+01]),\n",
       " array([-4.61474792e+02,  1.00220993e+02,  2.68771095e+01, ...,\n",
       "         9.08203125e-02,  9.53061835e-03,  1.17528632e+01]),\n",
       " array([-6.89498596e+02,  3.34723320e+01,  2.72177429e+01, ...,\n",
       "         1.57714844e-01,  1.22211800e-02,  1.04842171e+01]),\n",
       " array([-3.39717651e+02,  1.20603165e+02,  4.14481888e+01, ...,\n",
       "         2.91992188e-01,  1.08383157e-02,  2.07960010e+01]),\n",
       " array([-6.06754211e+02,  5.00238724e+01,  1.08357201e+01, ...,\n",
       "         4.55078125e-01,  1.82682556e-02,  2.11713806e+01]),\n",
       " array([-5.85607239e+02,  5.13261337e+01,  1.42611637e+01, ...,\n",
       "         5.12695312e-02,  0.00000000e+00,  0.00000000e+00]),\n",
       " array([-2.83424255e+02,  9.93709869e+01, -5.71088829e+01, ...,\n",
       "         9.22851562e-02,  4.10756742e-02,  2.45658830e+01]),\n",
       " array([-2.44117386e+02,  4.40495224e+01, -5.87942276e+01, ...,\n",
       "         2.44140625e-02,  1.10546013e-02,  5.47013819e+01]),\n",
       " array([-3.48047363e+02,  1.07021942e+02, -7.87728882e+01, ...,\n",
       "         1.12304688e-01,  1.97175845e-02,  1.56034544e+01]),\n",
       " array([-1.90912521e+02,  1.56557343e+02, -9.38356590e+00, ...,\n",
       "         6.25000000e-02,  2.29448679e-02,  2.22889081e+01]),\n",
       " array([-5.29477417e+02,  7.33363092e-01,  7.32219338e-01, ...,\n",
       "         1.67480469e-01,  8.04600561e-03,  1.39906257e+01]),\n",
       " array([-4.76159210e+02,  3.68394051e+01, -2.33225594e+01, ...,\n",
       "         1.39160156e-01,  1.81622385e-02,  2.10578829e+01]),\n",
       " array([-5.92934692e+02,  3.28219080e+00,  3.09211540e+00, ...,\n",
       "         1.08886719e-01,  6.47223832e-03,  1.19557880e+01]),\n",
       " array([-5.16835632e+02,  4.28864822e+01,  2.46484070e+01, ...,\n",
       "         4.24804688e-02,  8.16911293e-03,  1.45102486e+01]),\n",
       " array([-4.92357880e+02,  6.03998032e+01,  2.64964600e+01, ...,\n",
       "         5.07812500e-02,  6.90111170e-03,  6.81913421e+00]),\n",
       " array([-3.59298492e+02,  3.51244812e+01, -8.79234924e+01, ...,\n",
       "         2.42675781e-01,  3.85461343e-02,  2.98711538e+01]),\n",
       " array([-5.63469849e+02,  2.57431805e-01,  2.25463673e-01, ...,\n",
       "         9.57031250e-02,  1.19331272e-02,  2.27757558e+01]),\n",
       " array([-3.17769562e+02, -1.02608967e+01,  3.38846741e+01, ...,\n",
       "         2.14843750e-02,  8.23702514e-03,  2.16209128e+01]),\n",
       " array([-1.18792038e+02,  1.19692177e+02, -9.06145248e+01, ...,\n",
       "         5.12695312e-02,  2.28344618e-02,  2.11987898e+01]),\n",
       " array([-5.21307922e+02,  7.84696350e+01,  3.17730465e+01, ...,\n",
       "         6.78710938e-02,  9.55635923e-03,  1.91947877e+01]),\n",
       " array([-4.55630951e+02,  1.40463898e+02, -7.15049839e+00, ...,\n",
       "         7.17773438e-02,  1.15955207e-02,  2.52848923e+01]),\n",
       " array([-2.92736176e+02, -6.15196228e+01, -4.95547066e+01, ...,\n",
       "         1.46972656e-01,  0.00000000e+00,  0.00000000e+00]),\n",
       " array([-3.13746643e+02,  1.63301453e+02,  7.90067482e+00, ...,\n",
       "         4.49218750e-02,  0.00000000e+00,  0.00000000e+00]),\n",
       " array([-3.49651489e+02, -3.45900536e+01, -4.12574310e+01, ...,\n",
       "         1.60644531e-01,  1.49196872e-02,  1.90746620e+01]),\n",
       " array([-3.45814484e+02,  1.23190903e+02,  1.68430061e+01, ...,\n",
       "         1.71875000e-01,  2.78773973e-02,  1.79705024e+01]),\n",
       " array([-1.18827705e+02,  1.08652756e+02,  2.24360619e+01, ...,\n",
       "         3.61328125e-02,  3.08385110e-02,  1.53142944e+01]),\n",
       " array([-2.17353073e+02,  1.45408661e+02, -4.23714590e+00, ...,\n",
       "         7.95898438e-02,  2.54382994e-02,  1.93102047e+01]),\n",
       " array([-3.29459045e+02,  4.49812775e+01,  4.94988708e+01, ...,\n",
       "         5.51757812e-02,  2.88964226e-02,  1.62662372e+01]),\n",
       " array([-4.62262146e+02,  2.35323296e+01, -3.98796310e+01, ...,\n",
       "         1.47949219e-01,  9.93801582e-03,  2.89420068e+01]),\n",
       " array([-5.88509644e+02,  4.67275505e+01, -1.10200119e+01, ...,\n",
       "         7.47070312e-02,  0.00000000e+00,  0.00000000e+00]),\n",
       " array([-1.83297668e+02,  7.74506454e+01, -2.31087608e+01, ...,\n",
       "         4.15039062e-02,  2.27744262e-02,  1.47592947e+01]),\n",
       " array([-5.53517578e+02,  4.99303284e+01,  1.34749460e+01, ...,\n",
       "         1.21093750e-01,  0.00000000e+00,  0.00000000e+00]),\n",
       " array([-6.11698914e+02,  3.14065552e+01,  1.03560257e+01, ...,\n",
       "         4.19921875e-02,  1.00245893e-02,  1.64441168e+01]),\n",
       " array([-4.75927582e+02, -5.14341354e+01,  1.96389065e+01, ...,\n",
       "         3.61328125e-01,  8.19425319e-03,  1.48161083e+01]),\n",
       " array([-5.41851440e+02,  1.85964078e-01,  1.55036986e-01, ...,\n",
       "         1.39160156e-01,  9.78886273e-03,  3.15220892e+01]),\n",
       " array([-2.25376923e+02,  1.67739990e+02, -5.70205460e+01, ...,\n",
       "         2.97851562e-02,  8.32746089e-03,  1.74935907e+01]),\n",
       " array([-5.68328369e+02,  0.00000000e+00,  0.00000000e+00, ...,\n",
       "         1.00585938e-01,  1.40363442e-02,  2.20577657e+01]),\n",
       " array([-5.79412476e+02,  3.46496105e+00,  2.87879062e+00, ...,\n",
       "         1.70410156e-01,  8.17924874e-03,  1.49421751e+01]),\n",
       " array([-2.12333588e+02,  8.34649887e+01,  3.45954208e+01, ...,\n",
       "         2.79296875e-01,  6.45462670e-03,  1.54451370e+01]),\n",
       " array([-2.16753799e+02,  1.02326225e+02, -4.34174995e+01, ...,\n",
       "         1.21582031e-01,  0.00000000e+00,  0.00000000e+00]),\n",
       " array([-1.18607590e+02,  1.50400116e+02, -5.49509583e+01, ...,\n",
       "         1.54785156e-01,  8.34691672e-03,  2.38938972e+01]),\n",
       " array([-3.95128479e+02,  7.96478195e+01,  5.42628326e+01, ...,\n",
       "         7.32421875e-02,  2.35465153e-02,  1.61085933e+01]),\n",
       " array([-4.22581543e+02,  8.13107300e+01,  7.17446976e+01, ...,\n",
       "         6.83593750e-02,  1.13248693e-02,  2.74305969e+01]),\n",
       " array([-5.34803589e+02,  8.06048203e+01,  6.05396729e+01, ...,\n",
       "         5.22460938e-02,  1.21315152e-02,  3.19031745e+01]),\n",
       " array([-2.82202576e+02,  1.32317780e+02, -1.08393440e+01, ...,\n",
       "         1.17187500e-02,  1.87975900e-02,  1.85052067e+01]),\n",
       " array([-4.67591522e+02,  8.46994705e+01,  4.60139370e+00, ...,\n",
       "         1.53808594e-01,  1.30785287e-02,  1.42291799e+01]),\n",
       " array([-4.12154724e+02,  1.04038177e+02, -3.04573021e+01, ...,\n",
       "         1.46484375e-02,  1.97757505e-02,  2.33617514e+01]),\n",
       " array([-3.68617889e+02,  1.16144409e+02, -2.32000427e+01, ...,\n",
       "         1.16210938e-01,  1.24619675e-02,  2.29300961e+01]),\n",
       " array([-2.48134964e+02,  7.23248901e+01, -6.75054626e+01, ...,\n",
       "         1.24511719e-01,  8.62461308e-03,  2.01032475e+01]),\n",
       " array([-2.89743286e+02,  7.22739868e+01,  6.20080757e+00, ...,\n",
       "         1.66015625e-02,  3.68984574e-02,  1.82833508e+01]),\n",
       " array([-4.91152771e+02,  4.12344360e+01,  3.12365417e+01, ...,\n",
       "         1.12304688e-01,  2.67431072e-02,  2.76375532e+01]),\n",
       " array([-1.57953995e+02,  1.24320923e+02,  6.36900043e+00, ...,\n",
       "         4.68750000e-02,  1.55912829e-02,  1.45175681e+01]),\n",
       " array([-5.81025574e+02,  9.79890060e+00,  9.08914566e+00, ...,\n",
       "         6.29882812e-02,  1.06560792e-02,  1.93887770e+01]),\n",
       " array([-2.71632202e+02,  5.81383667e+01, -2.63014259e+01, ...,\n",
       "         4.68750000e-02,  1.72016826e-02,  1.82655305e+01]),\n",
       " array([-2.11106979e+02,  7.90113678e+01, -5.78209801e+01, ...,\n",
       "         5.95703125e-02,  0.00000000e+00,  0.00000000e+00]),\n",
       " array([-5.43592407e+02,  5.10092211e+00, -9.80777073e+00, ...,\n",
       "         1.71875000e-01,  1.35865224e-02,  1.24339081e+01]),\n",
       " array([-4.15902161e+02,  3.90481720e+01, -6.69542933e+00, ...,\n",
       "         1.63085938e-01,  1.64521241e-02,  2.43816063e+01]),\n",
       " array([-3.89382355e+02,  1.35588322e+01, -3.34771919e+01, ...,\n",
       "         4.93164062e-02,  8.01113897e-03,  1.21388033e+01]),\n",
       " array([-2.18509109e+02,  1.54642990e+02, -1.08326416e+01, ...,\n",
       "         7.22656250e-02,  1.54063987e-02,  1.74594328e+01]),\n",
       " array([-4.88662048e+02,  3.28521669e-01,  3.26161534e-01, ...,\n",
       "         7.51953125e-02,  1.57635617e-02,  3.08628172e+01]),\n",
       " array([-1.01543755e+02,  5.70619583e+01, -8.40818939e+01, ...,\n",
       "         1.06933594e-01,  1.28337519e-02,  3.04342479e+01]),\n",
       " array([-5.29263245e+02,  6.63789825e+01,  3.35371327e+00, ...,\n",
       "         6.78710938e-02,  4.40602905e-02,  1.92701593e+01]),\n",
       " array([-1.58168808e+02,  8.65691223e+01,  1.32810459e+01, ...,\n",
       "         7.61718750e-02,  8.44155776e-03,  2.11331874e+01]),\n",
       " array([-3.25602478e+02,  4.11937428e+00, -2.43698540e+01, ...,\n",
       "         1.79687500e-01,  1.25337654e-02,  1.88687503e+01]),\n",
       " array([-2.47344193e+02,  2.09871140e+02, -2.18592110e+01, ...,\n",
       "         1.47949219e-01,  1.31231330e-02,  2.47459084e+01]),\n",
       " array([-4.85098907e+02,  7.77609711e+01,  1.66025925e+01, ...,\n",
       "         4.00390625e-02,  5.09671574e-02,  1.42138034e+01]),\n",
       " array([-3.52607147e+02,  1.14781891e+02, -2.28907585e+01, ...,\n",
       "         1.27441406e-01,  0.00000000e+00,  0.00000000e+00]),\n",
       " array([-4.31515198e+02,  9.10382690e+01,  7.28436708e-01, ...,\n",
       "         1.29882812e-01,  0.00000000e+00,  0.00000000e+00]),\n",
       " array([-4.46942566e+02,  9.29485931e+01,  1.97045021e+01, ...,\n",
       "         5.81054688e-02,  1.10390965e-02,  1.78243056e+01]),\n",
       " array([-3.75138489e+02,  8.31129608e+01, -6.75849533e+01, ...,\n",
       "         6.34765625e-02,  1.53082422e-02,  1.27827913e+01]),\n",
       " array([-4.29109680e+02,  6.47051620e+01, -3.15915852e+01, ...,\n",
       "         2.69531250e-01,  9.81573456e-03,  2.29668468e+01]),\n",
       " array([-2.97138000e+02,  8.68980255e+01,  6.16096210e+00, ...,\n",
       "         7.37304688e-02,  1.43424638e-02,  2.70198584e+01]),\n",
       " array([-8.98166809e+01,  1.37781494e+02, -1.07463577e+02, ...,\n",
       "         3.80859375e-02,  7.64254432e-03,  2.39108682e+01]),\n",
       " array([-2.11711945e+02,  9.47908478e+01, -1.25026188e+01, ...,\n",
       "         9.42382812e-02,  8.82810902e-03,  1.85494646e+01]),\n",
       " array([-1.79944092e+02,  2.08586941e+01, -5.76509972e+01, ...,\n",
       "         1.01074219e-01,  1.39547833e-02,  3.73414516e+01]),\n",
       " array([-3.34459595e+02,  7.04526367e+01, -1.90311279e+01, ...,\n",
       "         4.98046875e-02,  1.52542295e-02,  1.86581314e+01]),\n",
       " array([-6.48837830e+02,  2.00096340e+01, -1.11135530e+01, ...,\n",
       "         1.55273438e-01,  1.04580198e-02,  1.51639029e+01]),\n",
       " array([-2.12413116e+02,  1.00747635e+02, -1.75658436e+01, ...,\n",
       "         1.84570312e-01,  0.00000000e+00,  0.00000000e+00]),\n",
       " array([-3.29068909e+02,  1.08619263e+02,  1.03688657e+00, ...,\n",
       "         1.33789062e-01,  1.57292383e-02,  2.45199785e+01]),\n",
       " array([-1.49267044e+02,  1.78630646e+02, -1.26848764e+01, ...,\n",
       "         2.00195312e-02,  2.90107236e-02,  1.97369322e+01]),\n",
       " array([-1.55027725e+02,  9.09960175e+01,  1.05119953e+01, ...,\n",
       "         1.87988281e-01,  1.37998492e-02,  2.48347521e+01]),\n",
       " array([-6.79460632e+02,  4.39787331e+01,  5.82198048e+00, ...,\n",
       "         1.45019531e-01,  5.35266722e-02,  2.36228257e+00]),\n",
       " array([-4.49402618e+02, -1.91023064e+01, -8.88950729e+01, ...,\n",
       "         1.21093750e-01,  1.27373013e-02,  2.20414013e+01]),\n",
       " array([-5.22524780e+02,  2.99982166e+00,  2.67387009e+00, ...,\n",
       "         6.39648438e-02,  1.05261155e-02,  1.72563463e+01]),\n",
       " array([-2.55613724e+02,  1.68294342e+02,  1.64934464e+01, ...,\n",
       "         3.80859375e-02,  2.27296020e-02,  1.48586825e+01]),\n",
       " array([-4.89223663e+02,  9.57925034e+01, -1.28248520e+01, ...,\n",
       "         1.81640625e-01,  2.28231152e-02,  2.91623563e+01]),\n",
       " array([-2.19351440e+02,  8.71554108e+01,  2.17082024e+01, ...,\n",
       "         2.36328125e-01,  5.12770970e-03,  2.01353684e+01]),\n",
       " array([-2.67081696e+02,  2.07851372e+01, -6.43256836e+01, ...,\n",
       "         2.21191406e-01,  6.94715043e-03,  1.78855807e+01]),\n",
       " array([-1.45876404e+02,  1.60130722e+02, -3.04522781e+01, ...,\n",
       "         1.26953125e-02,  1.14088039e-02,  2.14203581e+01]),\n",
       " array([-2.37293701e+02,  6.29512177e+01, -1.13587975e+02, ...,\n",
       "         1.37695312e-01,  3.05666795e-03,  1.57929897e+01]),\n",
       " array([-4.73381042e+02,  5.45899200e+01,  3.17295704e+01, ...,\n",
       "         5.51757812e-02,  1.52906049e-03,  1.16175938e+02]),\n",
       " array([-1.93348755e+02,  9.86129150e+01, -2.45132027e+01, ...,\n",
       "         8.64257812e-02,  1.55698829e-02,  1.42698124e+01]),\n",
       " array([-1.17094543e+02,  9.60567169e+01, -4.80428085e+01, ...,\n",
       "         2.10937500e-01,  1.44615091e-02,  1.21812530e+01]),\n",
       " array([-2.81375854e+02,  1.58486450e+02, -6.08314972e+01, ...,\n",
       "         1.02539062e-02,  1.10520892e-02,  2.18310565e+01]),\n",
       " array([-4.31366821e+02,  4.05264282e+01, -6.73564453e+01, ...,\n",
       "         8.30078125e-03,  1.98659689e-02,  1.51115015e+01]),\n",
       " array([-6.00254333e+02,  6.24909744e+01,  1.43031025e+01, ...,\n",
       "         1.95800781e-01,  1.15901828e-02,  1.85115471e+01]),\n",
       " array([-1.32373672e+02,  1.21797569e+02, -2.87316036e+01, ...,\n",
       "         7.42187500e-02,  1.01656990e-02,  1.78458869e+01]),\n",
       " array([-2.89549927e+02,  1.36174133e+02,  2.54184475e+01, ...,\n",
       "         0.00000000e+00,  2.39235956e-02,  9.54392254e+00]),\n",
       " array([-5.55732910e+02,  7.22382507e+01, -4.40852976e+00, ...,\n",
       "         8.69140625e-02,  3.29818825e-02,  8.13348889e+00]),\n",
       " array([-1.34197937e+02,  2.96048870e+01,  3.12814522e+01, ...,\n",
       "         2.88085938e-02,  1.75625760e-02,  1.35027215e+01]),\n",
       " array([-4.15209961e+02,  5.40237274e+01, -7.33133469e+01, ...,\n",
       "         1.12792969e-01,  3.83621596e-02,  1.66171297e+01]),\n",
       " array([-2.79598267e+02,  1.10762337e+02,  2.77799377e+01, ...,\n",
       "         2.05078125e-02,  3.58460623e-02,  1.60652623e+01]),\n",
       " array([-5.28624084e+02,  2.68206825e+01,  2.45019417e+01, ...,\n",
       "         9.22851562e-02,  1.76766742e-02,  2.36314714e+01]),\n",
       " array([-1.31949692e+02,  1.45012741e+02, -1.85927811e+01, ...,\n",
       "         5.71289062e-02,  1.16733028e-02,  1.82948649e+01]),\n",
       " array([-5.27769775e+02,  4.02391739e+01, -2.24288154e+00, ...,\n",
       "         4.83398438e-02,  2.24904322e-02,  1.47247300e+01]),\n",
       " array([-1.84075989e+02, -5.61492882e+01,  1.05866985e+01, ...,\n",
       "         1.96289062e-01,  8.12211080e-03,  1.43798679e+01]),\n",
       " array([-2.31076477e+02,  1.31919601e+02,  4.37842331e+01, ...,\n",
       "         2.73437500e-02,  2.57771608e-02,  1.55570909e+01]),\n",
       " array([-1.86121796e+02,  6.17247696e+01, -3.25501633e+01, ...,\n",
       "         9.42382812e-02,  1.77676062e-02,  2.17585579e+01]),\n",
       " array([-2.07299545e+02,  2.83052979e+01, -7.44929314e+00, ...,\n",
       "         3.90625000e-02,  3.79087016e-02,  2.64678478e+01]),\n",
       " array([-2.86293030e+02,  1.12883530e+02,  2.11392250e+01, ...,\n",
       "         5.90820312e-02,  1.93447416e-02,  1.80756360e+01]),\n",
       " array([-4.51406891e+02,  1.59432205e+02,  5.52011223e+01, ...,\n",
       "         7.91015625e-02,  2.72401620e-02,  1.97809264e+01]),\n",
       " array([-3.35462952e+02,  1.19972672e+02,  2.63307343e+01, ...,\n",
       "         3.71093750e-02,  3.65533545e-02,  2.24854037e+01]),\n",
       " array([-8.73683929e+01,  1.07861725e+02, -7.53309937e+01, ...,\n",
       "         1.61132812e-01,  8.56693967e-03,  7.10913658e+01]),\n",
       " array([-1.59164993e+02,  7.37182770e+01, -1.68084946e+01, ...,\n",
       "         8.00781250e-02,  1.77033111e-02,  1.40862539e+01]),\n",
       " array([-2.10792999e+02,  8.40917664e+01, -4.20284805e+01, ...,\n",
       "         6.29882812e-02,  1.81412323e-02,  1.49047241e+01]),\n",
       " array([-5.33497131e+02,  7.53023071e+01,  2.91605206e+01, ...,\n",
       "         6.44531250e-02,  6.61109638e-03,  1.52923927e+01]),\n",
       " array([-3.72164917e+02,  1.05631351e+01,  7.16258240e+01, ...,\n",
       "         5.12695312e-02,  2.51580007e-02,  2.91935951e+01]),\n",
       " array([-4.73728210e+02,  3.82262349e+00, -1.28899784e+01, ...,\n",
       "         1.48437500e-01,  1.16441276e-02,  2.73572266e+01]),\n",
       " array([-3.50428497e+02,  1.86273682e+02, -3.16069298e+01, ...,\n",
       "         6.64062500e-02,  2.25236803e-02,  1.86273441e+01]),\n",
       " array([-4.01794434e+02,  8.86748962e+01,  2.74304790e+01, ...,\n",
       "         8.20312500e-02,  1.40911447e-02,  2.26824313e+01]),\n",
       " array([-2.05881165e+02, -6.24885941e+01,  1.92091167e-01, ...,\n",
       "         2.91015625e-01,  3.40101017e-02,  1.44359037e+01]),\n",
       " array([-4.87262604e+02,  4.30569229e+01, -1.98716354e+01, ...,\n",
       "         6.83593750e-02,  1.95907528e-03,  3.46203782e+00]),\n",
       " array([-6.44312195e+02,  0.00000000e+00,  0.00000000e+00, ...,\n",
       "         1.75781250e-01,  2.23893196e-02,  1.76814899e+01]),\n",
       " array([-2.09414017e+02,  6.94508972e+01, -6.83704681e+01, ...,\n",
       "         8.00781250e-02,  4.02871596e-03,  1.72417253e+01]),\n",
       " array([-6.49996338e+02,  4.78528976e+01, -1.15144742e+00, ...,\n",
       "         1.56738281e-01,  0.00000000e+00,  0.00000000e+00]),\n",
       " array([-4.92654633e+02,  8.38423729e+00,  1.05990505e+01, ...,\n",
       "         1.24511719e-01,  8.93996767e-03,  1.59632131e+01]),\n",
       " array([-2.51663834e+02,  1.23795242e+02,  3.45799141e+01, ...,\n",
       "         1.33300781e-01,  2.35923402e-02,  1.73069090e+01]),\n",
       " array([-6.55127075e+02,  4.12514725e+01,  1.81018562e+01, ...,\n",
       "         6.25000000e-02,  1.34906173e-02,  2.13848338e+01]),\n",
       " array([-5.06708710e+02,  8.05710297e+01,  1.72115974e+01, ...,\n",
       "         3.95507812e-02,  2.03253624e-02,  1.18236937e+01]),\n",
       " array([-3.13313080e+02,  1.57666702e+02, -1.05142963e+00, ...,\n",
       "         3.02734375e-01,  2.35833434e-02,  1.91054180e+01]),\n",
       " array([-4.35923218e+02,  1.22394745e+02,  3.31436615e+01, ...,\n",
       "         2.06542969e-01,  1.52327554e-02,  2.00277776e+01]),\n",
       " array([-4.75589813e+02,  1.13888290e+02,  1.52566051e+01, ...,\n",
       "         5.00488281e-01,  6.97783068e-03,  2.13731915e+01]),\n",
       " array([-3.82643860e+02,  7.33744736e+01, -1.43396854e+01, ...,\n",
       "         1.34277344e-01,  1.57161794e-02,  2.13052467e+01]),\n",
       " array([-2.10341522e+02, -4.71149216e+01,  1.76593323e+01, ...,\n",
       "         1.02539062e-01,  1.43594234e-02,  2.08763465e+01]),\n",
       " array([-3.08828583e+02,  1.11059830e+02,  2.97116127e+01, ...,\n",
       "         4.10156250e-02,  1.00259268e-02,  2.66714692e+01]),\n",
       " array([-3.78847473e+02, -2.03254910e+01, -1.29020557e+01, ...,\n",
       "         3.39843750e-01,  9.97248354e-03,  1.89283654e+01]),\n",
       " array([-2.50552521e+02,  7.52334137e+01, -5.99219971e+01, ...,\n",
       "         2.74902344e-01,  1.35930351e-02,  1.73048392e+01]),\n",
       " array([-2.17126450e+02,  1.53572113e+02,  2.93627396e+01, ...,\n",
       "         4.49218750e-02,  1.30806435e-02,  1.56775057e+01]),\n",
       " array([-2.82240875e+02,  1.48744659e+02,  2.64344597e+01, ...,\n",
       "         5.02929688e-02,  1.37608584e-02,  1.52691171e+01]),\n",
       " array([-2.45372284e+02,  6.73038177e+01,  6.07004318e+01, ...,\n",
       "         1.28417969e-01,  1.59992815e-02,  1.99949071e+01]),\n",
       " array([-6.99561844e+01,  7.38734665e+01, -2.94379711e+01, ...,\n",
       "         1.64062500e-01,  9.77139721e-03,  2.56752551e+01]),\n",
       " array([-4.58218384e+02,  7.08283234e+01,  2.48889351e+01, ...,\n",
       "         1.52343750e-01,  2.46214963e-02,  2.06060126e+01]),\n",
       " array([-6.13648254e+02,  3.77060928e+01,  3.00089798e+01, ...,\n",
       "         8.54492188e-02,  2.88346208e-02,  2.49147862e+01]),\n",
       " array([-3.98875153e+02,  8.21116638e+01, -4.28121448e-01, ...,\n",
       "         1.15234375e-01,  1.10232883e-02,  2.60253489e+01]),\n",
       " array([-2.65863892e+02, -5.85635376e+01,  2.22733402e+00, ...,\n",
       "         1.85058594e-01,  2.36152307e-02,  2.30121151e+01]),\n",
       " array([-5.45652710e+02,  6.18494034e+01,  4.47163086e+01, ...,\n",
       "         2.34375000e-02,  1.62541803e-02,  2.14809909e+01]),\n",
       " array([-5.09343842e+02,  1.81831055e+01,  1.58588371e+01, ...,\n",
       "         1.05468750e-01,  1.03026205e-02,  1.70352146e+01]),\n",
       " array([-5.55199768e+02,  4.94951019e+01,  3.82355833e+00, ...,\n",
       "         1.58203125e-01,  2.13869932e-02,  1.68967009e+01]),\n",
       " array([-5.24422729e+02,  0.00000000e+00,  0.00000000e+00, ...,\n",
       "         1.47949219e-01,  2.18701929e-02,  1.97767973e+01]),\n",
       " array([-4.85628662e+02,  2.37052994e+01,  2.24940720e+01, ...,\n",
       "         5.27832031e-01,  5.79815495e-03,  1.45080611e+01]),\n",
       " array([-5.99084229e+02,  4.12055969e+01,  1.00845108e+01, ...,\n",
       "         5.56640625e-02,  0.00000000e+00,  0.00000000e+00]),\n",
       " array([-3.58023376e+02,  6.71505432e+01, -3.06052399e+01, ...,\n",
       "         4.49218750e-02,  1.43121205e-02,  1.85442239e+01]),\n",
       " array([-1.25595413e+02,  1.25955345e+02, -7.96536064e+00, ...,\n",
       "         1.36230469e-01,  1.66386461e-02,  2.47439221e+01]),\n",
       " array([-4.52986145e+02,  6.13515205e+01,  3.29534221e+00, ...,\n",
       "         8.10546875e-02,  1.22453722e-02,  1.86427251e+01]),\n",
       " array([-6.07896179e+02,  1.19943070e+00, -1.72792840e+00, ...,\n",
       "         4.68750000e-02,  1.27091210e-02,  2.66321212e+01]),\n",
       " array([-2.94236877e+02,  1.09883385e+02,  2.55630245e+01, ...,\n",
       "         5.90820312e-02,  1.49628935e-02,  1.30911365e+01]),\n",
       " ...]"
      ]
     },
     "execution_count": 36,
     "metadata": {},
     "output_type": "execute_result"
    }
   ],
   "source": [
    "merged_features_train"
   ]
  },
  {
   "cell_type": "code",
   "execution_count": 37,
   "id": "2e5be546-a873-4fc9-be00-1578bef8fdd1",
   "metadata": {},
   "outputs": [
    {
     "name": "stdout",
     "output_type": "stream",
     "text": [
      "Shape of merged_features_train: (3486, 3856)\n"
     ]
    }
   ],
   "source": [
    "print(\"Shape of merged_features_train:\", np.array(merged_features_train).shape)"
   ]
  },
  {
   "cell_type": "code",
   "execution_count": 38,
   "id": "36739907-b339-427b-b692-945b75069239",
   "metadata": {},
   "outputs": [],
   "source": [
    "test_temp_df = pd.DataFrame()"
   ]
  },
  {
   "cell_type": "code",
   "execution_count": 39,
   "id": "13f5a524-ec8d-4fca-8a8d-32eff5ddcb3c",
   "metadata": {},
   "outputs": [],
   "source": [
    "# Extract MFCC features for testing set\n",
    "test_temp_df['mfcc'] = Parallel(n_jobs=-1)(delayed(extract_mfcc)(audio_file) for audio_file in X_test)\n",
    "\n",
    "# Extract ZCR features for testing set\n",
    "test_temp_df['zcr'] = Parallel(n_jobs=-1)(delayed(extract_zcr)(audio_file) for audio_file in X_test)\n",
    "\n",
    "# Extract Jitter features for testing set\n",
    "test_temp_df['jitter'] = Parallel(n_jobs=-1)(delayed(calculate_jitter)(audio_file) for audio_file in X_test)\n",
    "\n",
    "# Replace NaN values in Jitter column with zero for testing set\n",
    "test_temp_df['jitter'] = test_temp_df['jitter'].fillna(0)\n",
    "\n",
    "# Extract Shimmer features for testing set\n",
    "test_temp_df['shimmer'] = Parallel(n_jobs=-1)(delayed(calculate_shimmer)(audio_file) for audio_file in X_test)\n",
    "\n",
    "# Replace NaN values in Shimmer column with zero for testing set\n",
    "test_temp_df['shimmer'] = test_temp_df['shimmer'].fillna(0)"
   ]
  },
  {
   "cell_type": "code",
   "execution_count": 40,
   "id": "a15b091a-0437-4801-b618-1974f6b82aa1",
   "metadata": {},
   "outputs": [
    {
     "data": {
      "text/plain": [
       "mfcc       0\n",
       "zcr        0\n",
       "jitter     0\n",
       "shimmer    0\n",
       "dtype: int64"
      ]
     },
     "execution_count": 40,
     "metadata": {},
     "output_type": "execute_result"
    }
   ],
   "source": [
    "test_temp_df.isna().sum()"
   ]
  },
  {
   "cell_type": "code",
   "execution_count": 41,
   "id": "3a27e221-8c65-4771-bdeb-c64193ccd11c",
   "metadata": {},
   "outputs": [],
   "source": [
    "# Convert testing dataframe to arrays\n",
    "mfcc_features_test = np.array(test_temp_df['mfcc'])\n",
    "zcr_features_test = np.array(test_temp_df['zcr'])\n",
    "jitter_features_test = np.array(test_temp_df['jitter'])\n",
    "shimmer_features_test = np.array(test_temp_df['shimmer'])"
   ]
  },
  {
   "cell_type": "code",
   "execution_count": 42,
   "id": "40c8f262-541b-4a10-9f5c-a04e21c149e6",
   "metadata": {},
   "outputs": [],
   "source": [
    "merged_features_test = [merge_features(mfcc, zcr, jitter, shimmer) for mfcc, zcr, jitter, shimmer in zip(mfcc_features_test, zcr_features_test, jitter_features_test, shimmer_features_test)]"
   ]
  },
  {
   "cell_type": "code",
   "execution_count": 43,
   "id": "59bcec29-0960-42a2-8d5b-b37ed1f45848",
   "metadata": {},
   "outputs": [
    {
     "name": "stdout",
     "output_type": "stream",
     "text": [
      "Shape of merged_features_test: (1494, 3856)\n"
     ]
    }
   ],
   "source": [
    "print(\"Shape of merged_features_test:\", np.array(merged_features_test).shape)"
   ]
  },
  {
   "cell_type": "code",
   "execution_count": 44,
   "id": "76832657-5453-4373-b1a9-21779aa1dfd3",
   "metadata": {},
   "outputs": [
    {
     "name": "stdout",
     "output_type": "stream",
     "text": [
      "Distribution of 0s and 1s in y_train:\n",
      "1    1743\n",
      "0    1743\n",
      "dtype: int64\n",
      "\n",
      "Distribution of 0s and 1s in y_test:\n",
      "1    747\n",
      "0    747\n",
      "dtype: int64\n"
     ]
    }
   ],
   "source": [
    "y_train_series = pd.Series(y_train)\n",
    "y_test_series = pd.Series(y_test)\n",
    "\n",
    "# Count the occurrences of each unique value in y_train\n",
    "train_distribution = y_train_series.value_counts()\n",
    "\n",
    "# Count the occurrences of each unique value in y_test\n",
    "test_distribution = y_test_series.value_counts()\n",
    "\n",
    "print(\"Distribution of 0s and 1s in y_train:\")\n",
    "print(train_distribution)\n",
    "\n",
    "print(\"\\nDistribution of 0s and 1s in y_test:\")\n",
    "print(test_distribution)"
   ]
  },
  {
   "cell_type": "markdown",
   "id": "33fc6541-6107-4087-8830-cecbed96bbda",
   "metadata": {},
   "source": [
    "# Random Forest"
   ]
  },
  {
   "cell_type": "markdown",
   "id": "c8821d5f-ba03-42c8-b51a-43b1808b919a",
   "metadata": {},
   "source": [
    "### Searching for best parameter"
   ]
  },
  {
   "cell_type": "code",
   "execution_count": 84,
   "id": "25d4f7d8-2ee5-4321-9366-35b556609bc2",
   "metadata": {},
   "outputs": [],
   "source": [
    "param_grid_rf = {\n",
    "    'n_estimators': [100, 300, 500, 800],\n",
    "    'max_depth': [5, 10, 15, 20],\n",
    "    'min_samples_split': [2, 5, 10, 20],\n",
    "    'min_samples_leaf': [1, 2, 4, 6, 10]\n",
    "}"
   ]
  },
  {
   "cell_type": "code",
   "execution_count": 45,
   "id": "e371e0b8-47a1-440f-909b-08585fb31146",
   "metadata": {},
   "outputs": [],
   "source": [
    "rf = RandomForestClassifier(random_state=42, n_jobs=-1)"
   ]
  },
  {
   "cell_type": "code",
   "execution_count": 88,
   "id": "ade6819e-9ca3-4206-8c81-3df92081c57c",
   "metadata": {},
   "outputs": [],
   "source": [
    "random_search_rf = RandomizedSearchCV(estimator=rf, param_distributions=param_grid_rf, n_iter=50, cv=5, random_state=42)"
   ]
  },
  {
   "cell_type": "code",
   "execution_count": 90,
   "id": "e5f69d63-07a9-403c-a821-c02242ee4ef2",
   "metadata": {},
   "outputs": [
    {
     "data": {
      "text/html": [
       "<style>#sk-container-id-6 {color: black;background-color: white;}#sk-container-id-6 pre{padding: 0;}#sk-container-id-6 div.sk-toggleable {background-color: white;}#sk-container-id-6 label.sk-toggleable__label {cursor: pointer;display: block;width: 100%;margin-bottom: 0;padding: 0.3em;box-sizing: border-box;text-align: center;}#sk-container-id-6 label.sk-toggleable__label-arrow:before {content: \"▸\";float: left;margin-right: 0.25em;color: #696969;}#sk-container-id-6 label.sk-toggleable__label-arrow:hover:before {color: black;}#sk-container-id-6 div.sk-estimator:hover label.sk-toggleable__label-arrow:before {color: black;}#sk-container-id-6 div.sk-toggleable__content {max-height: 0;max-width: 0;overflow: hidden;text-align: left;background-color: #f0f8ff;}#sk-container-id-6 div.sk-toggleable__content pre {margin: 0.2em;color: black;border-radius: 0.25em;background-color: #f0f8ff;}#sk-container-id-6 input.sk-toggleable__control:checked~div.sk-toggleable__content {max-height: 200px;max-width: 100%;overflow: auto;}#sk-container-id-6 input.sk-toggleable__control:checked~label.sk-toggleable__label-arrow:before {content: \"▾\";}#sk-container-id-6 div.sk-estimator input.sk-toggleable__control:checked~label.sk-toggleable__label {background-color: #d4ebff;}#sk-container-id-6 div.sk-label input.sk-toggleable__control:checked~label.sk-toggleable__label {background-color: #d4ebff;}#sk-container-id-6 input.sk-hidden--visually {border: 0;clip: rect(1px 1px 1px 1px);clip: rect(1px, 1px, 1px, 1px);height: 1px;margin: -1px;overflow: hidden;padding: 0;position: absolute;width: 1px;}#sk-container-id-6 div.sk-estimator {font-family: monospace;background-color: #f0f8ff;border: 1px dotted black;border-radius: 0.25em;box-sizing: border-box;margin-bottom: 0.5em;}#sk-container-id-6 div.sk-estimator:hover {background-color: #d4ebff;}#sk-container-id-6 div.sk-parallel-item::after {content: \"\";width: 100%;border-bottom: 1px solid gray;flex-grow: 1;}#sk-container-id-6 div.sk-label:hover label.sk-toggleable__label {background-color: #d4ebff;}#sk-container-id-6 div.sk-serial::before {content: \"\";position: absolute;border-left: 1px solid gray;box-sizing: border-box;top: 0;bottom: 0;left: 50%;z-index: 0;}#sk-container-id-6 div.sk-serial {display: flex;flex-direction: column;align-items: center;background-color: white;padding-right: 0.2em;padding-left: 0.2em;position: relative;}#sk-container-id-6 div.sk-item {position: relative;z-index: 1;}#sk-container-id-6 div.sk-parallel {display: flex;align-items: stretch;justify-content: center;background-color: white;position: relative;}#sk-container-id-6 div.sk-item::before, #sk-container-id-6 div.sk-parallel-item::before {content: \"\";position: absolute;border-left: 1px solid gray;box-sizing: border-box;top: 0;bottom: 0;left: 50%;z-index: -1;}#sk-container-id-6 div.sk-parallel-item {display: flex;flex-direction: column;z-index: 1;position: relative;background-color: white;}#sk-container-id-6 div.sk-parallel-item:first-child::after {align-self: flex-end;width: 50%;}#sk-container-id-6 div.sk-parallel-item:last-child::after {align-self: flex-start;width: 50%;}#sk-container-id-6 div.sk-parallel-item:only-child::after {width: 0;}#sk-container-id-6 div.sk-dashed-wrapped {border: 1px dashed gray;margin: 0 0.4em 0.5em 0.4em;box-sizing: border-box;padding-bottom: 0.4em;background-color: white;}#sk-container-id-6 div.sk-label label {font-family: monospace;font-weight: bold;display: inline-block;line-height: 1.2em;}#sk-container-id-6 div.sk-label-container {text-align: center;}#sk-container-id-6 div.sk-container {/* jupyter's `normalize.less` sets `[hidden] { display: none; }` but bootstrap.min.css set `[hidden] { display: none !important; }` so we also need the `!important` here to be able to override the default hidden behavior on the sphinx rendered scikit-learn.org. See: https://github.com/scikit-learn/scikit-learn/issues/21755 */display: inline-block !important;position: relative;}#sk-container-id-6 div.sk-text-repr-fallback {display: none;}</style><div id=\"sk-container-id-6\" class=\"sk-top-container\"><div class=\"sk-text-repr-fallback\"><pre>RandomizedSearchCV(cv=5,\n",
       "                   estimator=RandomForestClassifier(n_jobs=-1, random_state=42),\n",
       "                   n_iter=50,\n",
       "                   param_distributions={&#x27;max_depth&#x27;: [5, 10, 15, 20],\n",
       "                                        &#x27;min_samples_leaf&#x27;: [1, 2, 4, 6, 10],\n",
       "                                        &#x27;min_samples_split&#x27;: [2, 5, 10, 20],\n",
       "                                        &#x27;n_estimators&#x27;: [100, 300, 500, 800]},\n",
       "                   random_state=42)</pre><b>In a Jupyter environment, please rerun this cell to show the HTML representation or trust the notebook. <br />On GitHub, the HTML representation is unable to render, please try loading this page with nbviewer.org.</b></div><div class=\"sk-container\" hidden><div class=\"sk-item sk-dashed-wrapped\"><div class=\"sk-label-container\"><div class=\"sk-label sk-toggleable\"><input class=\"sk-toggleable__control sk-hidden--visually\" id=\"sk-estimator-id-6\" type=\"checkbox\" ><label for=\"sk-estimator-id-6\" class=\"sk-toggleable__label sk-toggleable__label-arrow\">RandomizedSearchCV</label><div class=\"sk-toggleable__content\"><pre>RandomizedSearchCV(cv=5,\n",
       "                   estimator=RandomForestClassifier(n_jobs=-1, random_state=42),\n",
       "                   n_iter=50,\n",
       "                   param_distributions={&#x27;max_depth&#x27;: [5, 10, 15, 20],\n",
       "                                        &#x27;min_samples_leaf&#x27;: [1, 2, 4, 6, 10],\n",
       "                                        &#x27;min_samples_split&#x27;: [2, 5, 10, 20],\n",
       "                                        &#x27;n_estimators&#x27;: [100, 300, 500, 800]},\n",
       "                   random_state=42)</pre></div></div></div><div class=\"sk-parallel\"><div class=\"sk-parallel-item\"><div class=\"sk-item\"><div class=\"sk-label-container\"><div class=\"sk-label sk-toggleable\"><input class=\"sk-toggleable__control sk-hidden--visually\" id=\"sk-estimator-id-7\" type=\"checkbox\" ><label for=\"sk-estimator-id-7\" class=\"sk-toggleable__label sk-toggleable__label-arrow\">estimator: RandomForestClassifier</label><div class=\"sk-toggleable__content\"><pre>RandomForestClassifier(n_jobs=-1, random_state=42)</pre></div></div></div><div class=\"sk-serial\"><div class=\"sk-item\"><div class=\"sk-estimator sk-toggleable\"><input class=\"sk-toggleable__control sk-hidden--visually\" id=\"sk-estimator-id-8\" type=\"checkbox\" ><label for=\"sk-estimator-id-8\" class=\"sk-toggleable__label sk-toggleable__label-arrow\">RandomForestClassifier</label><div class=\"sk-toggleable__content\"><pre>RandomForestClassifier(n_jobs=-1, random_state=42)</pre></div></div></div></div></div></div></div></div></div></div>"
      ],
      "text/plain": [
       "RandomizedSearchCV(cv=5,\n",
       "                   estimator=RandomForestClassifier(n_jobs=-1, random_state=42),\n",
       "                   n_iter=50,\n",
       "                   param_distributions={'max_depth': [5, 10, 15, 20],\n",
       "                                        'min_samples_leaf': [1, 2, 4, 6, 10],\n",
       "                                        'min_samples_split': [2, 5, 10, 20],\n",
       "                                        'n_estimators': [100, 300, 500, 800]},\n",
       "                   random_state=42)"
      ]
     },
     "execution_count": 90,
     "metadata": {},
     "output_type": "execute_result"
    }
   ],
   "source": [
    "random_search_rf.fit(merged_features_train, y_train)"
   ]
  },
  {
   "cell_type": "code",
   "execution_count": 91,
   "id": "27ea2cbd-f9bf-4327-a5fa-567fafdae5bf",
   "metadata": {},
   "outputs": [
    {
     "name": "stdout",
     "output_type": "stream",
     "text": [
      "Best parameters (Random Forest): {'n_estimators': 300, 'min_samples_split': 10, 'min_samples_leaf': 4, 'max_depth': 20}\n",
      "Best score (Random Forest): 62.5649%\n"
     ]
    }
   ],
   "source": [
    "best_params_rf = random_search_rf.best_params_\n",
    "best_model_rf = random_search_rf.best_estimator_\n",
    "\n",
    "print(\"Best parameters (Random Forest):\", best_params_rf)\n",
    "\n",
    "print(f\"Best score (Random Forest): {random_search_rf.best_score_*100:.4f}%\")"
   ]
  },
  {
   "cell_type": "markdown",
   "id": "b85adc9b-2bb3-4895-9457-9a2ebb3cb7f3",
   "metadata": {},
   "source": [
    "#### Evaluate the best model"
   ]
  },
  {
   "cell_type": "code",
   "execution_count": 93,
   "id": "99503401-eac5-44f2-b92a-4c77a421f8ec",
   "metadata": {},
   "outputs": [],
   "source": [
    "y_pred_rf = best_model_rf.predict(merged_features_test)"
   ]
  },
  {
   "cell_type": "code",
   "execution_count": 94,
   "id": "dab91af6-7ed8-46d4-8e82-d921cf5c4aa0",
   "metadata": {},
   "outputs": [
    {
     "data": {
      "text/plain": [
       "0.6010709504685409"
      ]
     },
     "execution_count": 94,
     "metadata": {},
     "output_type": "execute_result"
    }
   ],
   "source": [
    "accuracy_score(y_test,y_pred_rf)"
   ]
  },
  {
   "cell_type": "code",
   "execution_count": 95,
   "id": "ca5eb1cc-5fb1-47e8-b325-1af2fee84582",
   "metadata": {},
   "outputs": [
    {
     "name": "stdout",
     "output_type": "stream",
     "text": [
      "              precision    recall  f1-score   support\n",
      "\n",
      "           0       0.59      0.67      0.63       747\n",
      "           1       0.62      0.53      0.57       747\n",
      "\n",
      "    accuracy                           0.60      1494\n",
      "   macro avg       0.60      0.60      0.60      1494\n",
      "weighted avg       0.60      0.60      0.60      1494\n",
      "\n"
     ]
    }
   ],
   "source": [
    "print(classification_report(y_test, y_pred_rf))"
   ]
  },
  {
   "cell_type": "code",
   "execution_count": 46,
   "id": "14e27f2e-ebb7-4bc5-a488-1d620df49571",
   "metadata": {},
   "outputs": [
    {
     "data": {
      "text/html": [
       "<style>#sk-container-id-1 {color: black;background-color: white;}#sk-container-id-1 pre{padding: 0;}#sk-container-id-1 div.sk-toggleable {background-color: white;}#sk-container-id-1 label.sk-toggleable__label {cursor: pointer;display: block;width: 100%;margin-bottom: 0;padding: 0.3em;box-sizing: border-box;text-align: center;}#sk-container-id-1 label.sk-toggleable__label-arrow:before {content: \"▸\";float: left;margin-right: 0.25em;color: #696969;}#sk-container-id-1 label.sk-toggleable__label-arrow:hover:before {color: black;}#sk-container-id-1 div.sk-estimator:hover label.sk-toggleable__label-arrow:before {color: black;}#sk-container-id-1 div.sk-toggleable__content {max-height: 0;max-width: 0;overflow: hidden;text-align: left;background-color: #f0f8ff;}#sk-container-id-1 div.sk-toggleable__content pre {margin: 0.2em;color: black;border-radius: 0.25em;background-color: #f0f8ff;}#sk-container-id-1 input.sk-toggleable__control:checked~div.sk-toggleable__content {max-height: 200px;max-width: 100%;overflow: auto;}#sk-container-id-1 input.sk-toggleable__control:checked~label.sk-toggleable__label-arrow:before {content: \"▾\";}#sk-container-id-1 div.sk-estimator input.sk-toggleable__control:checked~label.sk-toggleable__label {background-color: #d4ebff;}#sk-container-id-1 div.sk-label input.sk-toggleable__control:checked~label.sk-toggleable__label {background-color: #d4ebff;}#sk-container-id-1 input.sk-hidden--visually {border: 0;clip: rect(1px 1px 1px 1px);clip: rect(1px, 1px, 1px, 1px);height: 1px;margin: -1px;overflow: hidden;padding: 0;position: absolute;width: 1px;}#sk-container-id-1 div.sk-estimator {font-family: monospace;background-color: #f0f8ff;border: 1px dotted black;border-radius: 0.25em;box-sizing: border-box;margin-bottom: 0.5em;}#sk-container-id-1 div.sk-estimator:hover {background-color: #d4ebff;}#sk-container-id-1 div.sk-parallel-item::after {content: \"\";width: 100%;border-bottom: 1px solid gray;flex-grow: 1;}#sk-container-id-1 div.sk-label:hover label.sk-toggleable__label {background-color: #d4ebff;}#sk-container-id-1 div.sk-serial::before {content: \"\";position: absolute;border-left: 1px solid gray;box-sizing: border-box;top: 0;bottom: 0;left: 50%;z-index: 0;}#sk-container-id-1 div.sk-serial {display: flex;flex-direction: column;align-items: center;background-color: white;padding-right: 0.2em;padding-left: 0.2em;position: relative;}#sk-container-id-1 div.sk-item {position: relative;z-index: 1;}#sk-container-id-1 div.sk-parallel {display: flex;align-items: stretch;justify-content: center;background-color: white;position: relative;}#sk-container-id-1 div.sk-item::before, #sk-container-id-1 div.sk-parallel-item::before {content: \"\";position: absolute;border-left: 1px solid gray;box-sizing: border-box;top: 0;bottom: 0;left: 50%;z-index: -1;}#sk-container-id-1 div.sk-parallel-item {display: flex;flex-direction: column;z-index: 1;position: relative;background-color: white;}#sk-container-id-1 div.sk-parallel-item:first-child::after {align-self: flex-end;width: 50%;}#sk-container-id-1 div.sk-parallel-item:last-child::after {align-self: flex-start;width: 50%;}#sk-container-id-1 div.sk-parallel-item:only-child::after {width: 0;}#sk-container-id-1 div.sk-dashed-wrapped {border: 1px dashed gray;margin: 0 0.4em 0.5em 0.4em;box-sizing: border-box;padding-bottom: 0.4em;background-color: white;}#sk-container-id-1 div.sk-label label {font-family: monospace;font-weight: bold;display: inline-block;line-height: 1.2em;}#sk-container-id-1 div.sk-label-container {text-align: center;}#sk-container-id-1 div.sk-container {/* jupyter's `normalize.less` sets `[hidden] { display: none; }` but bootstrap.min.css set `[hidden] { display: none !important; }` so we also need the `!important` here to be able to override the default hidden behavior on the sphinx rendered scikit-learn.org. See: https://github.com/scikit-learn/scikit-learn/issues/21755 */display: inline-block !important;position: relative;}#sk-container-id-1 div.sk-text-repr-fallback {display: none;}</style><div id=\"sk-container-id-1\" class=\"sk-top-container\"><div class=\"sk-text-repr-fallback\"><pre>RandomForestClassifier(max_depth=20, min_samples_leaf=4, min_samples_split=10,\n",
       "                       n_estimators=300, n_jobs=-1)</pre><b>In a Jupyter environment, please rerun this cell to show the HTML representation or trust the notebook. <br />On GitHub, the HTML representation is unable to render, please try loading this page with nbviewer.org.</b></div><div class=\"sk-container\" hidden><div class=\"sk-item\"><div class=\"sk-estimator sk-toggleable\"><input class=\"sk-toggleable__control sk-hidden--visually\" id=\"sk-estimator-id-1\" type=\"checkbox\" checked><label for=\"sk-estimator-id-1\" class=\"sk-toggleable__label sk-toggleable__label-arrow\">RandomForestClassifier</label><div class=\"sk-toggleable__content\"><pre>RandomForestClassifier(max_depth=20, min_samples_leaf=4, min_samples_split=10,\n",
       "                       n_estimators=300, n_jobs=-1)</pre></div></div></div></div></div>"
      ],
      "text/plain": [
       "RandomForestClassifier(max_depth=20, min_samples_leaf=4, min_samples_split=10,\n",
       "                       n_estimators=300, n_jobs=-1)"
      ]
     },
     "execution_count": 46,
     "metadata": {},
     "output_type": "execute_result"
    }
   ],
   "source": [
    "best_model_rf = RandomForestClassifier(n_jobs=-1, n_estimators=300, min_samples_split=10, min_samples_leaf=4, max_depth=20)\n",
    "best_model_rf.fit(merged_features_train, y_train)"
   ]
  },
  {
   "cell_type": "code",
   "execution_count": 47,
   "id": "34a68d48-fcfa-44d6-be57-c8989c97bca6",
   "metadata": {},
   "outputs": [],
   "source": [
    "from sklearn.metrics import roc_curve, auc\n",
    "def plot_roc(best_model, model_name):\n",
    "    predicted_probabilities = best_model.predict_proba(merged_features_test)[:, 1]\n",
    "    fpr, tpr, _ = roc_curve(y_test, predicted_probabilities)\n",
    "    roc_auc = auc(fpr, tpr)\n",
    "    \n",
    "    # Plot ROC curve\n",
    "    plt.figure()\n",
    "    plt.plot(fpr, tpr, color='darkorange', lw=2, label='ROC curve (area = %0.2f)' % roc_auc)\n",
    "    plt.plot([0, 1], [0, 1], color='navy', lw=2, linestyle='--')\n",
    "    plt.xlim([0.0, 1.0])\n",
    "    plt.ylim([0.0, 1.05])\n",
    "    plt.xlabel('False Positive Rate')\n",
    "    plt.ylabel('True Positive Rate')\n",
    "    plt.title(f'Blocks - {model_name} - ROC Curve')\n",
    "    plt.legend(loc=\"lower right\")\n",
    "    plt.savefig(f'ROC(Blocks)_{model_name}.png')\n",
    "    plt.show()"
   ]
  },
  {
   "cell_type": "code",
   "execution_count": 48,
   "id": "d62c4e6c-b927-4047-9158-9b2d2ac1f832",
   "metadata": {},
   "outputs": [
    {
     "data": {
      "image/png": "[encoded data removed]",
      "text/plain": [
       "<Figure size 640x480 with 1 Axes>"
      ]
     },
     "metadata": {},
     "output_type": "display_data"
    }
   ],
   "source": [
    "plot_roc(best_model_rf, 'Random Forest')"
   ]
  },
  {
   "cell_type": "code",
   "execution_count": 101,
   "id": "5eaa7c32-60ed-49ef-b040-48cfc83916bc",
   "metadata": {},
   "outputs": [],
   "source": [
    "verifyer_rf = pd.DataFrame([X_test, y_pred_rf, y_test]).T"
   ]
  },
  {
   "cell_type": "code",
   "execution_count": 102,
   "id": "43810d65-b43d-4a6f-aca8-ee5e57cfe978",
   "metadata": {},
   "outputs": [],
   "source": [
    "verifyer_rf.columns = ['audio', 'y_pred', 'y_test']"
   ]
  },
  {
   "cell_type": "code",
   "execution_count": 103,
   "id": "e3a95d14-d1c2-43c5-b616-8444936d4e91",
   "metadata": {},
   "outputs": [
    {
     "data": {
      "text/html": [
       "<div>\n",
       "<style scoped>\n",
       "    .dataframe tbody tr th:only-of-type {\n",
       "        vertical-align: middle;\n",
       "    }\n",
       "\n",
       "    .dataframe tbody tr th {\n",
       "        vertical-align: top;\n",
       "    }\n",
       "\n",
       "    .dataframe thead th {\n",
       "        text-align: right;\n",
       "    }\n",
       "</style>\n",
       "<table border=\"1\" class=\"dataframe\">\n",
       "  <thead>\n",
       "    <tr style=\"text-align: right;\">\n",
       "      <th></th>\n",
       "      <th>audio</th>\n",
       "      <th>y_pred</th>\n",
       "      <th>y_test</th>\n",
       "    </tr>\n",
       "  </thead>\n",
       "  <tbody>\n",
       "    <tr>\n",
       "      <th>1</th>\n",
       "      <td>C:\\Users\\sakshi\\Desktop\\SMLProject\\DatasetExtr...</td>\n",
       "      <td>0</td>\n",
       "      <td>0</td>\n",
       "    </tr>\n",
       "    <tr>\n",
       "      <th>3</th>\n",
       "      <td>C:\\Users\\sakshi\\Desktop\\SMLProject\\DatasetExtr...</td>\n",
       "      <td>0</td>\n",
       "      <td>0</td>\n",
       "    </tr>\n",
       "    <tr>\n",
       "      <th>6</th>\n",
       "      <td>C:\\Users\\sakshi\\Desktop\\SMLProject\\DatasetExtr...</td>\n",
       "      <td>0</td>\n",
       "      <td>0</td>\n",
       "    </tr>\n",
       "    <tr>\n",
       "      <th>10</th>\n",
       "      <td>C:\\Users\\sakshi\\Desktop\\SMLProject\\DatasetExtr...</td>\n",
       "      <td>0</td>\n",
       "      <td>0</td>\n",
       "    </tr>\n",
       "    <tr>\n",
       "      <th>12</th>\n",
       "      <td>C:\\Users\\sakshi\\Desktop\\SMLProject\\DatasetExtr...</td>\n",
       "      <td>0</td>\n",
       "      <td>0</td>\n",
       "    </tr>\n",
       "    <tr>\n",
       "      <th>...</th>\n",
       "      <td>...</td>\n",
       "      <td>...</td>\n",
       "      <td>...</td>\n",
       "    </tr>\n",
       "    <tr>\n",
       "      <th>1485</th>\n",
       "      <td>C:\\Users\\sakshi\\Desktop\\SMLProject\\DatasetExtr...</td>\n",
       "      <td>0</td>\n",
       "      <td>0</td>\n",
       "    </tr>\n",
       "    <tr>\n",
       "      <th>1486</th>\n",
       "      <td>C:\\Users\\sakshi\\Desktop\\SMLProject\\DatasetExtr...</td>\n",
       "      <td>0</td>\n",
       "      <td>0</td>\n",
       "    </tr>\n",
       "    <tr>\n",
       "      <th>1490</th>\n",
       "      <td>C:\\Users\\sakshi\\Desktop\\SMLProject\\DatasetExtr...</td>\n",
       "      <td>0</td>\n",
       "      <td>0</td>\n",
       "    </tr>\n",
       "    <tr>\n",
       "      <th>1491</th>\n",
       "      <td>C:\\Users\\sakshi\\Desktop\\SMLProject\\DatasetExtr...</td>\n",
       "      <td>0</td>\n",
       "      <td>0</td>\n",
       "    </tr>\n",
       "    <tr>\n",
       "      <th>1492</th>\n",
       "      <td>C:\\Users\\sakshi\\Desktop\\SMLProject\\DatasetExtr...</td>\n",
       "      <td>0</td>\n",
       "      <td>0</td>\n",
       "    </tr>\n",
       "  </tbody>\n",
       "</table>\n",
       "<p>500 rows × 3 columns</p>\n",
       "</div>"
      ],
      "text/plain": [
       "                                                  audio y_pred y_test\n",
       "1     C:\\Users\\sakshi\\Desktop\\SMLProject\\DatasetExtr...      0      0\n",
       "3     C:\\Users\\sakshi\\Desktop\\SMLProject\\DatasetExtr...      0      0\n",
       "6     C:\\Users\\sakshi\\Desktop\\SMLProject\\DatasetExtr...      0      0\n",
       "10    C:\\Users\\sakshi\\Desktop\\SMLProject\\DatasetExtr...      0      0\n",
       "12    C:\\Users\\sakshi\\Desktop\\SMLProject\\DatasetExtr...      0      0\n",
       "...                                                 ...    ...    ...\n",
       "1485  C:\\Users\\sakshi\\Desktop\\SMLProject\\DatasetExtr...      0      0\n",
       "1486  C:\\Users\\sakshi\\Desktop\\SMLProject\\DatasetExtr...      0      0\n",
       "1490  C:\\Users\\sakshi\\Desktop\\SMLProject\\DatasetExtr...      0      0\n",
       "1491  C:\\Users\\sakshi\\Desktop\\SMLProject\\DatasetExtr...      0      0\n",
       "1492  C:\\Users\\sakshi\\Desktop\\SMLProject\\DatasetExtr...      0      0\n",
       "\n",
       "[500 rows x 3 columns]"
      ]
     },
     "execution_count": 103,
     "metadata": {},
     "output_type": "execute_result"
    }
   ],
   "source": [
    "verifyer_rf[(verifyer_rf['y_pred']==0) & (verifyer_rf['y_test']==0)]"
   ]
  },
  {
   "cell_type": "code",
   "execution_count": 104,
   "id": "f7489d68-410d-4a42-9a98-c70c6af49845",
   "metadata": {},
   "outputs": [
    {
     "data": {
      "text/html": [
       "<div>\n",
       "<style scoped>\n",
       "    .dataframe tbody tr th:only-of-type {\n",
       "        vertical-align: middle;\n",
       "    }\n",
       "\n",
       "    .dataframe tbody tr th {\n",
       "        vertical-align: top;\n",
       "    }\n",
       "\n",
       "    .dataframe thead th {\n",
       "        text-align: right;\n",
       "    }\n",
       "</style>\n",
       "<table border=\"1\" class=\"dataframe\">\n",
       "  <thead>\n",
       "    <tr style=\"text-align: right;\">\n",
       "      <th></th>\n",
       "      <th>audio</th>\n",
       "      <th>y_pred</th>\n",
       "      <th>y_test</th>\n",
       "    </tr>\n",
       "  </thead>\n",
       "  <tbody>\n",
       "    <tr>\n",
       "      <th>2</th>\n",
       "      <td>C:\\Users\\sakshi\\Desktop\\SMLProject\\DatasetExtr...</td>\n",
       "      <td>1</td>\n",
       "      <td>1</td>\n",
       "    </tr>\n",
       "    <tr>\n",
       "      <th>8</th>\n",
       "      <td>C:\\Users\\sakshi\\Desktop\\SMLProject\\DatasetExtr...</td>\n",
       "      <td>1</td>\n",
       "      <td>1</td>\n",
       "    </tr>\n",
       "    <tr>\n",
       "      <th>13</th>\n",
       "      <td>C:\\Users\\sakshi\\Desktop\\SMLProject\\DatasetExtr...</td>\n",
       "      <td>1</td>\n",
       "      <td>1</td>\n",
       "    </tr>\n",
       "    <tr>\n",
       "      <th>16</th>\n",
       "      <td>C:\\Users\\sakshi\\Desktop\\SMLProject\\DatasetExtr...</td>\n",
       "      <td>1</td>\n",
       "      <td>1</td>\n",
       "    </tr>\n",
       "    <tr>\n",
       "      <th>27</th>\n",
       "      <td>C:\\Users\\sakshi\\Desktop\\SMLProject\\DatasetExtr...</td>\n",
       "      <td>1</td>\n",
       "      <td>1</td>\n",
       "    </tr>\n",
       "    <tr>\n",
       "      <th>...</th>\n",
       "      <td>...</td>\n",
       "      <td>...</td>\n",
       "      <td>...</td>\n",
       "    </tr>\n",
       "    <tr>\n",
       "      <th>1475</th>\n",
       "      <td>C:\\Users\\sakshi\\Desktop\\SMLProject\\DatasetExtr...</td>\n",
       "      <td>1</td>\n",
       "      <td>1</td>\n",
       "    </tr>\n",
       "    <tr>\n",
       "      <th>1477</th>\n",
       "      <td>C:\\Users\\sakshi\\Desktop\\SMLProject\\DatasetExtr...</td>\n",
       "      <td>1</td>\n",
       "      <td>1</td>\n",
       "    </tr>\n",
       "    <tr>\n",
       "      <th>1487</th>\n",
       "      <td>C:\\Users\\sakshi\\Desktop\\SMLProject\\DatasetExtr...</td>\n",
       "      <td>1</td>\n",
       "      <td>1</td>\n",
       "    </tr>\n",
       "    <tr>\n",
       "      <th>1488</th>\n",
       "      <td>C:\\Users\\sakshi\\Desktop\\SMLProject\\DatasetExtr...</td>\n",
       "      <td>1</td>\n",
       "      <td>1</td>\n",
       "    </tr>\n",
       "    <tr>\n",
       "      <th>1493</th>\n",
       "      <td>C:\\Users\\sakshi\\Desktop\\SMLProject\\DatasetExtr...</td>\n",
       "      <td>1</td>\n",
       "      <td>1</td>\n",
       "    </tr>\n",
       "  </tbody>\n",
       "</table>\n",
       "<p>398 rows × 3 columns</p>\n",
       "</div>"
      ],
      "text/plain": [
       "                                                  audio y_pred y_test\n",
       "2     C:\\Users\\sakshi\\Desktop\\SMLProject\\DatasetExtr...      1      1\n",
       "8     C:\\Users\\sakshi\\Desktop\\SMLProject\\DatasetExtr...      1      1\n",
       "13    C:\\Users\\sakshi\\Desktop\\SMLProject\\DatasetExtr...      1      1\n",
       "16    C:\\Users\\sakshi\\Desktop\\SMLProject\\DatasetExtr...      1      1\n",
       "27    C:\\Users\\sakshi\\Desktop\\SMLProject\\DatasetExtr...      1      1\n",
       "...                                                 ...    ...    ...\n",
       "1475  C:\\Users\\sakshi\\Desktop\\SMLProject\\DatasetExtr...      1      1\n",
       "1477  C:\\Users\\sakshi\\Desktop\\SMLProject\\DatasetExtr...      1      1\n",
       "1487  C:\\Users\\sakshi\\Desktop\\SMLProject\\DatasetExtr...      1      1\n",
       "1488  C:\\Users\\sakshi\\Desktop\\SMLProject\\DatasetExtr...      1      1\n",
       "1493  C:\\Users\\sakshi\\Desktop\\SMLProject\\DatasetExtr...      1      1\n",
       "\n",
       "[398 rows x 3 columns]"
      ]
     },
     "execution_count": 104,
     "metadata": {},
     "output_type": "execute_result"
    }
   ],
   "source": [
    "verifyer_rf[(verifyer_rf['y_pred']==1) & (verifyer_rf['y_test']==1)]"
   ]
  },
  {
   "cell_type": "code",
   "execution_count": 105,
   "id": "a56c11e7-ab31-4614-a462-8a64c3b17307",
   "metadata": {},
   "outputs": [
    {
     "data": {
      "text/html": [
       "<div>\n",
       "<style scoped>\n",
       "    .dataframe tbody tr th:only-of-type {\n",
       "        vertical-align: middle;\n",
       "    }\n",
       "\n",
       "    .dataframe tbody tr th {\n",
       "        vertical-align: top;\n",
       "    }\n",
       "\n",
       "    .dataframe thead th {\n",
       "        text-align: right;\n",
       "    }\n",
       "</style>\n",
       "<table border=\"1\" class=\"dataframe\">\n",
       "  <thead>\n",
       "    <tr style=\"text-align: right;\">\n",
       "      <th></th>\n",
       "      <th>audio</th>\n",
       "      <th>y_pred</th>\n",
       "      <th>y_test</th>\n",
       "    </tr>\n",
       "  </thead>\n",
       "  <tbody>\n",
       "    <tr>\n",
       "      <th>0</th>\n",
       "      <td>C:\\Users\\sakshi\\Desktop\\SMLProject\\DatasetExtr...</td>\n",
       "      <td>0</td>\n",
       "      <td>1</td>\n",
       "    </tr>\n",
       "    <tr>\n",
       "      <th>1</th>\n",
       "      <td>C:\\Users\\sakshi\\Desktop\\SMLProject\\DatasetExtr...</td>\n",
       "      <td>0</td>\n",
       "      <td>0</td>\n",
       "    </tr>\n",
       "    <tr>\n",
       "      <th>2</th>\n",
       "      <td>C:\\Users\\sakshi\\Desktop\\SMLProject\\DatasetExtr...</td>\n",
       "      <td>1</td>\n",
       "      <td>1</td>\n",
       "    </tr>\n",
       "    <tr>\n",
       "      <th>3</th>\n",
       "      <td>C:\\Users\\sakshi\\Desktop\\SMLProject\\DatasetExtr...</td>\n",
       "      <td>0</td>\n",
       "      <td>0</td>\n",
       "    </tr>\n",
       "    <tr>\n",
       "      <th>4</th>\n",
       "      <td>C:\\Users\\sakshi\\Desktop\\SMLProject\\DatasetExtr...</td>\n",
       "      <td>0</td>\n",
       "      <td>1</td>\n",
       "    </tr>\n",
       "    <tr>\n",
       "      <th>...</th>\n",
       "      <td>...</td>\n",
       "      <td>...</td>\n",
       "      <td>...</td>\n",
       "    </tr>\n",
       "    <tr>\n",
       "      <th>1489</th>\n",
       "      <td>C:\\Users\\sakshi\\Desktop\\SMLProject\\DatasetExtr...</td>\n",
       "      <td>0</td>\n",
       "      <td>1</td>\n",
       "    </tr>\n",
       "    <tr>\n",
       "      <th>1490</th>\n",
       "      <td>C:\\Users\\sakshi\\Desktop\\SMLProject\\DatasetExtr...</td>\n",
       "      <td>0</td>\n",
       "      <td>0</td>\n",
       "    </tr>\n",
       "    <tr>\n",
       "      <th>1491</th>\n",
       "      <td>C:\\Users\\sakshi\\Desktop\\SMLProject\\DatasetExtr...</td>\n",
       "      <td>0</td>\n",
       "      <td>0</td>\n",
       "    </tr>\n",
       "    <tr>\n",
       "      <th>1492</th>\n",
       "      <td>C:\\Users\\sakshi\\Desktop\\SMLProject\\DatasetExtr...</td>\n",
       "      <td>0</td>\n",
       "      <td>0</td>\n",
       "    </tr>\n",
       "    <tr>\n",
       "      <th>1493</th>\n",
       "      <td>C:\\Users\\sakshi\\Desktop\\SMLProject\\DatasetExtr...</td>\n",
       "      <td>1</td>\n",
       "      <td>1</td>\n",
       "    </tr>\n",
       "  </tbody>\n",
       "</table>\n",
       "<p>1494 rows × 3 columns</p>\n",
       "</div>"
      ],
      "text/plain": [
       "                                                  audio y_pred y_test\n",
       "0     C:\\Users\\sakshi\\Desktop\\SMLProject\\DatasetExtr...      0      1\n",
       "1     C:\\Users\\sakshi\\Desktop\\SMLProject\\DatasetExtr...      0      0\n",
       "2     C:\\Users\\sakshi\\Desktop\\SMLProject\\DatasetExtr...      1      1\n",
       "3     C:\\Users\\sakshi\\Desktop\\SMLProject\\DatasetExtr...      0      0\n",
       "4     C:\\Users\\sakshi\\Desktop\\SMLProject\\DatasetExtr...      0      1\n",
       "...                                                 ...    ...    ...\n",
       "1489  C:\\Users\\sakshi\\Desktop\\SMLProject\\DatasetExtr...      0      1\n",
       "1490  C:\\Users\\sakshi\\Desktop\\SMLProject\\DatasetExtr...      0      0\n",
       "1491  C:\\Users\\sakshi\\Desktop\\SMLProject\\DatasetExtr...      0      0\n",
       "1492  C:\\Users\\sakshi\\Desktop\\SMLProject\\DatasetExtr...      0      0\n",
       "1493  C:\\Users\\sakshi\\Desktop\\SMLProject\\DatasetExtr...      1      1\n",
       "\n",
       "[1494 rows x 3 columns]"
      ]
     },
     "execution_count": 105,
     "metadata": {},
     "output_type": "execute_result"
    }
   ],
   "source": [
    "verifyer_rf"
   ]
  },
  {
   "cell_type": "code",
   "execution_count": 106,
   "id": "23d1e458-5a3f-4209-8af3-c483afcb7f8a",
   "metadata": {},
   "outputs": [],
   "source": [
    "verifyer_rf.to_csv(\"predicted_randomforest_Blocks.csv\")"
   ]
  },
  {
   "cell_type": "code",
   "execution_count": 50,
   "id": "cc4d895c-436e-41ee-b46c-d37d8b20c5e2",
   "metadata": {},
   "outputs": [],
   "source": [
    "import pickle\n",
    "file_path = r\"D:\\SEM 4\\Project\\\\randomforest_Blocks.pkl\"\n",
    "\n",
    "with open(file_path, 'wb') as file:\n",
    "    pickle.dump(best_model_rf, file)"
   ]
  },
  {
   "cell_type": "code",
   "execution_count": 108,
   "id": "8b1b5ca6-f119-4185-a2e7-ee90d05d9655",
   "metadata": {},
   "outputs": [],
   "source": [
    "test_rf = pd.DataFrame([X_test, y_test, y_pred_rf]).T\n",
    "test_rf.columns = ['X_test', 'y_test', 'y_pred']"
   ]
  },
  {
   "cell_type": "code",
   "execution_count": 109,
   "id": "e6c3db53-48c7-43b5-8dcb-595c4fe58dbd",
   "metadata": {},
   "outputs": [],
   "source": [
    "test_rf.to_csv(\"test_rf_blocks.csv\")"
   ]
  },
  {
   "cell_type": "code",
   "execution_count": 91,
   "id": "4f4add47",
   "metadata": {},
   "outputs": [],
   "source": [
    "y_pred_rf=best_model_rf.predict(merged_features_test)"
   ]
  },
  {
   "cell_type": "markdown",
   "id": "8e60af24-2263-4b20-866a-68cf60dcc54e",
   "metadata": {},
   "source": [
    "# Decision Tree"
   ]
  },
  {
   "cell_type": "code",
   "execution_count": 52,
   "id": "2cade8e4-721c-47ca-a1eb-a03bd435cc25",
   "metadata": {},
   "outputs": [],
   "source": [
    "param_grid_dt = {\n",
    "    'max_depth': [5, 10, 15, 20],\n",
    "    'min_samples_split': [2, 5, 10, 20],\n",
    "    'min_samples_leaf': [1, 2, 4, 6, 10]\n",
    "}"
   ]
  },
  {
   "cell_type": "code",
   "execution_count": 53,
   "id": "2785778b-ab6a-482a-b4ca-3403b8b7a81c",
   "metadata": {},
   "outputs": [],
   "source": [
    "dt = DecisionTreeClassifier(random_state=42)\n",
    "random_search_dt = RandomizedSearchCV(estimator=dt, param_distributions=param_grid_dt, n_iter=50, cv=5, random_state=42)"
   ]
  },
  {
   "cell_type": "code",
   "execution_count": 112,
   "id": "b7221af6-7dc9-4e21-9cbb-a0a476372806",
   "metadata": {},
   "outputs": [
    {
     "data": {
      "text/html": [
       "<style>#sk-container-id-8 {color: black;background-color: white;}#sk-container-id-8 pre{padding: 0;}#sk-container-id-8 div.sk-toggleable {background-color: white;}#sk-container-id-8 label.sk-toggleable__label {cursor: pointer;display: block;width: 100%;margin-bottom: 0;padding: 0.3em;box-sizing: border-box;text-align: center;}#sk-container-id-8 label.sk-toggleable__label-arrow:before {content: \"▸\";float: left;margin-right: 0.25em;color: #696969;}#sk-container-id-8 label.sk-toggleable__label-arrow:hover:before {color: black;}#sk-container-id-8 div.sk-estimator:hover label.sk-toggleable__label-arrow:before {color: black;}#sk-container-id-8 div.sk-toggleable__content {max-height: 0;max-width: 0;overflow: hidden;text-align: left;background-color: #f0f8ff;}#sk-container-id-8 div.sk-toggleable__content pre {margin: 0.2em;color: black;border-radius: 0.25em;background-color: #f0f8ff;}#sk-container-id-8 input.sk-toggleable__control:checked~div.sk-toggleable__content {max-height: 200px;max-width: 100%;overflow: auto;}#sk-container-id-8 input.sk-toggleable__control:checked~label.sk-toggleable__label-arrow:before {content: \"▾\";}#sk-container-id-8 div.sk-estimator input.sk-toggleable__control:checked~label.sk-toggleable__label {background-color: #d4ebff;}#sk-container-id-8 div.sk-label input.sk-toggleable__control:checked~label.sk-toggleable__label {background-color: #d4ebff;}#sk-container-id-8 input.sk-hidden--visually {border: 0;clip: rect(1px 1px 1px 1px);clip: rect(1px, 1px, 1px, 1px);height: 1px;margin: -1px;overflow: hidden;padding: 0;position: absolute;width: 1px;}#sk-container-id-8 div.sk-estimator {font-family: monospace;background-color: #f0f8ff;border: 1px dotted black;border-radius: 0.25em;box-sizing: border-box;margin-bottom: 0.5em;}#sk-container-id-8 div.sk-estimator:hover {background-color: #d4ebff;}#sk-container-id-8 div.sk-parallel-item::after {content: \"\";width: 100%;border-bottom: 1px solid gray;flex-grow: 1;}#sk-container-id-8 div.sk-label:hover label.sk-toggleable__label {background-color: #d4ebff;}#sk-container-id-8 div.sk-serial::before {content: \"\";position: absolute;border-left: 1px solid gray;box-sizing: border-box;top: 0;bottom: 0;left: 50%;z-index: 0;}#sk-container-id-8 div.sk-serial {display: flex;flex-direction: column;align-items: center;background-color: white;padding-right: 0.2em;padding-left: 0.2em;position: relative;}#sk-container-id-8 div.sk-item {position: relative;z-index: 1;}#sk-container-id-8 div.sk-parallel {display: flex;align-items: stretch;justify-content: center;background-color: white;position: relative;}#sk-container-id-8 div.sk-item::before, #sk-container-id-8 div.sk-parallel-item::before {content: \"\";position: absolute;border-left: 1px solid gray;box-sizing: border-box;top: 0;bottom: 0;left: 50%;z-index: -1;}#sk-container-id-8 div.sk-parallel-item {display: flex;flex-direction: column;z-index: 1;position: relative;background-color: white;}#sk-container-id-8 div.sk-parallel-item:first-child::after {align-self: flex-end;width: 50%;}#sk-container-id-8 div.sk-parallel-item:last-child::after {align-self: flex-start;width: 50%;}#sk-container-id-8 div.sk-parallel-item:only-child::after {width: 0;}#sk-container-id-8 div.sk-dashed-wrapped {border: 1px dashed gray;margin: 0 0.4em 0.5em 0.4em;box-sizing: border-box;padding-bottom: 0.4em;background-color: white;}#sk-container-id-8 div.sk-label label {font-family: monospace;font-weight: bold;display: inline-block;line-height: 1.2em;}#sk-container-id-8 div.sk-label-container {text-align: center;}#sk-container-id-8 div.sk-container {/* jupyter's `normalize.less` sets `[hidden] { display: none; }` but bootstrap.min.css set `[hidden] { display: none !important; }` so we also need the `!important` here to be able to override the default hidden behavior on the sphinx rendered scikit-learn.org. See: https://github.com/scikit-learn/scikit-learn/issues/21755 */display: inline-block !important;position: relative;}#sk-container-id-8 div.sk-text-repr-fallback {display: none;}</style><div id=\"sk-container-id-8\" class=\"sk-top-container\"><div class=\"sk-text-repr-fallback\"><pre>RandomizedSearchCV(cv=5, estimator=DecisionTreeClassifier(random_state=42),\n",
       "                   n_iter=50,\n",
       "                   param_distributions={&#x27;max_depth&#x27;: [5, 10, 15, 20],\n",
       "                                        &#x27;min_samples_leaf&#x27;: [1, 2, 4, 6, 10],\n",
       "                                        &#x27;min_samples_split&#x27;: [2, 5, 10, 20]},\n",
       "                   random_state=42)</pre><b>In a Jupyter environment, please rerun this cell to show the HTML representation or trust the notebook. <br />On GitHub, the HTML representation is unable to render, please try loading this page with nbviewer.org.</b></div><div class=\"sk-container\" hidden><div class=\"sk-item sk-dashed-wrapped\"><div class=\"sk-label-container\"><div class=\"sk-label sk-toggleable\"><input class=\"sk-toggleable__control sk-hidden--visually\" id=\"sk-estimator-id-10\" type=\"checkbox\" ><label for=\"sk-estimator-id-10\" class=\"sk-toggleable__label sk-toggleable__label-arrow\">RandomizedSearchCV</label><div class=\"sk-toggleable__content\"><pre>RandomizedSearchCV(cv=5, estimator=DecisionTreeClassifier(random_state=42),\n",
       "                   n_iter=50,\n",
       "                   param_distributions={&#x27;max_depth&#x27;: [5, 10, 15, 20],\n",
       "                                        &#x27;min_samples_leaf&#x27;: [1, 2, 4, 6, 10],\n",
       "                                        &#x27;min_samples_split&#x27;: [2, 5, 10, 20]},\n",
       "                   random_state=42)</pre></div></div></div><div class=\"sk-parallel\"><div class=\"sk-parallel-item\"><div class=\"sk-item\"><div class=\"sk-label-container\"><div class=\"sk-label sk-toggleable\"><input class=\"sk-toggleable__control sk-hidden--visually\" id=\"sk-estimator-id-11\" type=\"checkbox\" ><label for=\"sk-estimator-id-11\" class=\"sk-toggleable__label sk-toggleable__label-arrow\">estimator: DecisionTreeClassifier</label><div class=\"sk-toggleable__content\"><pre>DecisionTreeClassifier(random_state=42)</pre></div></div></div><div class=\"sk-serial\"><div class=\"sk-item\"><div class=\"sk-estimator sk-toggleable\"><input class=\"sk-toggleable__control sk-hidden--visually\" id=\"sk-estimator-id-12\" type=\"checkbox\" ><label for=\"sk-estimator-id-12\" class=\"sk-toggleable__label sk-toggleable__label-arrow\">DecisionTreeClassifier</label><div class=\"sk-toggleable__content\"><pre>DecisionTreeClassifier(random_state=42)</pre></div></div></div></div></div></div></div></div></div></div>"
      ],
      "text/plain": [
       "RandomizedSearchCV(cv=5, estimator=DecisionTreeClassifier(random_state=42),\n",
       "                   n_iter=50,\n",
       "                   param_distributions={'max_depth': [5, 10, 15, 20],\n",
       "                                        'min_samples_leaf': [1, 2, 4, 6, 10],\n",
       "                                        'min_samples_split': [2, 5, 10, 20]},\n",
       "                   random_state=42)"
      ]
     },
     "execution_count": 112,
     "metadata": {},
     "output_type": "execute_result"
    }
   ],
   "source": [
    "random_search_dt.fit(merged_features_train, y_train)"
   ]
  },
  {
   "cell_type": "code",
   "execution_count": 113,
   "id": "ce8e5c28-d88c-41b8-9d9a-2a17951c0554",
   "metadata": {},
   "outputs": [
    {
     "name": "stdout",
     "output_type": "stream",
     "text": [
      "Best parameters (Decision Tree): {'min_samples_split': 5, 'min_samples_leaf': 2, 'max_depth': 10}\n",
      "Best score (Decision Tree): 55.6517%\n"
     ]
    }
   ],
   "source": [
    "best_params_dt = random_search_dt.best_params_\n",
    "best_model_dt = random_search_dt.best_estimator_\n",
    "\n",
    "print(\"Best parameters (Decision Tree):\", best_params_dt)\n",
    "\n",
    "print(f\"Best score (Decision Tree): {random_search_dt.best_score_*100:.4f}%\")"
   ]
  },
  {
   "cell_type": "code",
   "execution_count": 114,
   "id": "c49c9f1f-7c4e-4776-8ed9-37dc1cb379ad",
   "metadata": {},
   "outputs": [],
   "source": [
    "y_pred_dt = best_model_dt.predict(merged_features_test)"
   ]
  },
  {
   "cell_type": "code",
   "execution_count": 115,
   "id": "86b0e8c2-d4a1-4a77-8805-8355ae330cb8",
   "metadata": {},
   "outputs": [
    {
     "data": {
      "text/plain": [
       "0.5107095046854083"
      ]
     },
     "execution_count": 115,
     "metadata": {},
     "output_type": "execute_result"
    }
   ],
   "source": [
    "accuracy_score(y_test, y_pred_dt)"
   ]
  },
  {
   "cell_type": "code",
   "execution_count": 116,
   "id": "2acd500d-0c5c-4179-b995-023af746b3ec",
   "metadata": {},
   "outputs": [
    {
     "name": "stdout",
     "output_type": "stream",
     "text": [
      "              precision    recall  f1-score   support\n",
      "\n",
      "           0       0.51      0.52      0.52       747\n",
      "           1       0.51      0.50      0.50       747\n",
      "\n",
      "    accuracy                           0.51      1494\n",
      "   macro avg       0.51      0.51      0.51      1494\n",
      "weighted avg       0.51      0.51      0.51      1494\n",
      "\n"
     ]
    }
   ],
   "source": [
    "print(classification_report(y_test, y_pred_dt))"
   ]
  },
  {
   "cell_type": "code",
   "execution_count": 54,
   "id": "d07bb2e8-87c1-4307-8c4d-e1e57694c61d",
   "metadata": {},
   "outputs": [
    {
     "data": {
      "text/html": [
       "<style>#sk-container-id-2 {color: black;background-color: white;}#sk-container-id-2 pre{padding: 0;}#sk-container-id-2 div.sk-toggleable {background-color: white;}#sk-container-id-2 label.sk-toggleable__label {cursor: pointer;display: block;width: 100%;margin-bottom: 0;padding: 0.3em;box-sizing: border-box;text-align: center;}#sk-container-id-2 label.sk-toggleable__label-arrow:before {content: \"▸\";float: left;margin-right: 0.25em;color: #696969;}#sk-container-id-2 label.sk-toggleable__label-arrow:hover:before {color: black;}#sk-container-id-2 div.sk-estimator:hover label.sk-toggleable__label-arrow:before {color: black;}#sk-container-id-2 div.sk-toggleable__content {max-height: 0;max-width: 0;overflow: hidden;text-align: left;background-color: #f0f8ff;}#sk-container-id-2 div.sk-toggleable__content pre {margin: 0.2em;color: black;border-radius: 0.25em;background-color: #f0f8ff;}#sk-container-id-2 input.sk-toggleable__control:checked~div.sk-toggleable__content {max-height: 200px;max-width: 100%;overflow: auto;}#sk-container-id-2 input.sk-toggleable__control:checked~label.sk-toggleable__label-arrow:before {content: \"▾\";}#sk-container-id-2 div.sk-estimator input.sk-toggleable__control:checked~label.sk-toggleable__label {background-color: #d4ebff;}#sk-container-id-2 div.sk-label input.sk-toggleable__control:checked~label.sk-toggleable__label {background-color: #d4ebff;}#sk-container-id-2 input.sk-hidden--visually {border: 0;clip: rect(1px 1px 1px 1px);clip: rect(1px, 1px, 1px, 1px);height: 1px;margin: -1px;overflow: hidden;padding: 0;position: absolute;width: 1px;}#sk-container-id-2 div.sk-estimator {font-family: monospace;background-color: #f0f8ff;border: 1px dotted black;border-radius: 0.25em;box-sizing: border-box;margin-bottom: 0.5em;}#sk-container-id-2 div.sk-estimator:hover {background-color: #d4ebff;}#sk-container-id-2 div.sk-parallel-item::after {content: \"\";width: 100%;border-bottom: 1px solid gray;flex-grow: 1;}#sk-container-id-2 div.sk-label:hover label.sk-toggleable__label {background-color: #d4ebff;}#sk-container-id-2 div.sk-serial::before {content: \"\";position: absolute;border-left: 1px solid gray;box-sizing: border-box;top: 0;bottom: 0;left: 50%;z-index: 0;}#sk-container-id-2 div.sk-serial {display: flex;flex-direction: column;align-items: center;background-color: white;padding-right: 0.2em;padding-left: 0.2em;position: relative;}#sk-container-id-2 div.sk-item {position: relative;z-index: 1;}#sk-container-id-2 div.sk-parallel {display: flex;align-items: stretch;justify-content: center;background-color: white;position: relative;}#sk-container-id-2 div.sk-item::before, #sk-container-id-2 div.sk-parallel-item::before {content: \"\";position: absolute;border-left: 1px solid gray;box-sizing: border-box;top: 0;bottom: 0;left: 50%;z-index: -1;}#sk-container-id-2 div.sk-parallel-item {display: flex;flex-direction: column;z-index: 1;position: relative;background-color: white;}#sk-container-id-2 div.sk-parallel-item:first-child::after {align-self: flex-end;width: 50%;}#sk-container-id-2 div.sk-parallel-item:last-child::after {align-self: flex-start;width: 50%;}#sk-container-id-2 div.sk-parallel-item:only-child::after {width: 0;}#sk-container-id-2 div.sk-dashed-wrapped {border: 1px dashed gray;margin: 0 0.4em 0.5em 0.4em;box-sizing: border-box;padding-bottom: 0.4em;background-color: white;}#sk-container-id-2 div.sk-label label {font-family: monospace;font-weight: bold;display: inline-block;line-height: 1.2em;}#sk-container-id-2 div.sk-label-container {text-align: center;}#sk-container-id-2 div.sk-container {/* jupyter's `normalize.less` sets `[hidden] { display: none; }` but bootstrap.min.css set `[hidden] { display: none !important; }` so we also need the `!important` here to be able to override the default hidden behavior on the sphinx rendered scikit-learn.org. See: https://github.com/scikit-learn/scikit-learn/issues/21755 */display: inline-block !important;position: relative;}#sk-container-id-2 div.sk-text-repr-fallback {display: none;}</style><div id=\"sk-container-id-2\" class=\"sk-top-container\"><div class=\"sk-text-repr-fallback\"><pre>DecisionTreeClassifier(max_depth=10, min_samples_leaf=2, min_samples_split=5)</pre><b>In a Jupyter environment, please rerun this cell to show the HTML representation or trust the notebook. <br />On GitHub, the HTML representation is unable to render, please try loading this page with nbviewer.org.</b></div><div class=\"sk-container\" hidden><div class=\"sk-item\"><div class=\"sk-estimator sk-toggleable\"><input class=\"sk-toggleable__control sk-hidden--visually\" id=\"sk-estimator-id-2\" type=\"checkbox\" checked><label for=\"sk-estimator-id-2\" class=\"sk-toggleable__label sk-toggleable__label-arrow\">DecisionTreeClassifier</label><div class=\"sk-toggleable__content\"><pre>DecisionTreeClassifier(max_depth=10, min_samples_leaf=2, min_samples_split=5)</pre></div></div></div></div></div>"
      ],
      "text/plain": [
       "DecisionTreeClassifier(max_depth=10, min_samples_leaf=2, min_samples_split=5)"
      ]
     },
     "execution_count": 54,
     "metadata": {},
     "output_type": "execute_result"
    }
   ],
   "source": [
    "best_model_dt = DecisionTreeClassifier(min_samples_split=5, min_samples_leaf=2, max_depth=10)\n",
    "best_model_dt.fit(merged_features_train, y_train)"
   ]
  },
  {
   "cell_type": "code",
   "execution_count": 55,
   "id": "a7b6277c-d2ca-4207-9c3d-7dcb1b090b35",
   "metadata": {},
   "outputs": [
    {
     "data": {
      "image/png": "[encoded data removed]",
      "text/plain": [
       "<Figure size 640x480 with 1 Axes>"
      ]
     },
     "metadata": {},
     "output_type": "display_data"
    }
   ],
   "source": [
    "plot_roc(best_model_dt,'Decision Tree')"
   ]
  },
  {
   "cell_type": "code",
   "execution_count": 56,
   "id": "42b0dea2-9d90-44a9-af96-55cd38e6f606",
   "metadata": {},
   "outputs": [],
   "source": [
    "file_path = r\"D:\\SEM 4\\Project\\decisiontree_Blocks.pkl\"\n",
    "\n",
    "with open(file_path, 'wb') as file:\n",
    "    pickle.dump(best_model_dt, file)"
   ]
  },
  {
   "cell_type": "code",
   "execution_count": 120,
   "id": "7dd47cb8-42ba-42cb-bfcc-95be747c9c2a",
   "metadata": {},
   "outputs": [],
   "source": [
    "verifyer_dt = pd.DataFrame([X_test, y_pred_dt, y_test]).T\n",
    "verifyer_dt.columns = ['audio', 'y_pred', 'y_test']\n",
    "verifyer_dt.to_csv(\"predicted_dt_Blocks.csv\")\n",
    "test_dt = pd.DataFrame([X_test, y_test, y_pred_dt]).T\n",
    "test_dt.columns = ['X_test', 'y_test', 'y_pred']\n",
    "test_dt.to_csv(\"test_dt_blocks.csv\")"
   ]
  },
  {
   "cell_type": "code",
   "execution_count": 92,
   "id": "475761ed",
   "metadata": {},
   "outputs": [],
   "source": [
    "y_pred_dt=best_model_dt.predict(merged_features_test)"
   ]
  },
  {
   "cell_type": "markdown",
   "id": "c7b67ccf-66e0-41a1-bf08-423f87189750",
   "metadata": {},
   "source": [
    "# KNN"
   ]
  },
  {
   "cell_type": "code",
   "execution_count": 121,
   "id": "0ddb7fcc-b0ec-4926-b15d-58220290e070",
   "metadata": {},
   "outputs": [],
   "source": [
    "param_grid_knn = {\n",
    "    'n_neighbors': np.arange(1, 22, 2),\n",
    "    'weights': ['uniform', 'distance'],\n",
    "    'algorithm': ['auto', 'ball_tree', 'kd_tree', 'brute'],\n",
    "    'p': [1, 2]\n",
    "}"
   ]
  },
  {
   "cell_type": "code",
   "execution_count": 57,
   "id": "5598004c-f634-4224-bc7e-8cbf08e8b5d6",
   "metadata": {},
   "outputs": [],
   "source": [
    "from sklearn.neighbors import KNeighborsClassifier\n",
    "knn = KNeighborsClassifier(n_jobs=-1)"
   ]
  },
  {
   "cell_type": "code",
   "execution_count": null,
   "id": "72f3745d",
   "metadata": {},
   "outputs": [],
   "source": [
    "random_search_knn = RandomizedSearchCV(estimator=knn, param_distributions=param_grid_knn, n_iter=50, cv=5, random_state=42)"
   ]
  },
  {
   "cell_type": "code",
   "execution_count": 123,
   "id": "c36ede34-331b-4f39-9556-fb2adf899322",
   "metadata": {},
   "outputs": [
    {
     "data": {
      "text/html": [
       "<style>#sk-container-id-10 {color: black;background-color: white;}#sk-container-id-10 pre{padding: 0;}#sk-container-id-10 div.sk-toggleable {background-color: white;}#sk-container-id-10 label.sk-toggleable__label {cursor: pointer;display: block;width: 100%;margin-bottom: 0;padding: 0.3em;box-sizing: border-box;text-align: center;}#sk-container-id-10 label.sk-toggleable__label-arrow:before {content: \"▸\";float: left;margin-right: 0.25em;color: #696969;}#sk-container-id-10 label.sk-toggleable__label-arrow:hover:before {color: black;}#sk-container-id-10 div.sk-estimator:hover label.sk-toggleable__label-arrow:before {color: black;}#sk-container-id-10 div.sk-toggleable__content {max-height: 0;max-width: 0;overflow: hidden;text-align: left;background-color: #f0f8ff;}#sk-container-id-10 div.sk-toggleable__content pre {margin: 0.2em;color: black;border-radius: 0.25em;background-color: #f0f8ff;}#sk-container-id-10 input.sk-toggleable__control:checked~div.sk-toggleable__content {max-height: 200px;max-width: 100%;overflow: auto;}#sk-container-id-10 input.sk-toggleable__control:checked~label.sk-toggleable__label-arrow:before {content: \"▾\";}#sk-container-id-10 div.sk-estimator input.sk-toggleable__control:checked~label.sk-toggleable__label {background-color: #d4ebff;}#sk-container-id-10 div.sk-label input.sk-toggleable__control:checked~label.sk-toggleable__label {background-color: #d4ebff;}#sk-container-id-10 input.sk-hidden--visually {border: 0;clip: rect(1px 1px 1px 1px);clip: rect(1px, 1px, 1px, 1px);height: 1px;margin: -1px;overflow: hidden;padding: 0;position: absolute;width: 1px;}#sk-container-id-10 div.sk-estimator {font-family: monospace;background-color: #f0f8ff;border: 1px dotted black;border-radius: 0.25em;box-sizing: border-box;margin-bottom: 0.5em;}#sk-container-id-10 div.sk-estimator:hover {background-color: #d4ebff;}#sk-container-id-10 div.sk-parallel-item::after {content: \"\";width: 100%;border-bottom: 1px solid gray;flex-grow: 1;}#sk-container-id-10 div.sk-label:hover label.sk-toggleable__label {background-color: #d4ebff;}#sk-container-id-10 div.sk-serial::before {content: \"\";position: absolute;border-left: 1px solid gray;box-sizing: border-box;top: 0;bottom: 0;left: 50%;z-index: 0;}#sk-container-id-10 div.sk-serial {display: flex;flex-direction: column;align-items: center;background-color: white;padding-right: 0.2em;padding-left: 0.2em;position: relative;}#sk-container-id-10 div.sk-item {position: relative;z-index: 1;}#sk-container-id-10 div.sk-parallel {display: flex;align-items: stretch;justify-content: center;background-color: white;position: relative;}#sk-container-id-10 div.sk-item::before, #sk-container-id-10 div.sk-parallel-item::before {content: \"\";position: absolute;border-left: 1px solid gray;box-sizing: border-box;top: 0;bottom: 0;left: 50%;z-index: -1;}#sk-container-id-10 div.sk-parallel-item {display: flex;flex-direction: column;z-index: 1;position: relative;background-color: white;}#sk-container-id-10 div.sk-parallel-item:first-child::after {align-self: flex-end;width: 50%;}#sk-container-id-10 div.sk-parallel-item:last-child::after {align-self: flex-start;width: 50%;}#sk-container-id-10 div.sk-parallel-item:only-child::after {width: 0;}#sk-container-id-10 div.sk-dashed-wrapped {border: 1px dashed gray;margin: 0 0.4em 0.5em 0.4em;box-sizing: border-box;padding-bottom: 0.4em;background-color: white;}#sk-container-id-10 div.sk-label label {font-family: monospace;font-weight: bold;display: inline-block;line-height: 1.2em;}#sk-container-id-10 div.sk-label-container {text-align: center;}#sk-container-id-10 div.sk-container {/* jupyter's `normalize.less` sets `[hidden] { display: none; }` but bootstrap.min.css set `[hidden] { display: none !important; }` so we also need the `!important` here to be able to override the default hidden behavior on the sphinx rendered scikit-learn.org. See: https://github.com/scikit-learn/scikit-learn/issues/21755 */display: inline-block !important;position: relative;}#sk-container-id-10 div.sk-text-repr-fallback {display: none;}</style><div id=\"sk-container-id-10\" class=\"sk-top-container\"><div class=\"sk-text-repr-fallback\"><pre>RandomizedSearchCV(cv=5, estimator=KNeighborsClassifier(n_jobs=-1), n_iter=50,\n",
       "                   param_distributions={&#x27;algorithm&#x27;: [&#x27;auto&#x27;, &#x27;ball_tree&#x27;,\n",
       "                                                      &#x27;kd_tree&#x27;, &#x27;brute&#x27;],\n",
       "                                        &#x27;n_neighbors&#x27;: array([ 1,  3,  5,  7,  9, 11, 13, 15, 17, 19, 21]),\n",
       "                                        &#x27;p&#x27;: [1, 2],\n",
       "                                        &#x27;weights&#x27;: [&#x27;uniform&#x27;, &#x27;distance&#x27;]},\n",
       "                   random_state=42)</pre><b>In a Jupyter environment, please rerun this cell to show the HTML representation or trust the notebook. <br />On GitHub, the HTML representation is unable to render, please try loading this page with nbviewer.org.</b></div><div class=\"sk-container\" hidden><div class=\"sk-item sk-dashed-wrapped\"><div class=\"sk-label-container\"><div class=\"sk-label sk-toggleable\"><input class=\"sk-toggleable__control sk-hidden--visually\" id=\"sk-estimator-id-14\" type=\"checkbox\" ><label for=\"sk-estimator-id-14\" class=\"sk-toggleable__label sk-toggleable__label-arrow\">RandomizedSearchCV</label><div class=\"sk-toggleable__content\"><pre>RandomizedSearchCV(cv=5, estimator=KNeighborsClassifier(n_jobs=-1), n_iter=50,\n",
       "                   param_distributions={&#x27;algorithm&#x27;: [&#x27;auto&#x27;, &#x27;ball_tree&#x27;,\n",
       "                                                      &#x27;kd_tree&#x27;, &#x27;brute&#x27;],\n",
       "                                        &#x27;n_neighbors&#x27;: array([ 1,  3,  5,  7,  9, 11, 13, 15, 17, 19, 21]),\n",
       "                                        &#x27;p&#x27;: [1, 2],\n",
       "                                        &#x27;weights&#x27;: [&#x27;uniform&#x27;, &#x27;distance&#x27;]},\n",
       "                   random_state=42)</pre></div></div></div><div class=\"sk-parallel\"><div class=\"sk-parallel-item\"><div class=\"sk-item\"><div class=\"sk-label-container\"><div class=\"sk-label sk-toggleable\"><input class=\"sk-toggleable__control sk-hidden--visually\" id=\"sk-estimator-id-15\" type=\"checkbox\" ><label for=\"sk-estimator-id-15\" class=\"sk-toggleable__label sk-toggleable__label-arrow\">estimator: KNeighborsClassifier</label><div class=\"sk-toggleable__content\"><pre>KNeighborsClassifier(n_jobs=-1)</pre></div></div></div><div class=\"sk-serial\"><div class=\"sk-item\"><div class=\"sk-estimator sk-toggleable\"><input class=\"sk-toggleable__control sk-hidden--visually\" id=\"sk-estimator-id-16\" type=\"checkbox\" ><label for=\"sk-estimator-id-16\" class=\"sk-toggleable__label sk-toggleable__label-arrow\">KNeighborsClassifier</label><div class=\"sk-toggleable__content\"><pre>KNeighborsClassifier(n_jobs=-1)</pre></div></div></div></div></div></div></div></div></div></div>"
      ],
      "text/plain": [
       "RandomizedSearchCV(cv=5, estimator=KNeighborsClassifier(n_jobs=-1), n_iter=50,\n",
       "                   param_distributions={'algorithm': ['auto', 'ball_tree',\n",
       "                                                      'kd_tree', 'brute'],\n",
       "                                        'n_neighbors': array([ 1,  3,  5,  7,  9, 11, 13, 15, 17, 19, 21]),\n",
       "                                        'p': [1, 2],\n",
       "                                        'weights': ['uniform', 'distance']},\n",
       "                   random_state=42)"
      ]
     },
     "execution_count": 123,
     "metadata": {},
     "output_type": "execute_result"
    }
   ],
   "source": [
    "random_search_knn.fit(merged_features_train, y_train)"
   ]
  },
  {
   "cell_type": "code",
   "execution_count": 124,
   "id": "f947deac-f696-4f5f-967e-0b021986c93c",
   "metadata": {},
   "outputs": [
    {
     "name": "stdout",
     "output_type": "stream",
     "text": [
      "Best parameters (KNN): {'weights': 'uniform', 'p': 2, 'n_neighbors': 21, 'algorithm': 'auto'}\n",
      "Best score (KNN): 60.3552%\n"
     ]
    }
   ],
   "source": [
    "best_params_knn = random_search_knn.best_params_\n",
    "best_model_knn = random_search_knn.best_estimator_\n",
    "\n",
    "print(\"Best parameters (KNN):\", best_params_knn)\n",
    "\n",
    "print(f\"Best score (KNN): {random_search_knn.best_score_*100:.4f}%\")"
   ]
  },
  {
   "cell_type": "code",
   "execution_count": 125,
   "id": "1fada41c-d6cd-4711-9630-6e659e86536c",
   "metadata": {},
   "outputs": [],
   "source": [
    "y_pred_knn = best_model_knn.predict(merged_features_test)"
   ]
  },
  {
   "cell_type": "code",
   "execution_count": 126,
   "id": "28195ac2-1106-4b1c-97fc-e208367c52eb",
   "metadata": {},
   "outputs": [
    {
     "data": {
      "text/plain": [
       "0.5950468540829986"
      ]
     },
     "execution_count": 126,
     "metadata": {},
     "output_type": "execute_result"
    }
   ],
   "source": [
    "accuracy_score(y_test, y_pred_knn)"
   ]
  },
  {
   "cell_type": "code",
   "execution_count": 127,
   "id": "6d3c689a-094a-478e-8df6-9c72d6767b89",
   "metadata": {},
   "outputs": [
    {
     "name": "stdout",
     "output_type": "stream",
     "text": [
      "              precision    recall  f1-score   support\n",
      "\n",
      "           0       0.58      0.72      0.64       747\n",
      "           1       0.63      0.47      0.53       747\n",
      "\n",
      "    accuracy                           0.60      1494\n",
      "   macro avg       0.60      0.60      0.59      1494\n",
      "weighted avg       0.60      0.60      0.59      1494\n",
      "\n"
     ]
    }
   ],
   "source": [
    "print(classification_report(y_test, y_pred_knn))"
   ]
  },
  {
   "cell_type": "code",
   "execution_count": 58,
   "id": "ce36c200-b47e-4766-aa9b-f38234063e5e",
   "metadata": {},
   "outputs": [
    {
     "data": {
      "text/html": [
       "<style>#sk-container-id-3 {color: black;background-color: white;}#sk-container-id-3 pre{padding: 0;}#sk-container-id-3 div.sk-toggleable {background-color: white;}#sk-container-id-3 label.sk-toggleable__label {cursor: pointer;display: block;width: 100%;margin-bottom: 0;padding: 0.3em;box-sizing: border-box;text-align: center;}#sk-container-id-3 label.sk-toggleable__label-arrow:before {content: \"▸\";float: left;margin-right: 0.25em;color: #696969;}#sk-container-id-3 label.sk-toggleable__label-arrow:hover:before {color: black;}#sk-container-id-3 div.sk-estimator:hover label.sk-toggleable__label-arrow:before {color: black;}#sk-container-id-3 div.sk-toggleable__content {max-height: 0;max-width: 0;overflow: hidden;text-align: left;background-color: #f0f8ff;}#sk-container-id-3 div.sk-toggleable__content pre {margin: 0.2em;color: black;border-radius: 0.25em;background-color: #f0f8ff;}#sk-container-id-3 input.sk-toggleable__control:checked~div.sk-toggleable__content {max-height: 200px;max-width: 100%;overflow: auto;}#sk-container-id-3 input.sk-toggleable__control:checked~label.sk-toggleable__label-arrow:before {content: \"▾\";}#sk-container-id-3 div.sk-estimator input.sk-toggleable__control:checked~label.sk-toggleable__label {background-color: #d4ebff;}#sk-container-id-3 div.sk-label input.sk-toggleable__control:checked~label.sk-toggleable__label {background-color: #d4ebff;}#sk-container-id-3 input.sk-hidden--visually {border: 0;clip: rect(1px 1px 1px 1px);clip: rect(1px, 1px, 1px, 1px);height: 1px;margin: -1px;overflow: hidden;padding: 0;position: absolute;width: 1px;}#sk-container-id-3 div.sk-estimator {font-family: monospace;background-color: #f0f8ff;border: 1px dotted black;border-radius: 0.25em;box-sizing: border-box;margin-bottom: 0.5em;}#sk-container-id-3 div.sk-estimator:hover {background-color: #d4ebff;}#sk-container-id-3 div.sk-parallel-item::after {content: \"\";width: 100%;border-bottom: 1px solid gray;flex-grow: 1;}#sk-container-id-3 div.sk-label:hover label.sk-toggleable__label {background-color: #d4ebff;}#sk-container-id-3 div.sk-serial::before {content: \"\";position: absolute;border-left: 1px solid gray;box-sizing: border-box;top: 0;bottom: 0;left: 50%;z-index: 0;}#sk-container-id-3 div.sk-serial {display: flex;flex-direction: column;align-items: center;background-color: white;padding-right: 0.2em;padding-left: 0.2em;position: relative;}#sk-container-id-3 div.sk-item {position: relative;z-index: 1;}#sk-container-id-3 div.sk-parallel {display: flex;align-items: stretch;justify-content: center;background-color: white;position: relative;}#sk-container-id-3 div.sk-item::before, #sk-container-id-3 div.sk-parallel-item::before {content: \"\";position: absolute;border-left: 1px solid gray;box-sizing: border-box;top: 0;bottom: 0;left: 50%;z-index: -1;}#sk-container-id-3 div.sk-parallel-item {display: flex;flex-direction: column;z-index: 1;position: relative;background-color: white;}#sk-container-id-3 div.sk-parallel-item:first-child::after {align-self: flex-end;width: 50%;}#sk-container-id-3 div.sk-parallel-item:last-child::after {align-self: flex-start;width: 50%;}#sk-container-id-3 div.sk-parallel-item:only-child::after {width: 0;}#sk-container-id-3 div.sk-dashed-wrapped {border: 1px dashed gray;margin: 0 0.4em 0.5em 0.4em;box-sizing: border-box;padding-bottom: 0.4em;background-color: white;}#sk-container-id-3 div.sk-label label {font-family: monospace;font-weight: bold;display: inline-block;line-height: 1.2em;}#sk-container-id-3 div.sk-label-container {text-align: center;}#sk-container-id-3 div.sk-container {/* jupyter's `normalize.less` sets `[hidden] { display: none; }` but bootstrap.min.css set `[hidden] { display: none !important; }` so we also need the `!important` here to be able to override the default hidden behavior on the sphinx rendered scikit-learn.org. See: https://github.com/scikit-learn/scikit-learn/issues/21755 */display: inline-block !important;position: relative;}#sk-container-id-3 div.sk-text-repr-fallback {display: none;}</style><div id=\"sk-container-id-3\" class=\"sk-top-container\"><div class=\"sk-text-repr-fallback\"><pre>KNeighborsClassifier(n_jobs=-1, n_neighbors=21)</pre><b>In a Jupyter environment, please rerun this cell to show the HTML representation or trust the notebook. <br />On GitHub, the HTML representation is unable to render, please try loading this page with nbviewer.org.</b></div><div class=\"sk-container\" hidden><div class=\"sk-item\"><div class=\"sk-estimator sk-toggleable\"><input class=\"sk-toggleable__control sk-hidden--visually\" id=\"sk-estimator-id-3\" type=\"checkbox\" checked><label for=\"sk-estimator-id-3\" class=\"sk-toggleable__label sk-toggleable__label-arrow\">KNeighborsClassifier</label><div class=\"sk-toggleable__content\"><pre>KNeighborsClassifier(n_jobs=-1, n_neighbors=21)</pre></div></div></div></div></div>"
      ],
      "text/plain": [
       "KNeighborsClassifier(n_jobs=-1, n_neighbors=21)"
      ]
     },
     "execution_count": 58,
     "metadata": {},
     "output_type": "execute_result"
    }
   ],
   "source": [
    "best_model_knn = KNeighborsClassifier(n_jobs=-1, weights='uniform', p=2, n_neighbors=21, algorithm='auto')\n",
    "best_model_knn.fit(merged_features_train, y_train)"
   ]
  },
  {
   "cell_type": "code",
   "execution_count": 59,
   "id": "2b7b8e6b-82c0-4c64-8d89-efe3a4928110",
   "metadata": {},
   "outputs": [
    {
     "data": {
      "image/png": "[encoded data removed]",
      "text/plain": [
       "<Figure size 640x480 with 1 Axes>"
      ]
     },
     "metadata": {},
     "output_type": "display_data"
    }
   ],
   "source": [
    "plot_roc(best_model_knn, 'KNN')"
   ]
  },
  {
   "cell_type": "code",
   "execution_count": 60,
   "id": "94e52ea6-7b83-4be9-9143-e07bccba91aa",
   "metadata": {},
   "outputs": [],
   "source": [
    "file_path = r\"D:\\SEM 4\\Project\\knn_Blocks.pkl\"\n",
    "\n",
    "with open(file_path, 'wb') as file:\n",
    "    pickle.dump(best_model_knn, file)"
   ]
  },
  {
   "cell_type": "code",
   "execution_count": 131,
   "id": "5e166c9a-ef9a-46e1-bc7e-6f9fc1ab80e7",
   "metadata": {},
   "outputs": [],
   "source": [
    "verifyer_knn = pd.DataFrame([X_test, y_pred_knn, y_test]).T\n",
    "verifyer_knn.columns = ['audio', 'y_pred', 'y_test']\n",
    "verifyer_knn.to_csv(\"predicted_knn_Blocks.csv\")\n",
    "test_knn = pd.DataFrame([X_test, y_test, y_pred_knn]).T\n",
    "test_knn.columns = ['X_test', 'y_test', 'y_pred']\n",
    "test_knn.to_csv(\"test_knn_blocks.csv\")"
   ]
  },
  {
   "cell_type": "code",
   "execution_count": 93,
   "id": "8cd6e2fc",
   "metadata": {},
   "outputs": [],
   "source": [
    "y_pred_knn=best_model_knn.predict(merged_features_test)"
   ]
  },
  {
   "cell_type": "markdown",
   "id": "6720fded-4777-45bc-9be9-3a0f489f7fd2",
   "metadata": {},
   "source": [
    "# SVM"
   ]
  },
  {
   "cell_type": "code",
   "execution_count": 132,
   "id": "27b031f3-d46e-4295-ae89-7c38cb484355",
   "metadata": {},
   "outputs": [],
   "source": [
    "param_grid_svc = {\n",
    "    'C': [0.1, 1, 10, 100],\n",
    "    'kernel': ['linear', 'poly', 'rbf', 'sigmoid'],\n",
    "    'gamma': ['scale', 'auto']\n",
    "}"
   ]
  },
  {
   "cell_type": "code",
   "execution_count": 61,
   "id": "d0d128ca-f6af-4470-89d7-36475e793350",
   "metadata": {},
   "outputs": [],
   "source": [
    "svc = SVC()"
   ]
  },
  {
   "cell_type": "code",
   "execution_count": null,
   "id": "5cef838a",
   "metadata": {},
   "outputs": [],
   "source": [
    "random_search_svc = RandomizedSearchCV(estimator=svc, param_distributions=param_grid_svc, n_iter=50, cv=5, random_state=42)"
   ]
  },
  {
   "cell_type": "code",
   "execution_count": 134,
   "id": "11b9e384-4351-4dec-a10d-e1ab06774279",
   "metadata": {},
   "outputs": [
    {
     "name": "stderr",
     "output_type": "stream",
     "text": [
      "C:\\ProgramData\\anaconda3\\Lib\\site-packages\\sklearn\\model_selection\\_search.py:305: UserWarning: The total space of parameters 32 is smaller than n_iter=50. Running 32 iterations. For exhaustive searches, use GridSearchCV.\n",
      "  warnings.warn(\n"
     ]
    },
    {
     "data": {
      "text/html": [
       "<style>#sk-container-id-12 {color: black;background-color: white;}#sk-container-id-12 pre{padding: 0;}#sk-container-id-12 div.sk-toggleable {background-color: white;}#sk-container-id-12 label.sk-toggleable__label {cursor: pointer;display: block;width: 100%;margin-bottom: 0;padding: 0.3em;box-sizing: border-box;text-align: center;}#sk-container-id-12 label.sk-toggleable__label-arrow:before {content: \"▸\";float: left;margin-right: 0.25em;color: #696969;}#sk-container-id-12 label.sk-toggleable__label-arrow:hover:before {color: black;}#sk-container-id-12 div.sk-estimator:hover label.sk-toggleable__label-arrow:before {color: black;}#sk-container-id-12 div.sk-toggleable__content {max-height: 0;max-width: 0;overflow: hidden;text-align: left;background-color: #f0f8ff;}#sk-container-id-12 div.sk-toggleable__content pre {margin: 0.2em;color: black;border-radius: 0.25em;background-color: #f0f8ff;}#sk-container-id-12 input.sk-toggleable__control:checked~div.sk-toggleable__content {max-height: 200px;max-width: 100%;overflow: auto;}#sk-container-id-12 input.sk-toggleable__control:checked~label.sk-toggleable__label-arrow:before {content: \"▾\";}#sk-container-id-12 div.sk-estimator input.sk-toggleable__control:checked~label.sk-toggleable__label {background-color: #d4ebff;}#sk-container-id-12 div.sk-label input.sk-toggleable__control:checked~label.sk-toggleable__label {background-color: #d4ebff;}#sk-container-id-12 input.sk-hidden--visually {border: 0;clip: rect(1px 1px 1px 1px);clip: rect(1px, 1px, 1px, 1px);height: 1px;margin: -1px;overflow: hidden;padding: 0;position: absolute;width: 1px;}#sk-container-id-12 div.sk-estimator {font-family: monospace;background-color: #f0f8ff;border: 1px dotted black;border-radius: 0.25em;box-sizing: border-box;margin-bottom: 0.5em;}#sk-container-id-12 div.sk-estimator:hover {background-color: #d4ebff;}#sk-container-id-12 div.sk-parallel-item::after {content: \"\";width: 100%;border-bottom: 1px solid gray;flex-grow: 1;}#sk-container-id-12 div.sk-label:hover label.sk-toggleable__label {background-color: #d4ebff;}#sk-container-id-12 div.sk-serial::before {content: \"\";position: absolute;border-left: 1px solid gray;box-sizing: border-box;top: 0;bottom: 0;left: 50%;z-index: 0;}#sk-container-id-12 div.sk-serial {display: flex;flex-direction: column;align-items: center;background-color: white;padding-right: 0.2em;padding-left: 0.2em;position: relative;}#sk-container-id-12 div.sk-item {position: relative;z-index: 1;}#sk-container-id-12 div.sk-parallel {display: flex;align-items: stretch;justify-content: center;background-color: white;position: relative;}#sk-container-id-12 div.sk-item::before, #sk-container-id-12 div.sk-parallel-item::before {content: \"\";position: absolute;border-left: 1px solid gray;box-sizing: border-box;top: 0;bottom: 0;left: 50%;z-index: -1;}#sk-container-id-12 div.sk-parallel-item {display: flex;flex-direction: column;z-index: 1;position: relative;background-color: white;}#sk-container-id-12 div.sk-parallel-item:first-child::after {align-self: flex-end;width: 50%;}#sk-container-id-12 div.sk-parallel-item:last-child::after {align-self: flex-start;width: 50%;}#sk-container-id-12 div.sk-parallel-item:only-child::after {width: 0;}#sk-container-id-12 div.sk-dashed-wrapped {border: 1px dashed gray;margin: 0 0.4em 0.5em 0.4em;box-sizing: border-box;padding-bottom: 0.4em;background-color: white;}#sk-container-id-12 div.sk-label label {font-family: monospace;font-weight: bold;display: inline-block;line-height: 1.2em;}#sk-container-id-12 div.sk-label-container {text-align: center;}#sk-container-id-12 div.sk-container {/* jupyter's `normalize.less` sets `[hidden] { display: none; }` but bootstrap.min.css set `[hidden] { display: none !important; }` so we also need the `!important` here to be able to override the default hidden behavior on the sphinx rendered scikit-learn.org. See: https://github.com/scikit-learn/scikit-learn/issues/21755 */display: inline-block !important;position: relative;}#sk-container-id-12 div.sk-text-repr-fallback {display: none;}</style><div id=\"sk-container-id-12\" class=\"sk-top-container\"><div class=\"sk-text-repr-fallback\"><pre>RandomizedSearchCV(cv=5, estimator=SVC(), n_iter=50,\n",
       "                   param_distributions={&#x27;C&#x27;: [0.1, 1, 10, 100],\n",
       "                                        &#x27;gamma&#x27;: [&#x27;scale&#x27;, &#x27;auto&#x27;],\n",
       "                                        &#x27;kernel&#x27;: [&#x27;linear&#x27;, &#x27;poly&#x27;, &#x27;rbf&#x27;,\n",
       "                                                   &#x27;sigmoid&#x27;]},\n",
       "                   random_state=42)</pre><b>In a Jupyter environment, please rerun this cell to show the HTML representation or trust the notebook. <br />On GitHub, the HTML representation is unable to render, please try loading this page with nbviewer.org.</b></div><div class=\"sk-container\" hidden><div class=\"sk-item sk-dashed-wrapped\"><div class=\"sk-label-container\"><div class=\"sk-label sk-toggleable\"><input class=\"sk-toggleable__control sk-hidden--visually\" id=\"sk-estimator-id-18\" type=\"checkbox\" ><label for=\"sk-estimator-id-18\" class=\"sk-toggleable__label sk-toggleable__label-arrow\">RandomizedSearchCV</label><div class=\"sk-toggleable__content\"><pre>RandomizedSearchCV(cv=5, estimator=SVC(), n_iter=50,\n",
       "                   param_distributions={&#x27;C&#x27;: [0.1, 1, 10, 100],\n",
       "                                        &#x27;gamma&#x27;: [&#x27;scale&#x27;, &#x27;auto&#x27;],\n",
       "                                        &#x27;kernel&#x27;: [&#x27;linear&#x27;, &#x27;poly&#x27;, &#x27;rbf&#x27;,\n",
       "                                                   &#x27;sigmoid&#x27;]},\n",
       "                   random_state=42)</pre></div></div></div><div class=\"sk-parallel\"><div class=\"sk-parallel-item\"><div class=\"sk-item\"><div class=\"sk-label-container\"><div class=\"sk-label sk-toggleable\"><input class=\"sk-toggleable__control sk-hidden--visually\" id=\"sk-estimator-id-19\" type=\"checkbox\" ><label for=\"sk-estimator-id-19\" class=\"sk-toggleable__label sk-toggleable__label-arrow\">estimator: SVC</label><div class=\"sk-toggleable__content\"><pre>SVC()</pre></div></div></div><div class=\"sk-serial\"><div class=\"sk-item\"><div class=\"sk-estimator sk-toggleable\"><input class=\"sk-toggleable__control sk-hidden--visually\" id=\"sk-estimator-id-20\" type=\"checkbox\" ><label for=\"sk-estimator-id-20\" class=\"sk-toggleable__label sk-toggleable__label-arrow\">SVC</label><div class=\"sk-toggleable__content\"><pre>SVC()</pre></div></div></div></div></div></div></div></div></div></div>"
      ],
      "text/plain": [
       "RandomizedSearchCV(cv=5, estimator=SVC(), n_iter=50,\n",
       "                   param_distributions={'C': [0.1, 1, 10, 100],\n",
       "                                        'gamma': ['scale', 'auto'],\n",
       "                                        'kernel': ['linear', 'poly', 'rbf',\n",
       "                                                   'sigmoid']},\n",
       "                   random_state=42)"
      ]
     },
     "execution_count": 134,
     "metadata": {},
     "output_type": "execute_result"
    }
   ],
   "source": [
    "random_search_svc.fit(merged_features_train, y_train)"
   ]
  },
  {
   "cell_type": "code",
   "execution_count": 135,
   "id": "a04d2236-b8c6-4d04-af0c-74f19f0cf8fd",
   "metadata": {},
   "outputs": [
    {
     "name": "stdout",
     "output_type": "stream",
     "text": [
      "Best parameters (SVC): {'kernel': 'rbf', 'gamma': 'scale', 'C': 1}\n",
      "Best score (SVC): 61.4169%\n"
     ]
    }
   ],
   "source": [
    "best_params_svc = random_search_svc.best_params_\n",
    "best_model_svc = random_search_svc.best_estimator_\n",
    "\n",
    "print(\"Best parameters (SVC):\", best_params_svc)\n",
    "\n",
    "print(f\"Best score (SVC): {random_search_svc.best_score_*100:.4f}%\")"
   ]
  },
  {
   "cell_type": "code",
   "execution_count": 136,
   "id": "e0e77b7d-5b62-4369-94f5-f76d17d29493",
   "metadata": {},
   "outputs": [],
   "source": [
    "y_pred_svc = best_model_svc.predict(merged_features_test)"
   ]
  },
  {
   "cell_type": "code",
   "execution_count": 137,
   "id": "79dc8559-b7d4-42ef-b9b4-009bc55a8057",
   "metadata": {},
   "outputs": [
    {
     "data": {
      "text/plain": [
       "0.608433734939759"
      ]
     },
     "execution_count": 137,
     "metadata": {},
     "output_type": "execute_result"
    }
   ],
   "source": [
    "accuracy_score(y_test, y_pred_svc)"
   ]
  },
  {
   "cell_type": "code",
   "execution_count": 138,
   "id": "129e8ef7-f866-476f-b5e9-d826fe9e16a7",
   "metadata": {},
   "outputs": [
    {
     "name": "stdout",
     "output_type": "stream",
     "text": [
      "              precision    recall  f1-score   support\n",
      "\n",
      "           0       0.60      0.65      0.62       747\n",
      "           1       0.62      0.57      0.59       747\n",
      "\n",
      "    accuracy                           0.61      1494\n",
      "   macro avg       0.61      0.61      0.61      1494\n",
      "weighted avg       0.61      0.61      0.61      1494\n",
      "\n"
     ]
    }
   ],
   "source": [
    "print(classification_report(y_test, y_pred_svc))"
   ]
  },
  {
   "cell_type": "code",
   "execution_count": 62,
   "id": "787b14eb-2f4c-44f8-b8f1-782e3385763f",
   "metadata": {},
   "outputs": [
    {
     "data": {
      "text/html": [
       "<style>#sk-container-id-4 {color: black;background-color: white;}#sk-container-id-4 pre{padding: 0;}#sk-container-id-4 div.sk-toggleable {background-color: white;}#sk-container-id-4 label.sk-toggleable__label {cursor: pointer;display: block;width: 100%;margin-bottom: 0;padding: 0.3em;box-sizing: border-box;text-align: center;}#sk-container-id-4 label.sk-toggleable__label-arrow:before {content: \"▸\";float: left;margin-right: 0.25em;color: #696969;}#sk-container-id-4 label.sk-toggleable__label-arrow:hover:before {color: black;}#sk-container-id-4 div.sk-estimator:hover label.sk-toggleable__label-arrow:before {color: black;}#sk-container-id-4 div.sk-toggleable__content {max-height: 0;max-width: 0;overflow: hidden;text-align: left;background-color: #f0f8ff;}#sk-container-id-4 div.sk-toggleable__content pre {margin: 0.2em;color: black;border-radius: 0.25em;background-color: #f0f8ff;}#sk-container-id-4 input.sk-toggleable__control:checked~div.sk-toggleable__content {max-height: 200px;max-width: 100%;overflow: auto;}#sk-container-id-4 input.sk-toggleable__control:checked~label.sk-toggleable__label-arrow:before {content: \"▾\";}#sk-container-id-4 div.sk-estimator input.sk-toggleable__control:checked~label.sk-toggleable__label {background-color: #d4ebff;}#sk-container-id-4 div.sk-label input.sk-toggleable__control:checked~label.sk-toggleable__label {background-color: #d4ebff;}#sk-container-id-4 input.sk-hidden--visually {border: 0;clip: rect(1px 1px 1px 1px);clip: rect(1px, 1px, 1px, 1px);height: 1px;margin: -1px;overflow: hidden;padding: 0;position: absolute;width: 1px;}#sk-container-id-4 div.sk-estimator {font-family: monospace;background-color: #f0f8ff;border: 1px dotted black;border-radius: 0.25em;box-sizing: border-box;margin-bottom: 0.5em;}#sk-container-id-4 div.sk-estimator:hover {background-color: #d4ebff;}#sk-container-id-4 div.sk-parallel-item::after {content: \"\";width: 100%;border-bottom: 1px solid gray;flex-grow: 1;}#sk-container-id-4 div.sk-label:hover label.sk-toggleable__label {background-color: #d4ebff;}#sk-container-id-4 div.sk-serial::before {content: \"\";position: absolute;border-left: 1px solid gray;box-sizing: border-box;top: 0;bottom: 0;left: 50%;z-index: 0;}#sk-container-id-4 div.sk-serial {display: flex;flex-direction: column;align-items: center;background-color: white;padding-right: 0.2em;padding-left: 0.2em;position: relative;}#sk-container-id-4 div.sk-item {position: relative;z-index: 1;}#sk-container-id-4 div.sk-parallel {display: flex;align-items: stretch;justify-content: center;background-color: white;position: relative;}#sk-container-id-4 div.sk-item::before, #sk-container-id-4 div.sk-parallel-item::before {content: \"\";position: absolute;border-left: 1px solid gray;box-sizing: border-box;top: 0;bottom: 0;left: 50%;z-index: -1;}#sk-container-id-4 div.sk-parallel-item {display: flex;flex-direction: column;z-index: 1;position: relative;background-color: white;}#sk-container-id-4 div.sk-parallel-item:first-child::after {align-self: flex-end;width: 50%;}#sk-container-id-4 div.sk-parallel-item:last-child::after {align-self: flex-start;width: 50%;}#sk-container-id-4 div.sk-parallel-item:only-child::after {width: 0;}#sk-container-id-4 div.sk-dashed-wrapped {border: 1px dashed gray;margin: 0 0.4em 0.5em 0.4em;box-sizing: border-box;padding-bottom: 0.4em;background-color: white;}#sk-container-id-4 div.sk-label label {font-family: monospace;font-weight: bold;display: inline-block;line-height: 1.2em;}#sk-container-id-4 div.sk-label-container {text-align: center;}#sk-container-id-4 div.sk-container {/* jupyter's `normalize.less` sets `[hidden] { display: none; }` but bootstrap.min.css set `[hidden] { display: none !important; }` so we also need the `!important` here to be able to override the default hidden behavior on the sphinx rendered scikit-learn.org. See: https://github.com/scikit-learn/scikit-learn/issues/21755 */display: inline-block !important;position: relative;}#sk-container-id-4 div.sk-text-repr-fallback {display: none;}</style><div id=\"sk-container-id-4\" class=\"sk-top-container\"><div class=\"sk-text-repr-fallback\"><pre>SVC(C=1, probability=True)</pre><b>In a Jupyter environment, please rerun this cell to show the HTML representation or trust the notebook. <br />On GitHub, the HTML representation is unable to render, please try loading this page with nbviewer.org.</b></div><div class=\"sk-container\" hidden><div class=\"sk-item\"><div class=\"sk-estimator sk-toggleable\"><input class=\"sk-toggleable__control sk-hidden--visually\" id=\"sk-estimator-id-4\" type=\"checkbox\" checked><label for=\"sk-estimator-id-4\" class=\"sk-toggleable__label sk-toggleable__label-arrow\">SVC</label><div class=\"sk-toggleable__content\"><pre>SVC(C=1, probability=True)</pre></div></div></div></div></div>"
      ],
      "text/plain": [
       "SVC(C=1, probability=True)"
      ]
     },
     "execution_count": 62,
     "metadata": {},
     "output_type": "execute_result"
    }
   ],
   "source": [
    "best_model_svc = SVC(kernel='rbf', gamma='scale', C=1, probability=True)\n",
    "best_model_svc.fit(merged_features_train, y_train)"
   ]
  },
  {
   "cell_type": "code",
   "execution_count": 63,
   "id": "36c9bc2e-4ebe-43fd-93b2-6eff43d733fb",
   "metadata": {},
   "outputs": [
    {
     "data": {
      "image/png": "[encoded data removed]",
      "text/plain": [
       "<Figure size 640x480 with 1 Axes>"
      ]
     },
     "metadata": {},
     "output_type": "display_data"
    }
   ],
   "source": [
    "plot_roc(best_model_svc, 'SVC')"
   ]
  },
  {
   "cell_type": "code",
   "execution_count": 64,
   "id": "dbe9eb15-91f3-4a9e-a3ff-16b5b0c95246",
   "metadata": {},
   "outputs": [],
   "source": [
    "file_path = r\"D:\\SEM 4\\Project\\svc_Blocks.pkl\"\n",
    "\n",
    "with open(file_path, 'wb') as file:\n",
    "    pickle.dump(best_model_svc, file)"
   ]
  },
  {
   "cell_type": "code",
   "execution_count": 143,
   "id": "d9839878-6b67-4aee-9a5d-aa26ad30513f",
   "metadata": {},
   "outputs": [],
   "source": [
    "verifyer_svc = pd.DataFrame([X_test, y_pred_svc, y_test]).T\n",
    "verifyer_svc.columns = ['audio', 'y_pred', 'y_test']\n",
    "verifyer_svc.to_csv(\"predicted_svc_Blocks.csv\")\n",
    "test_svc = pd.DataFrame([X_test, y_test, y_pred_svc]).T\n",
    "test_svc.columns = ['X_test', 'y_test', 'y_pred']\n",
    "test_svc.to_csv(\"test_svc_blocks.csv\")"
   ]
  },
  {
   "cell_type": "code",
   "execution_count": 94,
   "id": "40141828",
   "metadata": {},
   "outputs": [],
   "source": [
    "y_pred_knn=best_model_knn.predict(merged_features_test)"
   ]
  },
  {
   "cell_type": "code",
   "execution_count": 99,
   "id": "b12c3875",
   "metadata": {},
   "outputs": [],
   "source": [
    "y_pred_svc=best_model_svc.predict(merged_features_test)"
   ]
  },
  {
   "cell_type": "markdown",
   "id": "d8439fcd-1278-4f65-beba-2908ec74b2ef",
   "metadata": {},
   "source": [
    "# Naive Bayes"
   ]
  },
  {
   "cell_type": "code",
   "execution_count": 65,
   "id": "135805b1-990b-4e46-ab0b-e5a1dbdf5e65",
   "metadata": {},
   "outputs": [],
   "source": [
    "from sklearn.model_selection import cross_validate\n",
    "from sklearn.naive_bayes import GaussianNB\n",
    "nb = GaussianNB()"
   ]
  },
  {
   "cell_type": "code",
   "execution_count": 66,
   "id": "42b4d2de-a734-40de-a7ab-766d6ddd5792",
   "metadata": {},
   "outputs": [],
   "source": [
    "# Perform cross-validation\n",
    "cv_results = cross_validate(nb, merged_features_train, y_train, cv=5,\n",
    "                            scoring=['accuracy', 'precision', 'recall', 'f1'],\n",
    "                            return_estimator=True)"
   ]
  },
  {
   "cell_type": "code",
   "execution_count": 67,
   "id": "7d06359b-5a58-4a8e-8f9f-e21a33366a3f",
   "metadata": {},
   "outputs": [
    {
     "data": {
      "text/plain": [
       "{'fit_time': array([0.13597107, 0.12545156, 0.12572765, 0.12737751, 0.12726569]),\n",
       " 'score_time': array([0.04550791, 0.04616523, 0.0473206 , 0.04540873, 0.04931498]),\n",
       " 'estimator': [GaussianNB(),\n",
       "  GaussianNB(),\n",
       "  GaussianNB(),\n",
       "  GaussianNB(),\n",
       "  GaussianNB()],\n",
       " 'test_accuracy': array([0.54584527, 0.55810617, 0.5954089 , 0.56527977, 0.53228121]),\n",
       " 'test_precision': array([0.53960396, 0.54823529, 0.5811138 , 0.55319149, 0.52631579]),\n",
       " 'test_recall': array([0.62464183, 0.66762178, 0.68767908, 0.67241379, 0.63218391]),\n",
       " 'test_f1': array([0.57901726, 0.60206718, 0.62992126, 0.60700389, 0.57441253])}"
      ]
     },
     "execution_count": 67,
     "metadata": {},
     "output_type": "execute_result"
    }
   ],
   "source": [
    "cv_results"
   ]
  },
  {
   "cell_type": "code",
   "execution_count": 68,
   "id": "5bdfdc71-ebdd-4cff-9af7-627d0290cea5",
   "metadata": {},
   "outputs": [],
   "source": [
    "# Extract the best model based on accuracy\n",
    "best_model_index = cv_results['test_accuracy'].argmax()\n",
    "best_model_nb = cv_results['estimator'][best_model_index]"
   ]
  },
  {
   "cell_type": "code",
   "execution_count": 69,
   "id": "ce8fad7e-02b2-4541-b4ab-b1ba15406038",
   "metadata": {},
   "outputs": [
    {
     "data": {
      "text/plain": [
       "2"
      ]
     },
     "execution_count": 69,
     "metadata": {},
     "output_type": "execute_result"
    }
   ],
   "source": [
    "best_model_index"
   ]
  },
  {
   "cell_type": "code",
   "execution_count": 70,
   "id": "0fc4583c-c5af-425d-a272-9ad15c158b41",
   "metadata": {},
   "outputs": [
    {
     "data": {
      "text/html": [
       "<style>#sk-container-id-5 {color: black;background-color: white;}#sk-container-id-5 pre{padding: 0;}#sk-container-id-5 div.sk-toggleable {background-color: white;}#sk-container-id-5 label.sk-toggleable__label {cursor: pointer;display: block;width: 100%;margin-bottom: 0;padding: 0.3em;box-sizing: border-box;text-align: center;}#sk-container-id-5 label.sk-toggleable__label-arrow:before {content: \"▸\";float: left;margin-right: 0.25em;color: #696969;}#sk-container-id-5 label.sk-toggleable__label-arrow:hover:before {color: black;}#sk-container-id-5 div.sk-estimator:hover label.sk-toggleable__label-arrow:before {color: black;}#sk-container-id-5 div.sk-toggleable__content {max-height: 0;max-width: 0;overflow: hidden;text-align: left;background-color: #f0f8ff;}#sk-container-id-5 div.sk-toggleable__content pre {margin: 0.2em;color: black;border-radius: 0.25em;background-color: #f0f8ff;}#sk-container-id-5 input.sk-toggleable__control:checked~div.sk-toggleable__content {max-height: 200px;max-width: 100%;overflow: auto;}#sk-container-id-5 input.sk-toggleable__control:checked~label.sk-toggleable__label-arrow:before {content: \"▾\";}#sk-container-id-5 div.sk-estimator input.sk-toggleable__control:checked~label.sk-toggleable__label {background-color: #d4ebff;}#sk-container-id-5 div.sk-label input.sk-toggleable__control:checked~label.sk-toggleable__label {background-color: #d4ebff;}#sk-container-id-5 input.sk-hidden--visually {border: 0;clip: rect(1px 1px 1px 1px);clip: rect(1px, 1px, 1px, 1px);height: 1px;margin: -1px;overflow: hidden;padding: 0;position: absolute;width: 1px;}#sk-container-id-5 div.sk-estimator {font-family: monospace;background-color: #f0f8ff;border: 1px dotted black;border-radius: 0.25em;box-sizing: border-box;margin-bottom: 0.5em;}#sk-container-id-5 div.sk-estimator:hover {background-color: #d4ebff;}#sk-container-id-5 div.sk-parallel-item::after {content: \"\";width: 100%;border-bottom: 1px solid gray;flex-grow: 1;}#sk-container-id-5 div.sk-label:hover label.sk-toggleable__label {background-color: #d4ebff;}#sk-container-id-5 div.sk-serial::before {content: \"\";position: absolute;border-left: 1px solid gray;box-sizing: border-box;top: 0;bottom: 0;left: 50%;z-index: 0;}#sk-container-id-5 div.sk-serial {display: flex;flex-direction: column;align-items: center;background-color: white;padding-right: 0.2em;padding-left: 0.2em;position: relative;}#sk-container-id-5 div.sk-item {position: relative;z-index: 1;}#sk-container-id-5 div.sk-parallel {display: flex;align-items: stretch;justify-content: center;background-color: white;position: relative;}#sk-container-id-5 div.sk-item::before, #sk-container-id-5 div.sk-parallel-item::before {content: \"\";position: absolute;border-left: 1px solid gray;box-sizing: border-box;top: 0;bottom: 0;left: 50%;z-index: -1;}#sk-container-id-5 div.sk-parallel-item {display: flex;flex-direction: column;z-index: 1;position: relative;background-color: white;}#sk-container-id-5 div.sk-parallel-item:first-child::after {align-self: flex-end;width: 50%;}#sk-container-id-5 div.sk-parallel-item:last-child::after {align-self: flex-start;width: 50%;}#sk-container-id-5 div.sk-parallel-item:only-child::after {width: 0;}#sk-container-id-5 div.sk-dashed-wrapped {border: 1px dashed gray;margin: 0 0.4em 0.5em 0.4em;box-sizing: border-box;padding-bottom: 0.4em;background-color: white;}#sk-container-id-5 div.sk-label label {font-family: monospace;font-weight: bold;display: inline-block;line-height: 1.2em;}#sk-container-id-5 div.sk-label-container {text-align: center;}#sk-container-id-5 div.sk-container {/* jupyter's `normalize.less` sets `[hidden] { display: none; }` but bootstrap.min.css set `[hidden] { display: none !important; }` so we also need the `!important` here to be able to override the default hidden behavior on the sphinx rendered scikit-learn.org. See: https://github.com/scikit-learn/scikit-learn/issues/21755 */display: inline-block !important;position: relative;}#sk-container-id-5 div.sk-text-repr-fallback {display: none;}</style><div id=\"sk-container-id-5\" class=\"sk-top-container\"><div class=\"sk-text-repr-fallback\"><pre>GaussianNB()</pre><b>In a Jupyter environment, please rerun this cell to show the HTML representation or trust the notebook. <br />On GitHub, the HTML representation is unable to render, please try loading this page with nbviewer.org.</b></div><div class=\"sk-container\" hidden><div class=\"sk-item\"><div class=\"sk-estimator sk-toggleable\"><input class=\"sk-toggleable__control sk-hidden--visually\" id=\"sk-estimator-id-5\" type=\"checkbox\" checked><label for=\"sk-estimator-id-5\" class=\"sk-toggleable__label sk-toggleable__label-arrow\">GaussianNB</label><div class=\"sk-toggleable__content\"><pre>GaussianNB()</pre></div></div></div></div></div>"
      ],
      "text/plain": [
       "GaussianNB()"
      ]
     },
     "execution_count": 70,
     "metadata": {},
     "output_type": "execute_result"
    }
   ],
   "source": [
    "best_model_nb.fit(merged_features_train, y_train)"
   ]
  },
  {
   "cell_type": "code",
   "execution_count": 71,
   "id": "20f9a8fc-d945-46af-808b-8d6aa0bcb524",
   "metadata": {},
   "outputs": [],
   "source": [
    "y_pred_nb = best_model_nb.predict(merged_features_test)"
   ]
  },
  {
   "cell_type": "code",
   "execution_count": 72,
   "id": "91c3b5b0-3ee0-43cc-ae8b-43b56c69d747",
   "metadata": {},
   "outputs": [
    {
     "data": {
      "text/plain": [
       "0.5113788487282463"
      ]
     },
     "execution_count": 72,
     "metadata": {},
     "output_type": "execute_result"
    }
   ],
   "source": [
    "accuracy_score(y_test, y_pred_nb)"
   ]
  },
  {
   "cell_type": "code",
   "execution_count": 73,
   "id": "9d758479-bcef-4735-aff1-be7822937f4b",
   "metadata": {},
   "outputs": [
    {
     "name": "stdout",
     "output_type": "stream",
     "text": [
      "              precision    recall  f1-score   support\n",
      "\n",
      "           0       0.51      0.43      0.47       747\n",
      "           1       0.51      0.60      0.55       747\n",
      "\n",
      "    accuracy                           0.51      1494\n",
      "   macro avg       0.51      0.51      0.51      1494\n",
      "weighted avg       0.51      0.51      0.51      1494\n",
      "\n"
     ]
    }
   ],
   "source": [
    "print(classification_report(y_test, y_pred_nb))"
   ]
  },
  {
   "cell_type": "code",
   "execution_count": 74,
   "id": "18ed6f85-baaa-49e4-9b5c-ac912edecd09",
   "metadata": {},
   "outputs": [
    {
     "data": {
      "image/png": "[encoded data removed]",
      "text/plain": [
       "<Figure size 640x480 with 1 Axes>"
      ]
     },
     "metadata": {},
     "output_type": "display_data"
    }
   ],
   "source": [
    "plot_roc(best_model_nb, 'Naive Bayes')"
   ]
  },
  {
   "cell_type": "code",
   "execution_count": 75,
   "id": "1aef7d58-b749-452e-9894-f6875be29e8a",
   "metadata": {},
   "outputs": [],
   "source": [
    "file_path = r\"D:\\SEM 4\\Project\\naivebayes_Blocks.pkl\"\n",
    "\n",
    "with open(file_path, 'wb') as file:\n",
    "    pickle.dump(best_model_nb, file)"
   ]
  },
  {
   "cell_type": "code",
   "execution_count": 155,
   "id": "d877df6d-7862-4f78-8b5c-fdc278af1ca4",
   "metadata": {},
   "outputs": [],
   "source": [
    "verifyer_nb = pd.DataFrame([X_test, y_pred_nb, y_test]).T\n",
    "verifyer_nb.columns = ['audio', 'y_pred', 'y_test']\n",
    "verifyer_nb.to_csv(\"predicted_nb_Blocks.csv\")\n",
    "test_nb = pd.DataFrame([X_test, y_test, y_pred_nb]).T\n",
    "test_nb.columns = ['X_test', 'y_test', 'y_pred']\n",
    "test_nb.to_csv(\"test_nb_blocks.csv\")"
   ]
  },
  {
   "cell_type": "code",
   "execution_count": 95,
   "id": "4b58a5e2",
   "metadata": {},
   "outputs": [],
   "source": [
    "y_pred_nb=best_model_nb.predict(merged_features_test)"
   ]
  },
  {
   "cell_type": "markdown",
   "id": "a8f75704-68f5-4b70-bf7d-7a299c625bfe",
   "metadata": {},
   "source": [
    "# Logistic Regression"
   ]
  },
  {
   "cell_type": "code",
   "execution_count": 76,
   "id": "93f9e17d-6470-4f4d-9077-e0fd7bc83e48",
   "metadata": {},
   "outputs": [],
   "source": [
    "lr = LogisticRegression(n_jobs=-1)"
   ]
  },
  {
   "cell_type": "code",
   "execution_count": 77,
   "id": "af7bada6-0224-4ff2-b8f4-3e0d189a2759",
   "metadata": {},
   "outputs": [],
   "source": [
    "# Perform cross-validation\n",
    "cv_results_1= cross_validate(lr, merged_features_train, y_train, cv=5,\n",
    "                            scoring=['accuracy', 'precision', 'recall', 'f1'],\n",
    "                            return_estimator=True)"
   ]
  },
  {
   "cell_type": "code",
   "execution_count": 78,
   "id": "5bde6aa2-8784-4816-a243-af64763d625f",
   "metadata": {},
   "outputs": [
    {
     "data": {
      "text/plain": [
       "{'fit_time': array([3.28741646, 1.6667006 , 1.90022635, 1.82579947, 1.84062028]),\n",
       " 'score_time': array([0.01364756, 0.0143249 , 0.01695871, 0.01234913, 0.01691842]),\n",
       " 'estimator': [LogisticRegression(n_jobs=-1),\n",
       "  LogisticRegression(n_jobs=-1),\n",
       "  LogisticRegression(n_jobs=-1),\n",
       "  LogisticRegression(n_jobs=-1),\n",
       "  LogisticRegression(n_jobs=-1)],\n",
       " 'test_accuracy': array([0.55873926, 0.54662841, 0.53658537, 0.53084648, 0.51362984]),\n",
       " 'test_precision': array([0.55807365, 0.55076923, 0.53915663, 0.53097345, 0.51239669]),\n",
       " 'test_recall': array([0.56446991, 0.51289398, 0.51289398, 0.51724138, 0.53448276]),\n",
       " 'test_f1': array([0.56125356, 0.53115727, 0.5256975 , 0.52401747, 0.52320675])}"
      ]
     },
     "execution_count": 78,
     "metadata": {},
     "output_type": "execute_result"
    }
   ],
   "source": [
    "cv_results_1"
   ]
  },
  {
   "cell_type": "code",
   "execution_count": 79,
   "id": "92625aa0-c90b-4e32-94e8-1f88b8b4295c",
   "metadata": {},
   "outputs": [],
   "source": [
    "# Extract the best model based on accuracy\n",
    "best_model_index_1 = cv_results_1['test_accuracy'].argmax()\n",
    "best_model_lr = cv_results_1['estimator'][best_model_index_1]"
   ]
  },
  {
   "cell_type": "code",
   "execution_count": 80,
   "id": "a960c9fa-6de9-44b1-9c2b-9c5ec470edf8",
   "metadata": {},
   "outputs": [
    {
     "data": {
      "text/plain": [
       "0"
      ]
     },
     "execution_count": 80,
     "metadata": {},
     "output_type": "execute_result"
    }
   ],
   "source": [
    "best_model_index_1"
   ]
  },
  {
   "cell_type": "code",
   "execution_count": 81,
   "id": "1b54454f-10c5-4670-a33d-4c1caf5e32d8",
   "metadata": {},
   "outputs": [
    {
     "data": {
      "text/html": [
       "<style>#sk-container-id-6 {color: black;background-color: white;}#sk-container-id-6 pre{padding: 0;}#sk-container-id-6 div.sk-toggleable {background-color: white;}#sk-container-id-6 label.sk-toggleable__label {cursor: pointer;display: block;width: 100%;margin-bottom: 0;padding: 0.3em;box-sizing: border-box;text-align: center;}#sk-container-id-6 label.sk-toggleable__label-arrow:before {content: \"▸\";float: left;margin-right: 0.25em;color: #696969;}#sk-container-id-6 label.sk-toggleable__label-arrow:hover:before {color: black;}#sk-container-id-6 div.sk-estimator:hover label.sk-toggleable__label-arrow:before {color: black;}#sk-container-id-6 div.sk-toggleable__content {max-height: 0;max-width: 0;overflow: hidden;text-align: left;background-color: #f0f8ff;}#sk-container-id-6 div.sk-toggleable__content pre {margin: 0.2em;color: black;border-radius: 0.25em;background-color: #f0f8ff;}#sk-container-id-6 input.sk-toggleable__control:checked~div.sk-toggleable__content {max-height: 200px;max-width: 100%;overflow: auto;}#sk-container-id-6 input.sk-toggleable__control:checked~label.sk-toggleable__label-arrow:before {content: \"▾\";}#sk-container-id-6 div.sk-estimator input.sk-toggleable__control:checked~label.sk-toggleable__label {background-color: #d4ebff;}#sk-container-id-6 div.sk-label input.sk-toggleable__control:checked~label.sk-toggleable__label {background-color: #d4ebff;}#sk-container-id-6 input.sk-hidden--visually {border: 0;clip: rect(1px 1px 1px 1px);clip: rect(1px, 1px, 1px, 1px);height: 1px;margin: -1px;overflow: hidden;padding: 0;position: absolute;width: 1px;}#sk-container-id-6 div.sk-estimator {font-family: monospace;background-color: #f0f8ff;border: 1px dotted black;border-radius: 0.25em;box-sizing: border-box;margin-bottom: 0.5em;}#sk-container-id-6 div.sk-estimator:hover {background-color: #d4ebff;}#sk-container-id-6 div.sk-parallel-item::after {content: \"\";width: 100%;border-bottom: 1px solid gray;flex-grow: 1;}#sk-container-id-6 div.sk-label:hover label.sk-toggleable__label {background-color: #d4ebff;}#sk-container-id-6 div.sk-serial::before {content: \"\";position: absolute;border-left: 1px solid gray;box-sizing: border-box;top: 0;bottom: 0;left: 50%;z-index: 0;}#sk-container-id-6 div.sk-serial {display: flex;flex-direction: column;align-items: center;background-color: white;padding-right: 0.2em;padding-left: 0.2em;position: relative;}#sk-container-id-6 div.sk-item {position: relative;z-index: 1;}#sk-container-id-6 div.sk-parallel {display: flex;align-items: stretch;justify-content: center;background-color: white;position: relative;}#sk-container-id-6 div.sk-item::before, #sk-container-id-6 div.sk-parallel-item::before {content: \"\";position: absolute;border-left: 1px solid gray;box-sizing: border-box;top: 0;bottom: 0;left: 50%;z-index: -1;}#sk-container-id-6 div.sk-parallel-item {display: flex;flex-direction: column;z-index: 1;position: relative;background-color: white;}#sk-container-id-6 div.sk-parallel-item:first-child::after {align-self: flex-end;width: 50%;}#sk-container-id-6 div.sk-parallel-item:last-child::after {align-self: flex-start;width: 50%;}#sk-container-id-6 div.sk-parallel-item:only-child::after {width: 0;}#sk-container-id-6 div.sk-dashed-wrapped {border: 1px dashed gray;margin: 0 0.4em 0.5em 0.4em;box-sizing: border-box;padding-bottom: 0.4em;background-color: white;}#sk-container-id-6 div.sk-label label {font-family: monospace;font-weight: bold;display: inline-block;line-height: 1.2em;}#sk-container-id-6 div.sk-label-container {text-align: center;}#sk-container-id-6 div.sk-container {/* jupyter's `normalize.less` sets `[hidden] { display: none; }` but bootstrap.min.css set `[hidden] { display: none !important; }` so we also need the `!important` here to be able to override the default hidden behavior on the sphinx rendered scikit-learn.org. See: https://github.com/scikit-learn/scikit-learn/issues/21755 */display: inline-block !important;position: relative;}#sk-container-id-6 div.sk-text-repr-fallback {display: none;}</style><div id=\"sk-container-id-6\" class=\"sk-top-container\"><div class=\"sk-text-repr-fallback\"><pre>LogisticRegression(n_jobs=-1)</pre><b>In a Jupyter environment, please rerun this cell to show the HTML representation or trust the notebook. <br />On GitHub, the HTML representation is unable to render, please try loading this page with nbviewer.org.</b></div><div class=\"sk-container\" hidden><div class=\"sk-item\"><div class=\"sk-estimator sk-toggleable\"><input class=\"sk-toggleable__control sk-hidden--visually\" id=\"sk-estimator-id-6\" type=\"checkbox\" checked><label for=\"sk-estimator-id-6\" class=\"sk-toggleable__label sk-toggleable__label-arrow\">LogisticRegression</label><div class=\"sk-toggleable__content\"><pre>LogisticRegression(n_jobs=-1)</pre></div></div></div></div></div>"
      ],
      "text/plain": [
       "LogisticRegression(n_jobs=-1)"
      ]
     },
     "execution_count": 81,
     "metadata": {},
     "output_type": "execute_result"
    }
   ],
   "source": [
    "best_model_lr.fit(merged_features_train, y_train)"
   ]
  },
  {
   "cell_type": "code",
   "execution_count": 82,
   "id": "8fe6f2fe-3136-4b6f-8f46-b6f983dbbbeb",
   "metadata": {},
   "outputs": [],
   "source": [
    "y_pred_lr = best_model_lr.predict(merged_features_test)"
   ]
  },
  {
   "cell_type": "code",
   "execution_count": 83,
   "id": "0ce6b2cf-0929-4b0b-b9ca-ec4e430c6e34",
   "metadata": {},
   "outputs": [
    {
     "data": {
      "text/plain": [
       "0.5401606425702812"
      ]
     },
     "execution_count": 83,
     "metadata": {},
     "output_type": "execute_result"
    }
   ],
   "source": [
    "accuracy_score(y_test, y_pred_lr)"
   ]
  },
  {
   "cell_type": "code",
   "execution_count": 84,
   "id": "fb7c26d5-cbcc-42d1-ae03-4ce66ec3ca8c",
   "metadata": {},
   "outputs": [
    {
     "data": {
      "image/png": "[encoded data removed]",
      "text/plain": [
       "<Figure size 640x480 with 1 Axes>"
      ]
     },
     "metadata": {},
     "output_type": "display_data"
    }
   ],
   "source": [
    "plot_roc(best_model_lr, 'Logistic Regression')"
   ]
  },
  {
   "cell_type": "code",
   "execution_count": 85,
   "id": "a2581e0c-0f91-4375-ad89-79bdcd334761",
   "metadata": {},
   "outputs": [],
   "source": [
    "file_path = r\"D:\\SEM 4\\Project\\LogisticRegression_Blocks.pkl\"\n",
    "\n",
    "with open(file_path, 'wb') as file:\n",
    "    pickle.dump(best_model_nb, file)"
   ]
  },
  {
   "cell_type": "code",
   "execution_count": 229,
   "id": "96f86655-0f96-4a20-aa58-738d8e1b0408",
   "metadata": {},
   "outputs": [],
   "source": [
    "verifyer_lr = pd.DataFrame([X_test, y_pred_lr, y_test]).T\n",
    "verifyer_lr.columns = ['audio', 'y_pred', 'y_test']\n",
    "verifyer_lr.to_csv(\"predicted_lr_Blocks.csv\")\n",
    "test_lr = pd.DataFrame([X_test, y_test, y_pred_lr]).T\n",
    "test_lr.columns = ['X_test', 'y_test', 'y_pred']\n",
    "test_lr.to_csv(\"test_lr_blocks.csv\")"
   ]
  },
  {
   "cell_type": "code",
   "execution_count": 96,
   "id": "eb783d7e",
   "metadata": {},
   "outputs": [],
   "source": [
    "y_pred_lr=best_model_lr.predict(merged_features_test)"
   ]
  },
  {
   "cell_type": "markdown",
   "id": "e305e9a4-1e2d-4b26-8f95-a430dc134cec",
   "metadata": {},
   "source": [
    "# Comparitive Analysis"
   ]
  },
  {
   "cell_type": "code",
   "execution_count": 100,
   "id": "e580741f-6df3-43fd-b8fd-c762e41b6258",
   "metadata": {},
   "outputs": [],
   "source": [
    "from sklearn.metrics import accuracy_score, precision_score, recall_score, f1_score"
   ]
  },
  {
   "cell_type": "code",
   "execution_count": 101,
   "id": "fac1d008-91e3-44d3-ad34-e8be5ea7f163",
   "metadata": {},
   "outputs": [],
   "source": [
    "models = ['Random Forest', 'Decision Tree', 'KNN', 'SVC', 'Naive Bayes', 'Logistic Regression']\n",
    "accuracy_scores = []\n",
    "precision_scores = []\n",
    "recall_scores = []\n",
    "f1_scores = []\n",
    "best_models = [best_model_rf, best_model_dt, best_model_knn, best_model_svc, best_model_nb, best_model_lr]\n",
    "y_preds = [y_pred_rf, y_pred_dt, y_pred_knn, y_pred_svc, y_pred_nb, y_pred_lr]"
   ]
  },
  {
   "cell_type": "code",
   "execution_count": 102,
   "id": "5524e7a9-372c-4527-9094-df6faed4debf",
   "metadata": {},
   "outputs": [],
   "source": [
    "# Function to calculate evaluation metrics\n",
    "def calculate_metrics(y_true, y_pred):\n",
    "    accuracy = accuracy_score(y_true, y_pred)\n",
    "    precision = precision_score(y_true, y_pred)\n",
    "    recall = recall_score(y_true, y_pred)\n",
    "    f1 = f1_score(y_true, y_pred)\n",
    "    return accuracy, precision, recall, f1"
   ]
  },
  {
   "cell_type": "code",
   "execution_count": 103,
   "id": "3e4eedba-4980-419c-ba62-b5132e68a802",
   "metadata": {},
   "outputs": [],
   "source": [
    "# Calculate evaluation metrics for each model\n",
    "for model, y_pred in zip(best_models, y_preds):\n",
    "    accuracy, precision, recall, f1 = calculate_metrics(y_test, y_pred)\n",
    "    accuracy_scores.append(accuracy)\n",
    "    precision_scores.append(precision)\n",
    "    recall_scores.append(recall)\n",
    "    f1_scores.append(f1)"
   ]
  },
  {
   "cell_type": "code",
   "execution_count": 106,
   "id": "e5a048c8-e023-413e-bb23-9febf7c0eb47",
   "metadata": {},
   "outputs": [
    {
     "name": "stdout",
     "output_type": "stream",
     "text": [
      "Comparison of all ML models(Blocks): \n"
     ]
    },
    {
     "data": {
      "text/html": [
       "<div>\n",
       "<style scoped>\n",
       "    .dataframe tbody tr th:only-of-type {\n",
       "        vertical-align: middle;\n",
       "    }\n",
       "\n",
       "    .dataframe tbody tr th {\n",
       "        vertical-align: top;\n",
       "    }\n",
       "\n",
       "    .dataframe thead th {\n",
       "        text-align: right;\n",
       "    }\n",
       "</style>\n",
       "<table border=\"1\" class=\"dataframe\">\n",
       "  <thead>\n",
       "    <tr style=\"text-align: right;\">\n",
       "      <th></th>\n",
       "      <th>Model</th>\n",
       "      <th>Accuracy</th>\n",
       "      <th>Precision</th>\n",
       "      <th>Recall</th>\n",
       "      <th>F1 Score</th>\n",
       "    </tr>\n",
       "  </thead>\n",
       "  <tbody>\n",
       "    <tr>\n",
       "      <th>0</th>\n",
       "      <td>Random Forest</td>\n",
       "      <td>0.582999</td>\n",
       "      <td>0.591988</td>\n",
       "      <td>0.534137</td>\n",
       "      <td>0.561576</td>\n",
       "    </tr>\n",
       "    <tr>\n",
       "      <th>1</th>\n",
       "      <td>Decision Tree</td>\n",
       "      <td>0.563588</td>\n",
       "      <td>0.575517</td>\n",
       "      <td>0.484605</td>\n",
       "      <td>0.526163</td>\n",
       "    </tr>\n",
       "    <tr>\n",
       "      <th>2</th>\n",
       "      <td>KNN</td>\n",
       "      <td>0.601740</td>\n",
       "      <td>0.630137</td>\n",
       "      <td>0.492637</td>\n",
       "      <td>0.552968</td>\n",
       "    </tr>\n",
       "    <tr>\n",
       "      <th>3</th>\n",
       "      <td>SVC</td>\n",
       "      <td>0.595716</td>\n",
       "      <td>0.597015</td>\n",
       "      <td>0.589023</td>\n",
       "      <td>0.592992</td>\n",
       "    </tr>\n",
       "    <tr>\n",
       "      <th>4</th>\n",
       "      <td>Naive Bayes</td>\n",
       "      <td>0.511379</td>\n",
       "      <td>0.509714</td>\n",
       "      <td>0.597055</td>\n",
       "      <td>0.549938</td>\n",
       "    </tr>\n",
       "    <tr>\n",
       "      <th>5</th>\n",
       "      <td>Logistic Regression</td>\n",
       "      <td>0.540161</td>\n",
       "      <td>0.539788</td>\n",
       "      <td>0.544846</td>\n",
       "      <td>0.542305</td>\n",
       "    </tr>\n",
       "  </tbody>\n",
       "</table>\n",
       "</div>"
      ],
      "text/plain": [
       "                 Model  Accuracy  Precision    Recall  F1 Score\n",
       "0        Random Forest  0.582999   0.591988  0.534137  0.561576\n",
       "1        Decision Tree  0.563588   0.575517  0.484605  0.526163\n",
       "2                  KNN  0.601740   0.630137  0.492637  0.552968\n",
       "3                  SVC  0.595716   0.597015  0.589023  0.592992\n",
       "4          Naive Bayes  0.511379   0.509714  0.597055  0.549938\n",
       "5  Logistic Regression  0.540161   0.539788  0.544846  0.542305"
      ]
     },
     "execution_count": 106,
     "metadata": {},
     "output_type": "execute_result"
    }
   ],
   "source": [
    "evaluation_df = pd.DataFrame({\n",
    "    'Model': models,\n",
    "    'Accuracy': accuracy_scores,\n",
    "    'Precision': precision_scores,\n",
    "    'Recall': recall_scores,\n",
    "    'F1 Score': f1_scores\n",
    "})\n",
    "print('Comparison of all ML models(Blocks): ')\n",
    "evaluation_df"
   ]
  },
  {
   "cell_type": "code",
   "execution_count": 107,
   "id": "8764e477-c046-4838-bb2e-222a6409b0a3",
   "metadata": {},
   "outputs": [
    {
     "name": "stdout",
     "output_type": "stream",
     "text": [
      "Highest Accuracy score of 60.17% with KNN\n",
      "Highest Precision score of 63.01% with KNN\n",
      "Highest Recall score of 59.71% with Naive Bayes\n",
      "Highest F1 score of 59.30% with SVC\n"
     ]
    }
   ],
   "source": [
    "print(f'Highest Accuracy score of {np.max(accuracy_scores)*100:.2f}% with {models[np.argmax(accuracy_scores)]}')\n",
    "print(f'Highest Precision score of {np.max(precision_scores)*100:.2f}% with {models[np.argmax(precision_scores)]}')\n",
    "print(f'Highest Recall score of {np.max(recall_scores)*100:.2f}% with {models[np.argmax(recall_scores)]}')\n",
    "print(f'Highest F1 score of {np.max(f1_scores)*100:.2f}% with {models[np.argmax(f1_scores)]}')"
   ]
  },
  {
   "cell_type": "code",
   "execution_count": null,
   "id": "f726080f-3c05-4afc-8747-0a6840e4a64c",
   "metadata": {},
   "outputs": [],
   "source": []
  }
 ],
 "metadata": {
  "kernelspec": {
   "display_name": "Python 3 (ipykernel)",
   "language": "python",
   "name": "python3"
  },
  "language_info": {
   "codemirror_mode": {
    "name": "ipython",
    "version": 3
   },
   "file_extension": ".py",
   "mimetype": "text/x-python",
   "name": "python",
   "nbconvert_exporter": "python",
   "pygments_lexer": "ipython3",
   "version": "3.11.3"
  }
 },
 "nbformat": 4,
 "nbformat_minor": 5
}
