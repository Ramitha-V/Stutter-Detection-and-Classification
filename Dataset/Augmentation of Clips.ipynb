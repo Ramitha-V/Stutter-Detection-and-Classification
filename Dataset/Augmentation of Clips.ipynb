{
 "cells": [
  {
   "cell_type": "code",
   "execution_count": 9,
   "id": "9d3fcce2",
   "metadata": {},
   "outputs": [],
   "source": [
    "# Importing the libraries\n",
    "import numpy as np\n",
    "import pandas as pd\n",
    "import librosa\n",
    "import matplotlib.pyplot as plt\n",
    "import os\n",
    "import soundfile as sf\n",
    "import random"
   ]
  },
  {
   "cell_type": "code",
   "execution_count": 10,
   "id": "b556fa5f",
   "metadata": {},
   "outputs": [],
   "source": [
    "# # Load DataFrame\n",
    "df = pd.read_csv('D:\\SEM 4\\Project\\\\SEP-28k_labels.csv')"
   ]
  },
  {
   "cell_type": "code",
   "execution_count": 11,
   "id": "160b2796",
   "metadata": {},
   "outputs": [
    {
     "data": {
      "text/html": [
       "<div>\n",
       "<style scoped>\n",
       "    .dataframe tbody tr th:only-of-type {\n",
       "        vertical-align: middle;\n",
       "    }\n",
       "\n",
       "    .dataframe tbody tr th {\n",
       "        vertical-align: top;\n",
       "    }\n",
       "\n",
       "    .dataframe thead th {\n",
       "        text-align: right;\n",
       "    }\n",
       "</style>\n",
       "<table border=\"1\" class=\"dataframe\">\n",
       "  <thead>\n",
       "    <tr style=\"text-align: right;\">\n",
       "      <th></th>\n",
       "      <th>Show</th>\n",
       "      <th>EpId</th>\n",
       "      <th>ClipId</th>\n",
       "      <th>Start</th>\n",
       "      <th>Stop</th>\n",
       "      <th>Unsure</th>\n",
       "      <th>PoorAudioQuality</th>\n",
       "      <th>Prolongation</th>\n",
       "      <th>Block</th>\n",
       "      <th>SoundRep</th>\n",
       "      <th>WordRep</th>\n",
       "      <th>DifficultToUnderstand</th>\n",
       "      <th>Interjection</th>\n",
       "      <th>NoStutteredWords</th>\n",
       "      <th>NaturalPause</th>\n",
       "      <th>Music</th>\n",
       "      <th>NoSpeech</th>\n",
       "    </tr>\n",
       "  </thead>\n",
       "  <tbody>\n",
       "    <tr>\n",
       "      <th>0</th>\n",
       "      <td>HeStutters</td>\n",
       "      <td>0</td>\n",
       "      <td>0</td>\n",
       "      <td>31900320</td>\n",
       "      <td>31948320</td>\n",
       "      <td>0</td>\n",
       "      <td>0</td>\n",
       "      <td>0</td>\n",
       "      <td>0</td>\n",
       "      <td>0</td>\n",
       "      <td>0</td>\n",
       "      <td>0</td>\n",
       "      <td>0</td>\n",
       "      <td>3</td>\n",
       "      <td>1</td>\n",
       "      <td>0</td>\n",
       "      <td>0</td>\n",
       "    </tr>\n",
       "    <tr>\n",
       "      <th>1</th>\n",
       "      <td>HeStutters</td>\n",
       "      <td>0</td>\n",
       "      <td>1</td>\n",
       "      <td>31977120</td>\n",
       "      <td>32025120</td>\n",
       "      <td>0</td>\n",
       "      <td>0</td>\n",
       "      <td>0</td>\n",
       "      <td>0</td>\n",
       "      <td>0</td>\n",
       "      <td>0</td>\n",
       "      <td>0</td>\n",
       "      <td>0</td>\n",
       "      <td>3</td>\n",
       "      <td>1</td>\n",
       "      <td>0</td>\n",
       "      <td>0</td>\n",
       "    </tr>\n",
       "    <tr>\n",
       "      <th>2</th>\n",
       "      <td>HeStutters</td>\n",
       "      <td>0</td>\n",
       "      <td>2</td>\n",
       "      <td>34809760</td>\n",
       "      <td>34857760</td>\n",
       "      <td>0</td>\n",
       "      <td>0</td>\n",
       "      <td>0</td>\n",
       "      <td>0</td>\n",
       "      <td>0</td>\n",
       "      <td>0</td>\n",
       "      <td>0</td>\n",
       "      <td>0</td>\n",
       "      <td>3</td>\n",
       "      <td>0</td>\n",
       "      <td>0</td>\n",
       "      <td>0</td>\n",
       "    </tr>\n",
       "    <tr>\n",
       "      <th>3</th>\n",
       "      <td>HeStutters</td>\n",
       "      <td>0</td>\n",
       "      <td>3</td>\n",
       "      <td>35200640</td>\n",
       "      <td>35248640</td>\n",
       "      <td>0</td>\n",
       "      <td>0</td>\n",
       "      <td>1</td>\n",
       "      <td>0</td>\n",
       "      <td>0</td>\n",
       "      <td>0</td>\n",
       "      <td>0</td>\n",
       "      <td>0</td>\n",
       "      <td>2</td>\n",
       "      <td>0</td>\n",
       "      <td>0</td>\n",
       "      <td>0</td>\n",
       "    </tr>\n",
       "    <tr>\n",
       "      <th>4</th>\n",
       "      <td>HeStutters</td>\n",
       "      <td>0</td>\n",
       "      <td>4</td>\n",
       "      <td>35721920</td>\n",
       "      <td>35769920</td>\n",
       "      <td>0</td>\n",
       "      <td>0</td>\n",
       "      <td>0</td>\n",
       "      <td>0</td>\n",
       "      <td>0</td>\n",
       "      <td>0</td>\n",
       "      <td>0</td>\n",
       "      <td>0</td>\n",
       "      <td>3</td>\n",
       "      <td>0</td>\n",
       "      <td>0</td>\n",
       "      <td>0</td>\n",
       "    </tr>\n",
       "  </tbody>\n",
       "</table>\n",
       "</div>"
      ],
      "text/plain": [
       "         Show  EpId  ClipId     Start      Stop  Unsure  PoorAudioQuality  \\\n",
       "0  HeStutters     0       0  31900320  31948320       0                 0   \n",
       "1  HeStutters     0       1  31977120  32025120       0                 0   \n",
       "2  HeStutters     0       2  34809760  34857760       0                 0   \n",
       "3  HeStutters     0       3  35200640  35248640       0                 0   \n",
       "4  HeStutters     0       4  35721920  35769920       0                 0   \n",
       "\n",
       "   Prolongation  Block  SoundRep  WordRep  DifficultToUnderstand  \\\n",
       "0             0      0         0        0                      0   \n",
       "1             0      0         0        0                      0   \n",
       "2             0      0         0        0                      0   \n",
       "3             1      0         0        0                      0   \n",
       "4             0      0         0        0                      0   \n",
       "\n",
       "   Interjection  NoStutteredWords  NaturalPause  Music  NoSpeech  \n",
       "0             0                 3             1      0         0  \n",
       "1             0                 3             1      0         0  \n",
       "2             0                 3             0      0         0  \n",
       "3             0                 2             0      0         0  \n",
       "4             0                 3             0      0         0  "
      ]
     },
     "execution_count": 11,
     "metadata": {},
     "output_type": "execute_result"
    }
   ],
   "source": [
    "df.head()"
   ]
  },
  {
   "cell_type": "code",
   "execution_count": 12,
   "id": "fc95f46b",
   "metadata": {},
   "outputs": [
    {
     "data": {
      "text/plain": [
       "array(['HeStutters', 'HVSA', 'IStutterSoWhat', 'MyStutteringLife',\n",
       "       'StrongVoices', 'StutterTalk', 'StutteringIsCool',\n",
       "       'WomenWhoStutter'], dtype=object)"
      ]
     },
     "execution_count": 12,
     "metadata": {},
     "output_type": "execute_result"
    }
   ],
   "source": [
    "df['Show'].unique()"
   ]
  },
  {
   "cell_type": "code",
   "execution_count": 13,
   "id": "18a17fd2",
   "metadata": {},
   "outputs": [],
   "source": [
    "#Reading the audio files\n",
    "main_folder = 'D:\\\\SEM 4\\\\Project\\\\sep28k-final'\n",
    "def list_files(directory):\n",
    "    for root, _, files in os.walk(directory):\n",
    "        for file in files:\n",
    "            yield os.path.join(root, file)"
   ]
  },
  {
   "cell_type": "code",
   "execution_count": 17,
   "id": "d7ffddf9",
   "metadata": {},
   "outputs": [],
   "source": [
    "def count_files(directory):\n",
    "    file_count = 0\n",
    "    for root, _, files in os.walk(directory):\n",
    "        file_count += len(files)\n",
    "    return file_count"
   ]
  },
  {
   "cell_type": "code",
   "execution_count": 18,
   "id": "a03ede16",
   "metadata": {},
   "outputs": [
    {
     "name": "stdout",
     "output_type": "stream",
     "text": [
      "Number of files in main directory: 21836\n"
     ]
    }
   ],
   "source": [
    "num_files = count_files(main_folder)\n",
    "print(\"Number of files in main directory:\", num_files)"
   ]
  },
  {
   "cell_type": "code",
   "execution_count": 8,
   "id": "f570fecf",
   "metadata": {},
   "outputs": [],
   "source": [
    "def remove_short_clips(directory):\n",
    "    removed_count = 0\n",
    "    for file_path in list_files(directory):\n",
    "        # Load audio and get its duration\n",
    "        audio, sr = librosa.load(file_path, sr=None)\n",
    "        duration = librosa.get_duration(y=audio, sr=sr)\n",
    "        # Check if duration is less than 3 seconds\n",
    "        if duration < 3.0:\n",
    "            # Remove the file\n",
    "            os.remove(file_path)\n",
    "            removed_count += 1\n",
    "            print(f\"Removed {file_path} (duration: {duration:.2f} seconds)\")\n",
    "    return removed_count\n"
   ]
  },
  {
   "cell_type": "code",
   "execution_count": 9,
   "id": "b0ff8305",
   "metadata": {},
   "outputs": [
    {
     "name": "stdout",
     "output_type": "stream",
     "text": [
      "Removed D:\\SEM 4\\Project\\sep28k-final\\HeStutters\\17\\HeStutters_17_0.wav (duration: 2.90 seconds)\n",
      "Removed D:\\SEM 4\\Project\\sep28k-final\\HeStutters\\2\\HeStutters_2_41.wav (duration: 2.70 seconds)\n",
      "Removed D:\\SEM 4\\Project\\sep28k-final\\HVSA\\0\\HVSA_0_0.wav (duration: 2.63 seconds)\n",
      "Removed D:\\SEM 4\\Project\\sep28k-final\\HVSA\\3\\HVSA_3_37.wav (duration: 2.86 seconds)\n",
      "Removed D:\\SEM 4\\Project\\sep28k-final\\IStutterSoWhat\\2\\IStutterSoWhat_2_37.wav (duration: 2.88 seconds)\n",
      "Removed D:\\SEM 4\\Project\\sep28k-final\\MyStutteringLife\\0\\MyStutteringLife_0_10.wav (duration: 2.56 seconds)\n",
      "Removed D:\\SEM 4\\Project\\sep28k-final\\MyStutteringLife\\18\\MyStutteringLife_18_1.wav (duration: 2.69 seconds)\n",
      "Removed D:\\SEM 4\\Project\\sep28k-final\\MyStutteringLife\\23\\MyStutteringLife_23_3.wav (duration: 2.69 seconds)\n",
      "Removed D:\\SEM 4\\Project\\sep28k-final\\MyStutteringLife\\7\\MyStutteringLife_7_13.wav (duration: 2.73 seconds)\n",
      "Removed D:\\SEM 4\\Project\\sep28k-final\\StutterTalk\\5\\StutterTalk_5_8.wav (duration: 2.83 seconds)\n",
      "Removed D:\\SEM 4\\Project\\sep28k-final\\WomenWhoStutter\\101\\WomenWhoStutter_101_0.wav (duration: 2.58 seconds)\n",
      "Removed D:\\SEM 4\\Project\\sep28k-final\\WomenWhoStutter\\101\\WomenWhoStutter_101_35.wav (duration: 2.58 seconds)\n",
      "Removed D:\\SEM 4\\Project\\sep28k-final\\WomenWhoStutter\\47\\WomenWhoStutter_47_1.wav (duration: 2.63 seconds)\n",
      "Removed D:\\SEM 4\\Project\\sep28k-final\\WomenWhoStutter\\73\\WomenWhoStutter_73_0.wav (duration: 2.55 seconds)\n",
      "Removed D:\\SEM 4\\Project\\sep28k-final\\WomenWhoStutter\\74\\WomenWhoStutter_74_0.wav (duration: 2.54 seconds)\n",
      "Removed D:\\SEM 4\\Project\\sep28k-final\\WomenWhoStutter\\80\\WomenWhoStutter_80_9.wav (duration: 2.58 seconds)\n",
      "Removed D:\\SEM 4\\Project\\sep28k-final\\WomenWhoStutter\\85\\WomenWhoStutter_85_0.wav (duration: 2.55 seconds)\n",
      "Removed D:\\SEM 4\\Project\\sep28k-final\\WomenWhoStutter\\86\\WomenWhoStutter_86_0.wav (duration: 2.55 seconds)\n",
      "Removed D:\\SEM 4\\Project\\sep28k-final\\WomenWhoStutter\\87\\WomenWhoStutter_87_0.wav (duration: 2.56 seconds)\n",
      "Removed D:\\SEM 4\\Project\\sep28k-final\\WomenWhoStutter\\97\\WomenWhoStutter_97_0.wav (duration: 2.59 seconds)\n",
      "Total files removed: 20\n"
     ]
    }
   ],
   "source": [
    "removed_count = remove_short_clips(main_folder)\n",
    "print(\"Total files removed:\", removed_count)"
   ]
  },
  {
   "cell_type": "code",
   "execution_count": 10,
   "id": "bed7c219",
   "metadata": {},
   "outputs": [
    {
     "name": "stdout",
     "output_type": "stream",
     "text": [
      "Number of files after removal: 21836\n"
     ]
    }
   ],
   "source": [
    "num_files_after = count_files(main_folder)\n",
    "print(\"Number of files after removal:\", num_files_after)"
   ]
  },
  {
   "cell_type": "code",
   "execution_count": 11,
   "id": "4efe6e8a",
   "metadata": {},
   "outputs": [],
   "source": [
    "def check_sampling_rate(directory, target_sr=16000):\n",
    "    non_matching_files = []\n",
    "    for file_path in list_files(directory):\n",
    "        # Load audio and get its sampling rate\n",
    "        audio, sr = librosa.load(file_path, sr=None)\n",
    "        # Check if sampling rate is not the target rate\n",
    "        if sr != target_sr:\n",
    "            non_matching_files.append((file_path, sr))\n",
    "    return non_matching_files"
   ]
  },
  {
   "cell_type": "code",
   "execution_count": 12,
   "id": "812f048e",
   "metadata": {},
   "outputs": [],
   "source": [
    "# Check sampling rate of audio files\n",
    "non_matching_files = check_sampling_rate(main_folder)"
   ]
  },
  {
   "cell_type": "code",
   "execution_count": 13,
   "id": "f42d92b0",
   "metadata": {},
   "outputs": [
    {
     "name": "stdout",
     "output_type": "stream",
     "text": [
      "All files have the desired sampling rate (16000)\n"
     ]
    }
   ],
   "source": [
    "if non_matching_files:\n",
    "    print(\"Files with non-matching sampling rates:\")\n",
    "    for file_path, sr in non_matching_files:\n",
    "        print(f\"{file_path}: Sampling rate = {sr}\")\n",
    "else:\n",
    "    print(\"All files have the desired sampling rate (16000)\")"
   ]
  },
  {
   "cell_type": "code",
   "execution_count": 14,
   "id": "a5c2cb78",
   "metadata": {},
   "outputs": [
    {
     "name": "stdout",
     "output_type": "stream",
     "text": [
      "Number of files after checking: 21836\n"
     ]
    }
   ],
   "source": [
    "num_files_after = count_files(main_folder)\n",
    "print(\"Number of files after checking:\", num_files_after)"
   ]
  },
  {
   "cell_type": "code",
   "execution_count": 15,
   "id": "9bbd0968",
   "metadata": {},
   "outputs": [],
   "source": [
    "def augment_all_files_music(input_folder, output_folder, music_folder):\n",
    "    # Create the output folder if it doesn't exist\n",
    "    if not os.path.exists(output_folder):\n",
    "        os.makedirs(output_folder)\n",
    "    \n",
    "    # Loop through all files in the input folder and its subdirectories\n",
    "    for root, _, files in os.walk(input_folder):\n",
    "        # Create corresponding output subdirectory structure\n",
    "        output_subfolder = os.path.join(output_folder, os.path.relpath(root, input_folder))\n",
    "        os.makedirs(output_subfolder, exist_ok=True)\n",
    "        \n",
    "        for file_name in files:\n",
    "            if file_name.endswith('.wav'):  # Assuming all files are in WAV format\n",
    "                # Construct the full paths for input and output files\n",
    "                input_file_path = os.path.join(root, file_name)\n",
    "                output_file_path = os.path.join(output_subfolder, f\"{os.path.splitext(file_name)[0]}_aug.wav\")\n",
    "                \n",
    "                # Load stuttered speech sample (ensure duration is 3 seconds)\n",
    "                audio, sr = librosa.load(input_file_path, sr=None, duration=3.0)\n",
    "                \n",
    "                # Randomly select a music file from the music folder\n",
    "                music_files = os.listdir(music_folder)\n",
    "                selected_music_file = np.random.choice(music_files)\n",
    "                music_file = os.path.join(music_folder, selected_music_file)\n",
    "                \n",
    "                # Load selected music file\n",
    "                music, sr_music = librosa.load(music_file, sr=None, duration=len(audio)/sr)\n",
    "                \n",
    "                # Perform augmentation\n",
    "                snr = np.random.uniform(5, 15)\n",
    "                scaling_factor = np.sqrt(np.var(audio) / (np.var(music) * 10 ** (snr / 10)))\n",
    "                augmented_audio = audio + scaling_factor * music\n",
    "                \n",
    "                # Write augmented audio to the specified output path\n",
    "                sf.write(output_file_path, augmented_audio, sr)\n"
   ]
  },
  {
   "cell_type": "code",
   "execution_count": 16,
   "id": "3b1f1292",
   "metadata": {},
   "outputs": [],
   "source": [
    "def augment_all_files_noise(input_folder, output_folder, noise_folder, snr_range=(0, 15)):\n",
    "    # Create the output folder if it doesn't exist\n",
    "    if not os.path.exists(output_folder):\n",
    "        os.makedirs(output_folder)\n",
    "    \n",
    "    # Loop through all files in the input folder and its subdirectories\n",
    "    for root, _, files in os.walk(input_folder):\n",
    "        # Create corresponding output subdirectory structure\n",
    "        output_subfolder = os.path.join(output_folder, os.path.relpath(root, input_folder))\n",
    "        os.makedirs(output_subfolder, exist_ok=True)\n",
    "        \n",
    "        for file_name in files:\n",
    "            if file_name.endswith('.wav'):  # Assuming all files are in WAV format\n",
    "                # Construct the full paths for input and output files\n",
    "                input_file_path = os.path.join(root, file_name)\n",
    "                output_file_path = os.path.join(output_subfolder, f\"{os.path.splitext(file_name)[0]}_noise_aug.wav\")\n",
    "                \n",
    "                # Load stuttered speech sample (ensure duration is 3 seconds)\n",
    "                audio, sr = librosa.load(input_file_path, sr=None, duration=3.0)\n",
    "                \n",
    "                # Initialize augmented audio\n",
    "                augmented_audio = np.copy(audio)\n",
    "                \n",
    "                # Randomly select a noise file from the noise folder\n",
    "                noise_files = os.listdir(noise_folder)\n",
    "                selected_noise_file = np.random.choice(noise_files)\n",
    "                noise_file = os.path.join(noise_folder, selected_noise_file)\n",
    "                \n",
    "                # Load selected noise file with duration matching the length of the stuttered speech clip\n",
    "                noise, sr_noise = librosa.load(noise_file, sr=None, duration=3.0)\n",
    "                \n",
    "                # Ensure noise matches the length of the audio segment\n",
    "                while len(noise) < len(audio):\n",
    "                    noise = np.concatenate([noise, noise[:len(audio) - len(noise)]])\n",
    "                \n",
    "                # Add noise at 1-second intervals\n",
    "                for i in range(sr, len(audio), sr):\n",
    "                    # Compute SNR\n",
    "                    snr = np.random.uniform(snr_range[0], snr_range[1])\n",
    "                    \n",
    "                    # Compute scaling factor for noise\n",
    "                    scaling_factor = np.sqrt(np.var(audio[i-sr:i]) / (np.var(noise) * 10 ** (snr / 10)))\n",
    "                    \n",
    "                    # Add scaled noise to audio\n",
    "                    augmented_audio[i-sr:i] += scaling_factor * noise[i-sr:i]\n",
    "                \n",
    "                # Write augmented audio to the specified output path\n",
    "                sf.write(output_file_path, augmented_audio, sr)\n"
   ]
  },
  {
   "cell_type": "code",
   "execution_count": 17,
   "id": "50e7bfb7",
   "metadata": {},
   "outputs": [],
   "source": [
    "def augment_all_files_babble(input_folder, output_folder, speech_folder, snr_range=(13, 20), num_speakers_range=(3, 7)):\n",
    "    # Create the output folder if it doesn't exist\n",
    "    if not os.path.exists(output_folder):\n",
    "        os.makedirs(output_folder)\n",
    "    \n",
    "    # Loop through all files in the input folder and its subdirectories\n",
    "    for root, _, files in os.walk(input_folder):\n",
    "        # Create corresponding output subdirectory structure\n",
    "        output_subfolder = os.path.join(output_folder, os.path.relpath(root, input_folder))\n",
    "        os.makedirs(output_subfolder, exist_ok=True)\n",
    "        \n",
    "        for file_name in files:\n",
    "            if file_name.endswith('.wav'):  # Assuming all files are in WAV format\n",
    "                # Construct the full paths for input and output files\n",
    "                input_file_path = os.path.join(root, file_name)\n",
    "                output_file_path = os.path.join(output_subfolder, f\"{os.path.splitext(file_name)[0]}_babble_aug.wav\")\n",
    "                \n",
    "                # Load stuttered speech sample (ensure duration is 3 seconds)\n",
    "                audio, sr = librosa.load(input_file_path, sr=None, duration=3.0)\n",
    "                \n",
    "                # Initialize augmented audio\n",
    "                augmented_audio = np.copy(audio)\n",
    "                \n",
    "                # Randomly select speech files from the speech folder to create babble\n",
    "                babble_audio = np.zeros_like(audio)\n",
    "                num_speakers = random.randint(num_speakers_range[0], num_speakers_range[1])\n",
    "                for _ in range(num_speakers):\n",
    "                    speech_files = os.listdir(speech_folder)\n",
    "                    selected_speech_file = np.random.choice(speech_files)\n",
    "                    speech_file = os.path.join(speech_folder, selected_speech_file)\n",
    "                    \n",
    "                    # Load selected speech file with duration matching the length of the stuttered speech clip\n",
    "                    speech, _ = librosa.load(speech_file, sr=None, duration=3.0)\n",
    "                    \n",
    "                    # Ensure speech matches the length of the audio segment\n",
    "                    while len(speech) < len(audio):\n",
    "                        speech = np.concatenate([speech, speech[:len(audio) - len(speech)]])\n",
    "                    \n",
    "                    # Mix speech\n",
    "                    babble_audio += speech\n",
    "                \n",
    "                # Compute SNR\n",
    "                snr = np.random.uniform(snr_range[0], snr_range[1])\n",
    "                \n",
    "                # Compute scaling factor for babble\n",
    "                scaling_factor = np.sqrt(np.var(audio) / (np.var(babble_audio) * 10 ** (snr / 10)))\n",
    "                \n",
    "                # Add scaled babble to audio\n",
    "                augmented_audio += scaling_factor * babble_audio\n",
    "                \n",
    "                # Write augmented audio to the specified output path\n",
    "                sf.write(output_file_path, augmented_audio, sr)"
   ]
  },
  {
   "cell_type": "code",
   "execution_count": 14,
   "id": "d9e52a6f",
   "metadata": {},
   "outputs": [],
   "source": [
    "def augment_all_files_rirs(input_folder, output_folder, rirs_folder):\n",
    "    # Create the output folder if it doesn't exist\n",
    "    if not os.path.exists(output_folder):\n",
    "        os.makedirs(output_folder)\n",
    "    \n",
    "    # Loop through all files in the input folder and its subdirectories\n",
    "    for root, _, files in os.walk(input_folder):\n",
    "        # Create corresponding output subdirectory structure\n",
    "        output_subfolder = os.path.join(output_folder, os.path.relpath(root, input_folder))\n",
    "        os.makedirs(output_subfolder, exist_ok=True)\n",
    "        \n",
    "        for file_name in files:\n",
    "            if file_name.endswith('.wav'):  # Assuming all files are in WAV format\n",
    "                # Construct the full paths for input and output files\n",
    "                input_file_path = os.path.join(root, file_name)\n",
    "                output_file_path = os.path.join(output_subfolder, f\"{os.path.splitext(file_name)[0]}_rirs_aug.wav\")\n",
    "                \n",
    "                # Load stuttered speech sample (ensure duration is 3 seconds)\n",
    "                audio, sr = librosa.load(input_file_path, sr=None, duration=3.0)\n",
    "                \n",
    "                # Randomly select an RIR file from the folder\n",
    "                rirs_files = os.listdir(rirs_folder)\n",
    "                selected_rirs_file = np.random.choice(rirs_files)\n",
    "                rirs_file = os.path.join(rirs_folder, selected_rirs_file)\n",
    "                \n",
    "                # Load selected RIR\n",
    "                rirs, sr_rirs = librosa.load(rirs_file, sr=None)\n",
    "                \n",
    "                # Ensure RIRs is mono\n",
    "                if len(rirs.shape) > 1:\n",
    "                    rirs = rirs[:, 0]\n",
    "                \n",
    "                # Convolve audio with RIRs\n",
    "                augmented_audio = np.convolve(audio, rirs, mode='same')\n",
    "                \n",
    "                # Write augmented audio to the specified output path\n",
    "                sf.write(output_file_path, augmented_audio, sr)"
   ]
  },
  {
   "cell_type": "code",
   "execution_count": 15,
   "id": "77b7f524",
   "metadata": {},
   "outputs": [],
   "source": [
    "input_folder = \"D:\\\\SEM 4\\\\Project\\\\sep28k-final\"\n",
    "output_folder_music = \"D:\\\\SEM 4\\\\Project\\\\augmented\\\\music\"\n",
    "output_folder_noise = \"D:\\\\SEM 4\\\\Project\\\\augmented\\\\noise\"\n",
    "output_folder_babble = \"D:\\\\SEM 4\\\\Project\\\\augmented\\\\babble\"\n",
    "output_folder_rirs = \"D:\\\\SEM 4\\\\Project\\\\augmented\\\\rirs\"\n",
    "music_folder = \"D:\\\\SEM 4\\\\Project\\\\musan\\\\music\"\n",
    "noise_folder=\"D:\\\\SEM 4\\\\Project\\\\musan\\\\noise\"\n",
    "speech_folder=\"D:\\\\SEM 4\\\\Project\\\\musan\\\\speech\"\n",
    "rirs_folder = \"D:\\\\SEM 4\\\\Project\\\\musan\\\\rirs\""
   ]
  },
  {
   "cell_type": "code",
   "execution_count": 20,
   "id": "993e06bb",
   "metadata": {},
   "outputs": [],
   "source": [
    "augment_all_files_music(input_folder, output_folder_music, music_folder)"
   ]
  },
  {
   "cell_type": "code",
   "execution_count": 21,
   "id": "55f28917",
   "metadata": {},
   "outputs": [],
   "source": [
    "augment_all_files_noise(input_folder, output_folder_noise, noise_folder)"
   ]
  },
  {
   "cell_type": "code",
   "execution_count": 22,
   "id": "83a0d505",
   "metadata": {},
   "outputs": [],
   "source": [
    "augment_all_files_babble(input_folder,output_folder_babble,speech_folder)"
   ]
  },
  {
   "cell_type": "code",
   "execution_count": 16,
   "id": "9f330998",
   "metadata": {},
   "outputs": [],
   "source": [
    "augment_all_files_rirs(input_folder,output_folder_rirs,rirs_folder)"
   ]
  },
  {
   "cell_type": "code",
   "execution_count": 18,
   "id": "873486ba",
   "metadata": {},
   "outputs": [],
   "source": [
    "def count_wav_files(folder):\n",
    "    count = 0\n",
    "    for root, _, files in os.walk(folder):\n",
    "        for file_name in files:\n",
    "            if file_name.endswith('.wav'):\n",
    "                count += 1\n",
    "    return count"
   ]
  },
  {
   "cell_type": "code",
   "execution_count": 42,
   "id": "2ec0acde",
   "metadata": {},
   "outputs": [
    {
     "name": "stdout",
     "output_type": "stream",
     "text": [
      "Number of WAV files: 20091\n"
     ]
    }
   ],
   "source": [
    "number_of_files = count_wav_files(output_folder_music)\n",
    "print(\"Number of WAV files:\", number_of_files)"
   ]
  },
  {
   "cell_type": "code",
   "execution_count": 20,
   "id": "1631e19f",
   "metadata": {},
   "outputs": [
    {
     "name": "stdout",
     "output_type": "stream",
     "text": [
      "Number of WAV files: 21836\n"
     ]
    }
   ],
   "source": [
    "number_of_files = count_wav_files(output_folder_noise)\n",
    "print(\"Number of WAV files:\", number_of_files)"
   ]
  },
  {
   "cell_type": "code",
   "execution_count": 21,
   "id": "b873e174",
   "metadata": {},
   "outputs": [
    {
     "name": "stdout",
     "output_type": "stream",
     "text": [
      "Number of WAV files: 21836\n"
     ]
    }
   ],
   "source": [
    "number_of_files = count_wav_files(output_folder_babble)\n",
    "print(\"Number of WAV files:\", number_of_files)"
   ]
  },
  {
   "cell_type": "code",
   "execution_count": 19,
   "id": "f0315eb9",
   "metadata": {},
   "outputs": [
    {
     "name": "stdout",
     "output_type": "stream",
     "text": [
      "Number of WAV files: 21836\n"
     ]
    }
   ],
   "source": [
    "number_of_files = count_wav_files(output_folder_rirs)\n",
    "print(\"Number of WAV files:\", number_of_files)   "
   ]
  },
  {
   "cell_type": "code",
   "execution_count": null,
   "id": "63af372c",
   "metadata": {},
   "outputs": [],
   "source": []
  }
 ],
 "metadata": {
  "kernelspec": {
   "display_name": "Python 3 (ipykernel)",
   "language": "python",
   "name": "python3"
  },
  "language_info": {
   "codemirror_mode": {
    "name": "ipython",
    "version": 3
   },
   "file_extension": ".py",
   "mimetype": "text/x-python",
   "name": "python",
   "nbconvert_exporter": "python",
   "pygments_lexer": "ipython3",
   "version": "3.11.3"
  }
 },
 "nbformat": 4,
 "nbformat_minor": 5
}
