{
 "cells": [
  {
   "cell_type": "code",
   "execution_count": 1,
   "id": "4e08bf4d",
   "metadata": {},
   "outputs": [],
   "source": [
    "import requests\n",
    "import pandas as pd\n",
    "import os\n",
    "import time"
   ]
  },
  {
   "cell_type": "code",
   "execution_count": 2,
   "id": "2d9dd988",
   "metadata": {},
   "outputs": [],
   "source": [
    "df = pd.read_csv(\"D:\\SEM 4\\Project\\\\SEP-28k_episodes.csv\", header=None)"
   ]
  },
  {
   "cell_type": "code",
   "execution_count": 3,
   "id": "d5ffacca",
   "metadata": {},
   "outputs": [],
   "source": [
    "df.columns = ['name', 'desc', 'link', 'podcast_name', 'pod_id']"
   ]
  },
  {
   "cell_type": "code",
   "execution_count": 4,
   "id": "c1129cd6",
   "metadata": {},
   "outputs": [
    {
     "data": {
      "text/html": [
       "<div>\n",
       "<style scoped>\n",
       "    .dataframe tbody tr th:only-of-type {\n",
       "        vertical-align: middle;\n",
       "    }\n",
       "\n",
       "    .dataframe tbody tr th {\n",
       "        vertical-align: top;\n",
       "    }\n",
       "\n",
       "    .dataframe thead th {\n",
       "        text-align: right;\n",
       "    }\n",
       "</style>\n",
       "<table border=\"1\" class=\"dataframe\">\n",
       "  <thead>\n",
       "    <tr style=\"text-align: right;\">\n",
       "      <th></th>\n",
       "      <th>name</th>\n",
       "      <th>desc</th>\n",
       "      <th>link</th>\n",
       "      <th>podcast_name</th>\n",
       "      <th>pod_id</th>\n",
       "    </tr>\n",
       "  </thead>\n",
       "  <tbody>\n",
       "    <tr>\n",
       "      <th>0</th>\n",
       "      <td>He_Stutters_Podcast_–_Make_Room_For_The_Stutte...</td>\n",
       "      <td>episode-208-with-kelsey-h</td>\n",
       "      <td>https://stutterrockstar.files.wordpress.com/2...</td>\n",
       "      <td>HeStutters</td>\n",
       "      <td>0</td>\n",
       "    </tr>\n",
       "    <tr>\n",
       "      <th>1</th>\n",
       "      <td>He_Stutters_Podcast_–_Make_Room_For_The_Stutte...</td>\n",
       "      <td>episode-208-with-kelsey-h</td>\n",
       "      <td>https://stutterrockstar.files.wordpress.com/2...</td>\n",
       "      <td>HeStutters</td>\n",
       "      <td>1</td>\n",
       "    </tr>\n",
       "    <tr>\n",
       "      <th>2</th>\n",
       "      <td>He_Stutters_Podcast_–_Make_Room_For_The_Stutte...</td>\n",
       "      <td>episode-208-with-kelsey-h</td>\n",
       "      <td>https://stutterrockstar.files.wordpress.com/2...</td>\n",
       "      <td>HeStutters</td>\n",
       "      <td>2</td>\n",
       "    </tr>\n",
       "    <tr>\n",
       "      <th>3</th>\n",
       "      <td>He_Stutters_Podcast_–_Make_Room_For_The_Stutte...</td>\n",
       "      <td>episode-208-with-kelsey-h</td>\n",
       "      <td>https://stutterrockstar.files.wordpress.com/2...</td>\n",
       "      <td>HeStutters</td>\n",
       "      <td>3</td>\n",
       "    </tr>\n",
       "    <tr>\n",
       "      <th>4</th>\n",
       "      <td>He_Stutters_Podcast_–_Make_Room_For_The_Stutte...</td>\n",
       "      <td>episode-208-with-kelsey-h</td>\n",
       "      <td>https://stutterrockstar.files.wordpress.com/2...</td>\n",
       "      <td>HeStutters</td>\n",
       "      <td>4</td>\n",
       "    </tr>\n",
       "    <tr>\n",
       "      <th>...</th>\n",
       "      <td>...</td>\n",
       "      <td>...</td>\n",
       "      <td>...</td>\n",
       "      <td>...</td>\n",
       "      <td>...</td>\n",
       "    </tr>\n",
       "    <tr>\n",
       "      <th>380</th>\n",
       "      <td>Women_Who_Stutter_Podcast_–_Make_Room_For_The_...</td>\n",
       "      <td>cool148</td>\n",
       "      <td>https://stutterrockstar.files.wordpress.com/2...</td>\n",
       "      <td>WomenWhoStutter</td>\n",
       "      <td>105</td>\n",
       "    </tr>\n",
       "    <tr>\n",
       "      <th>381</th>\n",
       "      <td>Women_Who_Stutter_Podcast_–_Make_Room_For_The_...</td>\n",
       "      <td>cool148</td>\n",
       "      <td>https://stutterrockstar.files.wordpress.com/2...</td>\n",
       "      <td>WomenWhoStutter</td>\n",
       "      <td>106</td>\n",
       "    </tr>\n",
       "    <tr>\n",
       "      <th>382</th>\n",
       "      <td>Women_Who_Stutter_Podcast_–_Make_Room_For_The_...</td>\n",
       "      <td>cool148</td>\n",
       "      <td>https://stutterrockstar.files.wordpress.com/2...</td>\n",
       "      <td>WomenWhoStutter</td>\n",
       "      <td>107</td>\n",
       "    </tr>\n",
       "    <tr>\n",
       "      <th>383</th>\n",
       "      <td>Women_Who_Stutter_Podcast_–_Make_Room_For_The_...</td>\n",
       "      <td>cool148</td>\n",
       "      <td>https://stutterrockstar.files.wordpress.com/2...</td>\n",
       "      <td>WomenWhoStutter</td>\n",
       "      <td>108</td>\n",
       "    </tr>\n",
       "    <tr>\n",
       "      <th>384</th>\n",
       "      <td>Women_Who_Stutter_Podcast_–_Make_Room_For_The_...</td>\n",
       "      <td>cool148</td>\n",
       "      <td>https://stutterrockstar.files.wordpress.com/2...</td>\n",
       "      <td>WomenWhoStutter</td>\n",
       "      <td>109</td>\n",
       "    </tr>\n",
       "  </tbody>\n",
       "</table>\n",
       "<p>385 rows × 5 columns</p>\n",
       "</div>"
      ],
      "text/plain": [
       "                                                  name  \\\n",
       "0    He_Stutters_Podcast_–_Make_Room_For_The_Stutte...   \n",
       "1    He_Stutters_Podcast_–_Make_Room_For_The_Stutte...   \n",
       "2    He_Stutters_Podcast_–_Make_Room_For_The_Stutte...   \n",
       "3    He_Stutters_Podcast_–_Make_Room_For_The_Stutte...   \n",
       "4    He_Stutters_Podcast_–_Make_Room_For_The_Stutte...   \n",
       "..                                                 ...   \n",
       "380  Women_Who_Stutter_Podcast_–_Make_Room_For_The_...   \n",
       "381  Women_Who_Stutter_Podcast_–_Make_Room_For_The_...   \n",
       "382  Women_Who_Stutter_Podcast_–_Make_Room_For_The_...   \n",
       "383  Women_Who_Stutter_Podcast_–_Make_Room_For_The_...   \n",
       "384  Women_Who_Stutter_Podcast_–_Make_Room_For_The_...   \n",
       "\n",
       "                           desc  \\\n",
       "0     episode-208-with-kelsey-h   \n",
       "1     episode-208-with-kelsey-h   \n",
       "2     episode-208-with-kelsey-h   \n",
       "3     episode-208-with-kelsey-h   \n",
       "4     episode-208-with-kelsey-h   \n",
       "..                          ...   \n",
       "380                     cool148   \n",
       "381                     cool148   \n",
       "382                     cool148   \n",
       "383                     cool148   \n",
       "384                     cool148   \n",
       "\n",
       "                                                  link      podcast_name  \\\n",
       "0     https://stutterrockstar.files.wordpress.com/2...        HeStutters   \n",
       "1     https://stutterrockstar.files.wordpress.com/2...        HeStutters   \n",
       "2     https://stutterrockstar.files.wordpress.com/2...        HeStutters   \n",
       "3     https://stutterrockstar.files.wordpress.com/2...        HeStutters   \n",
       "4     https://stutterrockstar.files.wordpress.com/2...        HeStutters   \n",
       "..                                                 ...               ...   \n",
       "380   https://stutterrockstar.files.wordpress.com/2...   WomenWhoStutter   \n",
       "381   https://stutterrockstar.files.wordpress.com/2...   WomenWhoStutter   \n",
       "382   https://stutterrockstar.files.wordpress.com/2...   WomenWhoStutter   \n",
       "383   https://stutterrockstar.files.wordpress.com/2...   WomenWhoStutter   \n",
       "384   https://stutterrockstar.files.wordpress.com/2...   WomenWhoStutter   \n",
       "\n",
       "     pod_id  \n",
       "0         0  \n",
       "1         1  \n",
       "2         2  \n",
       "3         3  \n",
       "4         4  \n",
       "..      ...  \n",
       "380     105  \n",
       "381     106  \n",
       "382     107  \n",
       "383     108  \n",
       "384     109  \n",
       "\n",
       "[385 rows x 5 columns]"
      ]
     },
     "execution_count": 4,
     "metadata": {},
     "output_type": "execute_result"
    }
   ],
   "source": [
    "df"
   ]
  },
  {
   "cell_type": "code",
   "execution_count": 5,
   "id": "5a93449e",
   "metadata": {},
   "outputs": [],
   "source": [
    "path = r\"D:\\\\SEM 4\\Project\\\\StutterDataset\\\\wavs\""
   ]
  },
  {
   "cell_type": "code",
   "execution_count": 6,
   "id": "96bff8d8",
   "metadata": {},
   "outputs": [
    {
     "name": "stderr",
     "output_type": "stream",
     "text": [
      "Downloading: 100%|██████████████████████████| 53.8M/53.8M [01:34<00:00, 570kB/s]"
     ]
    },
    {
     "name": "stdout",
     "output_type": "stream",
     "text": [
      "Audio file downloaded successfully: downloaded_audio.mp3\n"
     ]
    },
    {
     "name": "stderr",
     "output_type": "stream",
     "text": [
      "\n"
     ]
    }
   ],
   "source": [
    "import requests\n",
    "from tqdm import tqdm  # Import tqdm for the progress bar\n",
    "import pandas as pd\n",
    "\n",
    "url = \"https://stutterrockstar.files.wordpress.com/2011/05/male-episode-1-with-alan1.mp3\"\n",
    "output_file = \"downloaded_audio.mp3\"\n",
    "\n",
    "response = requests.get(url, stream=True)\n",
    "\n",
    "# Check if the request was successful (status code 200)\n",
    "if response.status_code == 200:\n",
    "    # Get the total file size in bytes (content length)\n",
    "    total_size = int(response.headers.get('content-length', 0))\n",
    "\n",
    "    # Create a progress bar using tqdm\n",
    "    with tqdm(total=total_size, unit='B', unit_scale=True, desc='Downloading', ncols=80) as bar:\n",
    "        with open(output_file, 'wb') as f:\n",
    "            for data in response.iter_content(chunk_size=1024):\n",
    "                f.write(data)\n",
    "                bar.update(len(data))\n",
    "\n",
    "    print(f\"Audio file downloaded successfully: {output_file}\")\n",
    "else:\n",
    "    print(f\"Failed to download audio file. Status code: {response.status_code}\")\n"
   ]
  },
  {
   "cell_type": "code",
   "execution_count": 7,
   "id": "9427ba0e",
   "metadata": {},
   "outputs": [],
   "source": [
    "def download_audio_(row):\n",
    "    url = row['link'].lstrip()\n",
    "    audio_name = str(row['pod_id']) + \".mp3\"\n",
    "    output_file = os.path.join(pod_path, audio_name)\n",
    "    \n",
    "    response = requests.get(url)\n",
    "\n",
    "    \n",
    "    if response.status_code == 200:\n",
    "        with open(output_file, 'wb') as f:\n",
    "            f.write(response.content)\n",
    "        print(f\"Audio file downloaded successfully: {output_file}\")\n",
    "    else:\n",
    "        print(f\"Failed to download audio file. Status code: {response.status_code}\")"
   ]
  },
  {
   "cell_type": "code",
   "execution_count": 8,
   "id": "da72ea0a",
   "metadata": {},
   "outputs": [],
   "source": [
    "def download_audio(row):\n",
    "    url = row['link'].lstrip()\n",
    "    audio_name = str(row['pod_id']) + \".mp3\"\n",
    "    output_file = os.path.join(pod_path, audio_name)\n",
    "    \n",
    "    response = requests.get(url)\n",
    "\n",
    "    \n",
    "    if response.status_code == 200:\n",
    "        # Get the total file size in bytes (content length)\n",
    "        total_size = int(response.headers.get('content-length', 0))\n",
    "\n",
    "        # Create a progress bar using tqdm\n",
    "        with tqdm(total=total_size, unit='B', unit_scale=True, desc=f'Downloading {audio_name}', ncols=80) as bar:\n",
    "            with open(output_file, 'wb') as f:\n",
    "                for data in response.iter_content(chunk_size=1024):\n",
    "                    f.write(data)\n",
    "                    bar.update(len(data))            \n",
    "        print(f\"Audio file downloaded successfully: {output_file}\")\n",
    "        \n",
    "    else:\n",
    "        print(f\"Failed to download audio file. Status code: {response.status_code}\")"
   ]
  },
  {
   "cell_type": "code",
   "execution_count": 10,
   "id": "22c25ad8",
   "metadata": {},
   "outputs": [
    {
     "name": "stderr",
     "output_type": "stream",
     "text": [
      "Downloading 0.mp3: 17.0MB [00:00, 589MB/s]\n"
     ]
    },
    {
     "name": "stdout",
     "output_type": "stream",
     "text": [
      "Audio file downloaded successfully: D:\\\\SEM 4\\Project\\\\StutterDataset\\\\wavs\\StutterTalk\\0.mp3\n"
     ]
    },
    {
     "name": "stderr",
     "output_type": "stream",
     "text": [
      "Downloading 1.mp3: 38.8MB [00:00, 638MB/s]\n"
     ]
    },
    {
     "name": "stdout",
     "output_type": "stream",
     "text": [
      "Audio file downloaded successfully: D:\\\\SEM 4\\Project\\\\StutterDataset\\\\wavs\\StutterTalk\\1.mp3\n"
     ]
    },
    {
     "name": "stderr",
     "output_type": "stream",
     "text": [
      "Downloading 2.mp3: 37.6MB [00:00, 639MB/s]\n"
     ]
    },
    {
     "name": "stdout",
     "output_type": "stream",
     "text": [
      "Audio file downloaded successfully: D:\\\\SEM 4\\Project\\\\StutterDataset\\\\wavs\\StutterTalk\\2.mp3\n"
     ]
    },
    {
     "name": "stderr",
     "output_type": "stream",
     "text": [
      "Downloading 3.mp3: 40.2MB [00:00, 235MB/s]\n"
     ]
    },
    {
     "name": "stdout",
     "output_type": "stream",
     "text": [
      "Audio file downloaded successfully: D:\\\\SEM 4\\Project\\\\StutterDataset\\\\wavs\\StutterTalk\\3.mp3\n"
     ]
    },
    {
     "name": "stderr",
     "output_type": "stream",
     "text": [
      "Downloading 4.mp3: 43.2MB [00:00, 278MB/s]\n"
     ]
    },
    {
     "name": "stdout",
     "output_type": "stream",
     "text": [
      "Audio file downloaded successfully: D:\\\\SEM 4\\Project\\\\StutterDataset\\\\wavs\\StutterTalk\\4.mp3\n"
     ]
    },
    {
     "name": "stderr",
     "output_type": "stream",
     "text": [
      "Downloading 5.mp3: 60.6MB [00:00, 253MB/s]\n"
     ]
    },
    {
     "name": "stdout",
     "output_type": "stream",
     "text": [
      "Audio file downloaded successfully: D:\\\\SEM 4\\Project\\\\StutterDataset\\\\wavs\\StutterTalk\\5.mp3\n"
     ]
    },
    {
     "name": "stderr",
     "output_type": "stream",
     "text": [
      "Downloading 6.mp3: 55.0MB [00:00, 262MB/s]\n"
     ]
    },
    {
     "name": "stdout",
     "output_type": "stream",
     "text": [
      "Audio file downloaded successfully: D:\\\\SEM 4\\Project\\\\StutterDataset\\\\wavs\\StutterTalk\\6.mp3\n"
     ]
    },
    {
     "name": "stderr",
     "output_type": "stream",
     "text": [
      "Downloading 7.mp3: 74.8MB [00:00, 296MB/s]\n"
     ]
    },
    {
     "name": "stdout",
     "output_type": "stream",
     "text": [
      "Audio file downloaded successfully: D:\\\\SEM 4\\Project\\\\StutterDataset\\\\wavs\\StutterTalk\\7.mp3\n"
     ]
    },
    {
     "name": "stderr",
     "output_type": "stream",
     "text": [
      "Downloading 8.mp3: 16.0MB [00:00, 138MB/s]\n"
     ]
    },
    {
     "name": "stdout",
     "output_type": "stream",
     "text": [
      "Audio file downloaded successfully: D:\\\\SEM 4\\Project\\\\StutterDataset\\\\wavs\\StutterTalk\\8.mp3\n"
     ]
    },
    {
     "name": "stderr",
     "output_type": "stream",
     "text": [
      "Downloading 9.mp3: 35.4MB [00:00, 206MB/s]\n"
     ]
    },
    {
     "name": "stdout",
     "output_type": "stream",
     "text": [
      "Audio file downloaded successfully: D:\\\\SEM 4\\Project\\\\StutterDataset\\\\wavs\\StutterTalk\\9.mp3\n"
     ]
    },
    {
     "name": "stderr",
     "output_type": "stream",
     "text": [
      "Downloading 10.mp3: 41.3MB [00:00, 215MB/s]\n"
     ]
    },
    {
     "name": "stdout",
     "output_type": "stream",
     "text": [
      "Audio file downloaded successfully: D:\\\\SEM 4\\Project\\\\StutterDataset\\\\wavs\\StutterTalk\\10.mp3\n"
     ]
    },
    {
     "name": "stderr",
     "output_type": "stream",
     "text": [
      "Downloading 11.mp3: 27.1MB [00:00, 192MB/s]\n"
     ]
    },
    {
     "name": "stdout",
     "output_type": "stream",
     "text": [
      "Audio file downloaded successfully: D:\\\\SEM 4\\Project\\\\StutterDataset\\\\wavs\\StutterTalk\\11.mp3\n"
     ]
    },
    {
     "name": "stderr",
     "output_type": "stream",
     "text": [
      "Downloading 12.mp3: 20.5MB [00:00, 174MB/s]\n"
     ]
    },
    {
     "name": "stdout",
     "output_type": "stream",
     "text": [
      "Audio file downloaded successfully: D:\\\\SEM 4\\Project\\\\StutterDataset\\\\wavs\\StutterTalk\\12.mp3\n"
     ]
    },
    {
     "name": "stderr",
     "output_type": "stream",
     "text": [
      "Downloading 13.mp3: 24.7MB [00:00, 190MB/s]\n"
     ]
    },
    {
     "name": "stdout",
     "output_type": "stream",
     "text": [
      "Audio file downloaded successfully: D:\\\\SEM 4\\Project\\\\StutterDataset\\\\wavs\\StutterTalk\\13.mp3\n"
     ]
    },
    {
     "name": "stderr",
     "output_type": "stream",
     "text": [
      "Downloading 14.mp3: 22.4MB [00:00, 178MB/s]\n"
     ]
    },
    {
     "name": "stdout",
     "output_type": "stream",
     "text": [
      "Audio file downloaded successfully: D:\\\\SEM 4\\Project\\\\StutterDataset\\\\wavs\\StutterTalk\\14.mp3\n"
     ]
    },
    {
     "name": "stderr",
     "output_type": "stream",
     "text": [
      "Downloading 15.mp3: 36.8MB [00:00, 350MB/s]\n"
     ]
    },
    {
     "name": "stdout",
     "output_type": "stream",
     "text": [
      "Audio file downloaded successfully: D:\\\\SEM 4\\Project\\\\StutterDataset\\\\wavs\\StutterTalk\\15.mp3\n"
     ]
    },
    {
     "name": "stderr",
     "output_type": "stream",
     "text": [
      "Downloading 16.mp3: 41.7MB [00:00, 238MB/s]\n"
     ]
    },
    {
     "name": "stdout",
     "output_type": "stream",
     "text": [
      "Audio file downloaded successfully: D:\\\\SEM 4\\Project\\\\StutterDataset\\\\wavs\\StutterTalk\\16.mp3\n"
     ]
    },
    {
     "name": "stderr",
     "output_type": "stream",
     "text": [
      "Downloading 17.mp3: 226MB [00:00, 325MB/s] \n"
     ]
    },
    {
     "name": "stdout",
     "output_type": "stream",
     "text": [
      "Audio file downloaded successfully: D:\\\\SEM 4\\Project\\\\StutterDataset\\\\wavs\\StutterTalk\\17.mp3\n"
     ]
    },
    {
     "name": "stderr",
     "output_type": "stream",
     "text": [
      "Downloading 18.mp3: 48.3MB [00:00, 243MB/s]\n"
     ]
    },
    {
     "name": "stdout",
     "output_type": "stream",
     "text": [
      "Audio file downloaded successfully: D:\\\\SEM 4\\Project\\\\StutterDataset\\\\wavs\\StutterTalk\\18.mp3\n"
     ]
    },
    {
     "name": "stderr",
     "output_type": "stream",
     "text": [
      "Downloading 19.mp3: 43.0MB [00:00, 243MB/s]\n"
     ]
    },
    {
     "name": "stdout",
     "output_type": "stream",
     "text": [
      "Audio file downloaded successfully: D:\\\\SEM 4\\Project\\\\StutterDataset\\\\wavs\\StutterTalk\\19.mp3\n"
     ]
    }
   ],
   "source": [
    "for index, row in df.iloc[108:128].iterrows():\n",
    "    pod_name = row['podcast_name'].lstrip()\n",
    "    pod_path = os.path.join(path, pod_name)\n",
    "    if os.path.exists(pod_path):\n",
    "        download_audio(row)\n",
    "        time.sleep(5)\n",
    "        \n",
    "    else:\n",
    "        os.makedirs(pod_path)\n",
    "        download_audio(row)\n",
    "        time.sleep(5)\n",
    "\n",
    "    "
   ]
  },
  {
   "cell_type": "code",
   "execution_count": null,
   "id": "a4435633",
   "metadata": {},
   "outputs": [],
   "source": []
  },
  {
   "cell_type": "code",
   "execution_count": null,
   "id": "198d9929",
   "metadata": {},
   "outputs": [],
   "source": []
  }
 ],
 "metadata": {
  "kernelspec": {
   "display_name": "Python 3 (ipykernel)",
   "language": "python",
   "name": "python3"
  },
  "language_info": {
   "codemirror_mode": {
    "name": "ipython",
    "version": 3
   },
   "file_extension": ".py",
   "mimetype": "text/x-python",
   "name": "python",
   "nbconvert_exporter": "python",
   "pygments_lexer": "ipython3",
   "version": "3.11.3"
  }
 },
 "nbformat": 4,
 "nbformat_minor": 5
}
